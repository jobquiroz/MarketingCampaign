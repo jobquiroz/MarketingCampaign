{
 "cells": [
  {
   "cell_type": "markdown",
   "id": "intense-caution",
   "metadata": {},
   "source": [
    "### Libraries"
   ]
  },
  {
   "cell_type": "code",
   "execution_count": 2,
   "id": "executed-property",
   "metadata": {},
   "outputs": [],
   "source": [
    "import numpy as np\n",
    "import pandas as pd\n",
    "import matplotlib.pyplot as plt\n",
    "import seaborn as sns\n",
    "import pickle\n",
    "\n",
    "# Custom cleaning functions\n",
    "from utils import cleaning_functions"
   ]
  },
  {
   "cell_type": "markdown",
   "id": "utility-publisher",
   "metadata": {},
   "source": [
    "## Part 2: Supervised Learning Model\n",
    "\n",
    "Now that you've found which parts of the population are more likely to be customers of the mail-order company, it's time to build a prediction model. Each of the rows in the \"MAILOUT\" data files represents an individual that was targeted for a mailout campaign. Ideally, we should be able to use the demographic information from each individual to decide whether or not it will be worth it to include that person in the campaign.\n",
    "\n",
    "The \"MAILOUT\" data has been split into two approximately equal parts, each with almost 43 000 data rows. In this part, you can verify your model with the \"TRAIN\" partition, which includes a column, \"RESPONSE\", that states whether or not a person became a customer of the company following the campaign. In the next part, you'll need to create predictions on the \"TEST\" partition, where the \"RESPONSE\" column has been withheld."
   ]
  },
  {
   "cell_type": "markdown",
   "id": "reflected-settlement",
   "metadata": {},
   "source": [
    "### Reading and cleaning training set"
   ]
  },
  {
   "cell_type": "code",
   "execution_count": 3,
   "id": "promotional-address",
   "metadata": {},
   "outputs": [
    {
     "name": "stderr",
     "output_type": "stream",
     "text": [
      "C:\\Users\\jobqu\\anaconda3\\lib\\site-packages\\IPython\\core\\interactiveshell.py:3155: DtypeWarning: Columns (19,20) have mixed types.Specify dtype option on import or set low_memory=False.\n",
      "  has_raised = await self.run_ast_nodes(code_ast.body, cell_name,\n"
     ]
    }
   ],
   "source": [
    "mailout_train = pd.read_csv('data/Udacity_MAILOUT_052018_TRAIN.csv')"
   ]
  },
  {
   "cell_type": "markdown",
   "id": "nuclear-mouse",
   "metadata": {},
   "source": [
    "Applying the cleaning steps from workbook 1 (now in cleaning_functions.py)"
   ]
  },
  {
   "cell_type": "code",
   "execution_count": 4,
   "id": "objective-trustee",
   "metadata": {},
   "outputs": [
    {
     "name": "stdout",
     "output_type": "stream",
     "text": [
      "Initial amount of missing values: 2217201\n",
      "\n",
      "Reading the description of attributes table....\n",
      "\n",
      "Missing values after including missing codes 2354411\n",
      "Additional missing values: 137210\n",
      "\n",
      "Starting the cleaning of attributes and feature engineering...\n"
     ]
    }
   ],
   "source": [
    "training_clean = cleaning_functions.clean_data(mailout_train)"
   ]
  },
  {
   "cell_type": "markdown",
   "id": "direct-allen",
   "metadata": {},
   "source": [
    "We don't need `LNR` for training, just for the training set."
   ]
  },
  {
   "cell_type": "code",
   "execution_count": 5,
   "id": "following-filing",
   "metadata": {},
   "outputs": [],
   "source": [
    "training_clean.drop(['LNR'], axis = 1, inplace = True)"
   ]
  },
  {
   "cell_type": "code",
   "execution_count": 6,
   "id": "standard-hierarchy",
   "metadata": {},
   "outputs": [
    {
     "data": {
      "text/html": [
       "<div>\n",
       "<style scoped>\n",
       "    .dataframe tbody tr th:only-of-type {\n",
       "        vertical-align: middle;\n",
       "    }\n",
       "\n",
       "    .dataframe tbody tr th {\n",
       "        vertical-align: top;\n",
       "    }\n",
       "\n",
       "    .dataframe thead th {\n",
       "        text-align: right;\n",
       "    }\n",
       "</style>\n",
       "<table border=\"1\" class=\"dataframe\">\n",
       "  <thead>\n",
       "    <tr style=\"text-align: right;\">\n",
       "      <th></th>\n",
       "      <th>ARBEIT</th>\n",
       "      <th>BALLRAUM</th>\n",
       "      <th>CJT_KATALOGNUTZER</th>\n",
       "      <th>CJT_TYP_1</th>\n",
       "      <th>CJT_TYP_2</th>\n",
       "      <th>CJT_TYP_3</th>\n",
       "      <th>CJT_TYP_4</th>\n",
       "      <th>CJT_TYP_5</th>\n",
       "      <th>CJT_TYP_6</th>\n",
       "      <th>D19_BANKEN_ANZ_12</th>\n",
       "      <th>...</th>\n",
       "      <th>REGIOTYP_7.0</th>\n",
       "      <th>CAMEO_DEUG_2015_1.0</th>\n",
       "      <th>CAMEO_DEUG_2015_2.0</th>\n",
       "      <th>CAMEO_DEUG_2015_3.0</th>\n",
       "      <th>CAMEO_DEUG_2015_4.0</th>\n",
       "      <th>CAMEO_DEUG_2015_5.0</th>\n",
       "      <th>CAMEO_DEUG_2015_6.0</th>\n",
       "      <th>CAMEO_DEUG_2015_7.0</th>\n",
       "      <th>CAMEO_DEUG_2015_8.0</th>\n",
       "      <th>CAMEO_DEUG_2015_9.0</th>\n",
       "    </tr>\n",
       "  </thead>\n",
       "  <tbody>\n",
       "    <tr>\n",
       "      <th>0</th>\n",
       "      <td>3.0</td>\n",
       "      <td>5.0</td>\n",
       "      <td>5.0</td>\n",
       "      <td>2.0</td>\n",
       "      <td>2.0</td>\n",
       "      <td>5.0</td>\n",
       "      <td>5.0</td>\n",
       "      <td>5.0</td>\n",
       "      <td>5.0</td>\n",
       "      <td>0</td>\n",
       "      <td>...</td>\n",
       "      <td>0</td>\n",
       "      <td>0</td>\n",
       "      <td>0</td>\n",
       "      <td>0</td>\n",
       "      <td>0</td>\n",
       "      <td>1</td>\n",
       "      <td>0</td>\n",
       "      <td>0</td>\n",
       "      <td>0</td>\n",
       "      <td>0</td>\n",
       "    </tr>\n",
       "    <tr>\n",
       "      <th>1</th>\n",
       "      <td>2.0</td>\n",
       "      <td>5.0</td>\n",
       "      <td>2.0</td>\n",
       "      <td>2.0</td>\n",
       "      <td>2.0</td>\n",
       "      <td>4.0</td>\n",
       "      <td>3.0</td>\n",
       "      <td>5.0</td>\n",
       "      <td>4.0</td>\n",
       "      <td>1</td>\n",
       "      <td>...</td>\n",
       "      <td>0</td>\n",
       "      <td>0</td>\n",
       "      <td>0</td>\n",
       "      <td>0</td>\n",
       "      <td>0</td>\n",
       "      <td>1</td>\n",
       "      <td>0</td>\n",
       "      <td>0</td>\n",
       "      <td>0</td>\n",
       "      <td>0</td>\n",
       "    </tr>\n",
       "    <tr>\n",
       "      <th>2</th>\n",
       "      <td>4.0</td>\n",
       "      <td>1.0</td>\n",
       "      <td>5.0</td>\n",
       "      <td>1.0</td>\n",
       "      <td>1.0</td>\n",
       "      <td>5.0</td>\n",
       "      <td>5.0</td>\n",
       "      <td>5.0</td>\n",
       "      <td>5.0</td>\n",
       "      <td>0</td>\n",
       "      <td>...</td>\n",
       "      <td>0</td>\n",
       "      <td>0</td>\n",
       "      <td>1</td>\n",
       "      <td>0</td>\n",
       "      <td>0</td>\n",
       "      <td>0</td>\n",
       "      <td>0</td>\n",
       "      <td>0</td>\n",
       "      <td>0</td>\n",
       "      <td>0</td>\n",
       "    </tr>\n",
       "    <tr>\n",
       "      <th>3</th>\n",
       "      <td>4.0</td>\n",
       "      <td>2.0</td>\n",
       "      <td>5.0</td>\n",
       "      <td>2.0</td>\n",
       "      <td>2.0</td>\n",
       "      <td>5.0</td>\n",
       "      <td>5.0</td>\n",
       "      <td>5.0</td>\n",
       "      <td>4.0</td>\n",
       "      <td>0</td>\n",
       "      <td>...</td>\n",
       "      <td>0</td>\n",
       "      <td>0</td>\n",
       "      <td>1</td>\n",
       "      <td>0</td>\n",
       "      <td>0</td>\n",
       "      <td>0</td>\n",
       "      <td>0</td>\n",
       "      <td>0</td>\n",
       "      <td>0</td>\n",
       "      <td>0</td>\n",
       "    </tr>\n",
       "    <tr>\n",
       "      <th>4</th>\n",
       "      <td>3.0</td>\n",
       "      <td>4.0</td>\n",
       "      <td>5.0</td>\n",
       "      <td>1.0</td>\n",
       "      <td>2.0</td>\n",
       "      <td>5.0</td>\n",
       "      <td>5.0</td>\n",
       "      <td>5.0</td>\n",
       "      <td>5.0</td>\n",
       "      <td>0</td>\n",
       "      <td>...</td>\n",
       "      <td>1</td>\n",
       "      <td>0</td>\n",
       "      <td>0</td>\n",
       "      <td>0</td>\n",
       "      <td>0</td>\n",
       "      <td>0</td>\n",
       "      <td>0</td>\n",
       "      <td>1</td>\n",
       "      <td>0</td>\n",
       "      <td>0</td>\n",
       "    </tr>\n",
       "  </tbody>\n",
       "</table>\n",
       "<p>5 rows × 213 columns</p>\n",
       "</div>"
      ],
      "text/plain": [
       "   ARBEIT  BALLRAUM  CJT_KATALOGNUTZER  CJT_TYP_1  CJT_TYP_2  CJT_TYP_3  \\\n",
       "0     3.0       5.0                5.0        2.0        2.0        5.0   \n",
       "1     2.0       5.0                2.0        2.0        2.0        4.0   \n",
       "2     4.0       1.0                5.0        1.0        1.0        5.0   \n",
       "3     4.0       2.0                5.0        2.0        2.0        5.0   \n",
       "4     3.0       4.0                5.0        1.0        2.0        5.0   \n",
       "\n",
       "   CJT_TYP_4  CJT_TYP_5  CJT_TYP_6  D19_BANKEN_ANZ_12  ...  REGIOTYP_7.0  \\\n",
       "0        5.0        5.0        5.0                  0  ...             0   \n",
       "1        3.0        5.0        4.0                  1  ...             0   \n",
       "2        5.0        5.0        5.0                  0  ...             0   \n",
       "3        5.0        5.0        4.0                  0  ...             0   \n",
       "4        5.0        5.0        5.0                  0  ...             1   \n",
       "\n",
       "   CAMEO_DEUG_2015_1.0  CAMEO_DEUG_2015_2.0  CAMEO_DEUG_2015_3.0  \\\n",
       "0                    0                    0                    0   \n",
       "1                    0                    0                    0   \n",
       "2                    0                    1                    0   \n",
       "3                    0                    1                    0   \n",
       "4                    0                    0                    0   \n",
       "\n",
       "   CAMEO_DEUG_2015_4.0  CAMEO_DEUG_2015_5.0  CAMEO_DEUG_2015_6.0  \\\n",
       "0                    0                    1                    0   \n",
       "1                    0                    1                    0   \n",
       "2                    0                    0                    0   \n",
       "3                    0                    0                    0   \n",
       "4                    0                    0                    0   \n",
       "\n",
       "   CAMEO_DEUG_2015_7.0  CAMEO_DEUG_2015_8.0  CAMEO_DEUG_2015_9.0  \n",
       "0                    0                    0                    0  \n",
       "1                    0                    0                    0  \n",
       "2                    0                    0                    0  \n",
       "3                    0                    0                    0  \n",
       "4                    1                    0                    0  \n",
       "\n",
       "[5 rows x 213 columns]"
      ]
     },
     "execution_count": 6,
     "metadata": {},
     "output_type": "execute_result"
    }
   ],
   "source": [
    "training_clean.head()"
   ]
  },
  {
   "cell_type": "markdown",
   "id": "exotic-preservation",
   "metadata": {},
   "source": [
    "### Scaling the training set.\n"
   ]
  },
  {
   "cell_type": "code",
   "execution_count": 7,
   "id": "cooked-modeling",
   "metadata": {},
   "outputs": [
    {
     "data": {
      "text/html": [
       "<div>\n",
       "<style scoped>\n",
       "    .dataframe tbody tr th:only-of-type {\n",
       "        vertical-align: middle;\n",
       "    }\n",
       "\n",
       "    .dataframe tbody tr th {\n",
       "        vertical-align: top;\n",
       "    }\n",
       "\n",
       "    .dataframe thead th {\n",
       "        text-align: right;\n",
       "    }\n",
       "</style>\n",
       "<table border=\"1\" class=\"dataframe\">\n",
       "  <thead>\n",
       "    <tr style=\"text-align: right;\">\n",
       "      <th></th>\n",
       "      <th>ARBEIT</th>\n",
       "      <th>BALLRAUM</th>\n",
       "      <th>CJT_KATALOGNUTZER</th>\n",
       "      <th>CJT_TYP_1</th>\n",
       "      <th>CJT_TYP_2</th>\n",
       "      <th>CJT_TYP_3</th>\n",
       "      <th>CJT_TYP_4</th>\n",
       "      <th>CJT_TYP_5</th>\n",
       "      <th>CJT_TYP_6</th>\n",
       "      <th>D19_BANKEN_ANZ_12</th>\n",
       "      <th>...</th>\n",
       "      <th>REGIOTYP_6.0</th>\n",
       "      <th>REGIOTYP_7.0</th>\n",
       "      <th>CAMEO_DEUG_2015_1.0</th>\n",
       "      <th>CAMEO_DEUG_2015_2.0</th>\n",
       "      <th>CAMEO_DEUG_2015_3.0</th>\n",
       "      <th>CAMEO_DEUG_2015_4.0</th>\n",
       "      <th>CAMEO_DEUG_2015_5.0</th>\n",
       "      <th>CAMEO_DEUG_2015_6.0</th>\n",
       "      <th>CAMEO_DEUG_2015_7.0</th>\n",
       "      <th>CAMEO_DEUG_2015_8.0</th>\n",
       "    </tr>\n",
       "  </thead>\n",
       "  <tbody>\n",
       "    <tr>\n",
       "      <th>0</th>\n",
       "      <td>-0.220282</td>\n",
       "      <td>0.203551</td>\n",
       "      <td>0.756779</td>\n",
       "      <td>-0.396140</td>\n",
       "      <td>-0.211671</td>\n",
       "      <td>0.563449</td>\n",
       "      <td>0.580345</td>\n",
       "      <td>0.560862</td>\n",
       "      <td>0.580973</td>\n",
       "      <td>-0.224018</td>\n",
       "      <td>...</td>\n",
       "      <td>-0.286551</td>\n",
       "      <td>-0.242063</td>\n",
       "      <td>-0.350607</td>\n",
       "      <td>-0.338773</td>\n",
       "      <td>-0.368279</td>\n",
       "      <td>3.996789</td>\n",
       "      <td>-0.66823</td>\n",
       "      <td>-0.277121</td>\n",
       "      <td>-0.36333</td>\n",
       "      <td>-0.24645</td>\n",
       "    </tr>\n",
       "    <tr>\n",
       "      <th>1</th>\n",
       "      <td>-1.216569</td>\n",
       "      <td>0.203551</td>\n",
       "      <td>-1.329511</td>\n",
       "      <td>-0.396140</td>\n",
       "      <td>-0.211671</td>\n",
       "      <td>-0.521138</td>\n",
       "      <td>-1.309792</td>\n",
       "      <td>0.560862</td>\n",
       "      <td>-0.443101</td>\n",
       "      <td>1.978334</td>\n",
       "      <td>...</td>\n",
       "      <td>-0.286551</td>\n",
       "      <td>-0.242063</td>\n",
       "      <td>-0.350607</td>\n",
       "      <td>-0.338773</td>\n",
       "      <td>-0.368279</td>\n",
       "      <td>3.996789</td>\n",
       "      <td>-0.66823</td>\n",
       "      <td>-0.277121</td>\n",
       "      <td>-0.36333</td>\n",
       "      <td>-0.24645</td>\n",
       "    </tr>\n",
       "    <tr>\n",
       "      <th>2</th>\n",
       "      <td>0.776006</td>\n",
       "      <td>-1.704266</td>\n",
       "      <td>0.756779</td>\n",
       "      <td>-1.138807</td>\n",
       "      <td>-0.929186</td>\n",
       "      <td>0.563449</td>\n",
       "      <td>0.580345</td>\n",
       "      <td>0.560862</td>\n",
       "      <td>0.580973</td>\n",
       "      <td>-0.224018</td>\n",
       "      <td>...</td>\n",
       "      <td>-0.286551</td>\n",
       "      <td>-0.242063</td>\n",
       "      <td>2.852196</td>\n",
       "      <td>-0.338773</td>\n",
       "      <td>-0.368279</td>\n",
       "      <td>-0.250201</td>\n",
       "      <td>-0.66823</td>\n",
       "      <td>-0.277121</td>\n",
       "      <td>-0.36333</td>\n",
       "      <td>-0.24645</td>\n",
       "    </tr>\n",
       "    <tr>\n",
       "      <th>3</th>\n",
       "      <td>0.776006</td>\n",
       "      <td>-1.227312</td>\n",
       "      <td>0.756779</td>\n",
       "      <td>-0.396140</td>\n",
       "      <td>-0.211671</td>\n",
       "      <td>0.563449</td>\n",
       "      <td>0.580345</td>\n",
       "      <td>0.560862</td>\n",
       "      <td>-0.443101</td>\n",
       "      <td>-0.224018</td>\n",
       "      <td>...</td>\n",
       "      <td>-0.286551</td>\n",
       "      <td>-0.242063</td>\n",
       "      <td>2.852196</td>\n",
       "      <td>-0.338773</td>\n",
       "      <td>-0.368279</td>\n",
       "      <td>-0.250201</td>\n",
       "      <td>-0.66823</td>\n",
       "      <td>-0.277121</td>\n",
       "      <td>-0.36333</td>\n",
       "      <td>-0.24645</td>\n",
       "    </tr>\n",
       "    <tr>\n",
       "      <th>4</th>\n",
       "      <td>-0.220282</td>\n",
       "      <td>-0.273403</td>\n",
       "      <td>0.756779</td>\n",
       "      <td>-1.138807</td>\n",
       "      <td>-0.211671</td>\n",
       "      <td>0.563449</td>\n",
       "      <td>0.580345</td>\n",
       "      <td>0.560862</td>\n",
       "      <td>0.580973</td>\n",
       "      <td>-0.224018</td>\n",
       "      <td>...</td>\n",
       "      <td>3.489775</td>\n",
       "      <td>-0.242063</td>\n",
       "      <td>-0.350607</td>\n",
       "      <td>-0.338773</td>\n",
       "      <td>-0.368279</td>\n",
       "      <td>-0.250201</td>\n",
       "      <td>-0.66823</td>\n",
       "      <td>3.608537</td>\n",
       "      <td>-0.36333</td>\n",
       "      <td>-0.24645</td>\n",
       "    </tr>\n",
       "  </tbody>\n",
       "</table>\n",
       "<p>5 rows × 212 columns</p>\n",
       "</div>"
      ],
      "text/plain": [
       "     ARBEIT  BALLRAUM  CJT_KATALOGNUTZER  CJT_TYP_1  CJT_TYP_2  CJT_TYP_3  \\\n",
       "0 -0.220282  0.203551           0.756779  -0.396140  -0.211671   0.563449   \n",
       "1 -1.216569  0.203551          -1.329511  -0.396140  -0.211671  -0.521138   \n",
       "2  0.776006 -1.704266           0.756779  -1.138807  -0.929186   0.563449   \n",
       "3  0.776006 -1.227312           0.756779  -0.396140  -0.211671   0.563449   \n",
       "4 -0.220282 -0.273403           0.756779  -1.138807  -0.211671   0.563449   \n",
       "\n",
       "   CJT_TYP_4  CJT_TYP_5  CJT_TYP_6  D19_BANKEN_ANZ_12  ...  REGIOTYP_6.0  \\\n",
       "0   0.580345   0.560862   0.580973          -0.224018  ...     -0.286551   \n",
       "1  -1.309792   0.560862  -0.443101           1.978334  ...     -0.286551   \n",
       "2   0.580345   0.560862   0.580973          -0.224018  ...     -0.286551   \n",
       "3   0.580345   0.560862  -0.443101          -0.224018  ...     -0.286551   \n",
       "4   0.580345   0.560862   0.580973          -0.224018  ...      3.489775   \n",
       "\n",
       "   REGIOTYP_7.0  CAMEO_DEUG_2015_1.0  CAMEO_DEUG_2015_2.0  \\\n",
       "0     -0.242063            -0.350607            -0.338773   \n",
       "1     -0.242063            -0.350607            -0.338773   \n",
       "2     -0.242063             2.852196            -0.338773   \n",
       "3     -0.242063             2.852196            -0.338773   \n",
       "4     -0.242063            -0.350607            -0.338773   \n",
       "\n",
       "   CAMEO_DEUG_2015_3.0  CAMEO_DEUG_2015_4.0  CAMEO_DEUG_2015_5.0  \\\n",
       "0            -0.368279             3.996789             -0.66823   \n",
       "1            -0.368279             3.996789             -0.66823   \n",
       "2            -0.368279            -0.250201             -0.66823   \n",
       "3            -0.368279            -0.250201             -0.66823   \n",
       "4            -0.368279            -0.250201             -0.66823   \n",
       "\n",
       "   CAMEO_DEUG_2015_6.0  CAMEO_DEUG_2015_7.0  CAMEO_DEUG_2015_8.0  \n",
       "0            -0.277121             -0.36333             -0.24645  \n",
       "1            -0.277121             -0.36333             -0.24645  \n",
       "2            -0.277121             -0.36333             -0.24645  \n",
       "3            -0.277121             -0.36333             -0.24645  \n",
       "4             3.608537             -0.36333             -0.24645  \n",
       "\n",
       "[5 rows x 212 columns]"
      ]
     },
     "execution_count": 7,
     "metadata": {},
     "output_type": "execute_result"
    }
   ],
   "source": [
    "from sklearn.preprocessing import StandardScaler\n",
    "\n",
    "scaler = StandardScaler()\n",
    "\n",
    "train_scaled = scaler.fit_transform(training_clean.drop(['RESPONSE'], axis = 1))\n",
    "\n",
    "train_scaled = pd.DataFrame(train_scaled, columns = list(training_clean.columns)[:-1])\n",
    "\n",
    "train_scaled.head()"
   ]
  },
  {
   "cell_type": "markdown",
   "id": "legendary-cooking",
   "metadata": {},
   "source": [
    "## Training learning models\n",
    "\n",
    "We will try the following models:\n",
    "\n",
    "- SGDClassifier\n",
    "- RandomForestClassifier\n",
    "- XGBoost\n",
    "\n",
    "We will perform hyperparameter tuning to improve the AUCROCC metric. "
   ]
  },
  {
   "cell_type": "markdown",
   "id": "ancient-mechanics",
   "metadata": {},
   "source": [
    "### Setting $X$ and $y$\n",
    "\n",
    "Since we will cross-validate our training batches we will not split our data in training and test set."
   ]
  },
  {
   "cell_type": "code",
   "execution_count": 8,
   "id": "reserved-filename",
   "metadata": {},
   "outputs": [],
   "source": [
    "#from sklearn.model_selection import train_test_split\n",
    "\n",
    "X = train_scaled.values\n",
    "y = training_clean['RESPONSE'].values\n",
    "\n",
    "#X_train, X_test, y_train, y_test = train_test_split(X, y, test_size = 0.2, random_state = 42, stratify = y)"
   ]
  },
  {
   "cell_type": "markdown",
   "id": "maritime-attack",
   "metadata": {},
   "source": [
    "### 1) SGDClassifier\n",
    "\n",
    "This is a linear model from which we did not expect to have great performance. However, since it is very quick to train we can check that all the workflow is integrated correctly."
   ]
  },
  {
   "cell_type": "code",
   "execution_count": 9,
   "id": "reasonable-plastic",
   "metadata": {},
   "outputs": [
    {
     "name": "stdout",
     "output_type": "stream",
     "text": [
      "Fitting 3 folds for each of 9 candidates, totalling 27 fits\n",
      "\n",
      "Best parameters: {'alpha': 0.0001, 'penalty': 'l1'}\n",
      "Best score: 0.630051361200492\n",
      "Wall time: 10.8 s\n"
     ]
    },
    {
     "data": {
      "text/plain": [
       "array([[28325, 14105],\n",
       "       [  174,   358]], dtype=int64)"
      ]
     },
     "execution_count": 9,
     "metadata": {},
     "output_type": "execute_result"
    }
   ],
   "source": [
    "%%time\n",
    "\n",
    "from sklearn.metrics import confusion_matrix, roc_auc_score\n",
    "from sklearn.model_selection import GridSearchCV\n",
    "from sklearn.linear_model import SGDClassifier\n",
    "\n",
    "# Define classifier\n",
    "sgd_clf = SGDClassifier(class_weight = 'balanced', early_stopping = True, loss = 'modified_huber')\n",
    "\n",
    "# Setting hyperparameter grid\n",
    "sgd_hyperparams = {'penalty': ['l2', 'l1', 'elasticnet'], \n",
    "                   'alpha': [5e-5, 0.0001, 0.0002]}\n",
    "\n",
    "# Define grid search\n",
    "sgd_cv = GridSearchCV(sgd_clf, sgd_hyperparams, scoring = 'roc_auc', n_jobs = -1, verbose = 1, cv = 3)\n",
    "\n",
    "# Fit training\n",
    "sgd_cv.fit(X, y)\n",
    "\n",
    "print('\\nBest parameters:', sgd_cv.best_params_)\n",
    "print('Best score:', sgd_cv.best_score_)\n",
    "\n",
    "### Selecting best estimator\n",
    "sgd_best = sgd_cv.best_estimator_\n",
    "\n",
    "#y_pred_prob = sgd_best.predict_proba(X)[:,1]\n",
    "#print('\\nrouc_auc_score: ', roc_auc_score(y, y_pred_prob))\n",
    "\n",
    "# Confusion matrix\n",
    "confusion_matrix(y, sgd_best.predict(X))"
   ]
  },
  {
   "cell_type": "markdown",
   "id": "registered-intermediate",
   "metadata": {},
   "source": [
    "### 2) RandomForest Classifier"
   ]
  },
  {
   "cell_type": "code",
   "execution_count": 10,
   "id": "automotive-syndication",
   "metadata": {},
   "outputs": [
    {
     "name": "stdout",
     "output_type": "stream",
     "text": [
      "Fitting 3 folds for each of 400 candidates, totalling 1200 fits\n",
      "\n",
      "Best parameters: {'max_depth': 5, 'max_features': 0.4, 'min_samples_leaf': 15, 'n_estimators': 185}\n",
      "Best score: 0.769675021887556\n",
      "roc_auc_score using metric: 0.8608629161874756\n"
     ]
    }
   ],
   "source": [
    "from sklearn.ensemble import RandomForestClassifier\n",
    "\n",
    "\n",
    "rfc_clf = RandomForestClassifier() # class_weight = 'balanced')\n",
    "\n",
    "rf_hyperparameters = {'n_estimators': [150, 175, 185, 200], #, 250, 300],  \n",
    "                      'max_depth': [ 3, 4, 5, 6, 7], \n",
    "                      'max_features': ['auto', 0.25, 0.33, 0.4],\n",
    "                      'min_samples_leaf': [3, 5, 10, 12, 15]}\n",
    "\n",
    "rfc_cv = GridSearchCV(rfc_clf, rf_hyperparameters, scoring = 'roc_auc', n_jobs = 2, verbose = 3, cv = 3)\n",
    "\n",
    "preds = rfc_cv.fit(X, y)\n",
    "\n",
    "\n",
    "print('\\nBest parameters:', rfc_cv.best_params_)\n",
    "print('Best score:', rfc_cv.best_score_)\n",
    "\n",
    "rfc_final = rfc_cv.best_estimator_\n",
    "\n",
    "y_pred= rfc_final.predict_proba(X)[:,1]\n",
    "\n",
    "print('roc_auc_score using metric:', roc_auc_score(y, y_pred))"
   ]
  },
  {
   "cell_type": "code",
   "execution_count": 11,
   "id": "loaded-grass",
   "metadata": {},
   "outputs": [],
   "source": [
    "with open('final_rfc.pkl', 'wb') as f:\n",
    "    pickle.dump(rfc_final, f)"
   ]
  },
  {
   "cell_type": "markdown",
   "id": "reduced-ecology",
   "metadata": {},
   "source": [
    "### 3) XGBoost"
   ]
  },
  {
   "cell_type": "code",
   "execution_count": 12,
   "id": "surprised-thumb",
   "metadata": {},
   "outputs": [
    {
     "name": "stdout",
     "output_type": "stream",
     "text": [
      "Fitting 3 folds for each of 400 candidates, totalling 1200 fits\n"
     ]
    },
    {
     "name": "stderr",
     "output_type": "stream",
     "text": [
      "C:\\Users\\jobqu\\anaconda3\\lib\\site-packages\\sklearn\\model_selection\\_search.py:918: UserWarning: One or more of the test scores are non-finite: [0.5        0.76315373 0.76069309 0.75577745 0.75549641 0.74871268\n",
      " 0.68477053 0.75402554        nan 0.7603648  0.75177686        nan\n",
      " 0.76276898 0.7269786  0.7551787  0.75662907 0.75513155 0.75972411\n",
      "        nan 0.75670131        nan 0.75742495 0.75670131 0.74740485\n",
      " 0.75860617 0.76581496 0.76323498 0.7552886  0.51039547 0.70258389\n",
      " 0.75696963 0.75671169 0.76036675 0.7631416  0.73668987 0.75112451\n",
      " 0.65160583 0.7551458         nan 0.75106454 0.75640395 0.75594788\n",
      " 0.75688809 0.75948902 0.75661868 0.7539416  0.75517888 0.75652988\n",
      " 0.75264799 0.7590495  0.74157967 0.76237033 0.5        0.75715617\n",
      " 0.63744576 0.75653947 0.75646487        nan 0.72830829 0.75800368\n",
      " 0.76014276 0.75585088        nan 0.66793973 0.76921271 0.7516955\n",
      " 0.75585099 0.75666549 0.71461951 0.75519488        nan 0.75617426\n",
      " 0.75630865 0.75514029 0.74579016 0.7592211  0.75587824 0.75818779\n",
      " 0.75402554 0.75604772 0.75919626 0.75708844 0.75684661 0.63461138\n",
      " 0.73994935 0.75622544 0.75611806 0.75670131 0.76022138        nan\n",
      " 0.759419   0.76013561 0.76698492 0.75598749 0.75624988 0.76149847\n",
      " 0.74173293 0.75266312 0.75569343 0.74524496 0.7282124  0.75602264\n",
      " 0.7421709  0.74000699 0.75560765 0.7561002  0.75723221        nan\n",
      " 0.75740466 0.65134962 0.75704873 0.75594095 0.75641426        nan\n",
      " 0.70116217 0.75719193 0.74758233 0.66917441 0.75590535 0.74089481\n",
      " 0.75163548        nan        nan 0.75514029 0.74169498 0.75593485\n",
      " 0.76050533 0.75406409        nan 0.76500616 0.71597789 0.71461951\n",
      "        nan 0.7099286  0.75110694 0.74454891 0.74679804 0.75288335\n",
      " 0.75920824 0.65454997 0.68804888 0.72770463 0.75681188 0.76048637\n",
      " 0.75277356 0.75197472 0.74173293 0.75527178 0.7436651  0.7556219\n",
      " 0.7461544  0.75640899 0.74085743 0.75594881 0.74746832 0.7560885\n",
      " 0.7439771  0.75554908 0.75616748 0.71724685 0.75653947 0.75691233\n",
      " 0.74330485 0.74897741 0.75913394 0.70882982 0.76558514 0.75741445\n",
      " 0.75714872 0.74113978 0.75640606 0.71461951 0.76239415        nan\n",
      " 0.75193755 0.75329256 0.75502702 0.76443621 0.75516647 0.75670131\n",
      " 0.76138807 0.75027586 0.7560269  0.75714872        nan 0.75613655\n",
      " 0.75926189 0.76123238 0.73624293 0.75547081        nan 0.7570852\n",
      " 0.75695186 0.71461951 0.75723221        nan 0.74638132 0.75765191\n",
      " 0.75406409 0.75947903        nan 0.75579229 0.75783723        nan\n",
      " 0.75542248 0.51574537 0.7618855  0.71461951 0.72069484 0.75320697\n",
      " 0.75550791 0.76283156 0.74566023 0.75585539 0.65188853 0.7561012\n",
      " 0.76175795        nan        nan        nan 0.7589722  0.75562103\n",
      " 0.75640395 0.7464806  0.75514029 0.73126812 0.75574313 0.76237353\n",
      " 0.75640606 0.74173293 0.70455121 0.75723221 0.64490849 0.75883408\n",
      " 0.75640899 0.75671495 0.75676625 0.76076075 0.75328131 0.75571127\n",
      " 0.75680316 0.75572759 0.75685632 0.75683443 0.75160375 0.75587511\n",
      " 0.75739885 0.75731483 0.75710671 0.74669787 0.75402576 0.75534652\n",
      "        nan 0.76287341        nan 0.67635703        nan        nan\n",
      " 0.75668425 0.75418833        nan 0.75697277 0.75536618        nan\n",
      " 0.75926543 0.65459884        nan 0.7495123  0.75699893 0.74788205\n",
      " 0.75679738 0.75212997 0.70403562        nan 0.76285084 0.75640899\n",
      "        nan 0.75519488 0.74255673 0.72686869 0.659625   0.75587824\n",
      " 0.7564679  0.59452948 0.764855   0.68969547 0.75670131 0.671141\n",
      " 0.75545605        nan 0.75610453 0.75695685 0.74963558 0.75770963\n",
      " 0.64863343 0.76006776        nan 0.7558857  0.75114074 0.76065906\n",
      " 0.73885379 0.75247874 0.75571622 0.75594095 0.7594421  0.75635617\n",
      " 0.76315347        nan 0.76590057 0.75836241 0.76191721 0.75950544\n",
      " 0.62360138 0.75670814 0.5        0.75593177 0.75574313 0.75884391\n",
      " 0.75640899 0.7513132  0.72636415 0.64327109 0.75670131 0.76754738\n",
      " 0.75406409 0.75828062 0.71359043 0.75402554 0.75900066 0.7551458\n",
      "        nan        nan        nan 0.75596013 0.75707602 0.75780305\n",
      " 0.75743833 0.75203382        nan 0.75670131 0.75876994 0.75698249\n",
      " 0.5        0.75685646 0.75852827        nan 0.75984809        nan\n",
      " 0.75252302 0.7511915  0.75455202 0.74403229 0.757101   0.7584899\n",
      " 0.74192125 0.76038644 0.7566053  0.76837511 0.72963333 0.75469391\n",
      " 0.75571733 0.75618535 0.5        0.5897795  0.7561035  0.75310587\n",
      " 0.76373896 0.5        0.75014195 0.67794754 0.76185235 0.76075956\n",
      " 0.75848374 0.75587598 0.75622177 0.5        0.75578193 0.76134466\n",
      " 0.75683695 0.75577438        nan 0.65438311 0.75672158 0.75389943\n",
      " 0.75038674 0.75418833 0.75536809 0.76750964 0.75675726 0.75939384\n",
      " 0.71461951 0.75512429 0.75741445 0.75652462        nan 0.75652988\n",
      " 0.74398842 0.76254985 0.75406409 0.65816009]\n",
      "  warnings.warn(\n",
      "C:\\Users\\jobqu\\anaconda3\\lib\\site-packages\\xgboost\\sklearn.py:888: UserWarning: The use of label encoder in XGBClassifier is deprecated and will be removed in a future release. To remove this warning, do the following: 1) Pass option use_label_encoder=False when constructing XGBClassifier object; and 2) Encode your labels (y) as integers starting with 0, i.e. 0, 1, 2, ..., [num_class - 1].\n",
      "  warnings.warn(label_encoder_deprecation_msg, UserWarning)\n"
     ]
    },
    {
     "name": "stdout",
     "output_type": "stream",
     "text": [
      "\n",
      "Best parameters: {'colsample_bytree': 0.43240625240551533, 'gamma': 0.576392071568772, 'learning_rate': 0.4088291979761932, 'max_depth': 4, 'n_estimators': 7}\n",
      "Best score: 0.7692127082056782\n",
      "roc_auc_score using metric: 0.7860359787637843\n"
     ]
    }
   ],
   "source": [
    "import xgboost as xgb #!pip install xgboost\n",
    "from sklearn.model_selection import RandomizedSearchCV\n",
    "import scipy.stats as stats\n",
    "from sklearn.utils.fixes import loguniform\n",
    "\n",
    "\n",
    "xgb_clf = xgb.XGBClassifier(n_jobs = -1, objective = 'binary:logistic', eval_metric = 'auc')\n",
    "                            #scale_pos_weight = 99) \n",
    "\n",
    "xgb_distributions = {'n_estimators':[4, 5, 6, 7, 10, 50, 100, 150, 200],  # [5, 10, 50, 100], \n",
    "                       'max_depth': [2, 3, 4, 5, 6, 7, 8, 9, 10],\n",
    "                       'gamma': loguniform(1e-4, 1e0),    \n",
    "                       'learning_rate': loguniform(1e-4, 1e0), \n",
    "                       'colsample_bytree':  stats.uniform(0.1, 1.0),}\n",
    "                       \n",
    "xgb_cv = RandomizedSearchCV(xgb_clf, \n",
    "                        param_distributions = xgb_distributions, \n",
    "                        n_iter = 400,\n",
    "                        scoring = 'roc_auc', \n",
    "                        n_jobs = 2, \n",
    "                        verbose = 3, \n",
    "                        cv = 3)\n",
    "\n",
    "xgb_cv.fit(X, y)\n",
    "\n",
    "print('\\nBest parameters:', xgb_cv.best_params_)\n",
    "print('Best score:', xgb_cv.best_score_)\n",
    "\n",
    "xgb_final = xgb_cv.best_estimator_\n",
    "\n",
    "y_pred= xgb_final.predict_proba(X)[:,1]\n",
    "print('roc_auc_score using metric:', roc_auc_score(y, y_pred))"
   ]
  },
  {
   "cell_type": "code",
   "execution_count": 13,
   "id": "alien-matthew",
   "metadata": {},
   "outputs": [],
   "source": [
    "with open('final_xgb.pkl', 'wb') as f:\n",
    "    pickle.dump(xgb_final, f)"
   ]
  },
  {
   "cell_type": "markdown",
   "id": "understood-dressing",
   "metadata": {},
   "source": [
    "### 4) AdaBoost"
   ]
  },
  {
   "cell_type": "code",
   "execution_count": 14,
   "id": "superior-television",
   "metadata": {},
   "outputs": [
    {
     "name": "stdout",
     "output_type": "stream",
     "text": [
      "Fitting 3 folds for each of 25 candidates, totalling 75 fits\n",
      "\n",
      "Best parameters: {'learning_rate': 0.05, 'n_estimators': 100}\n",
      "Best score: 0.7631178622195605\n",
      "roc_auc_score using metric: 0.7765788720564079\n"
     ]
    }
   ],
   "source": [
    "from sklearn.ensemble import AdaBoostClassifier\n",
    "\n",
    "adab_clf = AdaBoostClassifier()\n",
    "\n",
    "adab_hyperparams = {'n_estimators': [5, 10, 50, 100, 200], \n",
    "                    'learning_rate': [0.01, 0.05, 0.1, 0.2, 1]}\n",
    "\n",
    "\n",
    "adab_cv = GridSearchCV(adab_clf, adab_hyperparams, scoring = 'roc_auc', n_jobs = 2, verbose = 3, cv = 3)\n",
    "\n",
    "adab_cv.fit(X, y)\n",
    "\n",
    "print('\\nBest parameters:', adab_cv.best_params_)\n",
    "print('Best score:', adab_cv.best_score_)\n",
    "\n",
    "adab_final = adab_cv.best_estimator_\n",
    "\n",
    "y_pred = adab_final.predict_proba(X)[:,1]\n",
    "print('roc_auc_score using metric:', roc_auc_score(y, y_pred))"
   ]
  },
  {
   "cell_type": "code",
   "execution_count": 16,
   "id": "parental-liberty",
   "metadata": {},
   "outputs": [],
   "source": [
    "with open('final_adab.pkl', 'wb') as f:\n",
    "    pickle.dump(adab_final, f)"
   ]
  },
  {
   "cell_type": "markdown",
   "id": "found-reservoir",
   "metadata": {},
   "source": [
    "## Feature selection with Boruta"
   ]
  },
  {
   "cell_type": "code",
   "execution_count": 17,
   "id": "checked-dakota",
   "metadata": {},
   "outputs": [
    {
     "name": "stdout",
     "output_type": "stream",
     "text": [
      "Iteration: 1 / 200\n",
      "Iteration: 2 / 200\n",
      "Iteration: 3 / 200\n",
      "Iteration: 4 / 200\n",
      "Iteration: 5 / 200\n",
      "Iteration: 6 / 200\n",
      "Iteration: 7 / 200\n",
      "Iteration: 8 / 200\n",
      "Iteration: 9 / 200\n",
      "Iteration: 10 / 200\n",
      "Iteration: 11 / 200\n",
      "Iteration: 12 / 200\n",
      "Iteration: 13 / 200\n",
      "Iteration: 14 / 200\n",
      "Iteration: 15 / 200\n",
      "Iteration: 16 / 200\n",
      "Iteration: 17 / 200\n",
      "Iteration: 18 / 200\n",
      "Iteration: 19 / 200\n",
      "Iteration: 20 / 200\n",
      "Iteration: 21 / 200\n",
      "Iteration: 22 / 200\n",
      "Iteration: 23 / 200\n",
      "Iteration: 24 / 200\n",
      "Iteration: 25 / 200\n",
      "Iteration: 26 / 200\n",
      "Iteration: 27 / 200\n",
      "Iteration: 28 / 200\n",
      "Iteration: 29 / 200\n",
      "Iteration: 30 / 200\n",
      "Iteration: 31 / 200\n",
      "Iteration: 32 / 200\n",
      "Iteration: 33 / 200\n",
      "Iteration: 34 / 200\n",
      "\n",
      "\n",
      "BorutaPy finished running.\n",
      "\n",
      "Iteration: \t35 / 200\n",
      "Confirmed: \t6\n",
      "Tentative: \t0\n",
      "Rejected: \t206\n"
     ]
    }
   ],
   "source": [
    "from boruta import BorutaPy # !pip install boruta\n",
    "\n",
    "clf = RandomForestClassifier(n_jobs=-1, max_depth = 6, class_weight = 'balanced')\n",
    "\n",
    "trans = BorutaPy(clf, n_estimators = 'auto', random_state = 42, verbose=1, max_iter = 200)\n",
    "\n",
    "X_filtered = trans.fit_transform(X, y)"
   ]
  },
  {
   "cell_type": "markdown",
   "id": "environmental-judge",
   "metadata": {},
   "source": [
    "### Relevant features: "
   ]
  },
  {
   "cell_type": "code",
   "execution_count": 60,
   "id": "comparative-prefix",
   "metadata": {},
   "outputs": [
    {
     "data": {
      "text/plain": [
       "['D19_KONSUMTYP_MAX',\n",
       " 'D19_SOZIALES',\n",
       " 'HH_EINKOMMEN_SCORE',\n",
       " 'RT_SCHNAEPPCHEN',\n",
       " 'CJT_GESAMTTYP_6.0',\n",
       " 'D19_KONSUMTYP_6.0']"
      ]
     },
     "execution_count": 60,
     "metadata": {},
     "output_type": "execute_result"
    }
   ],
   "source": [
    "rel = pd.DataFrame(X).loc[:, trans.support_]\n",
    "\n",
    "list(training_clean.iloc[:, rel.columns].columns)"
   ]
  },
  {
   "cell_type": "markdown",
   "id": "chicken-retailer",
   "metadata": {},
   "source": [
    "### Using X_filtered\n",
    "\n",
    "We retrained the last three algorithms with the newly filtered features"
   ]
  },
  {
   "cell_type": "markdown",
   "id": "understood-camel",
   "metadata": {},
   "source": [
    "### RandomForest "
   ]
  },
  {
   "cell_type": "code",
   "execution_count": 33,
   "id": "cellular-conservation",
   "metadata": {},
   "outputs": [
    {
     "name": "stdout",
     "output_type": "stream",
     "text": [
      "Fitting 3 folds for each of 400 candidates, totalling 1200 fits\n",
      "\n",
      "Best parameters: {'max_depth': 5, 'max_features': 'auto', 'min_samples_leaf': 5, 'n_estimators': 185}\n",
      "Best score: 0.7688345183377158\n",
      "roc_auc_score using metric: 0.8044315360638221\n"
     ]
    }
   ],
   "source": [
    "rfc_bor_clf = RandomForestClassifier() # class_weight = 'balanced')\n",
    "\n",
    "rf_hyperparameters = {'n_estimators': [150, 175, 185, 200], #, 250, 300],  \n",
    "                      'max_depth': [ 3, 4, 5, 6, 7], \n",
    "                      'max_features': ['auto', 0.25, 0.33, 0.4],\n",
    "                      'min_samples_leaf': [3, 5, 10, 12, 15]}\n",
    "\n",
    "rfc_bor_cv = GridSearchCV(rfc_bor_clf, rf_hyperparameters, scoring = 'roc_auc', n_jobs = 2, verbose = 3, cv = 3)\n",
    "\n",
    "preds = rfc_bor_cv.fit(X_filtered, y)\n",
    "\n",
    "\n",
    "print('\\nBest parameters:', rfc_bor_cv.best_params_)\n",
    "print('Best score:', rfc_bor_cv.best_score_)\n",
    "\n",
    "rfc_bor_final = rfc_bor_cv.best_estimator_\n",
    "\n",
    "y_pred= rfc_bor_final.predict_proba(X_filtered)[:,1]\n",
    "\n",
    "print('roc_auc_score using metric:', roc_auc_score(y, y_pred))"
   ]
  },
  {
   "cell_type": "code",
   "execution_count": 34,
   "id": "manufactured-intermediate",
   "metadata": {},
   "outputs": [],
   "source": [
    "with open('final_bor_rfc.pkl', 'wb') as f:\n",
    "    pickle.dump(rfc_bor_final, f)"
   ]
  },
  {
   "cell_type": "markdown",
   "id": "burning-deposit",
   "metadata": {},
   "source": [
    "### XGB"
   ]
  },
  {
   "cell_type": "code",
   "execution_count": 35,
   "id": "proper-category",
   "metadata": {},
   "outputs": [
    {
     "name": "stdout",
     "output_type": "stream",
     "text": [
      "Fitting 3 folds for each of 400 candidates, totalling 1200 fits\n"
     ]
    },
    {
     "name": "stderr",
     "output_type": "stream",
     "text": [
      "C:\\Users\\jobqu\\anaconda3\\lib\\site-packages\\sklearn\\model_selection\\_search.py:918: UserWarning: One or more of the test scores are non-finite: [0.77117168        nan 0.75718432 0.62266604 0.7571545  0.73016583\n",
      " 0.75607206 0.64880276 0.75514574 0.77117514 0.75618357 0.7628666\n",
      "        nan 0.75601737 0.74214072 0.73668987 0.75096245 0.62266604\n",
      " 0.76006484 0.75524983 0.75938156 0.5               nan 0.6803659\n",
      " 0.7571545  0.71667154        nan 0.75868993 0.75633868 0.75618357\n",
      " 0.75727101        nan 0.5        0.73683037 0.75193755 0.62266604\n",
      " 0.75256872 0.74769316 0.75621472 0.57877374 0.75618357 0.73235911\n",
      " 0.75518423        nan 0.75636292 0.75193755 0.67996379 0.7561602\n",
      " 0.75054379 0.75618357 0.75688385 0.75256872 0.73668987 0.5\n",
      " 0.73572305 0.63456384 0.76108386 0.75926932 0.76102178 0.63456384\n",
      " 0.75193755 0.75950353 0.62266604 0.69620788 0.76300112 0.57877374\n",
      " 0.76518125 0.75328641 0.7530197  0.7675232  0.73849424        nan\n",
      " 0.62266604 0.75618357 0.62266604 0.74100382 0.76506212 0.63456384\n",
      "        nan 0.7571545  0.69473158 0.62266604 0.76598114 0.74514752\n",
      " 0.73336809 0.7571545  0.75636292 0.7571545  0.75618357 0.63456384\n",
      " 0.76493801 0.76623769 0.68747045 0.72707834 0.75618357 0.55906738\n",
      " 0.75633868 0.76614028 0.75718432 0.62266604 0.75544161 0.57877374\n",
      " 0.75328641 0.7441343  0.7584647  0.71649238 0.62266604 0.7515667\n",
      " 0.76231143 0.75193755        nan        nan 0.68269334 0.75633868\n",
      " 0.76408471        nan 0.75983501        nan 0.76554835 0.69685903\n",
      " 0.73573133 0.75636292 0.76006879        nan 0.64880276 0.5\n",
      " 0.75193755 0.75067522 0.76710136 0.7383191  0.5        0.62266604\n",
      " 0.75823196        nan 0.71563012 0.63456384 0.73495782 0.76825732\n",
      " 0.62266604 0.57877374 0.75543785 0.62266604 0.7362588         nan\n",
      " 0.75656827 0.75193755 0.75597324 0.69382546 0.69678573 0.75712792\n",
      " 0.7571545  0.75626302 0.76348441 0.7571545         nan 0.77233331\n",
      " 0.75694171 0.75541738 0.6803659  0.73911939 0.75914647 0.75938472\n",
      " 0.75636292 0.65899614 0.62266604        nan 0.75808777 0.76509759\n",
      " 0.57877374 0.76531846 0.7571545  0.75624177 0.69774795 0.76993955\n",
      " 0.76975784 0.67801103 0.75778566 0.7571545  0.5               nan\n",
      "        nan 0.72482366 0.75549638        nan 0.62266604 0.62266604\n",
      "        nan 0.75596864 0.76399495        nan 0.75968956 0.75621472\n",
      " 0.75633868 0.76769829 0.75193755 0.76504175 0.76545226 0.62266604\n",
      " 0.62266604 0.62266604 0.76176396 0.71461951 0.7562332  0.62266604\n",
      " 0.7586304  0.75193755 0.75193755 0.71461951        nan        nan\n",
      " 0.74325953 0.76319898 0.7571545  0.63456384 0.678234          nan\n",
      " 0.75035104 0.57877374 0.62266604 0.75959441 0.75618357        nan\n",
      " 0.75027331 0.75636292 0.74306202 0.73235911 0.75096245 0.7571545\n",
      " 0.62266604 0.57877374 0.74980015 0.63456384 0.76044481 0.62266604\n",
      " 0.75633868 0.62266604 0.76755579 0.74684315 0.67841313 0.76723035\n",
      " 0.62266604 0.75998629 0.71969005 0.75270623 0.62266604 0.75618357\n",
      " 0.75621472 0.76924248 0.7651399  0.74470705 0.7571545  0.75636292\n",
      " 0.62266604 0.72562193 0.75543785 0.7667641  0.7391002  0.73921505\n",
      " 0.75618357 0.75193755 0.62266604 0.75193755 0.7571545  0.7663805\n",
      " 0.7625568  0.69371386 0.62266604 0.75938769 0.74419193 0.62266604\n",
      " 0.7571545  0.71894322 0.62266604 0.75618357 0.76531738 0.73235911\n",
      " 0.7562332  0.62266604 0.75328641 0.5               nan 0.76054483\n",
      " 0.74306202        nan 0.75689977 0.75193755        nan 0.62266604\n",
      " 0.72292703 0.75004115 0.71477491 0.75581082 0.71477491        nan\n",
      "        nan 0.62266604 0.76537574 0.75689419 0.76494427 0.71179649\n",
      " 0.75778566 0.7571545  0.75689419 0.73668987 0.75718432 0.63456384\n",
      " 0.68551642 0.75694171 0.75636292 0.62266604 0.75880927        nan\n",
      " 0.76129672 0.76806662 0.5        0.71095511        nan 0.75386139\n",
      " 0.75778566 0.5        0.72707834 0.74893682 0.77062322 0.76144215\n",
      " 0.75888277 0.75636292 0.76195798 0.75193755 0.7571545  0.68695311\n",
      " 0.76621438 0.75621472 0.75328641 0.75544161 0.71141035 0.75689419\n",
      " 0.62266604 0.72482366 0.75067522 0.69300144 0.62266604 0.75636292\n",
      " 0.76158297 0.76920692 0.7561602  0.7606557  0.75618357 0.75662155\n",
      " 0.62266604 0.75598279        nan        nan 0.75822162 0.68553521\n",
      " 0.72086591 0.62266604 0.72086591 0.75328641        nan 0.63456384\n",
      " 0.75265402 0.76728892 0.75340834 0.5        0.73158681 0.5\n",
      " 0.76159627 0.74675133 0.75636292 0.62266604 0.75849666 0.7571545\n",
      " 0.5        0.75944875 0.75732809 0.73573133 0.6946426  0.74036711\n",
      " 0.71461951 0.7679738  0.75784232 0.62266604 0.6963775  0.75873823\n",
      "        nan 0.7634275  0.63456384 0.75618357 0.7561602  0.75193755\n",
      " 0.76425122        nan 0.64880276 0.5               nan 0.62266604\n",
      " 0.76424876 0.7562332         nan 0.76555158]\n",
      "  warnings.warn(\n",
      "C:\\Users\\jobqu\\anaconda3\\lib\\site-packages\\xgboost\\sklearn.py:888: UserWarning: The use of label encoder in XGBClassifier is deprecated and will be removed in a future release. To remove this warning, do the following: 1) Pass option use_label_encoder=False when constructing XGBClassifier object; and 2) Encode your labels (y) as integers starting with 0, i.e. 0, 1, 2, ..., [num_class - 1].\n",
      "  warnings.warn(label_encoder_deprecation_msg, UserWarning)\n"
     ]
    },
    {
     "name": "stdout",
     "output_type": "stream",
     "text": [
      "\n",
      "Best parameters: {'colsample_bytree': 0.4241194460159503, 'gamma': 0.3655779982521269, 'learning_rate': 0.12275552548889282, 'max_depth': 2, 'n_estimators': 200}\n",
      "Best score: 0.7723333062851351\n",
      "roc_auc_score using metric: 0.7991307000118726\n"
     ]
    }
   ],
   "source": [
    "xgb_bor_clf = xgb.XGBClassifier(n_jobs = -1, objective = 'binary:logistic', eval_metric = 'auc')\n",
    "                            #scale_pos_weight = 99) \n",
    "\n",
    "xgb_distributions = {'n_estimators':[4, 5, 6, 7, 10, 50, 100, 150, 200],  # [5, 10, 50, 100], \n",
    "                       'max_depth': [2, 3, 4, 5, 6, 7, 8, 9, 10],\n",
    "                       'gamma': loguniform(1e-4, 1e0),    \n",
    "                       'learning_rate': loguniform(1e-4, 1e0), \n",
    "                       'colsample_bytree':  stats.uniform(0.1, 1.0),}\n",
    "                       \n",
    "xgb_bor_cv = RandomizedSearchCV(xgb_bor_clf, \n",
    "                        param_distributions = xgb_distributions, \n",
    "                        n_iter = 400,\n",
    "                        scoring = 'roc_auc', \n",
    "                        n_jobs = -1, \n",
    "                        verbose = 3, \n",
    "                        cv = 3)\n",
    "\n",
    "xgb_bor_cv.fit(X_filtered, y)\n",
    "\n",
    "print('\\nBest parameters:', xgb_bor_cv.best_params_)\n",
    "print('Best score:', xgb_bor_cv.best_score_)\n",
    "\n",
    "xgb_bor_final = xgb_bor_cv.best_estimator_\n",
    "\n",
    "y_pred= xgb_bor_final.predict_proba(X_filtered)[:,1]\n",
    "print('roc_auc_score using metric:', roc_auc_score(y, y_pred))"
   ]
  },
  {
   "cell_type": "code",
   "execution_count": 36,
   "id": "cooperative-variable",
   "metadata": {},
   "outputs": [],
   "source": [
    "with open('final_bor_xgb.pkl', 'wb') as f:\n",
    "    pickle.dump(xgb_bor_final, f)"
   ]
  },
  {
   "cell_type": "markdown",
   "id": "atmospheric-organic",
   "metadata": {},
   "source": [
    "### AdaBoost"
   ]
  },
  {
   "cell_type": "code",
   "execution_count": 37,
   "id": "frank-investigator",
   "metadata": {},
   "outputs": [
    {
     "name": "stdout",
     "output_type": "stream",
     "text": [
      "Fitting 3 folds for each of 25 candidates, totalling 75 fits\n",
      "\n",
      "Best parameters: {'learning_rate': 0.2, 'n_estimators': 200}\n",
      "Best score: 0.7642875996769988\n",
      "roc_auc_score using metric: 0.7866541131877538\n"
     ]
    }
   ],
   "source": [
    "adab_bor_clf = AdaBoostClassifier()\n",
    "\n",
    "adab_hyperparams = {'n_estimators': [5, 10, 50, 100, 200], \n",
    "                    'learning_rate': [0.01, 0.05, 0.1, 0.2, 1]}\n",
    "\n",
    "\n",
    "adab_bor_cv = GridSearchCV(adab_bor_clf, adab_hyperparams, scoring = 'roc_auc', n_jobs = 2, verbose = 3, cv = 3)\n",
    "\n",
    "adab_bor_cv.fit(X_filtered, y)\n",
    "\n",
    "print('\\nBest parameters:', adab_bor_cv.best_params_)\n",
    "print('Best score:', adab_bor_cv.best_score_)\n",
    "\n",
    "adab_bor_final = adab_bor_cv.best_estimator_\n",
    "\n",
    "y_pred = adab_bor_final.predict_proba(X_filtered)[:,1]\n",
    "print('roc_auc_score using metric:', roc_auc_score(y, y_pred))"
   ]
  },
  {
   "cell_type": "code",
   "execution_count": 38,
   "id": "typical-robin",
   "metadata": {},
   "outputs": [],
   "source": [
    "with open('final_bor_adab.pkl', 'wb') as f:\n",
    "    pickle.dump(adab_bor_final, f)"
   ]
  },
  {
   "cell_type": "markdown",
   "id": "modular-fruit",
   "metadata": {},
   "source": [
    "## Part 3: Kaggle Competition\n",
    "\n",
    "Now that you've created a model to predict which individuals are most likely to respond to a mailout campaign, it's time to test that model in competition through Kaggle. If you click on the link [here](http://www.kaggle.com/t/21e6d45d4c574c7fa2d868f0e8c83140), you'll be taken to the competition page where, if you have a Kaggle account, you can enter. If you're one of the top performers, you may have the chance to be contacted by a hiring manager from Arvato or Bertelsmann for an interview!\n",
    "\n",
    "Your entry to the competition should be a CSV file with two columns. The first column should be a copy of \"LNR\", which acts as an ID number for each individual in the \"TEST\" partition. The second column, \"RESPONSE\", should be some measure of how likely each individual became a customer – this might not be a straightforward probability. As you should have found in Part 2, there is a large output class imbalance, where most individuals did not respond to the mailout. Thus, predicting individual classes and using accuracy does not seem to be an appropriate performance evaluation method. Instead, the competition will be using AUC to evaluate performance. The exact values of the \"RESPONSE\" column do not matter as much: only that the higher values try to capture as many of the actual customers as possible, early in the ROC curve sweep."
   ]
  },
  {
   "cell_type": "code",
   "execution_count": 41,
   "id": "brown-parliament",
   "metadata": {},
   "outputs": [
    {
     "name": "stderr",
     "output_type": "stream",
     "text": [
      "C:\\Users\\jobqu\\anaconda3\\lib\\site-packages\\IPython\\core\\interactiveshell.py:3155: DtypeWarning: Columns (19,20) have mixed types.Specify dtype option on import or set low_memory=False.\n",
      "  has_raised = await self.run_ast_nodes(code_ast.body, cell_name,\n"
     ]
    },
    {
     "name": "stdout",
     "output_type": "stream",
     "text": [
      "Initial amount of missing values: 2186771\n",
      "\n",
      "Reading the description of attributes table....\n",
      "\n",
      "Missing values after including missing codes 2322980\n",
      "Additional missing values: 136209\n",
      "\n",
      "Starting the cleaning of attributes and feature engineering...\n"
     ]
    }
   ],
   "source": [
    "mailout_test = pd.read_csv('data/Udacity_MAILOUT_052018_TEST.csv')\n",
    "\n",
    "test_clean = cleaning_functions.clean_data(mailout_test)\n",
    "\n",
    "test_clean.set_index(['LNR'], inplace = True)\n",
    "\n",
    "# Scaler\n",
    "test_scaled = scaler.transform(test_clean)"
   ]
  },
  {
   "cell_type": "markdown",
   "id": "complex-papua",
   "metadata": {},
   "source": [
    "### RandomForest submission"
   ]
  },
  {
   "cell_type": "code",
   "execution_count": 42,
   "id": "documentary-complement",
   "metadata": {},
   "outputs": [
    {
     "name": "stdout",
     "output_type": "stream",
     "text": [
      "(42833, 2)\n"
     ]
    },
    {
     "data": {
      "text/html": [
       "<div>\n",
       "<style scoped>\n",
       "    .dataframe tbody tr th:only-of-type {\n",
       "        vertical-align: middle;\n",
       "    }\n",
       "\n",
       "    .dataframe tbody tr th {\n",
       "        vertical-align: top;\n",
       "    }\n",
       "\n",
       "    .dataframe thead th {\n",
       "        text-align: right;\n",
       "    }\n",
       "</style>\n",
       "<table border=\"1\" class=\"dataframe\">\n",
       "  <thead>\n",
       "    <tr style=\"text-align: right;\">\n",
       "      <th></th>\n",
       "      <th>LNR</th>\n",
       "      <th>RESPONSE</th>\n",
       "    </tr>\n",
       "  </thead>\n",
       "  <tbody>\n",
       "    <tr>\n",
       "      <th>0</th>\n",
       "      <td>1754</td>\n",
       "      <td>0.028906</td>\n",
       "    </tr>\n",
       "    <tr>\n",
       "      <th>1</th>\n",
       "      <td>1770</td>\n",
       "      <td>0.039914</td>\n",
       "    </tr>\n",
       "    <tr>\n",
       "      <th>2</th>\n",
       "      <td>1465</td>\n",
       "      <td>0.002520</td>\n",
       "    </tr>\n",
       "    <tr>\n",
       "      <th>3</th>\n",
       "      <td>1470</td>\n",
       "      <td>0.003173</td>\n",
       "    </tr>\n",
       "    <tr>\n",
       "      <th>4</th>\n",
       "      <td>1478</td>\n",
       "      <td>0.008785</td>\n",
       "    </tr>\n",
       "  </tbody>\n",
       "</table>\n",
       "</div>"
      ],
      "text/plain": [
       "    LNR  RESPONSE\n",
       "0  1754  0.028906\n",
       "1  1770  0.039914\n",
       "2  1465  0.002520\n",
       "3  1470  0.003173\n",
       "4  1478  0.008785"
      ]
     },
     "execution_count": 42,
     "metadata": {},
     "output_type": "execute_result"
    }
   ],
   "source": [
    "preds_rfc = rfc_final.predict_proba(test_scaled)[:,1]\n",
    "\n",
    "preds_rfc_df = pd.DataFrame(preds_rfc, index = test_clean.index)\n",
    "\n",
    "preds_rfc_df.reset_index(inplace = True)\n",
    "\n",
    "preds_rfc_df.columns = ['LNR', 'RESPONSE']\n",
    "\n",
    "print(preds_rfc_df.shape)\n",
    "\n",
    "preds_rfc_df.to_csv('predictions/pred_rfc.csv', index = False)\n",
    "\n",
    "preds_rfc_df.head()"
   ]
  },
  {
   "cell_type": "markdown",
   "id": "controlling-poland",
   "metadata": {},
   "source": [
    "![img](img/Submit_2.png)"
   ]
  },
  {
   "cell_type": "markdown",
   "id": "driving-classics",
   "metadata": {},
   "source": [
    "### XGB submission"
   ]
  },
  {
   "cell_type": "code",
   "execution_count": 43,
   "id": "accessory-ratio",
   "metadata": {},
   "outputs": [
    {
     "name": "stdout",
     "output_type": "stream",
     "text": [
      "(42833, 2)\n"
     ]
    },
    {
     "data": {
      "text/html": [
       "<div>\n",
       "<style scoped>\n",
       "    .dataframe tbody tr th:only-of-type {\n",
       "        vertical-align: middle;\n",
       "    }\n",
       "\n",
       "    .dataframe tbody tr th {\n",
       "        vertical-align: top;\n",
       "    }\n",
       "\n",
       "    .dataframe thead th {\n",
       "        text-align: right;\n",
       "    }\n",
       "</style>\n",
       "<table border=\"1\" class=\"dataframe\">\n",
       "  <thead>\n",
       "    <tr style=\"text-align: right;\">\n",
       "      <th></th>\n",
       "      <th>LNR</th>\n",
       "      <th>RESPONSE</th>\n",
       "    </tr>\n",
       "  </thead>\n",
       "  <tbody>\n",
       "    <tr>\n",
       "      <th>0</th>\n",
       "      <td>1754</td>\n",
       "      <td>0.051515</td>\n",
       "    </tr>\n",
       "    <tr>\n",
       "      <th>1</th>\n",
       "      <td>1770</td>\n",
       "      <td>0.051883</td>\n",
       "    </tr>\n",
       "    <tr>\n",
       "      <th>2</th>\n",
       "      <td>1465</td>\n",
       "      <td>0.028016</td>\n",
       "    </tr>\n",
       "    <tr>\n",
       "      <th>3</th>\n",
       "      <td>1470</td>\n",
       "      <td>0.027879</td>\n",
       "    </tr>\n",
       "    <tr>\n",
       "      <th>4</th>\n",
       "      <td>1478</td>\n",
       "      <td>0.027879</td>\n",
       "    </tr>\n",
       "  </tbody>\n",
       "</table>\n",
       "</div>"
      ],
      "text/plain": [
       "    LNR  RESPONSE\n",
       "0  1754  0.051515\n",
       "1  1770  0.051883\n",
       "2  1465  0.028016\n",
       "3  1470  0.027879\n",
       "4  1478  0.027879"
      ]
     },
     "execution_count": 43,
     "metadata": {},
     "output_type": "execute_result"
    }
   ],
   "source": [
    "preds_xgb = xgb_final.predict_proba(test_scaled)[:,1]\n",
    "\n",
    "preds_xgb_df = pd.DataFrame(preds_xgb, index = test_clean.index)\n",
    "\n",
    "preds_xgb_df.reset_index(inplace = True)\n",
    "\n",
    "preds_xgb_df.columns = ['LNR', 'RESPONSE']\n",
    "\n",
    "print(preds_xgb_df.shape)\n",
    "\n",
    "preds_xgb_df.to_csv('predictions/pred_xgb.csv', index = False)\n",
    "\n",
    "preds_xgb_df.head()"
   ]
  },
  {
   "cell_type": "markdown",
   "id": "trained-education",
   "metadata": {},
   "source": [
    "![img](img/Submit_1.png)"
   ]
  },
  {
   "cell_type": "markdown",
   "id": "ranging-thailand",
   "metadata": {},
   "source": [
    "### AdaBoost submission"
   ]
  },
  {
   "cell_type": "code",
   "execution_count": 44,
   "id": "smoking-northeast",
   "metadata": {},
   "outputs": [
    {
     "name": "stdout",
     "output_type": "stream",
     "text": [
      "(42833, 2)\n"
     ]
    },
    {
     "data": {
      "text/html": [
       "<div>\n",
       "<style scoped>\n",
       "    .dataframe tbody tr th:only-of-type {\n",
       "        vertical-align: middle;\n",
       "    }\n",
       "\n",
       "    .dataframe tbody tr th {\n",
       "        vertical-align: top;\n",
       "    }\n",
       "\n",
       "    .dataframe thead th {\n",
       "        text-align: right;\n",
       "    }\n",
       "</style>\n",
       "<table border=\"1\" class=\"dataframe\">\n",
       "  <thead>\n",
       "    <tr style=\"text-align: right;\">\n",
       "      <th></th>\n",
       "      <th>LNR</th>\n",
       "      <th>RESPONSE</th>\n",
       "    </tr>\n",
       "  </thead>\n",
       "  <tbody>\n",
       "    <tr>\n",
       "      <th>0</th>\n",
       "      <td>1754</td>\n",
       "      <td>0.323130</td>\n",
       "    </tr>\n",
       "    <tr>\n",
       "      <th>1</th>\n",
       "      <td>1770</td>\n",
       "      <td>0.329434</td>\n",
       "    </tr>\n",
       "    <tr>\n",
       "      <th>2</th>\n",
       "      <td>1465</td>\n",
       "      <td>0.244584</td>\n",
       "    </tr>\n",
       "    <tr>\n",
       "      <th>3</th>\n",
       "      <td>1470</td>\n",
       "      <td>0.244584</td>\n",
       "    </tr>\n",
       "    <tr>\n",
       "      <th>4</th>\n",
       "      <td>1478</td>\n",
       "      <td>0.259590</td>\n",
       "    </tr>\n",
       "  </tbody>\n",
       "</table>\n",
       "</div>"
      ],
      "text/plain": [
       "    LNR  RESPONSE\n",
       "0  1754  0.323130\n",
       "1  1770  0.329434\n",
       "2  1465  0.244584\n",
       "3  1470  0.244584\n",
       "4  1478  0.259590"
      ]
     },
     "execution_count": 44,
     "metadata": {},
     "output_type": "execute_result"
    }
   ],
   "source": [
    "preds_adab = adab_final.predict_proba(test_scaled)[:,1]\n",
    "\n",
    "preds_adab_df = pd.DataFrame(preds_adab, index = test_clean.index)\n",
    "\n",
    "preds_adab_df.reset_index(inplace = True)\n",
    "\n",
    "preds_adab_df.columns = ['LNR', 'RESPONSE']\n",
    "\n",
    "print(preds_adab_df.shape)\n",
    "\n",
    "preds_adab_df.to_csv('predictions/pred_adab.csv', index = False)\n",
    "\n",
    "preds_adab_df.head()"
   ]
  },
  {
   "cell_type": "markdown",
   "id": "dimensional-nebraska",
   "metadata": {},
   "source": [
    "![img](img/submit_3.png)"
   ]
  },
  {
   "cell_type": "markdown",
   "id": "rolled-following",
   "metadata": {},
   "source": [
    "## Models trained with features selected"
   ]
  },
  {
   "cell_type": "code",
   "execution_count": 46,
   "id": "designed-deposit",
   "metadata": {},
   "outputs": [],
   "source": [
    "test_reduced = trans.transform(test_scaled)"
   ]
  },
  {
   "cell_type": "markdown",
   "id": "political-maple",
   "metadata": {},
   "source": [
    "### Boruta + RandomForest [Winner]"
   ]
  },
  {
   "cell_type": "code",
   "execution_count": 47,
   "id": "blocked-system",
   "metadata": {},
   "outputs": [
    {
     "name": "stdout",
     "output_type": "stream",
     "text": [
      "(42833, 2)\n"
     ]
    },
    {
     "data": {
      "text/html": [
       "<div>\n",
       "<style scoped>\n",
       "    .dataframe tbody tr th:only-of-type {\n",
       "        vertical-align: middle;\n",
       "    }\n",
       "\n",
       "    .dataframe tbody tr th {\n",
       "        vertical-align: top;\n",
       "    }\n",
       "\n",
       "    .dataframe thead th {\n",
       "        text-align: right;\n",
       "    }\n",
       "</style>\n",
       "<table border=\"1\" class=\"dataframe\">\n",
       "  <thead>\n",
       "    <tr style=\"text-align: right;\">\n",
       "      <th></th>\n",
       "      <th>LNR</th>\n",
       "      <th>RESPONSE</th>\n",
       "    </tr>\n",
       "  </thead>\n",
       "  <tbody>\n",
       "    <tr>\n",
       "      <th>0</th>\n",
       "      <td>1754</td>\n",
       "      <td>0.030328</td>\n",
       "    </tr>\n",
       "    <tr>\n",
       "      <th>1</th>\n",
       "      <td>1770</td>\n",
       "      <td>0.030687</td>\n",
       "    </tr>\n",
       "    <tr>\n",
       "      <th>2</th>\n",
       "      <td>1465</td>\n",
       "      <td>0.002439</td>\n",
       "    </tr>\n",
       "    <tr>\n",
       "      <th>3</th>\n",
       "      <td>1470</td>\n",
       "      <td>0.002938</td>\n",
       "    </tr>\n",
       "    <tr>\n",
       "      <th>4</th>\n",
       "      <td>1478</td>\n",
       "      <td>0.007083</td>\n",
       "    </tr>\n",
       "  </tbody>\n",
       "</table>\n",
       "</div>"
      ],
      "text/plain": [
       "    LNR  RESPONSE\n",
       "0  1754  0.030328\n",
       "1  1770  0.030687\n",
       "2  1465  0.002439\n",
       "3  1470  0.002938\n",
       "4  1478  0.007083"
      ]
     },
     "execution_count": 47,
     "metadata": {},
     "output_type": "execute_result"
    }
   ],
   "source": [
    "rfc_bor_final\n",
    "\n",
    "preds_bor_rfc = rfc_bor_final.predict_proba(test_reduced)[:,1]\n",
    "\n",
    "preds_bor_rfc_df = pd.DataFrame(preds_bor_rfc, index = test_clean.index)\n",
    "\n",
    "preds_bor_rfc_df.reset_index(inplace = True)\n",
    "\n",
    "preds_bor_rfc_df.columns = ['LNR', 'RESPONSE']\n",
    "\n",
    "print(preds_bor_rfc_df.shape)\n",
    "\n",
    "preds_bor_rfc_df.to_csv('predictions/pred_bor_rfc.csv', index = False)\n",
    "\n",
    "preds_bor_rfc_df.head()"
   ]
  },
  {
   "cell_type": "markdown",
   "id": "unnecessary-magic",
   "metadata": {},
   "source": [
    "![img](img/submit_4.png)"
   ]
  },
  {
   "cell_type": "markdown",
   "id": "superior-variety",
   "metadata": {},
   "source": [
    "### Boruta + XGB"
   ]
  },
  {
   "cell_type": "code",
   "execution_count": 48,
   "id": "reduced-joshua",
   "metadata": {},
   "outputs": [
    {
     "name": "stdout",
     "output_type": "stream",
     "text": [
      "(42833, 2)\n"
     ]
    },
    {
     "data": {
      "text/html": [
       "<div>\n",
       "<style scoped>\n",
       "    .dataframe tbody tr th:only-of-type {\n",
       "        vertical-align: middle;\n",
       "    }\n",
       "\n",
       "    .dataframe tbody tr th {\n",
       "        vertical-align: top;\n",
       "    }\n",
       "\n",
       "    .dataframe thead th {\n",
       "        text-align: right;\n",
       "    }\n",
       "</style>\n",
       "<table border=\"1\" class=\"dataframe\">\n",
       "  <thead>\n",
       "    <tr style=\"text-align: right;\">\n",
       "      <th></th>\n",
       "      <th>LNR</th>\n",
       "      <th>RESPONSE</th>\n",
       "    </tr>\n",
       "  </thead>\n",
       "  <tbody>\n",
       "    <tr>\n",
       "      <th>0</th>\n",
       "      <td>1754</td>\n",
       "      <td>0.030596</td>\n",
       "    </tr>\n",
       "    <tr>\n",
       "      <th>1</th>\n",
       "      <td>1770</td>\n",
       "      <td>0.033635</td>\n",
       "    </tr>\n",
       "    <tr>\n",
       "      <th>2</th>\n",
       "      <td>1465</td>\n",
       "      <td>0.002101</td>\n",
       "    </tr>\n",
       "    <tr>\n",
       "      <th>3</th>\n",
       "      <td>1470</td>\n",
       "      <td>0.002610</td>\n",
       "    </tr>\n",
       "    <tr>\n",
       "      <th>4</th>\n",
       "      <td>1478</td>\n",
       "      <td>0.003887</td>\n",
       "    </tr>\n",
       "  </tbody>\n",
       "</table>\n",
       "</div>"
      ],
      "text/plain": [
       "    LNR  RESPONSE\n",
       "0  1754  0.030596\n",
       "1  1770  0.033635\n",
       "2  1465  0.002101\n",
       "3  1470  0.002610\n",
       "4  1478  0.003887"
      ]
     },
     "execution_count": 48,
     "metadata": {},
     "output_type": "execute_result"
    }
   ],
   "source": [
    "preds_xgb_bor = xgb_bor_final.predict_proba(test_reduced)[:,1]\n",
    "\n",
    "preds_xgb_bor_df = pd.DataFrame(preds_xgb_bor, index = test_clean.index)\n",
    "\n",
    "preds_xgb_bor_df.reset_index(inplace = True)\n",
    "\n",
    "preds_xgb_bor_df.columns = ['LNR', 'RESPONSE']\n",
    "\n",
    "print(preds_xgb_bor_df.shape)\n",
    "\n",
    "preds_xgb_bor_df.to_csv('predictions/pred_bor_xgb.csv', index = False)\n",
    "\n",
    "preds_xgb_bor_df.head()"
   ]
  },
  {
   "cell_type": "markdown",
   "id": "figured-abortion",
   "metadata": {},
   "source": [
    "![img](img/submit_5.png)"
   ]
  },
  {
   "cell_type": "markdown",
   "id": "agreed-director",
   "metadata": {},
   "source": [
    "### Boruta + AdaBoost"
   ]
  },
  {
   "cell_type": "code",
   "execution_count": 49,
   "id": "considered-count",
   "metadata": {},
   "outputs": [
    {
     "name": "stdout",
     "output_type": "stream",
     "text": [
      "(42833, 2)\n"
     ]
    },
    {
     "data": {
      "text/html": [
       "<div>\n",
       "<style scoped>\n",
       "    .dataframe tbody tr th:only-of-type {\n",
       "        vertical-align: middle;\n",
       "    }\n",
       "\n",
       "    .dataframe tbody tr th {\n",
       "        vertical-align: top;\n",
       "    }\n",
       "\n",
       "    .dataframe thead th {\n",
       "        text-align: right;\n",
       "    }\n",
       "</style>\n",
       "<table border=\"1\" class=\"dataframe\">\n",
       "  <thead>\n",
       "    <tr style=\"text-align: right;\">\n",
       "      <th></th>\n",
       "      <th>LNR</th>\n",
       "      <th>RESPONSE</th>\n",
       "    </tr>\n",
       "  </thead>\n",
       "  <tbody>\n",
       "    <tr>\n",
       "      <th>0</th>\n",
       "      <td>1754</td>\n",
       "      <td>0.478823</td>\n",
       "    </tr>\n",
       "    <tr>\n",
       "      <th>1</th>\n",
       "      <td>1770</td>\n",
       "      <td>0.478971</td>\n",
       "    </tr>\n",
       "    <tr>\n",
       "      <th>2</th>\n",
       "      <td>1465</td>\n",
       "      <td>0.462971</td>\n",
       "    </tr>\n",
       "    <tr>\n",
       "      <th>3</th>\n",
       "      <td>1470</td>\n",
       "      <td>0.462712</td>\n",
       "    </tr>\n",
       "    <tr>\n",
       "      <th>4</th>\n",
       "      <td>1478</td>\n",
       "      <td>0.465857</td>\n",
       "    </tr>\n",
       "  </tbody>\n",
       "</table>\n",
       "</div>"
      ],
      "text/plain": [
       "    LNR  RESPONSE\n",
       "0  1754  0.478823\n",
       "1  1770  0.478971\n",
       "2  1465  0.462971\n",
       "3  1470  0.462712\n",
       "4  1478  0.465857"
      ]
     },
     "execution_count": 49,
     "metadata": {},
     "output_type": "execute_result"
    }
   ],
   "source": [
    "preds_adab_bor = adab_bor_final.predict_proba(test_reduced)[:,1]\n",
    "\n",
    "preds_adab_bor_df = pd.DataFrame(preds_adab_bor, index = test_clean.index)\n",
    "\n",
    "preds_adab_bor_df.reset_index(inplace = True)\n",
    "\n",
    "preds_adab_bor_df.columns = ['LNR', 'RESPONSE']\n",
    "\n",
    "print(preds_adab_bor_df.shape)\n",
    "\n",
    "preds_adab_bor_df.to_csv('predictions/pred_bor_adab.csv', index = False)\n",
    "\n",
    "preds_adab_bor_df.head()"
   ]
  },
  {
   "cell_type": "markdown",
   "id": "measured-barrel",
   "metadata": {},
   "source": [
    "![img](img/submit_6.png)"
   ]
  },
  {
   "cell_type": "markdown",
   "id": "pressing-stopping",
   "metadata": {},
   "source": [
    "## Final results:"
   ]
  },
  {
   "cell_type": "markdown",
   "id": "exclusive-spokesman",
   "metadata": {},
   "source": [
    "![img](img/Table.png)"
   ]
  }
 ],
 "metadata": {
  "kernelspec": {
   "display_name": "Python 3",
   "language": "python",
   "name": "python3"
  },
  "language_info": {
   "codemirror_mode": {
    "name": "ipython",
    "version": 3
   },
   "file_extension": ".py",
   "mimetype": "text/x-python",
   "name": "python",
   "nbconvert_exporter": "python",
   "pygments_lexer": "ipython3",
   "version": "3.8.5"
  }
 },
 "nbformat": 4,
 "nbformat_minor": 5
}
