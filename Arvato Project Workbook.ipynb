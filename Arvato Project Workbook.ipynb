{
 "cells": [
  {
   "cell_type": "markdown",
   "metadata": {},
   "source": [
    "# Capstone Project: Create a Customer Segmentation Report for Arvato Financial Services\n",
    "\n",
    "In this project, you will analyze demographics data for customers of a mail-order sales company in Germany, comparing it against demographics information for the general population. You'll use unsupervised learning techniques to perform customer segmentation, identifying the parts of the population that best describe the core customer base of the company. Then, you'll apply what you've learned on a third dataset with demographics information for targets of a marketing campaign for the company, and use a model to predict which individuals are most likely to convert into becoming customers for the company. The data that you will use has been provided by our partners at Bertelsmann Arvato Analytics, and represents a real-life data science task.\n",
    "\n",
    "If you completed the first term of this program, you will be familiar with the first part of this project, from the unsupervised learning project. The versions of those two datasets used in this project will include many more features and has not been pre-cleaned. You are also free to choose whatever approach you'd like to analyzing the data rather than follow pre-determined steps. In your work on this project, make sure that you carefully document your steps and decisions, since your main deliverable for this project will be a blog post reporting your findings."
   ]
  },
  {
   "cell_type": "code",
   "execution_count": 53,
   "metadata": {},
   "outputs": [],
   "source": [
    "# import libraries here; add more as necessary\n",
    "import numpy as np\n",
    "import pandas as pd\n",
    "import matplotlib.pyplot as plt\n",
    "import seaborn as sns\n",
    "import re\n",
    "\n",
    "# magic word for producing visualizations in notebook\n",
    "%matplotlib inline"
   ]
  },
  {
   "cell_type": "markdown",
   "metadata": {},
   "source": [
    "## Part 0: Get to Know the Data\n",
    "\n",
    "There are four data files associated with this project:\n",
    "\n",
    "- `Udacity_AZDIAS_052018.csv`: Demographics data for the general population of Germany; 891 211 persons (rows) x 366 features (columns).\n",
    "- `Udacity_CUSTOMERS_052018.csv`: Demographics data for customers of a mail-order company; 191 652 persons (rows) x 369 features (columns).\n",
    "- `Udacity_MAILOUT_052018_TRAIN.csv`: Demographics data for individuals who were targets of a marketing campaign; 42 982 persons (rows) x 367 (columns).\n",
    "- `Udacity_MAILOUT_052018_TEST.csv`: Demographics data for individuals who were targets of a marketing campaign; 42 833 persons (rows) x 366 (columns).\n",
    "\n",
    "Each row of the demographics files represents a single person, but also includes information outside of individuals, including information about their household, building, and neighborhood. Use the information from the first two files to figure out how customers (\"CUSTOMERS\") are similar to or differ from the general population at large (\"AZDIAS\"), then use your analysis to make predictions on the other two files (\"MAILOUT\"), predicting which recipients are most likely to become a customer for the mail-order company.\n",
    "\n",
    "The \"CUSTOMERS\" file contains three extra columns ('CUSTOMER_GROUP', 'ONLINE_PURCHASE', and 'PRODUCT_GROUP'), which provide broad information about the customers depicted in the file. The original \"MAILOUT\" file included one additional column, \"RESPONSE\", which indicated whether or not each recipient became a customer of the company. For the \"TRAIN\" subset, this column has been retained, but in the \"TEST\" subset it has been removed; it is against that withheld column that your final predictions will be assessed in the Kaggle competition.\n",
    "\n",
    "Otherwise, all of the remaining columns are the same between the three data files. For more information about the columns depicted in the files, you can refer to two Excel spreadsheets provided in the workspace. [One of them](./DIAS Information Levels - Attributes 2017.xlsx) is a top-level list of attributes and descriptions, organized by informational category. [The other](./DIAS Attributes - Values 2017.xlsx) is a detailed mapping of data values for each feature in alphabetical order.\n",
    "\n",
    "In the below cell, we've provided some initial code to load in the first two datasets. Note for all of the `.csv` data files in this project that they're semicolon (`;`) delimited, so an additional argument in the [`read_csv()`](https://pandas.pydata.org/pandas-docs/stable/generated/pandas.read_csv.html) call has been included to read in the data properly. Also, considering the size of the datasets, it may take some time for them to load completely.\n",
    "\n",
    "You'll notice when the data is loaded in that a warning message will immediately pop up. Before you really start digging into the modeling and analysis, you're going to need to perform some cleaning. Take some time to browse the structure of the data and look over the informational spreadsheets to understand the data values. Make some decisions on which features to keep, which features to drop, and if any revisions need to be made on data formats. It'll be a good idea to create a function with pre-processing steps, since you'll need to clean all of the datasets before you work with them."
   ]
  },
  {
   "cell_type": "code",
   "execution_count": 54,
   "metadata": {},
   "outputs": [
    {
     "name": "stderr",
     "output_type": "stream",
     "text": [
      "C:\\Users\\jobqu\\anaconda3\\lib\\site-packages\\IPython\\core\\interactiveshell.py:3155: DtypeWarning: Columns (19,20) have mixed types.Specify dtype option on import or set low_memory=False.\n",
      "  has_raised = await self.run_ast_nodes(code_ast.body, cell_name,\n"
     ]
    }
   ],
   "source": [
    "# Loading the general population data\n",
    "azdias = pd.read_csv('data/Udacity_AZDIAS_052018.csv')"
   ]
  },
  {
   "cell_type": "code",
   "execution_count": 55,
   "metadata": {},
   "outputs": [
    {
     "name": "stdout",
     "output_type": "stream",
     "text": [
      "(891221, 366)\n"
     ]
    },
    {
     "data": {
      "text/html": [
       "<div>\n",
       "<style scoped>\n",
       "    .dataframe tbody tr th:only-of-type {\n",
       "        vertical-align: middle;\n",
       "    }\n",
       "\n",
       "    .dataframe tbody tr th {\n",
       "        vertical-align: top;\n",
       "    }\n",
       "\n",
       "    .dataframe thead th {\n",
       "        text-align: right;\n",
       "    }\n",
       "</style>\n",
       "<table border=\"1\" class=\"dataframe\">\n",
       "  <thead>\n",
       "    <tr style=\"text-align: right;\">\n",
       "      <th></th>\n",
       "      <th>LNR</th>\n",
       "      <th>AGER_TYP</th>\n",
       "      <th>AKT_DAT_KL</th>\n",
       "      <th>ALTER_HH</th>\n",
       "      <th>ALTER_KIND1</th>\n",
       "      <th>ALTER_KIND2</th>\n",
       "      <th>ALTER_KIND3</th>\n",
       "      <th>ALTER_KIND4</th>\n",
       "      <th>ALTERSKATEGORIE_FEIN</th>\n",
       "      <th>ANZ_HAUSHALTE_AKTIV</th>\n",
       "      <th>...</th>\n",
       "      <th>VHN</th>\n",
       "      <th>VK_DHT4A</th>\n",
       "      <th>VK_DISTANZ</th>\n",
       "      <th>VK_ZG11</th>\n",
       "      <th>W_KEIT_KIND_HH</th>\n",
       "      <th>WOHNDAUER_2008</th>\n",
       "      <th>WOHNLAGE</th>\n",
       "      <th>ZABEOTYP</th>\n",
       "      <th>ANREDE_KZ</th>\n",
       "      <th>ALTERSKATEGORIE_GROB</th>\n",
       "    </tr>\n",
       "  </thead>\n",
       "  <tbody>\n",
       "    <tr>\n",
       "      <th>0</th>\n",
       "      <td>910215</td>\n",
       "      <td>-1</td>\n",
       "      <td>NaN</td>\n",
       "      <td>NaN</td>\n",
       "      <td>NaN</td>\n",
       "      <td>NaN</td>\n",
       "      <td>NaN</td>\n",
       "      <td>NaN</td>\n",
       "      <td>NaN</td>\n",
       "      <td>NaN</td>\n",
       "      <td>...</td>\n",
       "      <td>NaN</td>\n",
       "      <td>NaN</td>\n",
       "      <td>NaN</td>\n",
       "      <td>NaN</td>\n",
       "      <td>NaN</td>\n",
       "      <td>NaN</td>\n",
       "      <td>NaN</td>\n",
       "      <td>3</td>\n",
       "      <td>1</td>\n",
       "      <td>2</td>\n",
       "    </tr>\n",
       "    <tr>\n",
       "      <th>1</th>\n",
       "      <td>910220</td>\n",
       "      <td>-1</td>\n",
       "      <td>9.0</td>\n",
       "      <td>0.0</td>\n",
       "      <td>NaN</td>\n",
       "      <td>NaN</td>\n",
       "      <td>NaN</td>\n",
       "      <td>NaN</td>\n",
       "      <td>21.0</td>\n",
       "      <td>11.0</td>\n",
       "      <td>...</td>\n",
       "      <td>4.0</td>\n",
       "      <td>8.0</td>\n",
       "      <td>11.0</td>\n",
       "      <td>10.0</td>\n",
       "      <td>3.0</td>\n",
       "      <td>9.0</td>\n",
       "      <td>4.0</td>\n",
       "      <td>5</td>\n",
       "      <td>2</td>\n",
       "      <td>1</td>\n",
       "    </tr>\n",
       "    <tr>\n",
       "      <th>2</th>\n",
       "      <td>910225</td>\n",
       "      <td>-1</td>\n",
       "      <td>9.0</td>\n",
       "      <td>17.0</td>\n",
       "      <td>NaN</td>\n",
       "      <td>NaN</td>\n",
       "      <td>NaN</td>\n",
       "      <td>NaN</td>\n",
       "      <td>17.0</td>\n",
       "      <td>10.0</td>\n",
       "      <td>...</td>\n",
       "      <td>2.0</td>\n",
       "      <td>9.0</td>\n",
       "      <td>9.0</td>\n",
       "      <td>6.0</td>\n",
       "      <td>3.0</td>\n",
       "      <td>9.0</td>\n",
       "      <td>2.0</td>\n",
       "      <td>5</td>\n",
       "      <td>2</td>\n",
       "      <td>3</td>\n",
       "    </tr>\n",
       "    <tr>\n",
       "      <th>3</th>\n",
       "      <td>910226</td>\n",
       "      <td>2</td>\n",
       "      <td>1.0</td>\n",
       "      <td>13.0</td>\n",
       "      <td>NaN</td>\n",
       "      <td>NaN</td>\n",
       "      <td>NaN</td>\n",
       "      <td>NaN</td>\n",
       "      <td>13.0</td>\n",
       "      <td>1.0</td>\n",
       "      <td>...</td>\n",
       "      <td>0.0</td>\n",
       "      <td>7.0</td>\n",
       "      <td>10.0</td>\n",
       "      <td>11.0</td>\n",
       "      <td>NaN</td>\n",
       "      <td>9.0</td>\n",
       "      <td>7.0</td>\n",
       "      <td>3</td>\n",
       "      <td>2</td>\n",
       "      <td>4</td>\n",
       "    </tr>\n",
       "    <tr>\n",
       "      <th>4</th>\n",
       "      <td>910241</td>\n",
       "      <td>-1</td>\n",
       "      <td>1.0</td>\n",
       "      <td>20.0</td>\n",
       "      <td>NaN</td>\n",
       "      <td>NaN</td>\n",
       "      <td>NaN</td>\n",
       "      <td>NaN</td>\n",
       "      <td>14.0</td>\n",
       "      <td>3.0</td>\n",
       "      <td>...</td>\n",
       "      <td>2.0</td>\n",
       "      <td>3.0</td>\n",
       "      <td>5.0</td>\n",
       "      <td>4.0</td>\n",
       "      <td>2.0</td>\n",
       "      <td>9.0</td>\n",
       "      <td>3.0</td>\n",
       "      <td>4</td>\n",
       "      <td>1</td>\n",
       "      <td>3</td>\n",
       "    </tr>\n",
       "  </tbody>\n",
       "</table>\n",
       "<p>5 rows × 366 columns</p>\n",
       "</div>"
      ],
      "text/plain": [
       "      LNR  AGER_TYP  AKT_DAT_KL  ALTER_HH  ALTER_KIND1  ALTER_KIND2  \\\n",
       "0  910215        -1         NaN       NaN          NaN          NaN   \n",
       "1  910220        -1         9.0       0.0          NaN          NaN   \n",
       "2  910225        -1         9.0      17.0          NaN          NaN   \n",
       "3  910226         2         1.0      13.0          NaN          NaN   \n",
       "4  910241        -1         1.0      20.0          NaN          NaN   \n",
       "\n",
       "   ALTER_KIND3  ALTER_KIND4  ALTERSKATEGORIE_FEIN  ANZ_HAUSHALTE_AKTIV  ...  \\\n",
       "0          NaN          NaN                   NaN                  NaN  ...   \n",
       "1          NaN          NaN                  21.0                 11.0  ...   \n",
       "2          NaN          NaN                  17.0                 10.0  ...   \n",
       "3          NaN          NaN                  13.0                  1.0  ...   \n",
       "4          NaN          NaN                  14.0                  3.0  ...   \n",
       "\n",
       "   VHN  VK_DHT4A  VK_DISTANZ  VK_ZG11  W_KEIT_KIND_HH  WOHNDAUER_2008  \\\n",
       "0  NaN       NaN         NaN      NaN             NaN             NaN   \n",
       "1  4.0       8.0        11.0     10.0             3.0             9.0   \n",
       "2  2.0       9.0         9.0      6.0             3.0             9.0   \n",
       "3  0.0       7.0        10.0     11.0             NaN             9.0   \n",
       "4  2.0       3.0         5.0      4.0             2.0             9.0   \n",
       "\n",
       "   WOHNLAGE ZABEOTYP ANREDE_KZ ALTERSKATEGORIE_GROB  \n",
       "0       NaN        3         1                    2  \n",
       "1       4.0        5         2                    1  \n",
       "2       2.0        5         2                    3  \n",
       "3       7.0        3         2                    4  \n",
       "4       3.0        4         1                    3  \n",
       "\n",
       "[5 rows x 366 columns]"
      ]
     },
     "execution_count": 55,
     "metadata": {},
     "output_type": "execute_result"
    }
   ],
   "source": [
    "# Removing first column (noise)\n",
    "azdias.drop(azdias.columns[0], axis = 1, inplace = True)\n",
    "\n",
    "# Shape\n",
    "print(azdias.shape)\n",
    "\n",
    "# Taking a look at the data\n",
    "azdias.head()"
   ]
  },
  {
   "cell_type": "code",
   "execution_count": 56,
   "metadata": {},
   "outputs": [
    {
     "name": "stderr",
     "output_type": "stream",
     "text": [
      "C:\\Users\\jobqu\\anaconda3\\lib\\site-packages\\IPython\\core\\interactiveshell.py:3155: DtypeWarning: Columns (19,20) have mixed types.Specify dtype option on import or set low_memory=False.\n",
      "  has_raised = await self.run_ast_nodes(code_ast.body, cell_name,\n"
     ]
    }
   ],
   "source": [
    "customers = pd.read_csv('data/Udacity_CUSTOMERS_052018.csv')"
   ]
  },
  {
   "cell_type": "code",
   "execution_count": 57,
   "metadata": {},
   "outputs": [
    {
     "name": "stdout",
     "output_type": "stream",
     "text": [
      "(191652, 369)\n"
     ]
    },
    {
     "data": {
      "text/html": [
       "<div>\n",
       "<style scoped>\n",
       "    .dataframe tbody tr th:only-of-type {\n",
       "        vertical-align: middle;\n",
       "    }\n",
       "\n",
       "    .dataframe tbody tr th {\n",
       "        vertical-align: top;\n",
       "    }\n",
       "\n",
       "    .dataframe thead th {\n",
       "        text-align: right;\n",
       "    }\n",
       "</style>\n",
       "<table border=\"1\" class=\"dataframe\">\n",
       "  <thead>\n",
       "    <tr style=\"text-align: right;\">\n",
       "      <th></th>\n",
       "      <th>LNR</th>\n",
       "      <th>AGER_TYP</th>\n",
       "      <th>AKT_DAT_KL</th>\n",
       "      <th>ALTER_HH</th>\n",
       "      <th>ALTER_KIND1</th>\n",
       "      <th>ALTER_KIND2</th>\n",
       "      <th>ALTER_KIND3</th>\n",
       "      <th>ALTER_KIND4</th>\n",
       "      <th>ALTERSKATEGORIE_FEIN</th>\n",
       "      <th>ANZ_HAUSHALTE_AKTIV</th>\n",
       "      <th>...</th>\n",
       "      <th>VK_ZG11</th>\n",
       "      <th>W_KEIT_KIND_HH</th>\n",
       "      <th>WOHNDAUER_2008</th>\n",
       "      <th>WOHNLAGE</th>\n",
       "      <th>ZABEOTYP</th>\n",
       "      <th>PRODUCT_GROUP</th>\n",
       "      <th>CUSTOMER_GROUP</th>\n",
       "      <th>ONLINE_PURCHASE</th>\n",
       "      <th>ANREDE_KZ</th>\n",
       "      <th>ALTERSKATEGORIE_GROB</th>\n",
       "    </tr>\n",
       "  </thead>\n",
       "  <tbody>\n",
       "    <tr>\n",
       "      <th>0</th>\n",
       "      <td>9626</td>\n",
       "      <td>2</td>\n",
       "      <td>1.0</td>\n",
       "      <td>10.0</td>\n",
       "      <td>NaN</td>\n",
       "      <td>NaN</td>\n",
       "      <td>NaN</td>\n",
       "      <td>NaN</td>\n",
       "      <td>10.0</td>\n",
       "      <td>1.0</td>\n",
       "      <td>...</td>\n",
       "      <td>2.0</td>\n",
       "      <td>6.0</td>\n",
       "      <td>9.0</td>\n",
       "      <td>7.0</td>\n",
       "      <td>3</td>\n",
       "      <td>COSMETIC_AND_FOOD</td>\n",
       "      <td>MULTI_BUYER</td>\n",
       "      <td>0</td>\n",
       "      <td>1</td>\n",
       "      <td>4</td>\n",
       "    </tr>\n",
       "    <tr>\n",
       "      <th>1</th>\n",
       "      <td>9628</td>\n",
       "      <td>-1</td>\n",
       "      <td>9.0</td>\n",
       "      <td>11.0</td>\n",
       "      <td>NaN</td>\n",
       "      <td>NaN</td>\n",
       "      <td>NaN</td>\n",
       "      <td>NaN</td>\n",
       "      <td>NaN</td>\n",
       "      <td>NaN</td>\n",
       "      <td>...</td>\n",
       "      <td>3.0</td>\n",
       "      <td>0.0</td>\n",
       "      <td>9.0</td>\n",
       "      <td>NaN</td>\n",
       "      <td>3</td>\n",
       "      <td>FOOD</td>\n",
       "      <td>SINGLE_BUYER</td>\n",
       "      <td>0</td>\n",
       "      <td>1</td>\n",
       "      <td>4</td>\n",
       "    </tr>\n",
       "    <tr>\n",
       "      <th>2</th>\n",
       "      <td>143872</td>\n",
       "      <td>-1</td>\n",
       "      <td>1.0</td>\n",
       "      <td>6.0</td>\n",
       "      <td>NaN</td>\n",
       "      <td>NaN</td>\n",
       "      <td>NaN</td>\n",
       "      <td>NaN</td>\n",
       "      <td>0.0</td>\n",
       "      <td>1.0</td>\n",
       "      <td>...</td>\n",
       "      <td>11.0</td>\n",
       "      <td>6.0</td>\n",
       "      <td>9.0</td>\n",
       "      <td>2.0</td>\n",
       "      <td>3</td>\n",
       "      <td>COSMETIC_AND_FOOD</td>\n",
       "      <td>MULTI_BUYER</td>\n",
       "      <td>0</td>\n",
       "      <td>2</td>\n",
       "      <td>4</td>\n",
       "    </tr>\n",
       "    <tr>\n",
       "      <th>3</th>\n",
       "      <td>143873</td>\n",
       "      <td>1</td>\n",
       "      <td>1.0</td>\n",
       "      <td>8.0</td>\n",
       "      <td>NaN</td>\n",
       "      <td>NaN</td>\n",
       "      <td>NaN</td>\n",
       "      <td>NaN</td>\n",
       "      <td>8.0</td>\n",
       "      <td>0.0</td>\n",
       "      <td>...</td>\n",
       "      <td>2.0</td>\n",
       "      <td>NaN</td>\n",
       "      <td>9.0</td>\n",
       "      <td>7.0</td>\n",
       "      <td>1</td>\n",
       "      <td>COSMETIC</td>\n",
       "      <td>MULTI_BUYER</td>\n",
       "      <td>0</td>\n",
       "      <td>1</td>\n",
       "      <td>4</td>\n",
       "    </tr>\n",
       "    <tr>\n",
       "      <th>4</th>\n",
       "      <td>143874</td>\n",
       "      <td>-1</td>\n",
       "      <td>1.0</td>\n",
       "      <td>20.0</td>\n",
       "      <td>NaN</td>\n",
       "      <td>NaN</td>\n",
       "      <td>NaN</td>\n",
       "      <td>NaN</td>\n",
       "      <td>14.0</td>\n",
       "      <td>7.0</td>\n",
       "      <td>...</td>\n",
       "      <td>4.0</td>\n",
       "      <td>2.0</td>\n",
       "      <td>9.0</td>\n",
       "      <td>3.0</td>\n",
       "      <td>1</td>\n",
       "      <td>FOOD</td>\n",
       "      <td>MULTI_BUYER</td>\n",
       "      <td>0</td>\n",
       "      <td>1</td>\n",
       "      <td>3</td>\n",
       "    </tr>\n",
       "  </tbody>\n",
       "</table>\n",
       "<p>5 rows × 369 columns</p>\n",
       "</div>"
      ],
      "text/plain": [
       "      LNR  AGER_TYP  AKT_DAT_KL  ALTER_HH  ALTER_KIND1  ALTER_KIND2  \\\n",
       "0    9626         2         1.0      10.0          NaN          NaN   \n",
       "1    9628        -1         9.0      11.0          NaN          NaN   \n",
       "2  143872        -1         1.0       6.0          NaN          NaN   \n",
       "3  143873         1         1.0       8.0          NaN          NaN   \n",
       "4  143874        -1         1.0      20.0          NaN          NaN   \n",
       "\n",
       "   ALTER_KIND3  ALTER_KIND4  ALTERSKATEGORIE_FEIN  ANZ_HAUSHALTE_AKTIV  ...  \\\n",
       "0          NaN          NaN                  10.0                  1.0  ...   \n",
       "1          NaN          NaN                   NaN                  NaN  ...   \n",
       "2          NaN          NaN                   0.0                  1.0  ...   \n",
       "3          NaN          NaN                   8.0                  0.0  ...   \n",
       "4          NaN          NaN                  14.0                  7.0  ...   \n",
       "\n",
       "   VK_ZG11  W_KEIT_KIND_HH  WOHNDAUER_2008  WOHNLAGE  ZABEOTYP  \\\n",
       "0      2.0             6.0             9.0       7.0         3   \n",
       "1      3.0             0.0             9.0       NaN         3   \n",
       "2     11.0             6.0             9.0       2.0         3   \n",
       "3      2.0             NaN             9.0       7.0         1   \n",
       "4      4.0             2.0             9.0       3.0         1   \n",
       "\n",
       "       PRODUCT_GROUP  CUSTOMER_GROUP ONLINE_PURCHASE ANREDE_KZ  \\\n",
       "0  COSMETIC_AND_FOOD     MULTI_BUYER               0         1   \n",
       "1               FOOD    SINGLE_BUYER               0         1   \n",
       "2  COSMETIC_AND_FOOD     MULTI_BUYER               0         2   \n",
       "3           COSMETIC     MULTI_BUYER               0         1   \n",
       "4               FOOD     MULTI_BUYER               0         1   \n",
       "\n",
       "  ALTERSKATEGORIE_GROB  \n",
       "0                    4  \n",
       "1                    4  \n",
       "2                    4  \n",
       "3                    4  \n",
       "4                    3  \n",
       "\n",
       "[5 rows x 369 columns]"
      ]
     },
     "execution_count": 57,
     "metadata": {},
     "output_type": "execute_result"
    }
   ],
   "source": [
    "# Removing first column (noise)\n",
    "customers.drop(customers.columns[0], axis = 1, inplace = True)\n",
    "\n",
    "# Shape\n",
    "print(customers.shape)\n",
    "\n",
    "# Taking a look at the data\n",
    "customers.head()"
   ]
  },
  {
   "cell_type": "markdown",
   "metadata": {},
   "source": [
    "**Loading attribute description files**\n",
    "\n",
    "These files can be manually opened to consult the meaning of attribute values. However, it can also be used to automate some tasks. In particular, we can find out which values are supposed to be missing or unknown values. \n",
    "\n",
    "By using info_levels we can also understand which class of information (personal, financial, location) is more relevant (without managing extremely-specific attribute labels)"
   ]
  },
  {
   "cell_type": "code",
   "execution_count": 58,
   "metadata": {},
   "outputs": [],
   "source": [
    "attributes = pd.read_excel('data/DIAS Attributes - Values 2017.xlsx', header = 1).drop('Unnamed: 0', axis = 1)\n",
    "info_levels = pd.read_excel('data/DIAS Information Levels - Attributes 2017.xlsx', header = 1).drop('Unnamed: 0', axis = 1)\n",
    "#attributes.head()"
   ]
  },
  {
   "cell_type": "markdown",
   "metadata": {},
   "source": [
    "### 0.1 Addressing the warnings\n",
    "\n",
    "While loading the data we got a warning about column 19 and 20 (now 18 and 19 because we removed 1 column) having mixed types. While this can be handle in the preprocessing section we will fix the issue now, before continuing knowing the data.\n",
    "\n",
    "**Column 18**"
   ]
  },
  {
   "cell_type": "code",
   "execution_count": 59,
   "metadata": {},
   "outputs": [
    {
     "name": "stdout",
     "output_type": "stream",
     "text": [
      "CAMEO_DEUG_2015 CAMEO_DEUG_2015\n"
     ]
    }
   ],
   "source": [
    "# Name of columns\n",
    "print(azdias.columns[18], customers.columns[18])"
   ]
  },
  {
   "cell_type": "markdown",
   "metadata": {},
   "source": [
    "The attribute CAMEO_DEUG_2015 is supposed to have only numerical (integer) attributes. The description even includes a numberic code for unknown values (-1). \n",
    "\n",
    "However, if we display the unique values for this column we see:"
   ]
  },
  {
   "cell_type": "code",
   "execution_count": 60,
   "metadata": {},
   "outputs": [
    {
     "name": "stdout",
     "output_type": "stream",
     "text": [
      "Unique values in azdias: [nan 8.0 4.0 2.0 6.0 1.0 9.0 5.0 7.0 3.0 '4' '3' '7' '2' '8' '9' '6' '5'\n",
      " '1' 'X']\n",
      "Unique values in  customers: [1.0 nan 5.0 4.0 7.0 3.0 9.0 2.0 6.0 8.0 '6' '3' '8' '9' '2' '4' '1' '7'\n",
      " '5' 'X']\n"
     ]
    }
   ],
   "source": [
    "# Finding unique values\n",
    "print('Unique values in azdias:', azdias.iloc[:, 18].unique() )\n",
    "\n",
    "print('Unique values in  customers:', customers.iloc[:, 18].unique() )"
   ]
  },
  {
   "cell_type": "markdown",
   "metadata": {},
   "source": [
    "We can clearly see that the attribute has mixed type values. We can solve this issue by casting the strings containing a number and assigning `nan` to the 'X' string:"
   ]
  },
  {
   "cell_type": "code",
   "execution_count": 61,
   "metadata": {},
   "outputs": [],
   "source": [
    "azdias.iloc[:,18] = azdias.iloc[:,18].replace({'X': np.nan})\n",
    "customers.iloc[:,18] = customers.iloc[:,18].replace({'X': np.nan})\n",
    "\n",
    "# Casting\n",
    "azdias.iloc[:, 18] = azdias.iloc[:, 18].map(float)\n",
    "customers.iloc[:, 18] = customers.iloc[:, 18].map(float)"
   ]
  },
  {
   "cell_type": "markdown",
   "metadata": {},
   "source": [
    "**Final result:**"
   ]
  },
  {
   "cell_type": "code",
   "execution_count": 62,
   "metadata": {},
   "outputs": [
    {
     "name": "stdout",
     "output_type": "stream",
     "text": [
      "Final unique values in azdias: [nan  8.  4.  2.  6.  1.  9.  5.  7.  3.]\n",
      "Final unique values in  customers: [ 1. nan  5.  4.  7.  3.  9.  2.  6.  8.]\n"
     ]
    }
   ],
   "source": [
    "# Finding unique values\n",
    "print('Final unique values in azdias:', azdias.iloc[:, 18].unique() )\n",
    "\n",
    "print('Final unique values in  customers:', customers.iloc[:, 18].unique() )"
   ]
  },
  {
   "cell_type": "markdown",
   "metadata": {},
   "source": [
    "We can repeat the same process for **column 19**:"
   ]
  },
  {
   "cell_type": "code",
   "execution_count": 63,
   "metadata": {},
   "outputs": [
    {
     "name": "stdout",
     "output_type": "stream",
     "text": [
      "CAMEO_INTL_2015 CAMEO_INTL_2015\n"
     ]
    }
   ],
   "source": [
    "# Name of column\n",
    "print( azdias.columns[19], customers.columns[19] )"
   ]
  },
  {
   "cell_type": "markdown",
   "metadata": {},
   "source": [
    "By looking at the attributes descriptions the attribute called 'CAMEO_INTL_2015' does not appear, the closest attribute name is 'CAMEO_DEUINTL_2015'. This is probably a typo, either in the description files or within the datasets. "
   ]
  },
  {
   "cell_type": "code",
   "execution_count": 64,
   "metadata": {},
   "outputs": [
    {
     "data": {
      "text/plain": [
       "array(['CAMEO_DEUG_2015', 'CAMEO_DEU_2015', 'CAMEO_DEUINTL_2015',\n",
       "       'CJT_GESAMTTYP'], dtype=object)"
      ]
     },
     "execution_count": 64,
     "metadata": {},
     "output_type": "execute_result"
    }
   ],
   "source": [
    "attributes['Attribute'].unique()[11:15]"
   ]
  },
  {
   "cell_type": "markdown",
   "metadata": {},
   "source": [
    "Just like the previous attribute, CAMEO_DEUNTL_2015 is also supposed to have only numerical (integer) attributes. If we display the unique values of this column we see: "
   ]
  },
  {
   "cell_type": "code",
   "execution_count": 65,
   "metadata": {},
   "outputs": [
    {
     "name": "stdout",
     "output_type": "stream",
     "text": [
      "Unique values in azdias: [nan 51.0 24.0 12.0 43.0 54.0 22.0 14.0 13.0 15.0 33.0 41.0 34.0 55.0 25.0\n",
      " 23.0 31.0 52.0 35.0 45.0 44.0 32.0 '22' '24' '41' '12' '54' '51' '44'\n",
      " '35' '23' '25' '14' '34' '52' '55' '31' '32' '15' '13' '43' '33' '45'\n",
      " 'XX']\n",
      "\n",
      "Unique values in customers: [13.0 nan 34.0 24.0 41.0 23.0 15.0 55.0 14.0 22.0 43.0 51.0 33.0 25.0 44.0\n",
      " 54.0 32.0 12.0 35.0 31.0 45.0 52.0 '45' '25' '55' '51' '14' '54' '43'\n",
      " '22' '15' '24' '35' '23' '12' '44' '41' '52' '31' '13' '34' '32' '33'\n",
      " 'XX']\n"
     ]
    }
   ],
   "source": [
    "print('Unique values in azdias:', azdias.iloc[:, 19].unique() )\n",
    "print('\\nUnique values in customers:', customers.iloc[:, 19].unique() )"
   ]
  },
  {
   "cell_type": "markdown",
   "metadata": {},
   "source": [
    "By applying the same steps as before:"
   ]
  },
  {
   "cell_type": "code",
   "execution_count": 66,
   "metadata": {},
   "outputs": [],
   "source": [
    "azdias.iloc[:,19] = azdias.iloc[:,19].replace({'XX': np.nan})\n",
    "customers.iloc[:,19] = customers.iloc[:,19].replace({'XX': np.nan})\n",
    "\n",
    "azdias.iloc[:, 19] = azdias.iloc[:, 19].map(float)\n",
    "customers.iloc[:, 19] = customers.iloc[:, 19].map(float)"
   ]
  },
  {
   "cell_type": "markdown",
   "metadata": {},
   "source": [
    "**Final result:**"
   ]
  },
  {
   "cell_type": "code",
   "execution_count": 67,
   "metadata": {},
   "outputs": [
    {
     "name": "stdout",
     "output_type": "stream",
     "text": [
      "Final unique values in azdias: [nan 51. 24. 12. 43. 54. 22. 14. 13. 15. 33. 41. 34. 55. 25. 23. 31. 52.\n",
      " 35. 45. 44. 32.]\n",
      "\n",
      "Final unique values in customers: [13. nan 34. 24. 41. 23. 15. 55. 14. 22. 43. 51. 33. 25. 44. 54. 32. 12.\n",
      " 35. 31. 45. 52.]\n"
     ]
    }
   ],
   "source": [
    "print('Final unique values in azdias:', azdias.iloc[:, 19].unique() )\n",
    "print('\\nFinal unique values in customers:', customers.iloc[:, 19].unique() )"
   ]
  },
  {
   "cell_type": "markdown",
   "metadata": {},
   "source": [
    "#### Do both datasets have the same attributes??"
   ]
  },
  {
   "cell_type": "code",
   "execution_count": 68,
   "metadata": {},
   "outputs": [
    {
     "data": {
      "text/plain": [
       "set()"
      ]
     },
     "execution_count": 68,
     "metadata": {},
     "output_type": "execute_result"
    }
   ],
   "source": [
    "set(azdias.columns) - set(customers.columns)"
   ]
  },
  {
   "cell_type": "code",
   "execution_count": 69,
   "metadata": {},
   "outputs": [
    {
     "data": {
      "text/plain": [
       "{'CUSTOMER_GROUP', 'ONLINE_PURCHASE', 'PRODUCT_GROUP'}"
      ]
     },
     "execution_count": 69,
     "metadata": {},
     "output_type": "execute_result"
    }
   ],
   "source": [
    "set(customers.columns) - set(azdias.columns)"
   ]
  },
  {
   "cell_type": "markdown",
   "metadata": {},
   "source": [
    "The customers dataset has three columns containing information about the actual customers. We have to be careful with these columns, they don't have to be preprocessed because they are more like labels."
   ]
  },
  {
   "cell_type": "markdown",
   "metadata": {},
   "source": [
    "## Missing values\n",
    "\n",
    "Before start analyzing the distribution of the data, we are going to drop the columns with a high number of missing values (>50%). At first, there seems to be only 6 columns like that for the `azdias dataset, and 7 columns for the `customers` dataset: "
   ]
  },
  {
   "cell_type": "code",
   "execution_count": 70,
   "metadata": {},
   "outputs": [
    {
     "name": "stdout",
     "output_type": "stream",
     "text": [
      "Overall missing values: 10.2682451188427 %\n"
     ]
    },
    {
     "data": {
      "text/plain": [
       "<AxesSubplot:>"
      ]
     },
     "execution_count": 70,
     "metadata": {},
     "output_type": "execute_result"
    },
    {
     "data": {
      "image/png": "[encoded data removed]",
      "text/plain": [
       "<Figure size 432x288 with 1 Axes>"
      ]
     },
     "metadata": {
      "needs_background": "light"
     },
     "output_type": "display_data"
    }
   ],
   "source": [
    "azdias_missing_values_1 = azdias.isnull().sum()\n",
    "percentage_missing_values_1 = azdias_missing_values_1.sort_values(ascending = False) / azdias.shape[0] * 100\n",
    "\n",
    "initial_az_missing = azdias_missing_values_1.sum()\n",
    "all_az_values = azdias.shape[0] * azdias.shape[1]\n",
    "\n",
    "print('Overall missing values: {} %'.format( initial_az_missing / all_az_values * 100))\n",
    "\n",
    "# Plotting Top 30 features with missing values\n",
    "percentage_missing_values_1[:30].plot.bar()"
   ]
  },
  {
   "cell_type": "markdown",
   "metadata": {},
   "source": [
    "For the customers dataset:"
   ]
  },
  {
   "cell_type": "code",
   "execution_count": 71,
   "metadata": {},
   "outputs": [
    {
     "name": "stdout",
     "output_type": "stream",
     "text": [
      "Overall missing values: 19.605281071490406 %\n"
     ]
    },
    {
     "data": {
      "text/plain": [
       "<AxesSubplot:>"
      ]
     },
     "execution_count": 71,
     "metadata": {},
     "output_type": "execute_result"
    },
    {
     "data": {
      "image/png": "[encoded data removed]",
      "text/plain": [
       "<Figure size 432x288 with 1 Axes>"
      ]
     },
     "metadata": {
      "needs_background": "light"
     },
     "output_type": "display_data"
    }
   ],
   "source": [
    "customers_missing_values_1 = customers.isnull().sum()\n",
    "percentage_missing_values_1 = customers_missing_values_1.sort_values(ascending = False) / customers.shape[0] * 100\n",
    "\n",
    "initial_cu_missing = customers.isnull().sum().sum()\n",
    "all_cu_values = customers.shape[0] * customers.shape[1]\n",
    "\n",
    "print('Overall missing values: {} %'.format( initial_cu_missing / all_cu_values * 100))\n",
    "\n",
    "# Plotting Top 30 features with missing values\n",
    "percentage_missing_values_1[:30].plot.bar()"
   ]
  },
  {
   "cell_type": "markdown",
   "metadata": {},
   "source": [
    "This graphs shows that six features have a high number of missing values (more than 50%), however, there are still more missing values in the dataset, because some row values are actually indicating unknown values. \n",
    "\n",
    "The next step for cleaning the data is to replace `np.nan` in the values indicating `unknown` information. But before replacing values we have to create a DataFrame where each attribute is associated with values indicating missing information. We also are going to add the `information level` field to each attribute."
   ]
  },
  {
   "cell_type": "code",
   "execution_count": 72,
   "metadata": {},
   "outputs": [
    {
     "data": {
      "text/html": [
       "<div>\n",
       "<style scoped>\n",
       "    .dataframe tbody tr th:only-of-type {\n",
       "        vertical-align: middle;\n",
       "    }\n",
       "\n",
       "    .dataframe tbody tr th {\n",
       "        vertical-align: top;\n",
       "    }\n",
       "\n",
       "    .dataframe thead th {\n",
       "        text-align: right;\n",
       "    }\n",
       "</style>\n",
       "<table border=\"1\" class=\"dataframe\">\n",
       "  <thead>\n",
       "    <tr style=\"text-align: right;\">\n",
       "      <th></th>\n",
       "      <th>Attribute</th>\n",
       "      <th>Description</th>\n",
       "      <th>Value</th>\n",
       "      <th>Meaning</th>\n",
       "    </tr>\n",
       "  </thead>\n",
       "  <tbody>\n",
       "    <tr>\n",
       "      <th>0</th>\n",
       "      <td>AGER_TYP</td>\n",
       "      <td>best-ager typology</td>\n",
       "      <td>-1</td>\n",
       "      <td>unknown</td>\n",
       "    </tr>\n",
       "    <tr>\n",
       "      <th>1</th>\n",
       "      <td>NaN</td>\n",
       "      <td>NaN</td>\n",
       "      <td>0</td>\n",
       "      <td>no classification possible</td>\n",
       "    </tr>\n",
       "    <tr>\n",
       "      <th>2</th>\n",
       "      <td>NaN</td>\n",
       "      <td>NaN</td>\n",
       "      <td>1</td>\n",
       "      <td>passive elderly</td>\n",
       "    </tr>\n",
       "    <tr>\n",
       "      <th>3</th>\n",
       "      <td>NaN</td>\n",
       "      <td>NaN</td>\n",
       "      <td>2</td>\n",
       "      <td>cultural elderly</td>\n",
       "    </tr>\n",
       "    <tr>\n",
       "      <th>4</th>\n",
       "      <td>NaN</td>\n",
       "      <td>NaN</td>\n",
       "      <td>3</td>\n",
       "      <td>experience-driven elderly</td>\n",
       "    </tr>\n",
       "  </tbody>\n",
       "</table>\n",
       "</div>"
      ],
      "text/plain": [
       "  Attribute         Description Value                     Meaning\n",
       "0  AGER_TYP  best-ager typology    -1                     unknown\n",
       "1       NaN                 NaN     0  no classification possible\n",
       "2       NaN                 NaN     1             passive elderly\n",
       "3       NaN                 NaN     2            cultural elderly\n",
       "4       NaN                 NaN     3   experience-driven elderly"
      ]
     },
     "execution_count": 72,
     "metadata": {},
     "output_type": "execute_result"
    }
   ],
   "source": [
    "# Taking a look to the attributes dataframe\n",
    "attributes.head()"
   ]
  },
  {
   "cell_type": "code",
   "execution_count": 73,
   "metadata": {},
   "outputs": [
    {
     "data": {
      "text/html": [
       "<div>\n",
       "<style scoped>\n",
       "    .dataframe tbody tr th:only-of-type {\n",
       "        vertical-align: middle;\n",
       "    }\n",
       "\n",
       "    .dataframe tbody tr th {\n",
       "        vertical-align: top;\n",
       "    }\n",
       "\n",
       "    .dataframe thead th {\n",
       "        text-align: right;\n",
       "    }\n",
       "</style>\n",
       "<table border=\"1\" class=\"dataframe\">\n",
       "  <thead>\n",
       "    <tr style=\"text-align: right;\">\n",
       "      <th></th>\n",
       "      <th>Information level</th>\n",
       "      <th>Attribute</th>\n",
       "      <th>Description</th>\n",
       "      <th>Additional notes</th>\n",
       "    </tr>\n",
       "  </thead>\n",
       "  <tbody>\n",
       "    <tr>\n",
       "      <th>0</th>\n",
       "      <td>Person</td>\n",
       "      <td>AGER_TYP</td>\n",
       "      <td>best-ager typology</td>\n",
       "      <td>in cooperation with Kantar TNS; the informatio...</td>\n",
       "    </tr>\n",
       "    <tr>\n",
       "      <th>1</th>\n",
       "      <td>NaN</td>\n",
       "      <td>ALTERSKATEGORIE_GROB</td>\n",
       "      <td>age through prename analysis</td>\n",
       "      <td>modelled on millions of first name-age-referen...</td>\n",
       "    </tr>\n",
       "    <tr>\n",
       "      <th>2</th>\n",
       "      <td>NaN</td>\n",
       "      <td>ANREDE_KZ</td>\n",
       "      <td>gender</td>\n",
       "      <td>NaN</td>\n",
       "    </tr>\n",
       "    <tr>\n",
       "      <th>3</th>\n",
       "      <td>NaN</td>\n",
       "      <td>CJT_GESAMTTYP</td>\n",
       "      <td>Customer-Journey-Typology relating to the pref...</td>\n",
       "      <td>relating to the preferred information, marketi...</td>\n",
       "    </tr>\n",
       "    <tr>\n",
       "      <th>4</th>\n",
       "      <td>NaN</td>\n",
       "      <td>FINANZ_MINIMALIST</td>\n",
       "      <td>financial typology: low financial interest</td>\n",
       "      <td>Gfk-Typology based on a representative househo...</td>\n",
       "    </tr>\n",
       "  </tbody>\n",
       "</table>\n",
       "</div>"
      ],
      "text/plain": [
       "  Information level             Attribute  \\\n",
       "0            Person              AGER_TYP   \n",
       "1               NaN  ALTERSKATEGORIE_GROB   \n",
       "2               NaN             ANREDE_KZ   \n",
       "3               NaN         CJT_GESAMTTYP   \n",
       "4               NaN     FINANZ_MINIMALIST   \n",
       "\n",
       "                                         Description  \\\n",
       "0                                 best-ager typology   \n",
       "1                      age through prename analysis    \n",
       "2                                             gender   \n",
       "3  Customer-Journey-Typology relating to the pref...   \n",
       "4         financial typology: low financial interest   \n",
       "\n",
       "                                    Additional notes  \n",
       "0  in cooperation with Kantar TNS; the informatio...  \n",
       "1  modelled on millions of first name-age-referen...  \n",
       "2                                                NaN  \n",
       "3  relating to the preferred information, marketi...  \n",
       "4  Gfk-Typology based on a representative househo...  "
      ]
     },
     "execution_count": 73,
     "metadata": {},
     "output_type": "execute_result"
    }
   ],
   "source": [
    "info_levels.head()"
   ]
  },
  {
   "cell_type": "markdown",
   "metadata": {},
   "source": [
    "We would like to have a single table with the following columns: \n",
    "\n",
    "|Attribute|Information level| Description| Null values |\n",
    "|-------- | --------------- | -----------| ---------------|\n",
    "|AGER_TYP |Person          | best-ager typology  | [-1, 0, np.nan] |\n",
    "\n",
    "\n"
   ]
  },
  {
   "cell_type": "code",
   "execution_count": 74,
   "metadata": {},
   "outputs": [],
   "source": [
    "# Step 1: Forward fill the 'Information level' column in the info_level dataframe, \n",
    "#         and the 'Attribute' and 'Meaning' columns in the attributes dataframe\n",
    "info_levels['Information level'] = info_levels['Information level'].ffill()\n",
    "attributes['Attribute'] = attributes['Attribute'].ffill()\n",
    "attributes['Meaning'] = attributes['Meaning'].ffill()"
   ]
  },
  {
   "cell_type": "code",
   "execution_count": 75,
   "metadata": {},
   "outputs": [
    {
     "data": {
      "text/html": [
       "<div>\n",
       "<style scoped>\n",
       "    .dataframe tbody tr th:only-of-type {\n",
       "        vertical-align: middle;\n",
       "    }\n",
       "\n",
       "    .dataframe tbody tr th {\n",
       "        vertical-align: top;\n",
       "    }\n",
       "\n",
       "    .dataframe thead th {\n",
       "        text-align: right;\n",
       "    }\n",
       "</style>\n",
       "<table border=\"1\" class=\"dataframe\">\n",
       "  <thead>\n",
       "    <tr style=\"text-align: right;\">\n",
       "      <th></th>\n",
       "      <th>Attribute</th>\n",
       "      <th>Description</th>\n",
       "      <th>Missing values code</th>\n",
       "    </tr>\n",
       "  </thead>\n",
       "  <tbody>\n",
       "    <tr>\n",
       "      <th>0</th>\n",
       "      <td>AGER_TYP</td>\n",
       "      <td>best-ager typology</td>\n",
       "      <td>-1</td>\n",
       "    </tr>\n",
       "    <tr>\n",
       "      <th>5</th>\n",
       "      <td>ALTERSKATEGORIE_GROB</td>\n",
       "      <td>age classification through prename analysis</td>\n",
       "      <td>-1, 0</td>\n",
       "    </tr>\n",
       "    <tr>\n",
       "      <th>11</th>\n",
       "      <td>ALTER_HH</td>\n",
       "      <td>main age within the household</td>\n",
       "      <td>0</td>\n",
       "    </tr>\n",
       "    <tr>\n",
       "      <th>33</th>\n",
       "      <td>ANREDE_KZ</td>\n",
       "      <td>gender</td>\n",
       "      <td>-1, 0</td>\n",
       "    </tr>\n",
       "    <tr>\n",
       "      <th>40</th>\n",
       "      <td>BALLRAUM</td>\n",
       "      <td>distance to next urban centre</td>\n",
       "      <td>-1</td>\n",
       "    </tr>\n",
       "  </tbody>\n",
       "</table>\n",
       "</div>"
      ],
      "text/plain": [
       "               Attribute                                   Description  \\\n",
       "0               AGER_TYP                            best-ager typology   \n",
       "5   ALTERSKATEGORIE_GROB  age classification through prename analysis    \n",
       "11              ALTER_HH                 main age within the household   \n",
       "33             ANREDE_KZ                                        gender   \n",
       "40              BALLRAUM                distance to next urban centre    \n",
       "\n",
       "   Missing values code  \n",
       "0                   -1  \n",
       "5                -1, 0  \n",
       "11                   0  \n",
       "33               -1, 0  \n",
       "40                  -1  "
      ]
     },
     "execution_count": 75,
     "metadata": {},
     "output_type": "execute_result"
    }
   ],
   "source": [
    "# Step 2: For each attribute, find the value for missing information.\n",
    "# We are going to search for values where the meaning is \"unknown\"\n",
    "pattern = r'unknown'\n",
    "missing_codes = attributes[attributes['Meaning'].str.contains(pattern, flags = re.I)]\n",
    "\n",
    "# also, drop the 'Meaning' column\n",
    "missing_codes = missing_codes[['Attribute', 'Description', 'Value']]\n",
    "missing_codes.rename(columns = {'Value': 'Missing values code'}, inplace = True)\n",
    "missing_codes.head()"
   ]
  },
  {
   "cell_type": "code",
   "execution_count": 76,
   "metadata": {},
   "outputs": [
    {
     "data": {
      "text/plain": [
       "['MIN_GEBAEUDEJAHR',\n",
       " 'GEBURTSJAHR',\n",
       " 'D19_BEKLEIDUNG_REST_RZ',\n",
       " 'D19_KOSMETIK_RZ',\n",
       " 'D19_VERSI_ANZ_12']"
      ]
     },
     "execution_count": 76,
     "metadata": {},
     "output_type": "execute_result"
    }
   ],
   "source": [
    "# Step 3: We are going to find those attributes which values do not match the previous searching patterns\n",
    "all_attributes = set(attributes['Attribute'].unique())\n",
    "selected_attributes = set(missing_codes['Attribute'].unique())\n",
    "\n",
    "# Set of attributes without a code for missing values\n",
    "no_code = list(all_attributes - selected_attributes)\n",
    "\n",
    "no_code[:5]"
   ]
  },
  {
   "cell_type": "markdown",
   "metadata": {},
   "source": [
    "By manually inspecting each of this attributes we make sure that they indeed do not have a specific value for missing values, with many of them being numerical values."
   ]
  },
  {
   "cell_type": "code",
   "execution_count": 77,
   "metadata": {},
   "outputs": [],
   "source": [
    "# Step 4: Adding the attributes without a missing code\n",
    "#attributes[attributes['Attribute'].isin(no_code) and attributes['Description'].notnull()]\n",
    "\n",
    "for attr in no_code:\n",
    "    temp_df = attributes[attributes['Attribute'] == attr]\n",
    "    row = temp_df.iloc[0, 0:2]\n",
    "    missing_codes = missing_codes.append(row)\n",
    "    \n",
    "missing_codes.sort_index(inplace = True)"
   ]
  },
  {
   "cell_type": "code",
   "execution_count": 78,
   "metadata": {},
   "outputs": [],
   "source": [
    "def str2list(string):\n",
    "    \"\"\"Receives a string in the form: '-1, 0'\n",
    "    and returns a list like [-1, 0]\"\"\"\n",
    "    if type(string) == str:\n",
    "        aux = string.split(', ')\n",
    "        return [int(x) for x in aux]\n",
    "    elif type(string) == int: # already an integer\n",
    "        return string\n",
    "    elif np.isnan(string):\n",
    "        return string\n",
    "    else:\n",
    "        print('Weird case: ', string)\n",
    "        assert False"
   ]
  },
  {
   "cell_type": "code",
   "execution_count": 79,
   "metadata": {},
   "outputs": [],
   "source": [
    "# Step 5: Converting the 'Value' column to lists and adding the 'information level' column to each attribute\n",
    "missing_codes['Missing values code'] = missing_codes['Missing values code'].map(str2list)"
   ]
  },
  {
   "cell_type": "code",
   "execution_count": 80,
   "metadata": {},
   "outputs": [
    {
     "data": {
      "text/plain": [
       "0            -1\n",
       "5       [-1, 0]\n",
       "11            0\n",
       "33      [-1, 0]\n",
       "36          NaN\n",
       "         ...   \n",
       "2219    [-1, 0]\n",
       "2229         -1\n",
       "2238    [-1, 0]\n",
       "2244    [-1, 0]\n",
       "2251    [-1, 9]\n",
       "Name: Missing values code, Length: 314, dtype: object"
      ]
     },
     "execution_count": 80,
     "metadata": {},
     "output_type": "execute_result"
    }
   ],
   "source": [
    "missing_codes['Missing values code']"
   ]
  },
  {
   "cell_type": "code",
   "execution_count": 81,
   "metadata": {},
   "outputs": [
    {
     "data": {
      "text/html": [
       "<div>\n",
       "<style scoped>\n",
       "    .dataframe tbody tr th:only-of-type {\n",
       "        vertical-align: middle;\n",
       "    }\n",
       "\n",
       "    .dataframe tbody tr th {\n",
       "        vertical-align: top;\n",
       "    }\n",
       "\n",
       "    .dataframe thead th {\n",
       "        text-align: right;\n",
       "    }\n",
       "</style>\n",
       "<table border=\"1\" class=\"dataframe\">\n",
       "  <thead>\n",
       "    <tr style=\"text-align: right;\">\n",
       "      <th></th>\n",
       "      <th>Description</th>\n",
       "      <th>Missing values code</th>\n",
       "      <th>Information level</th>\n",
       "    </tr>\n",
       "    <tr>\n",
       "      <th>Attribute</th>\n",
       "      <th></th>\n",
       "      <th></th>\n",
       "      <th></th>\n",
       "    </tr>\n",
       "  </thead>\n",
       "  <tbody>\n",
       "    <tr>\n",
       "      <th>AGER_TYP</th>\n",
       "      <td>best-ager typology</td>\n",
       "      <td>-1</td>\n",
       "      <td>Person</td>\n",
       "    </tr>\n",
       "    <tr>\n",
       "      <th>ALTERSKATEGORIE_GROB</th>\n",
       "      <td>age classification through prename analysis</td>\n",
       "      <td>[-1, 0]</td>\n",
       "      <td>Person</td>\n",
       "    </tr>\n",
       "    <tr>\n",
       "      <th>ALTER_HH</th>\n",
       "      <td>main age within the household</td>\n",
       "      <td>0</td>\n",
       "      <td>Household</td>\n",
       "    </tr>\n",
       "    <tr>\n",
       "      <th>ANREDE_KZ</th>\n",
       "      <td>gender</td>\n",
       "      <td>[-1, 0]</td>\n",
       "      <td>Person</td>\n",
       "    </tr>\n",
       "    <tr>\n",
       "      <th>ANZ_HAUSHALTE_AKTIV</th>\n",
       "      <td>number of households in the building</td>\n",
       "      <td>NaN</td>\n",
       "      <td>Building</td>\n",
       "    </tr>\n",
       "    <tr>\n",
       "      <th>...</th>\n",
       "      <td>...</td>\n",
       "      <td>...</td>\n",
       "      <td>...</td>\n",
       "    </tr>\n",
       "    <tr>\n",
       "      <th>WOHNDAUER_2008</th>\n",
       "      <td>length of residence</td>\n",
       "      <td>[-1, 0]</td>\n",
       "      <td>Household</td>\n",
       "    </tr>\n",
       "    <tr>\n",
       "      <th>WOHNLAGE</th>\n",
       "      <td>residential-area</td>\n",
       "      <td>-1</td>\n",
       "      <td>Building</td>\n",
       "    </tr>\n",
       "    <tr>\n",
       "      <th>WACHSTUMSGEBIET_NB</th>\n",
       "      <td>growing area (population growth in the last 5 ...</td>\n",
       "      <td>[-1, 0]</td>\n",
       "      <td>Microcell (RR3_ID)</td>\n",
       "    </tr>\n",
       "    <tr>\n",
       "      <th>W_KEIT_KIND_HH</th>\n",
       "      <td>likelihood of a child present in this household</td>\n",
       "      <td>[-1, 0]</td>\n",
       "      <td>Household</td>\n",
       "    </tr>\n",
       "    <tr>\n",
       "      <th>ZABEOTYP</th>\n",
       "      <td>typification of energy consumers</td>\n",
       "      <td>[-1, 9]</td>\n",
       "      <td>Person</td>\n",
       "    </tr>\n",
       "  </tbody>\n",
       "</table>\n",
       "<p>314 rows × 3 columns</p>\n",
       "</div>"
      ],
      "text/plain": [
       "                                                            Description  \\\n",
       "Attribute                                                                 \n",
       "AGER_TYP                                             best-ager typology   \n",
       "ALTERSKATEGORIE_GROB       age classification through prename analysis    \n",
       "ALTER_HH                                  main age within the household   \n",
       "ANREDE_KZ                                                        gender   \n",
       "ANZ_HAUSHALTE_AKTIV                number of households in the building   \n",
       "...                                                                 ...   \n",
       "WOHNDAUER_2008                                      length of residence   \n",
       "WOHNLAGE                                              residential-area    \n",
       "WACHSTUMSGEBIET_NB    growing area (population growth in the last 5 ...   \n",
       "W_KEIT_KIND_HH          likelihood of a child present in this household   \n",
       "ZABEOTYP                               typification of energy consumers   \n",
       "\n",
       "                     Missing values code   Information level  \n",
       "Attribute                                                     \n",
       "AGER_TYP                              -1              Person  \n",
       "ALTERSKATEGORIE_GROB             [-1, 0]              Person  \n",
       "ALTER_HH                               0           Household  \n",
       "ANREDE_KZ                        [-1, 0]              Person  \n",
       "ANZ_HAUSHALTE_AKTIV                  NaN            Building  \n",
       "...                                  ...                 ...  \n",
       "WOHNDAUER_2008                   [-1, 0]           Household  \n",
       "WOHNLAGE                              -1            Building  \n",
       "WACHSTUMSGEBIET_NB               [-1, 0]  Microcell (RR3_ID)  \n",
       "W_KEIT_KIND_HH                   [-1, 0]           Household  \n",
       "ZABEOTYP                         [-1, 9]              Person  \n",
       "\n",
       "[314 rows x 3 columns]"
      ]
     },
     "execution_count": 81,
     "metadata": {},
     "output_type": "execute_result"
    }
   ],
   "source": [
    "# Set the 'Attribute' column as index. This would reduce the lenght of the following code\n",
    "missing_codes.set_index('Attribute', inplace = True)\n",
    "info_levels.set_index('Attribute', inplace = True)\n",
    "\n",
    "# Adding the 'Information level' column by merging dataframes by index\n",
    "attributes_info = pd.merge(left = missing_codes, right = info_levels['Information level'], how = 'left', left_index = True, right_index = True)\n",
    "\n",
    "attributes_info"
   ]
  },
  {
   "cell_type": "markdown",
   "metadata": {},
   "source": [
    "**Saving attributes_info file**"
   ]
  },
  {
   "cell_type": "code",
   "execution_count": 82,
   "metadata": {},
   "outputs": [],
   "source": [
    "attributes_info.to_csv('data/attributes_info.csv')"
   ]
  },
  {
   "cell_type": "markdown",
   "metadata": {},
   "source": [
    "#### Reading attributes_info file\n",
    "\n",
    "The following cell should be uncommented in cases where we want to start from the `attributes_info.csv` rather than generating it from scratch."
   ]
  },
  {
   "cell_type": "code",
   "execution_count": 83,
   "metadata": {},
   "outputs": [],
   "source": [
    "# # Function for casting column values\n",
    "# def cast_values(value):\n",
    "#     if type(value) == str:\n",
    "#         if value[0] == '[':\n",
    "#             return [int(x) for x in value[1:-1].split(',')]\n",
    "#         else:\n",
    "#             return int(value)\n",
    "#     else:\n",
    "#         return value\n",
    "\n",
    "# attributes_info = pd.read_csv('data/attributes_info.csv', index_col = 0) \n",
    "\n",
    "# # Casting values\n",
    "# attributes_info['Missing values code'] = attributes_info['Missing values code'].apply(cast_values)\n",
    "\n",
    "# attributes_info "
   ]
  },
  {
   "cell_type": "markdown",
   "metadata": {},
   "source": [
    "**Replacing code for missing values** in the `azdias` and the `customers` dataframes."
   ]
  },
  {
   "cell_type": "code",
   "execution_count": 84,
   "metadata": {},
   "outputs": [],
   "source": [
    "for att in attributes_info.index:\n",
    "    code = attributes_info.loc[att, 'Missing values code']\n",
    "    if type(code) in [int, list]:\n",
    "        try:   #Some attributes do not appear in the actual dataframes...\n",
    "            azdias[att] = azdias[att].replace(code, np.nan)\n",
    "            customers[att] = customers[att].replace(code, np.nan)\n",
    "        except:\n",
    "            continue"
   ]
  },
  {
   "cell_type": "markdown",
   "metadata": {},
   "source": [
    "### Comparing the percentage of missing values\n",
    "\n",
    "Now that the codes for missing values are recognized as such, we can proceed to count again the number of missing values."
   ]
  },
  {
   "cell_type": "code",
   "execution_count": 86,
   "metadata": {},
   "outputs": [
    {
     "name": "stdout",
     "output_type": "stream",
     "text": [
      "Initial missing values: 10.2682451188427 %\n",
      "Actual missing values:11.370249569138105 %\n"
     ]
    },
    {
     "data": {
      "text/plain": [
       "<AxesSubplot:>"
      ]
     },
     "execution_count": 86,
     "metadata": {},
     "output_type": "execute_result"
    },
    {
     "data": {
      "image/png": "[encoded data removed]",
      "text/plain": [
       "<Figure size 720x432 with 1 Axes>"
      ]
     },
     "metadata": {
      "needs_background": "light"
     },
     "output_type": "display_data"
    }
   ],
   "source": [
    "azdias_missing_values = azdias.isnull().sum()\n",
    "percentage_missing_values = azdias_missing_values.sort_values(ascending = False) / azdias.shape[0] * 100\n",
    "\n",
    "current_az_missing = azdias.isnull().sum().sum()\n",
    "\n",
    "print('Initial missing values: {} %\\nActual missing values:{} %'.format(initial_az_missing / all_az_values * 100,\n",
    "                                                                        current_az_missing / all_az_values * 100))\n",
    "# Plotting Top 30 features with missing values\n",
    "plt.figure(figsize = (10, 6))\n",
    "percentage_missing_values[:30].plot.bar()"
   ]
  },
  {
   "cell_type": "code",
   "execution_count": 87,
   "metadata": {},
   "outputs": [
    {
     "name": "stdout",
     "output_type": "stream",
     "text": [
      "Initial missing values: 19.605281071490406 %\n",
      "Actual missing values:20.48756420922588 %\n"
     ]
    },
    {
     "data": {
      "text/plain": [
       "<AxesSubplot:>"
      ]
     },
     "execution_count": 87,
     "metadata": {},
     "output_type": "execute_result"
    },
    {
     "data": {
      "image/png": "[encoded data removed]",
      "text/plain": [
       "<Figure size 720x432 with 1 Axes>"
      ]
     },
     "metadata": {
      "needs_background": "light"
     },
     "output_type": "display_data"
    }
   ],
   "source": [
    "customers_missing_values = customers.isnull().sum()\n",
    "percentage_missing_values = customers_missing_values.sort_values(ascending = False) / customers.shape[0] * 100\n",
    "\n",
    "current_cu_missing = customers.isnull().sum().sum()\n",
    "\n",
    "print('Initial missing values: {} %\\nActual missing values:{} %'.format(initial_cu_missing / all_cu_values * 100,\n",
    "                                                                        current_cu_missing / all_cu_values * 100))\n",
    "\n",
    "# Plotting Top 30 features with missing values\n",
    "plt.figure(figsize = (10, 6))\n",
    "percentage_missing_values[:30].plot.bar()"
   ]
  },
  {
   "cell_type": "markdown",
   "metadata": {},
   "source": [
    "The number of missing values increase with respect to the original dataset (by 3,594,594 in `azdias` and in `customers`). According to the plot above, we now have 9 columns with more than 40% missing values. These columns will be eliminated from the dataset:\n",
    "\n",
    "- `ALTER_KIND1-4`: No description found\n",
    "- `TITEL_KZ`: \"*Flag wheter a person holds an academic title*\"\n",
    "- `AGER_TYP`: \"*Best-ager typology\"*. Besides, there are other features regarding the age of the subjects.\n",
    "- `EXTSEL992`: No description found\n",
    "- `KK_KUNDENTYP`: No description found\n",
    "- `KBA05_BAUMAX`: Most common building-type within the cell"
   ]
  },
  {
   "cell_type": "markdown",
   "metadata": {},
   "source": [
    "### Dropping columns\n",
    "\n",
    "The following columns will be directly dropped after a quick analysis"
   ]
  },
  {
   "cell_type": "code",
   "execution_count": 88,
   "metadata": {},
   "outputs": [],
   "source": [
    "azdias.drop(['ALTER_KIND1', 'ALTER_KIND2', 'ALTER_KIND3', 'ALTER_KIND4', \n",
    "                'TITEL_KZ', 'AGER_TYP', 'EXTSEL992', 'KK_KUNDENTYP', 'KBA05_BAUMAX'], axis = 1, inplace = True)\n",
    "\n",
    "customers.drop(['ALTER_KIND1', 'ALTER_KIND2', 'ALTER_KIND3', 'ALTER_KIND4', \n",
    "                'TITEL_KZ', 'AGER_TYP', 'EXTSEL992', 'KK_KUNDENTYP', 'KBA05_BAUMAX'], axis = 1, inplace = True)"
   ]
  },
  {
   "cell_type": "markdown",
   "metadata": {},
   "source": [
    "**LNR**\n",
    "\n",
    "`LNR`is the ID number for each subject. We'll keep it..."
   ]
  },
  {
   "cell_type": "markdown",
   "metadata": {},
   "source": [
    "**Dropping D19_LETZTER_KAUF_BRANCHE**"
   ]
  },
  {
   "cell_type": "code",
   "execution_count": 89,
   "metadata": {},
   "outputs": [],
   "source": [
    "customers.drop('D19_LETZTER_KAUF_BRANCHE', axis = 1, inplace = True)\n",
    "\n",
    "azdias.drop('D19_LETZTER_KAUF_BRANCHE', axis = 1, inplace = True)"
   ]
  },
  {
   "cell_type": "markdown",
   "metadata": {},
   "source": [
    "# Feature engineering"
   ]
  },
  {
   "cell_type": "markdown",
   "metadata": {},
   "source": [
    "### Distribution of attributes\n",
    "\n",
    "The following graph shows the distribution of the type of attributes in the datasets."
   ]
  },
  {
   "cell_type": "code",
   "execution_count": 437,
   "metadata": {},
   "outputs": [
    {
     "data": {
      "image/png": "[encoded data removed]",
      "text/plain": [
       "<Figure size 432x288 with 1 Axes>"
      ]
     },
     "metadata": {},
     "output_type": "display_data"
    }
   ],
   "source": [
    "# Plot of number of features per information level  (pie)\n",
    "att_per_infolevel = attributes_info.reset_index().groupby('Information level').count().sort_values(by = 'Attribute', ascending = False)\n",
    "\n",
    "att_per_infolevel['Attribute'].plot.pie()\n",
    "plt.ylabel('');"
   ]
  },
  {
   "cell_type": "markdown",
   "metadata": {},
   "source": [
    "**Auxiliar function to analyze attributes**"
   ]
  },
  {
   "cell_type": "code",
   "execution_count": 438,
   "metadata": {},
   "outputs": [],
   "source": [
    "def general_attribute_info (attribute_name):\n",
    "    \"Given an attribute label it returns the percentage of missing values and the frequency of each value\"\n",
    "    if attribute_name in azdias.columns and attribute_name in customers.columns:\n",
    "        print('Percentage of missing values in customers {:.5f} %'.format(customers[attribute_name].isnull().sum() / customers.shape[0] * 100))\n",
    "        print('Percentage of missing values in azdias {:.5f} %'.format(azdias[attribute_name].isnull().sum() / azdias.shape[0] * 100))\n",
    "        print('\\nFrequencies in azdias:')\n",
    "        display(azdias[attribute_name].value_counts(dropna = False))\n",
    "        print('\\nFrequencies in customers:')\n",
    "        display(customers[attribute_name].value_counts(dropna = False))\n",
    "    else:\n",
    "        print('Attribute not in datasets')"
   ]
  },
  {
   "cell_type": "markdown",
   "metadata": {},
   "source": [
    "### PLZ8\n",
    "\n",
    "The `PLZ8` type of attribute is clearly the most common one. \n",
    "\n",
    "Within the `PLZ8` class of attributes there are attributes starting with `'KBA'` which refer to the share of cars with very specific characteristics (too specific...). This attributes will be discarded for our analysis, because, even though the characteristics of cars can provide financial information, we have other attributes with more clear financial information. "
   ]
  },
  {
   "cell_type": "code",
   "execution_count": 439,
   "metadata": {},
   "outputs": [
    {
     "data": {
      "text/html": [
       "<div>\n",
       "<style scoped>\n",
       "    .dataframe tbody tr th:only-of-type {\n",
       "        vertical-align: middle;\n",
       "    }\n",
       "\n",
       "    .dataframe tbody tr th {\n",
       "        vertical-align: top;\n",
       "    }\n",
       "\n",
       "    .dataframe thead th {\n",
       "        text-align: right;\n",
       "    }\n",
       "</style>\n",
       "<table border=\"1\" class=\"dataframe\">\n",
       "  <thead>\n",
       "    <tr style=\"text-align: right;\">\n",
       "      <th></th>\n",
       "      <th>Description</th>\n",
       "      <th>Missing values code</th>\n",
       "      <th>Information level</th>\n",
       "    </tr>\n",
       "    <tr>\n",
       "      <th>Attribute</th>\n",
       "      <th></th>\n",
       "      <th></th>\n",
       "      <th></th>\n",
       "    </tr>\n",
       "  </thead>\n",
       "  <tbody>\n",
       "    <tr>\n",
       "      <th>KBA13_ALTERHALTER_30</th>\n",
       "      <td>share of car owners below 31 within the PLZ8</td>\n",
       "      <td>-1</td>\n",
       "      <td>PLZ8</td>\n",
       "    </tr>\n",
       "    <tr>\n",
       "      <th>KBA13_ALTERHALTER_45</th>\n",
       "      <td>share of car owners between 31 and 45 within t...</td>\n",
       "      <td>-1</td>\n",
       "      <td>PLZ8</td>\n",
       "    </tr>\n",
       "    <tr>\n",
       "      <th>KBA13_ALTERHALTER_60</th>\n",
       "      <td>share of car owners between 46 and 60 within t...</td>\n",
       "      <td>-1</td>\n",
       "      <td>PLZ8</td>\n",
       "    </tr>\n",
       "    <tr>\n",
       "      <th>KBA13_ALTERHALTER_61</th>\n",
       "      <td>share of car owners elder than 61 within the PLZ8</td>\n",
       "      <td>-1</td>\n",
       "      <td>PLZ8</td>\n",
       "    </tr>\n",
       "    <tr>\n",
       "      <th>KBA13_ANZAHL_PKW</th>\n",
       "      <td>number of cars in the PLZ8</td>\n",
       "      <td>NaN</td>\n",
       "      <td>PLZ8</td>\n",
       "    </tr>\n",
       "    <tr>\n",
       "      <th>...</th>\n",
       "      <td>...</td>\n",
       "      <td>...</td>\n",
       "      <td>...</td>\n",
       "    </tr>\n",
       "    <tr>\n",
       "      <th>PLZ8_ANTG3</th>\n",
       "      <td>number of 6-10 family houses in the PLZ8</td>\n",
       "      <td>-1</td>\n",
       "      <td>PLZ8</td>\n",
       "    </tr>\n",
       "    <tr>\n",
       "      <th>PLZ8_ANTG4</th>\n",
       "      <td>number of &gt;10 family houses in the PLZ8</td>\n",
       "      <td>-1</td>\n",
       "      <td>PLZ8</td>\n",
       "    </tr>\n",
       "    <tr>\n",
       "      <th>PLZ8_BAUMAX</th>\n",
       "      <td>most common building-type within the PLZ8</td>\n",
       "      <td>NaN</td>\n",
       "      <td>PLZ8</td>\n",
       "    </tr>\n",
       "    <tr>\n",
       "      <th>PLZ8_GBZ</th>\n",
       "      <td>number of buildings within the PLZ8</td>\n",
       "      <td>-1</td>\n",
       "      <td>PLZ8</td>\n",
       "    </tr>\n",
       "    <tr>\n",
       "      <th>PLZ8_HHZ</th>\n",
       "      <td>number of households within the PLZ8</td>\n",
       "      <td>-1</td>\n",
       "      <td>PLZ8</td>\n",
       "    </tr>\n",
       "  </tbody>\n",
       "</table>\n",
       "<p>113 rows × 3 columns</p>\n",
       "</div>"
      ],
      "text/plain": [
       "                                                            Description  \\\n",
       "Attribute                                                                 \n",
       "KBA13_ALTERHALTER_30       share of car owners below 31 within the PLZ8   \n",
       "KBA13_ALTERHALTER_45  share of car owners between 31 and 45 within t...   \n",
       "KBA13_ALTERHALTER_60  share of car owners between 46 and 60 within t...   \n",
       "KBA13_ALTERHALTER_61  share of car owners elder than 61 within the PLZ8   \n",
       "KBA13_ANZAHL_PKW                             number of cars in the PLZ8   \n",
       "...                                                                 ...   \n",
       "PLZ8_ANTG3                     number of 6-10 family houses in the PLZ8   \n",
       "PLZ8_ANTG4                      number of >10 family houses in the PLZ8   \n",
       "PLZ8_BAUMAX                   most common building-type within the PLZ8   \n",
       "PLZ8_GBZ                            number of buildings within the PLZ8   \n",
       "PLZ8_HHZ                           number of households within the PLZ8   \n",
       "\n",
       "                     Missing values code Information level  \n",
       "Attribute                                                   \n",
       "KBA13_ALTERHALTER_30                  -1              PLZ8  \n",
       "KBA13_ALTERHALTER_45                  -1              PLZ8  \n",
       "KBA13_ALTERHALTER_60                  -1              PLZ8  \n",
       "KBA13_ALTERHALTER_61                  -1              PLZ8  \n",
       "KBA13_ANZAHL_PKW                     NaN              PLZ8  \n",
       "...                                  ...               ...  \n",
       "PLZ8_ANTG3                            -1              PLZ8  \n",
       "PLZ8_ANTG4                            -1              PLZ8  \n",
       "PLZ8_BAUMAX                          NaN              PLZ8  \n",
       "PLZ8_GBZ                              -1              PLZ8  \n",
       "PLZ8_HHZ                              -1              PLZ8  \n",
       "\n",
       "[113 rows x 3 columns]"
      ]
     },
     "execution_count": 439,
     "metadata": {},
     "output_type": "execute_result"
    }
   ],
   "source": [
    "attributes_info[attributes_info['Information level'] == 'PLZ8']"
   ]
  },
  {
   "cell_type": "code",
   "execution_count": 440,
   "metadata": {},
   "outputs": [],
   "source": [
    "columns_to_drop = list(attributes_info[attributes_info['Information level'] == 'PLZ8'].iloc[:-7].index) + list(attributes_info[attributes_info['Information level'] == 'PLZ8'].iloc[-3:].index)\n",
    "\n",
    "columns_to_drop = list( set(columns_to_drop).intersection(set(customers.columns)) )\n",
    "\n",
    "customers.drop(columns_to_drop, axis = 1, inplace = True)\n",
    "azdias.drop(columns_to_drop, axis = 1, inplace = True)"
   ]
  },
  {
   "cell_type": "markdown",
   "metadata": {},
   "source": [
    "The attributes `PLZ8_ANTG1-4` provide information about family houses in a certain zone, this information can be interesting for our analysis and therefore they will be keep. The missing values in such columns will be imputed with the most frequent value."
   ]
  },
  {
   "cell_type": "code",
   "execution_count": 441,
   "metadata": {},
   "outputs": [],
   "source": [
    "for col in ['PLZ8_ANTG1', 'PLZ8_ANTG2', 'PLZ8_ANTG3', 'PLZ8_ANTG4']:\n",
    "    customers[col].fillna(customers[col].mode().values[0], inplace = True)\n",
    "    azdias[col].fillna(azdias[col].mode().values[0], inplace = True)"
   ]
  },
  {
   "cell_type": "markdown",
   "metadata": {},
   "source": [
    "### Microcell (RR3_ID)\n",
    "\n",
    "This type of attributes also accounts for very specific information about the cars of certain area. We will also drop these columns for our analysis."
   ]
  },
  {
   "cell_type": "code",
   "execution_count": 442,
   "metadata": {},
   "outputs": [],
   "source": [
    "columns_to_drop = list(attributes_info[attributes_info['Information level'] == 'Microcell (RR3_ID)'].index)\n",
    "columns_to_drop = list( set(columns_to_drop).intersection(set(azdias.columns)) )\n",
    "\n",
    "customers.drop(columns_to_drop, axis = 1, inplace = True)\n",
    "azdias.drop(columns_to_drop, axis = 1, inplace = True)"
   ]
  },
  {
   "cell_type": "code",
   "execution_count": 443,
   "metadata": {},
   "outputs": [],
   "source": [
    "# These features also refer to specifications of cars\n",
    "cols = ['KBA05_ALTER1', 'KBA05_ALTER2', 'KBA05_ALTER3', 'KBA05_ALTER4', 'KBA05_ANHANG', 'KBA05_ANTG1', 'KBA05_ANTG2', 'KBA05_ANTG3', 'KBA05_ANTG4']\n",
    "customers.drop(cols, axis = 1, inplace = True)\n",
    "azdias.drop(cols, axis = 1, inplace = True)"
   ]
  },
  {
   "cell_type": "markdown",
   "metadata": {},
   "source": [
    "## Person\n",
    "\n",
    "This class of attributes will probably be one of the most relevant ones, because it includes personal information like age, health, social and financial status, and others. \n",
    "\n",
    "Since this features will probably be very useful for our predictions we are going to carefully engineer each feature.\n"
   ]
  },
  {
   "cell_type": "code",
   "execution_count": 444,
   "metadata": {},
   "outputs": [
    {
     "data": {
      "text/html": [
       "<div>\n",
       "<style scoped>\n",
       "    .dataframe tbody tr th:only-of-type {\n",
       "        vertical-align: middle;\n",
       "    }\n",
       "\n",
       "    .dataframe tbody tr th {\n",
       "        vertical-align: top;\n",
       "    }\n",
       "\n",
       "    .dataframe thead th {\n",
       "        text-align: right;\n",
       "    }\n",
       "</style>\n",
       "<table border=\"1\" class=\"dataframe\">\n",
       "  <thead>\n",
       "    <tr style=\"text-align: right;\">\n",
       "      <th></th>\n",
       "      <th>Description</th>\n",
       "      <th>Missing values code</th>\n",
       "      <th>Information level</th>\n",
       "    </tr>\n",
       "    <tr>\n",
       "      <th>Attribute</th>\n",
       "      <th></th>\n",
       "      <th></th>\n",
       "      <th></th>\n",
       "    </tr>\n",
       "  </thead>\n",
       "  <tbody>\n",
       "    <tr>\n",
       "      <th>ALTERSKATEGORIE_GROB</th>\n",
       "      <td>age classification through prename analysis</td>\n",
       "      <td>[-1, 0]</td>\n",
       "      <td>Person</td>\n",
       "    </tr>\n",
       "    <tr>\n",
       "      <th>ANREDE_KZ</th>\n",
       "      <td>gender</td>\n",
       "      <td>[-1, 0]</td>\n",
       "      <td>Person</td>\n",
       "    </tr>\n",
       "    <tr>\n",
       "      <th>CJT_GESAMTTYP</th>\n",
       "      <td>customer journey typology</td>\n",
       "      <td>0</td>\n",
       "      <td>Person</td>\n",
       "    </tr>\n",
       "    <tr>\n",
       "      <th>FINANZTYP</th>\n",
       "      <td>best descirbing financial type for the person</td>\n",
       "      <td>-1</td>\n",
       "      <td>Person</td>\n",
       "    </tr>\n",
       "    <tr>\n",
       "      <th>FINANZ_ANLEGER</th>\n",
       "      <td>financial typology: investor</td>\n",
       "      <td>-1</td>\n",
       "      <td>Person</td>\n",
       "    </tr>\n",
       "    <tr>\n",
       "      <th>FINANZ_HAUSBAUER</th>\n",
       "      <td>financial typology: main focus is the own house</td>\n",
       "      <td>-1</td>\n",
       "      <td>Person</td>\n",
       "    </tr>\n",
       "    <tr>\n",
       "      <th>FINANZ_MINIMALIST</th>\n",
       "      <td>financial typology: low financial interest</td>\n",
       "      <td>-1</td>\n",
       "      <td>Person</td>\n",
       "    </tr>\n",
       "    <tr>\n",
       "      <th>FINANZ_SPARER</th>\n",
       "      <td>financial typology: money saver</td>\n",
       "      <td>-1</td>\n",
       "      <td>Person</td>\n",
       "    </tr>\n",
       "    <tr>\n",
       "      <th>FINANZ_UNAUFFAELLIGER</th>\n",
       "      <td>financial typology: unremarkable</td>\n",
       "      <td>-1</td>\n",
       "      <td>Person</td>\n",
       "    </tr>\n",
       "    <tr>\n",
       "      <th>FINANZ_VORSORGER</th>\n",
       "      <td>financial typology: be prepared</td>\n",
       "      <td>-1</td>\n",
       "      <td>Person</td>\n",
       "    </tr>\n",
       "    <tr>\n",
       "      <th>GEBURTSJAHR</th>\n",
       "      <td>year of birth</td>\n",
       "      <td>NaN</td>\n",
       "      <td>Person</td>\n",
       "    </tr>\n",
       "    <tr>\n",
       "      <th>GFK_URLAUBERTYP</th>\n",
       "      <td>vacation habits</td>\n",
       "      <td>NaN</td>\n",
       "      <td>Person</td>\n",
       "    </tr>\n",
       "    <tr>\n",
       "      <th>GREEN_AVANTGARDE</th>\n",
       "      <td>Green avantgarde</td>\n",
       "      <td>NaN</td>\n",
       "      <td>Person</td>\n",
       "    </tr>\n",
       "    <tr>\n",
       "      <th>HEALTH_TYP</th>\n",
       "      <td>health typology</td>\n",
       "      <td>-1</td>\n",
       "      <td>Person</td>\n",
       "    </tr>\n",
       "    <tr>\n",
       "      <th>LP_FAMILIE_FEIN</th>\n",
       "      <td>familytyp fine</td>\n",
       "      <td>NaN</td>\n",
       "      <td>Person</td>\n",
       "    </tr>\n",
       "    <tr>\n",
       "      <th>LP_FAMILIE_GROB</th>\n",
       "      <td>familytyp rough</td>\n",
       "      <td>NaN</td>\n",
       "      <td>Person</td>\n",
       "    </tr>\n",
       "    <tr>\n",
       "      <th>LP_LEBENSPHASE_FEIN</th>\n",
       "      <td>lifestage fine</td>\n",
       "      <td>NaN</td>\n",
       "      <td>Person</td>\n",
       "    </tr>\n",
       "    <tr>\n",
       "      <th>LP_LEBENSPHASE_GROB</th>\n",
       "      <td>lifestage rough</td>\n",
       "      <td>NaN</td>\n",
       "      <td>Person</td>\n",
       "    </tr>\n",
       "    <tr>\n",
       "      <th>LP_STATUS_FEIN</th>\n",
       "      <td>social status fine</td>\n",
       "      <td>NaN</td>\n",
       "      <td>Person</td>\n",
       "    </tr>\n",
       "    <tr>\n",
       "      <th>LP_STATUS_GROB</th>\n",
       "      <td>social status rough</td>\n",
       "      <td>NaN</td>\n",
       "      <td>Person</td>\n",
       "    </tr>\n",
       "    <tr>\n",
       "      <th>NATIONALITAET_KZ</th>\n",
       "      <td>nationaltity (scored by prename analysis)</td>\n",
       "      <td>[-1, 0]</td>\n",
       "      <td>Person</td>\n",
       "    </tr>\n",
       "    <tr>\n",
       "      <th>PRAEGENDE_JUGENDJAHRE</th>\n",
       "      <td>dominating movement in the person's youth (ava...</td>\n",
       "      <td>[-1, 0]</td>\n",
       "      <td>Person</td>\n",
       "    </tr>\n",
       "    <tr>\n",
       "      <th>RETOURTYP_BK_S</th>\n",
       "      <td>return type</td>\n",
       "      <td>0</td>\n",
       "      <td>Person</td>\n",
       "    </tr>\n",
       "    <tr>\n",
       "      <th>SEMIO_DOM</th>\n",
       "      <td>affinity indicating in what way the person is ...</td>\n",
       "      <td>[-1, 9]</td>\n",
       "      <td>Person</td>\n",
       "    </tr>\n",
       "    <tr>\n",
       "      <th>SEMIO_ERL</th>\n",
       "      <td>affinity indicating in what way the person is ...</td>\n",
       "      <td>[-1, 9]</td>\n",
       "      <td>Person</td>\n",
       "    </tr>\n",
       "    <tr>\n",
       "      <th>SEMIO_FAM</th>\n",
       "      <td>affinity indicating in what way the person is ...</td>\n",
       "      <td>[-1, 9]</td>\n",
       "      <td>Person</td>\n",
       "    </tr>\n",
       "    <tr>\n",
       "      <th>SEMIO_KAEM</th>\n",
       "      <td>affinity indicating in what way the person is ...</td>\n",
       "      <td>[-1, 9]</td>\n",
       "      <td>Person</td>\n",
       "    </tr>\n",
       "    <tr>\n",
       "      <th>SEMIO_KRIT</th>\n",
       "      <td>affinity indicating in what way the person is ...</td>\n",
       "      <td>[-1, 9]</td>\n",
       "      <td>Person</td>\n",
       "    </tr>\n",
       "    <tr>\n",
       "      <th>SEMIO_KULT</th>\n",
       "      <td>affinity indicating in what way the person is ...</td>\n",
       "      <td>[-1, 9]</td>\n",
       "      <td>Person</td>\n",
       "    </tr>\n",
       "    <tr>\n",
       "      <th>SEMIO_LUST</th>\n",
       "      <td>affinity indicating in what way the person is ...</td>\n",
       "      <td>[-1, 9]</td>\n",
       "      <td>Person</td>\n",
       "    </tr>\n",
       "    <tr>\n",
       "      <th>SEMIO_MAT</th>\n",
       "      <td>affinity indicating in what way the person is ...</td>\n",
       "      <td>[-1, 9]</td>\n",
       "      <td>Person</td>\n",
       "    </tr>\n",
       "    <tr>\n",
       "      <th>SEMIO_PFLICHT</th>\n",
       "      <td>affinity indicating in what way the person is ...</td>\n",
       "      <td>[-1, 9]</td>\n",
       "      <td>Person</td>\n",
       "    </tr>\n",
       "    <tr>\n",
       "      <th>SEMIO_RAT</th>\n",
       "      <td>affinity indicating in what way the person is ...</td>\n",
       "      <td>[-1, 9]</td>\n",
       "      <td>Person</td>\n",
       "    </tr>\n",
       "    <tr>\n",
       "      <th>SEMIO_REL</th>\n",
       "      <td>affinity indicating in what way the person is ...</td>\n",
       "      <td>[-1, 9]</td>\n",
       "      <td>Person</td>\n",
       "    </tr>\n",
       "    <tr>\n",
       "      <th>SEMIO_SOZ</th>\n",
       "      <td>affinity indicating in what way the person is ...</td>\n",
       "      <td>[-1, 9]</td>\n",
       "      <td>Person</td>\n",
       "    </tr>\n",
       "    <tr>\n",
       "      <th>SEMIO_TRADV</th>\n",
       "      <td>affinity indicating in what way the person is ...</td>\n",
       "      <td>[-1, 9]</td>\n",
       "      <td>Person</td>\n",
       "    </tr>\n",
       "    <tr>\n",
       "      <th>SEMIO_VERT</th>\n",
       "      <td>affinity indicating in what way the person is ...</td>\n",
       "      <td>[-1, 9]</td>\n",
       "      <td>Person</td>\n",
       "    </tr>\n",
       "    <tr>\n",
       "      <th>SHOPPER_TYP</th>\n",
       "      <td>shopping typology</td>\n",
       "      <td>-1</td>\n",
       "      <td>Person</td>\n",
       "    </tr>\n",
       "    <tr>\n",
       "      <th>SOHO_FLAG</th>\n",
       "      <td>small office/home office flag</td>\n",
       "      <td>-1</td>\n",
       "      <td>Person</td>\n",
       "    </tr>\n",
       "    <tr>\n",
       "      <th>VERS_TYP</th>\n",
       "      <td>insurance typology</td>\n",
       "      <td>-1</td>\n",
       "      <td>Person</td>\n",
       "    </tr>\n",
       "    <tr>\n",
       "      <th>ZABEOTYP</th>\n",
       "      <td>typification of energy consumers</td>\n",
       "      <td>[-1, 9]</td>\n",
       "      <td>Person</td>\n",
       "    </tr>\n",
       "  </tbody>\n",
       "</table>\n",
       "</div>"
      ],
      "text/plain": [
       "                                                             Description  \\\n",
       "Attribute                                                                  \n",
       "ALTERSKATEGORIE_GROB        age classification through prename analysis    \n",
       "ANREDE_KZ                                                         gender   \n",
       "CJT_GESAMTTYP                                  customer journey typology   \n",
       "FINANZTYP                  best descirbing financial type for the person   \n",
       "FINANZ_ANLEGER                              financial typology: investor   \n",
       "FINANZ_HAUSBAUER         financial typology: main focus is the own house   \n",
       "FINANZ_MINIMALIST             financial typology: low financial interest   \n",
       "FINANZ_SPARER                            financial typology: money saver   \n",
       "FINANZ_UNAUFFAELLIGER                   financial typology: unremarkable   \n",
       "FINANZ_VORSORGER                         financial typology: be prepared   \n",
       "GEBURTSJAHR                                                year of birth   \n",
       "GFK_URLAUBERTYP                                          vacation habits   \n",
       "GREEN_AVANTGARDE                                        Green avantgarde   \n",
       "HEALTH_TYP                                               health typology   \n",
       "LP_FAMILIE_FEIN                                           familytyp fine   \n",
       "LP_FAMILIE_GROB                                          familytyp rough   \n",
       "LP_LEBENSPHASE_FEIN                                      lifestage fine    \n",
       "LP_LEBENSPHASE_GROB                                      lifestage rough   \n",
       "LP_STATUS_FEIN                                        social status fine   \n",
       "LP_STATUS_GROB                                       social status rough   \n",
       "NATIONALITAET_KZ               nationaltity (scored by prename analysis)   \n",
       "PRAEGENDE_JUGENDJAHRE  dominating movement in the person's youth (ava...   \n",
       "RETOURTYP_BK_S                                               return type   \n",
       "SEMIO_DOM              affinity indicating in what way the person is ...   \n",
       "SEMIO_ERL              affinity indicating in what way the person is ...   \n",
       "SEMIO_FAM              affinity indicating in what way the person is ...   \n",
       "SEMIO_KAEM             affinity indicating in what way the person is ...   \n",
       "SEMIO_KRIT             affinity indicating in what way the person is ...   \n",
       "SEMIO_KULT             affinity indicating in what way the person is ...   \n",
       "SEMIO_LUST             affinity indicating in what way the person is ...   \n",
       "SEMIO_MAT              affinity indicating in what way the person is ...   \n",
       "SEMIO_PFLICHT          affinity indicating in what way the person is ...   \n",
       "SEMIO_RAT              affinity indicating in what way the person is ...   \n",
       "SEMIO_REL              affinity indicating in what way the person is ...   \n",
       "SEMIO_SOZ              affinity indicating in what way the person is ...   \n",
       "SEMIO_TRADV            affinity indicating in what way the person is ...   \n",
       "SEMIO_VERT             affinity indicating in what way the person is ...   \n",
       "SHOPPER_TYP                                            shopping typology   \n",
       "SOHO_FLAG                                  small office/home office flag   \n",
       "VERS_TYP                                             insurance typology    \n",
       "ZABEOTYP                                typification of energy consumers   \n",
       "\n",
       "                      Missing values code Information level  \n",
       "Attribute                                                    \n",
       "ALTERSKATEGORIE_GROB              [-1, 0]            Person  \n",
       "ANREDE_KZ                         [-1, 0]            Person  \n",
       "CJT_GESAMTTYP                           0            Person  \n",
       "FINANZTYP                              -1            Person  \n",
       "FINANZ_ANLEGER                         -1            Person  \n",
       "FINANZ_HAUSBAUER                       -1            Person  \n",
       "FINANZ_MINIMALIST                      -1            Person  \n",
       "FINANZ_SPARER                          -1            Person  \n",
       "FINANZ_UNAUFFAELLIGER                  -1            Person  \n",
       "FINANZ_VORSORGER                       -1            Person  \n",
       "GEBURTSJAHR                           NaN            Person  \n",
       "GFK_URLAUBERTYP                       NaN            Person  \n",
       "GREEN_AVANTGARDE                      NaN            Person  \n",
       "HEALTH_TYP                             -1            Person  \n",
       "LP_FAMILIE_FEIN                       NaN            Person  \n",
       "LP_FAMILIE_GROB                       NaN            Person  \n",
       "LP_LEBENSPHASE_FEIN                   NaN            Person  \n",
       "LP_LEBENSPHASE_GROB                   NaN            Person  \n",
       "LP_STATUS_FEIN                        NaN            Person  \n",
       "LP_STATUS_GROB                        NaN            Person  \n",
       "NATIONALITAET_KZ                  [-1, 0]            Person  \n",
       "PRAEGENDE_JUGENDJAHRE             [-1, 0]            Person  \n",
       "RETOURTYP_BK_S                          0            Person  \n",
       "SEMIO_DOM                         [-1, 9]            Person  \n",
       "SEMIO_ERL                         [-1, 9]            Person  \n",
       "SEMIO_FAM                         [-1, 9]            Person  \n",
       "SEMIO_KAEM                        [-1, 9]            Person  \n",
       "SEMIO_KRIT                        [-1, 9]            Person  \n",
       "SEMIO_KULT                        [-1, 9]            Person  \n",
       "SEMIO_LUST                        [-1, 9]            Person  \n",
       "SEMIO_MAT                         [-1, 9]            Person  \n",
       "SEMIO_PFLICHT                     [-1, 9]            Person  \n",
       "SEMIO_RAT                         [-1, 9]            Person  \n",
       "SEMIO_REL                         [-1, 9]            Person  \n",
       "SEMIO_SOZ                         [-1, 9]            Person  \n",
       "SEMIO_TRADV                       [-1, 9]            Person  \n",
       "SEMIO_VERT                        [-1, 9]            Person  \n",
       "SHOPPER_TYP                            -1            Person  \n",
       "SOHO_FLAG                              -1            Person  \n",
       "VERS_TYP                               -1            Person  \n",
       "ZABEOTYP                          [-1, 9]            Person  "
      ]
     },
     "execution_count": 444,
     "metadata": {},
     "output_type": "execute_result"
    }
   ],
   "source": [
    "attributes_info[attributes_info['Information level'] == 'Person']"
   ]
  },
  {
   "cell_type": "markdown",
   "metadata": {},
   "source": [
    "#### ALTERSKATEGORIE_GROB\n",
    "\n",
    "*Age classification through prename analysis*\n",
    "\n",
    "Ordinal variable. Can be left as it is. Missing values will be replaced by 0's"
   ]
  },
  {
   "cell_type": "code",
   "execution_count": 445,
   "metadata": {},
   "outputs": [],
   "source": [
    "customers['ALTERSKATEGORIE_GROB'].fillna(0, inplace = True)\n",
    "azdias['ALTERSKATEGORIE_GROB'].fillna(0, inplace = True)"
   ]
  },
  {
   "cell_type": "markdown",
   "metadata": {},
   "source": [
    "#### ALTERSKATEGORIE_FEIN\n",
    "\n",
    "We drop this value, it has too many options and we already have ALTERSKATEGORIE_GROB"
   ]
  },
  {
   "cell_type": "code",
   "execution_count": 446,
   "metadata": {},
   "outputs": [],
   "source": [
    "customers.drop(['ALTERSKATEGORIE_FEIN'], axis = 1, inplace = True)\n",
    "azdias.drop(['ALTERSKATEGORIE_FEIN'], axis = 1, inplace = True)"
   ]
  },
  {
   "cell_type": "markdown",
   "metadata": {},
   "source": [
    "#### ANREDE_KZ \n",
    "\n",
    "*Gender*\n",
    "\n",
    "Categorical variable but already codified as numerical.\n",
    "This column does not have missing values. It is left as it is."
   ]
  },
  {
   "cell_type": "markdown",
   "metadata": {},
   "source": [
    "#### CJT_GESAMTTYP\n",
    "\n",
    "*Customer journey typology*\n",
    "\n",
    "Categorical variable, we will define a replace dictionary to keep the category names."
   ]
  },
  {
   "cell_type": "code",
   "execution_count": 447,
   "metadata": {},
   "outputs": [
    {
     "name": "stdout",
     "output_type": "stream",
     "text": [
      "0.016764761129547303\n"
     ]
    },
    {
     "data": {
      "text/plain": [
       "0.005446460529992"
      ]
     },
     "execution_count": 447,
     "metadata": {},
     "output_type": "execute_result"
    }
   ],
   "source": [
    "# Percentage of missing values\n",
    "print(customers['CJT_GESAMTTYP'].isnull().sum() / customers.shape[0] )\n",
    "\n",
    "azdias['CJT_GESAMTTYP'].isnull().sum() / azdias.shape[0] "
   ]
  },
  {
   "cell_type": "markdown",
   "metadata": {},
   "source": [
    "Since it has very few missing values (< 2%) we will fill nan values with the most common value ('Advert enthusiast with restricted cross-channel bhv')"
   ]
  },
  {
   "cell_type": "code",
   "execution_count": 448,
   "metadata": {},
   "outputs": [],
   "source": [
    "customers['CJT_GESAMTTYP'].fillna(customers['CJT_GESAMTTYP'].mode().iloc[0], inplace = True)\n",
    "azdias['CJT_GESAMTTYP'].fillna(azdias['CJT_GESAMTTYP'].mode().iloc[0], inplace = True)"
   ]
  },
  {
   "cell_type": "markdown",
   "metadata": {},
   "source": [
    "Converting to dummy variables"
   ]
  },
  {
   "cell_type": "code",
   "execution_count": 449,
   "metadata": {},
   "outputs": [],
   "source": [
    "customers = pd.get_dummies(customers, columns = ['CJT_GESAMTTYP'])\n",
    "azdias = pd.get_dummies(azdias, columns = ['CJT_GESAMTTYP'])"
   ]
  },
  {
   "cell_type": "markdown",
   "metadata": {},
   "source": [
    "### FINANZ_ ... \n",
    "\n",
    "- FINANZ_MINIMALIST\n",
    "- FINANZ_SPARER\n",
    "- FINANZ_VORSORGER\n",
    "- FINANZ_ANLEGER\n",
    "- FINANZ_UNAUFFAELLIGER\n",
    "- FINANZ_HAUSBAUER\n",
    "- FINANZTYP\n",
    "\n",
    "These features refer to the financial typology of the individuals. They are probably of high importance. \n",
    "\n",
    "All of this variables are ordinal, we don't have to create dummy variables because they can be use numerically. \n",
    "\n",
    "We fill missing values with the previous valid value (there are no missing values, in this case)"
   ]
  },
  {
   "cell_type": "code",
   "execution_count": 450,
   "metadata": {},
   "outputs": [],
   "source": [
    "customers[['FINANZ_MINIMALIST', 'FINANZ_SPARER', 'FINANZ_VORSORGER', 'FINANZ_ANLEGER', 'FINANZ_UNAUFFAELLIGER', 'FINANZ_HAUSBAUER', \n",
    "           'FINANZTYP']] = customers[['FINANZ_MINIMALIST', 'FINANZ_SPARER', 'FINANZ_VORSORGER', \n",
    "                                       'FINANZ_ANLEGER', 'FINANZ_UNAUFFAELLIGER', 'FINANZ_HAUSBAUER', \n",
    "                                       'FINANZTYP']].fillna(method='ffill')\n",
    "\n",
    "azdias[['FINANZ_MINIMALIST', 'FINANZ_SPARER', 'FINANZ_VORSORGER', 'FINANZ_ANLEGER', 'FINANZ_UNAUFFAELLIGER', 'FINANZ_HAUSBAUER', \n",
    "           'FINANZTYP']] = azdias[['FINANZ_MINIMALIST', 'FINANZ_SPARER', 'FINANZ_VORSORGER', 'FINANZ_ANLEGER', 'FINANZ_UNAUFFAELLIGER', 'FINANZ_HAUSBAUER', \n",
    "                                   'FINANZTYP']].fillna(method='ffill')"
   ]
  },
  {
   "cell_type": "markdown",
   "metadata": {},
   "source": [
    "### GEBURTSJAHR\n",
    "\n",
    "This column is also pretty important because it represents the year of birth, from which we can extract the age by substracting it from the current year:"
   ]
  },
  {
   "cell_type": "code",
   "execution_count": 451,
   "metadata": {},
   "outputs": [],
   "source": [
    "customers['GEBURTSJAHR'].replace(0, np.nan, inplace = True)\n",
    "azdias['GEBURTSJAHR'].replace(0, np.nan, inplace = True)\n",
    "\n",
    "# We create a new column for the age feature\n",
    "customers['ALTER'] = 2021 - customers['GEBURTSJAHR']\n",
    "azdias['ALTER'] = 2021 - azdias['GEBURTSJAHR']"
   ]
  },
  {
   "cell_type": "markdown",
   "metadata": {},
   "source": [
    "Unfortunately there are many missing values:"
   ]
  },
  {
   "cell_type": "code",
   "execution_count": 452,
   "metadata": {},
   "outputs": [
    {
     "name": "stdout",
     "output_type": "stream",
     "text": [
      "Missing values in customers: 93024, around a 48.54%\n",
      "Missing values in azdias: 392318, around a 44.02%\n"
     ]
    }
   ],
   "source": [
    "print('Missing values in customers: {}, around a {}%'.format( customers['ALTER'].isnull().sum(), \n",
    "                                                              round(100 * customers['ALTER'].isnull().sum() / customers.shape[0], 2)))\n",
    "\n",
    "print('Missing values in azdias: {}, around a {}%'.format( azdias['ALTER'].isnull().sum(), \n",
    "                                                              round(100 * azdias['ALTER'].isnull().sum() / azdias.shape[0], 2)))"
   ]
  },
  {
   "cell_type": "markdown",
   "metadata": {},
   "source": [
    "But we can use the previously preprocessed column `ALTERSKATEGORIE_GROB` to approximate the age of the subjects..."
   ]
  },
  {
   "cell_type": "code",
   "execution_count": 453,
   "metadata": {},
   "outputs": [],
   "source": [
    "# But first, we have to replace the value '9' in this column by the most frequent value... \n",
    "customers['ALTERSKATEGORIE_GROB'].replace(9, customers['ALTERSKATEGORIE_GROB'].mode().iloc[0], inplace = True)\n",
    "\n",
    "azdias['ALTERSKATEGORIE_GROB'].replace(9, azdias['ALTERSKATEGORIE_GROB'].mode().iloc[0], inplace = True)"
   ]
  },
  {
   "cell_type": "markdown",
   "metadata": {},
   "source": [
    "Then we can impute a value for the age by multiplying for the approximate age from the name analysis"
   ]
  },
  {
   "cell_type": "code",
   "execution_count": 454,
   "metadata": {},
   "outputs": [],
   "source": [
    "customers['ALTER'].mask( customers['ALTER'].isnull(), customers['ALTERSKATEGORIE_GROB'] * 17, inplace = True)\n",
    "\n",
    "azdias['ALTER'].mask( azdias['ALTER'].isnull(), azdias['ALTERSKATEGORIE_GROB'] * 17, inplace = True)"
   ]
  },
  {
   "cell_type": "markdown",
   "metadata": {},
   "source": [
    "We verify that there are no missing values and we can see the final distribution."
   ]
  },
  {
   "cell_type": "code",
   "execution_count": 455,
   "metadata": {},
   "outputs": [
    {
     "name": "stdout",
     "output_type": "stream",
     "text": [
      "0\n"
     ]
    },
    {
     "data": {
      "text/plain": [
       "count    191652.000000\n",
       "mean         58.502291\n",
       "std          22.065246\n",
       "min           4.000000\n",
       "25%          51.000000\n",
       "50%          66.000000\n",
       "75%          74.000000\n",
       "max         121.000000\n",
       "Name: ALTER, dtype: float64"
      ]
     },
     "metadata": {},
     "output_type": "display_data"
    },
    {
     "data": {
      "text/plain": [
       "<AxesSubplot:>"
      ]
     },
     "execution_count": 455,
     "metadata": {},
     "output_type": "execute_result"
    },
    {
     "data": {
      "image/png": "[encoded data removed]",
      "text/plain": [
       "<Figure size 432x288 with 1 Axes>"
      ]
     },
     "metadata": {
      "needs_background": "light"
     },
     "output_type": "display_data"
    }
   ],
   "source": [
    "print(customers['ALTER'].isnull().sum())\n",
    "\n",
    "display(customers['ALTER'].describe())\n",
    "\n",
    "customers['ALTER'].hist()"
   ]
  },
  {
   "cell_type": "code",
   "execution_count": 456,
   "metadata": {},
   "outputs": [
    {
     "name": "stdout",
     "output_type": "stream",
     "text": [
      "0\n"
     ]
    },
    {
     "data": {
      "text/plain": [
       "count    891221.000000\n",
       "mean         50.992982\n",
       "std          17.735025\n",
       "min           4.000000\n",
       "25%          37.000000\n",
       "50%          51.000000\n",
       "75%          67.000000\n",
       "max         121.000000\n",
       "Name: ALTER, dtype: float64"
      ]
     },
     "metadata": {},
     "output_type": "display_data"
    },
    {
     "data": {
      "text/plain": [
       "<AxesSubplot:>"
      ]
     },
     "execution_count": 456,
     "metadata": {},
     "output_type": "execute_result"
    },
    {
     "data": {
      "image/png": "[encoded data removed]",
      "text/plain": [
       "<Figure size 432x288 with 1 Axes>"
      ]
     },
     "metadata": {
      "needs_background": "light"
     },
     "output_type": "display_data"
    }
   ],
   "source": [
    "print(azdias['ALTER'].isnull().sum())\n",
    "\n",
    "display(azdias['ALTER'].describe())\n",
    "\n",
    "azdias['ALTER'].hist(bins = 10)"
   ]
  },
  {
   "cell_type": "markdown",
   "metadata": {},
   "source": [
    "The new `ALTER` column includes information from `GEBURTSJAHR` and `ALTERSKATEGORIE_GROB`, we can verify this in the correlation matrix. We are going to drop the `GEBURTSJAHR` and `ALTERSKATEGORIE_GROB` columns."
   ]
  },
  {
   "cell_type": "code",
   "execution_count": 457,
   "metadata": {},
   "outputs": [
    {
     "data": {
      "text/html": [
       "<div>\n",
       "<style scoped>\n",
       "    .dataframe tbody tr th:only-of-type {\n",
       "        vertical-align: middle;\n",
       "    }\n",
       "\n",
       "    .dataframe tbody tr th {\n",
       "        vertical-align: top;\n",
       "    }\n",
       "\n",
       "    .dataframe thead th {\n",
       "        text-align: right;\n",
       "    }\n",
       "</style>\n",
       "<table border=\"1\" class=\"dataframe\">\n",
       "  <thead>\n",
       "    <tr style=\"text-align: right;\">\n",
       "      <th></th>\n",
       "      <th>ALTER</th>\n",
       "      <th>GEBURTSJAHR</th>\n",
       "      <th>ALTERSKATEGORIE_GROB</th>\n",
       "    </tr>\n",
       "  </thead>\n",
       "  <tbody>\n",
       "    <tr>\n",
       "      <th>ALTER</th>\n",
       "      <td>1.000000</td>\n",
       "      <td>-1.000000</td>\n",
       "      <td>0.820652</td>\n",
       "    </tr>\n",
       "    <tr>\n",
       "      <th>GEBURTSJAHR</th>\n",
       "      <td>-1.000000</td>\n",
       "      <td>1.000000</td>\n",
       "      <td>-0.406778</td>\n",
       "    </tr>\n",
       "    <tr>\n",
       "      <th>ALTERSKATEGORIE_GROB</th>\n",
       "      <td>0.820652</td>\n",
       "      <td>-0.406778</td>\n",
       "      <td>1.000000</td>\n",
       "    </tr>\n",
       "  </tbody>\n",
       "</table>\n",
       "</div>"
      ],
      "text/plain": [
       "                         ALTER  GEBURTSJAHR  ALTERSKATEGORIE_GROB\n",
       "ALTER                 1.000000    -1.000000              0.820652\n",
       "GEBURTSJAHR          -1.000000     1.000000             -0.406778\n",
       "ALTERSKATEGORIE_GROB  0.820652    -0.406778              1.000000"
      ]
     },
     "execution_count": 457,
     "metadata": {},
     "output_type": "execute_result"
    }
   ],
   "source": [
    "customers[['ALTER', 'GEBURTSJAHR', 'ALTERSKATEGORIE_GROB']].corr()"
   ]
  },
  {
   "cell_type": "code",
   "execution_count": 458,
   "metadata": {},
   "outputs": [
    {
     "data": {
      "text/html": [
       "<div>\n",
       "<style scoped>\n",
       "    .dataframe tbody tr th:only-of-type {\n",
       "        vertical-align: middle;\n",
       "    }\n",
       "\n",
       "    .dataframe tbody tr th {\n",
       "        vertical-align: top;\n",
       "    }\n",
       "\n",
       "    .dataframe thead th {\n",
       "        text-align: right;\n",
       "    }\n",
       "</style>\n",
       "<table border=\"1\" class=\"dataframe\">\n",
       "  <thead>\n",
       "    <tr style=\"text-align: right;\">\n",
       "      <th></th>\n",
       "      <th>ALTER</th>\n",
       "      <th>GEBURTSJAHR</th>\n",
       "      <th>ALTERSKATEGORIE_GROB</th>\n",
       "    </tr>\n",
       "  </thead>\n",
       "  <tbody>\n",
       "    <tr>\n",
       "      <th>ALTER</th>\n",
       "      <td>1.000000</td>\n",
       "      <td>-1.000000</td>\n",
       "      <td>0.769892</td>\n",
       "    </tr>\n",
       "    <tr>\n",
       "      <th>GEBURTSJAHR</th>\n",
       "      <td>-1.000000</td>\n",
       "      <td>1.000000</td>\n",
       "      <td>-0.631582</td>\n",
       "    </tr>\n",
       "    <tr>\n",
       "      <th>ALTERSKATEGORIE_GROB</th>\n",
       "      <td>0.769892</td>\n",
       "      <td>-0.631582</td>\n",
       "      <td>1.000000</td>\n",
       "    </tr>\n",
       "  </tbody>\n",
       "</table>\n",
       "</div>"
      ],
      "text/plain": [
       "                         ALTER  GEBURTSJAHR  ALTERSKATEGORIE_GROB\n",
       "ALTER                 1.000000    -1.000000              0.769892\n",
       "GEBURTSJAHR          -1.000000     1.000000             -0.631582\n",
       "ALTERSKATEGORIE_GROB  0.769892    -0.631582              1.000000"
      ]
     },
     "execution_count": 458,
     "metadata": {},
     "output_type": "execute_result"
    }
   ],
   "source": [
    "azdias[['ALTER', 'GEBURTSJAHR', 'ALTERSKATEGORIE_GROB']].corr()"
   ]
  },
  {
   "cell_type": "code",
   "execution_count": 459,
   "metadata": {},
   "outputs": [],
   "source": [
    "customers.drop(['GEBURTSJAHR', 'ALTERSKATEGORIE_GROB'], axis = 1, inplace = True)\n",
    "\n",
    "azdias.drop(['GEBURTSJAHR', 'ALTERSKATEGORIE_GROB'], axis = 1, inplace = True)"
   ]
  },
  {
   "cell_type": "markdown",
   "metadata": {},
   "source": [
    "#### GFK_URLAUBERTYP\n",
    "\n",
    "*Vacation habits*\n",
    "\n",
    "This feature might probably not be related with the goal, and since it is a categorical variable with several options we are going to drop it..."
   ]
  },
  {
   "cell_type": "code",
   "execution_count": 460,
   "metadata": {},
   "outputs": [],
   "source": [
    "customers.drop(['GFK_URLAUBERTYP'], axis = 1, inplace = True)\n",
    "\n",
    "azdias.drop(['GFK_URLAUBERTYP'], axis = 1, inplace = True)"
   ]
  },
  {
   "cell_type": "markdown",
   "metadata": {},
   "source": [
    "#### GREEN_AVANTGARDE\n",
    "\n",
    "A binary categorical variable without missing values, no processing needed, we keep it."
   ]
  },
  {
   "cell_type": "markdown",
   "metadata": {},
   "source": [
    "#### HEALTH_TYP\n",
    "\n",
    "*Health typology*\n",
    "\n",
    "Categorical variable with a reasonably low impact but with too many missing values. We drop it\n"
   ]
  },
  {
   "cell_type": "code",
   "execution_count": 461,
   "metadata": {},
   "outputs": [],
   "source": [
    "customers.drop(['HEALTH_TYP'], axis = 1, inplace = True)\n",
    "\n",
    "azdias.drop(['HEALTH_TYP'], axis = 1, inplace = True)"
   ]
  },
  {
   "cell_type": "markdown",
   "metadata": {},
   "source": [
    "#### LP_LEBENSPHASE_FEIN & LP_LEBENSPHASE_GROB\n",
    "\n",
    "Attribute related to family income, probably a relevant feature. \n",
    "\n",
    "Both attributes are categorical features, however, the first feature (`LP_LEBENSPHASE_FEIN`) has a large amount of categories (40) and both are related to the same information. "
   ]
  },
  {
   "cell_type": "code",
   "execution_count": 462,
   "metadata": {},
   "outputs": [],
   "source": [
    "customers.drop(['LP_LEBENSPHASE_FEIN'], axis = 1, inplace = True)\n",
    "\n",
    "azdias.drop(['LP_LEBENSPHASE_FEIN'], axis = 1, inplace = True)"
   ]
  },
  {
   "cell_type": "markdown",
   "metadata": {},
   "source": [
    "We only are going to keep `LP_LEBENSPHASE_GROB` because it categorizes the subjects more clearly.\n",
    "\n",
    "Assigning missing values can be tricky, because we have to account for age and financial status, however, since we have less than 2% of missing values we are going to fill with the most common values."
   ]
  },
  {
   "cell_type": "code",
   "execution_count": 463,
   "metadata": {},
   "outputs": [
    {
     "name": "stdout",
     "output_type": "stream",
     "text": [
      "Percentage of missing values in customers 1.67648 %\n",
      "Percentage of missing values in azdias 0.54465 %\n",
      "\n",
      "Frequencies in azdias:\n"
     ]
    },
    {
     "data": {
      "text/plain": [
       "2.0     158139\n",
       "1.0     139681\n",
       "3.0     115624\n",
       "0.0      89718\n",
       "12.0     74276\n",
       "4.0      54443\n",
       "5.0      49672\n",
       "9.0      48938\n",
       "10.0     41092\n",
       "11.0     32819\n",
       "8.0      30323\n",
       "6.0      29181\n",
       "7.0      22461\n",
       "NaN       4854\n",
       "Name: LP_LEBENSPHASE_GROB, dtype: int64"
      ]
     },
     "metadata": {},
     "output_type": "display_data"
    },
    {
     "name": "stdout",
     "output_type": "stream",
     "text": [
      "\n",
      "Frequencies in customers:\n"
     ]
    },
    {
     "data": {
      "text/plain": [
       "0.0     47728\n",
       "12.0    47145\n",
       "3.0     21739\n",
       "5.0     21069\n",
       "2.0     16904\n",
       "10.0     9398\n",
       "4.0      7851\n",
       "8.0      7280\n",
       "11.0     3326\n",
       "NaN      3213\n",
       "1.0      1908\n",
       "6.0      1602\n",
       "9.0      1292\n",
       "7.0      1197\n",
       "Name: LP_LEBENSPHASE_GROB, dtype: int64"
      ]
     },
     "metadata": {},
     "output_type": "display_data"
    }
   ],
   "source": [
    "general_attribute_info('LP_LEBENSPHASE_GROB')"
   ]
  },
  {
   "cell_type": "code",
   "execution_count": 464,
   "metadata": {},
   "outputs": [],
   "source": [
    "azdias['LP_LEBENSPHASE_GROB'].fillna(azdias['LP_LEBENSPHASE_GROB'].mode().values[0], inplace = True)\n",
    "customers['LP_LEBENSPHASE_GROB'].fillna(customers['LP_LEBENSPHASE_GROB'].mode().values[0], inplace = True)"
   ]
  },
  {
   "cell_type": "markdown",
   "metadata": {},
   "source": [
    "**Adding dummy variables**"
   ]
  },
  {
   "cell_type": "code",
   "execution_count": 465,
   "metadata": {},
   "outputs": [],
   "source": [
    "customers = pd.get_dummies(customers, columns = ['LP_LEBENSPHASE_GROB'])\n",
    "azdias = pd.get_dummies(azdias, columns = ['LP_LEBENSPHASE_GROB'])"
   ]
  },
  {
   "cell_type": "markdown",
   "metadata": {},
   "source": [
    "#### LP_FAMILIE_FEIN & LP_FAMILIE_GROB\n",
    "\n",
    "This case is similar to the previous pair of attributes. We are keeping LP_FAMILIE_GROB because it has a reasonably amount of categories."
   ]
  },
  {
   "cell_type": "code",
   "execution_count": 466,
   "metadata": {},
   "outputs": [],
   "source": [
    "customers.drop(['LP_FAMILIE_FEIN'], axis = 1, inplace = True)\n",
    "\n",
    "azdias.drop(['LP_FAMILIE_FEIN'], axis = 1, inplace = True)"
   ]
  },
  {
   "cell_type": "code",
   "execution_count": 467,
   "metadata": {},
   "outputs": [
    {
     "name": "stdout",
     "output_type": "stream",
     "text": [
      "0.016764761129547303\n"
     ]
    },
    {
     "data": {
      "text/plain": [
       "0.005446460529992"
      ]
     },
     "execution_count": 467,
     "metadata": {},
     "output_type": "execute_result"
    }
   ],
   "source": [
    "# A low amount of missing values\n",
    "print(customers['LP_FAMILIE_GROB'].isnull().sum() / customers.shape[0])\n",
    "\n",
    "azdias['LP_FAMILIE_GROB'].isnull().sum() / azdias.shape[0]"
   ]
  },
  {
   "cell_type": "code",
   "execution_count": 468,
   "metadata": {},
   "outputs": [],
   "source": [
    "azdias['LP_FAMILIE_GROB'].fillna(azdias['LP_FAMILIE_GROB'].mode().values[0], inplace = True)\n",
    "customers['LP_FAMILIE_GROB'].fillna(customers['LP_FAMILIE_GROB'].mode().values[0], inplace = True)"
   ]
  },
  {
   "cell_type": "markdown",
   "metadata": {},
   "source": [
    "**Adding dummy vars**"
   ]
  },
  {
   "cell_type": "code",
   "execution_count": 469,
   "metadata": {},
   "outputs": [],
   "source": [
    "customers = pd.get_dummies(customers, columns = ['LP_FAMILIE_GROB'])\n",
    "azdias = pd.get_dummies(azdias, columns = ['LP_FAMILIE_GROB'])"
   ]
  },
  {
   "cell_type": "markdown",
   "metadata": {},
   "source": [
    "#### LP_STATUS_FEIN & LP_STATUS_GROB\n",
    "\n",
    "Attributes related to social status.\n",
    "\n",
    "A similar case to the previous 2."
   ]
  },
  {
   "cell_type": "code",
   "execution_count": 470,
   "metadata": {},
   "outputs": [],
   "source": [
    "customers.drop(['LP_STATUS_FEIN'], axis = 1, inplace = True)\n",
    "\n",
    "azdias.drop(['LP_STATUS_FEIN'], axis = 1, inplace = True)"
   ]
  },
  {
   "cell_type": "code",
   "execution_count": 471,
   "metadata": {},
   "outputs": [
    {
     "name": "stdout",
     "output_type": "stream",
     "text": [
      "0.016764761129547303\n"
     ]
    },
    {
     "data": {
      "text/plain": [
       "0.005446460529992"
      ]
     },
     "execution_count": 471,
     "metadata": {},
     "output_type": "execute_result"
    }
   ],
   "source": [
    "# A low amount of missing values\n",
    "print(customers['LP_STATUS_GROB'].isnull().sum() / customers.shape[0])\n",
    "\n",
    "azdias['LP_STATUS_GROB'].isnull().sum() / azdias.shape[0]"
   ]
  },
  {
   "cell_type": "code",
   "execution_count": 472,
   "metadata": {},
   "outputs": [],
   "source": [
    "customers['LP_STATUS_GROB'].fillna(customers['LP_STATUS_GROB'].mode().values[0], inplace = True)\n",
    "azdias['LP_STATUS_GROB'].fillna(azdias['LP_STATUS_GROB'].mode().values[0], inplace = True)"
   ]
  },
  {
   "cell_type": "markdown",
   "metadata": {},
   "source": [
    "#### Dummy variable"
   ]
  },
  {
   "cell_type": "code",
   "execution_count": 473,
   "metadata": {},
   "outputs": [],
   "source": [
    "customers = pd.get_dummies(customers, columns = ['LP_STATUS_GROB'])\n",
    "azdias = pd.get_dummies(azdias, columns = ['LP_STATUS_GROB'])"
   ]
  },
  {
   "cell_type": "markdown",
   "metadata": {},
   "source": [
    "### NATIONALITAET_KZ\n",
    "\n",
    "A categorical variable... We will use a dictionary to map numbers to categories and assign dummy variables"
   ]
  },
  {
   "cell_type": "code",
   "execution_count": 474,
   "metadata": {},
   "outputs": [
    {
     "data": {
      "text/plain": [
       "1.0    139027\n",
       "2.0      2422\n",
       "3.0      1453\n",
       "Name: NATIONALITAET_KZ, dtype: int64"
      ]
     },
     "execution_count": 474,
     "metadata": {},
     "output_type": "execute_result"
    }
   ],
   "source": [
    "customers['NATIONALITAET_KZ'].value_counts()"
   ]
  },
  {
   "cell_type": "code",
   "execution_count": 475,
   "metadata": {},
   "outputs": [],
   "source": [
    "customers['NATIONALITAET_KZ'].fillna(0, inplace = True)\n",
    "azdias['NATIONALITAET_KZ'].fillna(0, inplace = True)"
   ]
  },
  {
   "cell_type": "code",
   "execution_count": 476,
   "metadata": {},
   "outputs": [],
   "source": [
    "customers = pd.get_dummies(customers, columns = ['NATIONALITAET_KZ'])\n",
    "azdias = pd.get_dummies(azdias, columns = ['NATIONALITAET_KZ'])"
   ]
  },
  {
   "cell_type": "markdown",
   "metadata": {},
   "source": [
    "### PRAEGENDE_JUGENDJAHRE\n",
    "\n",
    "*dominating movement in the person's youth (avantgarde or mainstream)*\n",
    "\n",
    "An attribute quite specific about a person's past. This probably has low relavance with the problem at hand. \n",
    "\n",
    "It also has too many categories to account for... We drop it"
   ]
  },
  {
   "cell_type": "code",
   "execution_count": 477,
   "metadata": {},
   "outputs": [],
   "source": [
    "customers.drop(['PRAEGENDE_JUGENDJAHRE'], axis = 1, inplace = True)\n",
    "\n",
    "azdias.drop(['PRAEGENDE_JUGENDJAHRE'], axis = 1, inplace = True)"
   ]
  },
  {
   "cell_type": "markdown",
   "metadata": {},
   "source": [
    "### RETOURTYP_BK_S\n",
    "\n",
    "*Return type*\n",
    "\n",
    "This attribute is related to the person's behaviour when it comes to return.\n",
    "A categorical variable"
   ]
  },
  {
   "cell_type": "code",
   "execution_count": 478,
   "metadata": {},
   "outputs": [
    {
     "name": "stdout",
     "output_type": "stream",
     "text": [
      "3213\n"
     ]
    },
    {
     "data": {
      "text/plain": [
       "4854"
      ]
     },
     "execution_count": 478,
     "metadata": {},
     "output_type": "execute_result"
    }
   ],
   "source": [
    "# Low amount of missing values\n",
    "print(customers['RETOURTYP_BK_S'].isnull().sum())\n",
    "\n",
    "azdias['RETOURTYP_BK_S'].isnull().sum()"
   ]
  },
  {
   "cell_type": "code",
   "execution_count": 479,
   "metadata": {},
   "outputs": [],
   "source": [
    "# forward filling nan's and creating dummies\n",
    "customers['RETOURTYP_BK_S'].fillna(customers['RETOURTYP_BK_S'].mode().values[0], inplace = True)\n",
    "\n",
    "azdias['RETOURTYP_BK_S'].fillna(azdias['RETOURTYP_BK_S'].mode().values[0], inplace = True)\n",
    "\n",
    "customers = pd.get_dummies(customers, columns = ['RETOURTYP_BK_S'])\n",
    "azdias = pd.get_dummies(azdias, columns = ['RETOURTYP_BK_S'])"
   ]
  },
  {
   "cell_type": "markdown",
   "metadata": {},
   "source": [
    "### Affinities SEMIO_\n",
    "\n",
    "These are 14 attributes of consumer information. All of them are ordinal variables, which can be left as it is."
   ]
  },
  {
   "cell_type": "code",
   "execution_count": 480,
   "metadata": {},
   "outputs": [
    {
     "name": "stdout",
     "output_type": "stream",
     "text": [
      "0\n"
     ]
    },
    {
     "data": {
      "text/plain": [
       "0"
      ]
     },
     "execution_count": 480,
     "metadata": {},
     "output_type": "execute_result"
    }
   ],
   "source": [
    "semio_att = [x for x in customers.columns if 'SEMIO_' in x]\n",
    "\n",
    "# count missing values in 14 attributes:\n",
    "print(customers[semio_att].isnull().sum().sum())\n",
    "\n",
    "azdias[semio_att].isnull().sum().sum()"
   ]
  },
  {
   "cell_type": "markdown",
   "metadata": {},
   "source": [
    "### SHOPPER_TYP\n",
    "\n",
    "*Shopping typology*\n",
    "\n",
    "A categorical variable with (probably) a high relevance but with many missing values:"
   ]
  },
  {
   "cell_type": "code",
   "execution_count": 481,
   "metadata": {},
   "outputs": [
    {
     "name": "stdout",
     "output_type": "stream",
     "text": [
      "0.2556195604533216\n"
     ]
    },
    {
     "data": {
      "text/plain": [
       "0.12476815514894735"
      ]
     },
     "execution_count": 481,
     "metadata": {},
     "output_type": "execute_result"
    }
   ],
   "source": [
    "# percentages of missing values\n",
    "print(customers['SHOPPER_TYP'].isnull().sum() / customers.shape[0])\n",
    "\n",
    "azdias['SHOPPER_TYP'].isnull().sum() / azdias.shape[0]"
   ]
  },
  {
   "cell_type": "code",
   "execution_count": 482,
   "metadata": {},
   "outputs": [],
   "source": [
    "# We will assign missing values as another category (4) and we will convert to dummy variables\n",
    "customers['SHOPPER_TYP'].fillna(4, inplace = True)\n",
    "azdias['SHOPPER_TYP'].fillna(4, inplace = True)\n",
    "\n",
    "customers = pd.get_dummies(customers, columns = ['SHOPPER_TYP'])\n",
    "azdias = pd.get_dummies(azdias, columns = ['SHOPPER_TYP'])"
   ]
  },
  {
   "cell_type": "markdown",
   "metadata": {},
   "source": [
    "### SOHOFLAG\n",
    "\n",
    "Not in datasets."
   ]
  },
  {
   "cell_type": "code",
   "execution_count": 483,
   "metadata": {},
   "outputs": [
    {
     "data": {
      "text/plain": [
       "False"
      ]
     },
     "execution_count": 483,
     "metadata": {},
     "output_type": "execute_result"
    }
   ],
   "source": [
    "'SOHO_FLAG' in azdias.columns"
   ]
  },
  {
   "cell_type": "markdown",
   "metadata": {},
   "source": [
    "### VERS_TYP\n",
    "\n",
    "*Insurance typology*\n",
    "\n",
    "Binary categorical variable with a many missing values... We will forward fill We forward fill missing values"
   ]
  },
  {
   "cell_type": "code",
   "execution_count": 484,
   "metadata": {},
   "outputs": [
    {
     "name": "stdout",
     "output_type": "stream",
     "text": [
      "Percentage of missing values in customers 25.56196 %\n",
      "Percentage of missing values in azdias 12.47682 %\n",
      "\n",
      "Frequencies in azdias:\n"
     ]
    },
    {
     "data": {
      "text/plain": [
       "2.0    398722\n",
       "1.0    381303\n",
       "NaN    111196\n",
       "Name: VERS_TYP, dtype: int64"
      ]
     },
     "metadata": {},
     "output_type": "display_data"
    },
    {
     "name": "stdout",
     "output_type": "stream",
     "text": [
      "\n",
      "Frequencies in customers:\n"
     ]
    },
    {
     "data": {
      "text/plain": [
       "1.0    73620\n",
       "2.0    69042\n",
       "NaN    48990\n",
       "Name: VERS_TYP, dtype: int64"
      ]
     },
     "metadata": {},
     "output_type": "display_data"
    }
   ],
   "source": [
    "general_attribute_info('VERS_TYP')"
   ]
  },
  {
   "cell_type": "code",
   "execution_count": 485,
   "metadata": {},
   "outputs": [],
   "source": [
    "customers['VERS_TYP'].fillna(customers['VERS_TYP'].mode().values[0], inplace = True)\n",
    "azdias['VERS_TYP'].fillna(azdias['VERS_TYP'].mode().values[0], inplace = True)"
   ]
  },
  {
   "cell_type": "markdown",
   "metadata": {},
   "source": [
    "#### ZABEOTYP\n",
    "\n",
    "*Typification of energy consumers*\n",
    "\n",
    "We change it to dummy variables"
   ]
  },
  {
   "cell_type": "code",
   "execution_count": 486,
   "metadata": {},
   "outputs": [
    {
     "name": "stdout",
     "output_type": "stream",
     "text": [
      "Percentage of missing values in customers 0.00000 %\n",
      "Percentage of missing values in azdias 0.00000 %\n",
      "\n",
      "Frequencies in azdias:\n"
     ]
    },
    {
     "data": {
      "text/plain": [
       "3    364905\n",
       "4    210095\n",
       "1    123622\n",
       "5     84956\n",
       "6     74473\n",
       "2     33170\n",
       "Name: ZABEOTYP, dtype: int64"
      ]
     },
     "metadata": {},
     "output_type": "display_data"
    },
    {
     "name": "stdout",
     "output_type": "stream",
     "text": [
      "\n",
      "Frequencies in customers:\n"
     ]
    },
    {
     "data": {
      "text/plain": [
       "3    108682\n",
       "1     54347\n",
       "4     14809\n",
       "2      6899\n",
       "6      5848\n",
       "5      1067\n",
       "Name: ZABEOTYP, dtype: int64"
      ]
     },
     "metadata": {},
     "output_type": "display_data"
    }
   ],
   "source": [
    "general_attribute_info('ZABEOTYP')"
   ]
  },
  {
   "cell_type": "code",
   "execution_count": 487,
   "metadata": {},
   "outputs": [],
   "source": [
    "customers = pd.get_dummies(customers, columns = ['ZABEOTYP'])\n",
    "\n",
    "azdias = pd.get_dummies(azdias, columns = ['ZABEOTYP'])"
   ]
  },
  {
   "cell_type": "code",
   "execution_count": 488,
   "metadata": {},
   "outputs": [
    {
     "name": "stdout",
     "output_type": "stream",
     "text": [
      "(891221, 220)\n"
     ]
    }
   ],
   "source": [
    "customers.shape\n",
    "print(azdias.shape)"
   ]
  },
  {
   "cell_type": "markdown",
   "metadata": {},
   "source": [
    "## Household\n",
    "\n",
    "The next class of attributes are refer to the household of the subjects. At first, we suspect that there would be plenty of features useful to our predictions.\n",
    "\n",
    "### ALTER_HH\n",
    "\n",
    "*Main age within the household*\n",
    "\n",
    "We are going to transform this feature into a numerical one. It will estimate the main age within the household as a number. \n",
    "We propose to use a mapping dictionary."
   ]
  },
  {
   "cell_type": "code",
   "execution_count": 489,
   "metadata": {},
   "outputs": [
    {
     "name": "stdout",
     "output_type": "stream",
     "text": [
      "Percentage of missing values in customers 35.87074 %\n",
      "Percentage of missing values in azdias 34.81370 %\n",
      "\n",
      "Frequencies in azdias:\n"
     ]
    },
    {
     "data": {
      "text/plain": [
       "NaN     310267\n",
       "18.0     60852\n",
       "17.0     55665\n",
       "19.0     52890\n",
       "15.0     51867\n",
       "16.0     51857\n",
       "14.0     44275\n",
       "21.0     41610\n",
       "20.0     40671\n",
       "13.0     37612\n",
       "12.0     34923\n",
       "10.0     30419\n",
       "11.0     27924\n",
       "9.0      22817\n",
       "8.0      13463\n",
       "7.0       8419\n",
       "6.0       3809\n",
       "5.0       1030\n",
       "4.0        603\n",
       "3.0        200\n",
       "2.0         47\n",
       "1.0          1\n",
       "Name: ALTER_HH, dtype: int64"
      ]
     },
     "metadata": {},
     "output_type": "display_data"
    },
    {
     "name": "stdout",
     "output_type": "stream",
     "text": [
      "\n",
      "Frequencies in customers:\n"
     ]
    },
    {
     "data": {
      "text/plain": [
       "NaN     68747\n",
       "10.0    14488\n",
       "9.0     12976\n",
       "11.0     9009\n",
       "21.0     8503\n",
       "8.0      8111\n",
       "16.0     8011\n",
       "12.0     7779\n",
       "15.0     7737\n",
       "17.0     7332\n",
       "20.0     6554\n",
       "18.0     6450\n",
       "14.0     6192\n",
       "13.0     6164\n",
       "19.0     6136\n",
       "7.0      5307\n",
       "6.0      1848\n",
       "5.0       228\n",
       "4.0        52\n",
       "3.0        15\n",
       "2.0        13\n",
       "Name: ALTER_HH, dtype: int64"
      ]
     },
     "metadata": {},
     "output_type": "display_data"
    }
   ],
   "source": [
    "general_attribute_info('ALTER_HH')"
   ]
  },
  {
   "cell_type": "code",
   "execution_count": 490,
   "metadata": {},
   "outputs": [],
   "source": [
    "# Dropping ALTER_HH (too many missing values), also we already engineer the 'ALTER' feature\n",
    "customers.drop('ALTER_HH', axis = 1, inplace = True)\n",
    "\n",
    "azdias.drop('ALTER_HH', axis = 1, inplace = True)"
   ]
  },
  {
   "cell_type": "markdown",
   "metadata": {},
   "source": [
    "### ANZ_PERSONEN & ANZ_TITEL\n",
    "\n",
    "*Number of persons known in this household* & *number of professional title holder in household*\n",
    "\n",
    "Both are numerical variables. `ANZ_PERSONEN` has a highly skewed distribution, that kind of distribution migh be problematic, we will drop this feature."
   ]
  },
  {
   "cell_type": "code",
   "execution_count": 491,
   "metadata": {},
   "outputs": [
    {
     "name": "stdout",
     "output_type": "stream",
     "text": [
      "Percentage of missing values in customers 24.31282 %\n",
      "Percentage of missing values in azdias 8.24700 %\n",
      "\n",
      "Frequencies in azdias:\n"
     ]
    },
    {
     "data": {
      "text/plain": [
       "1.0     423383\n",
       "2.0     195470\n",
       "3.0      94905\n",
       "NaN      73499\n",
       "4.0      47126\n",
       "0.0      34103\n",
       "5.0      15503\n",
       "6.0       4842\n",
       "7.0       1525\n",
       "8.0        523\n",
       "9.0        180\n",
       "10.0        67\n",
       "11.0        38\n",
       "12.0        16\n",
       "13.0        11\n",
       "14.0         4\n",
       "21.0         4\n",
       "20.0         3\n",
       "15.0         3\n",
       "23.0         2\n",
       "37.0         2\n",
       "22.0         2\n",
       "38.0         2\n",
       "40.0         1\n",
       "31.0         1\n",
       "16.0         1\n",
       "18.0         1\n",
       "17.0         1\n",
       "29.0         1\n",
       "35.0         1\n",
       "45.0         1\n",
       "Name: ANZ_PERSONEN, dtype: int64"
      ]
     },
     "metadata": {},
     "output_type": "display_data"
    },
    {
     "name": "stdout",
     "output_type": "stream",
     "text": [
      "\n",
      "Frequencies in customers:\n"
     ]
    },
    {
     "data": {
      "text/plain": [
       "NaN     46596\n",
       "2.0     43780\n",
       "1.0     40929\n",
       "3.0     27231\n",
       "4.0     16101\n",
       "0.0      7146\n",
       "5.0      6482\n",
       "6.0      2332\n",
       "7.0       716\n",
       "8.0       222\n",
       "9.0        65\n",
       "10.0       22\n",
       "11.0       12\n",
       "12.0        9\n",
       "14.0        3\n",
       "13.0        2\n",
       "21.0        2\n",
       "15.0        1\n",
       "16.0        1\n",
       "Name: ANZ_PERSONEN, dtype: int64"
      ]
     },
     "metadata": {},
     "output_type": "display_data"
    }
   ],
   "source": [
    "general_attribute_info('ANZ_PERSONEN')"
   ]
  },
  {
   "cell_type": "code",
   "execution_count": 492,
   "metadata": {},
   "outputs": [],
   "source": [
    "azdias.drop(['ANZ_PERSONEN'], axis = 1, inplace = True)\n",
    "customers.drop(['ANZ_PERSONEN'], axis = 1, inplace = True)"
   ]
  },
  {
   "cell_type": "markdown",
   "metadata": {},
   "source": [
    "`ANZ_TITEL` is also highly concentrated in just one value, and it is probably unrelated to the problem at hand. We drop it."
   ]
  },
  {
   "cell_type": "code",
   "execution_count": 493,
   "metadata": {},
   "outputs": [
    {
     "name": "stdout",
     "output_type": "stream",
     "text": [
      "Percentage of missing values in customers 24.31282 %\n",
      "Percentage of missing values in azdias 8.24700 %\n",
      "\n",
      "Frequencies in azdias:\n"
     ]
    },
    {
     "data": {
      "text/plain": [
       "0.0    814542\n",
       "NaN     73499\n",
       "1.0      2970\n",
       "2.0       202\n",
       "3.0         5\n",
       "4.0         2\n",
       "6.0         1\n",
       "Name: ANZ_TITEL, dtype: int64"
      ]
     },
     "metadata": {},
     "output_type": "display_data"
    },
    {
     "name": "stdout",
     "output_type": "stream",
     "text": [
      "\n",
      "Frequencies in customers:\n"
     ]
    },
    {
     "data": {
      "text/plain": [
       "0.0    142316\n",
       "NaN     46596\n",
       "1.0      2533\n",
       "2.0       198\n",
       "3.0         8\n",
       "5.0         1\n",
       "Name: ANZ_TITEL, dtype: int64"
      ]
     },
     "metadata": {},
     "output_type": "display_data"
    }
   ],
   "source": [
    "general_attribute_info('ANZ_TITEL')"
   ]
  },
  {
   "cell_type": "code",
   "execution_count": 494,
   "metadata": {},
   "outputs": [],
   "source": [
    "azdias.drop(['ANZ_TITEL'], axis = 1, inplace = True)\n",
    "customers.drop(['ANZ_TITEL'], axis = 1, inplace = True)"
   ]
  },
  {
   "cell_type": "markdown",
   "metadata": {},
   "source": [
    "### HAUSHALTSSTRUKTUR\n",
    "\n",
    "*structure of the household (single-hh, couple with different surnames, family,...)*\n",
    "\n",
    "Not found in the datasets."
   ]
  },
  {
   "cell_type": "code",
   "execution_count": 495,
   "metadata": {},
   "outputs": [
    {
     "name": "stdout",
     "output_type": "stream",
     "text": [
      "Attribute not in datasets\n"
     ]
    }
   ],
   "source": [
    "general_attribute_info('HAUSHALTSSTRUKTUR')"
   ]
  },
  {
   "cell_type": "markdown",
   "metadata": {},
   "source": [
    "### HH_EINKOMMEN_SCORE\n",
    "\n",
    "*estimated household_net_income*\n",
    "\n",
    "Ordinal variable, we can leave it as it is."
   ]
  },
  {
   "cell_type": "code",
   "execution_count": 496,
   "metadata": {},
   "outputs": [
    {
     "name": "stdout",
     "output_type": "stream",
     "text": [
      "Percentage of missing values in customers 1.54864 %\n",
      "Percentage of missing values in azdias 2.05875 %\n",
      "\n",
      "Frequencies in azdias:\n"
     ]
    },
    {
     "data": {
      "text/plain": [
       "6.0    252775\n",
       "5.0    201482\n",
       "2.0    140817\n",
       "4.0    139762\n",
       "3.0     84805\n",
       "1.0     53232\n",
       "NaN     18348\n",
       "Name: HH_EINKOMMEN_SCORE, dtype: int64"
      ]
     },
     "metadata": {},
     "output_type": "display_data"
    },
    {
     "name": "stdout",
     "output_type": "stream",
     "text": [
      "\n",
      "Frequencies in customers:\n"
     ]
    },
    {
     "data": {
      "text/plain": [
       "2.0    70160\n",
       "1.0    29936\n",
       "4.0    27674\n",
       "5.0    23923\n",
       "3.0    22438\n",
       "6.0    14553\n",
       "NaN     2968\n",
       "Name: HH_EINKOMMEN_SCORE, dtype: int64"
      ]
     },
     "metadata": {},
     "output_type": "display_data"
    }
   ],
   "source": [
    "general_attribute_info('HH_EINKOMMEN_SCORE')"
   ]
  },
  {
   "cell_type": "code",
   "execution_count": 497,
   "metadata": {},
   "outputs": [],
   "source": [
    "customers['HH_EINKOMMEN_SCORE'].fillna(customers['HH_EINKOMMEN_SCORE'].mode().values[0], inplace = True)\n",
    "azdias['HH_EINKOMMEN_SCORE'].fillna(azdias['HH_EINKOMMEN_SCORE'].mode().values[0], inplace = True)"
   ]
  },
  {
   "cell_type": "markdown",
   "metadata": {},
   "source": [
    "This estimate income clearly has a different distribution between customers and the general population:"
   ]
  },
  {
   "cell_type": "code",
   "execution_count": 498,
   "metadata": {},
   "outputs": [
    {
     "data": {
      "text/plain": [
       "<AxesSubplot:>"
      ]
     },
     "execution_count": 498,
     "metadata": {},
     "output_type": "execute_result"
    },
    {
     "data": {
      "image/png": "[encoded data removed]",
      "text/plain": [
       "<Figure size 432x288 with 1 Axes>"
      ]
     },
     "metadata": {
      "needs_background": "light"
     },
     "output_type": "display_data"
    }
   ],
   "source": [
    "customers['HH_EINKOMMEN_SCORE'].value_counts().sort_index().plot.bar()"
   ]
  },
  {
   "cell_type": "code",
   "execution_count": 499,
   "metadata": {},
   "outputs": [
    {
     "data": {
      "text/plain": [
       "<AxesSubplot:>"
      ]
     },
     "execution_count": 499,
     "metadata": {},
     "output_type": "execute_result"
    },
    {
     "data": {
      "image/png": "[encoded data removed]",
      "text/plain": [
       "<Figure size 432x288 with 1 Axes>"
      ]
     },
     "metadata": {
      "needs_background": "light"
     },
     "output_type": "display_data"
    }
   ],
   "source": [
    "azdias['HH_EINKOMMEN_SCORE'].value_counts().sort_index().plot.bar()"
   ]
  },
  {
   "cell_type": "markdown",
   "metadata": {},
   "source": [
    "### W_KEIT_KIND_HH\n",
    "\n",
    "*likelihood of a child present in this household (can be specified in child age groups)*\n",
    "\n",
    "Ordinal variable, we fill NaN values with the most common."
   ]
  },
  {
   "cell_type": "code",
   "execution_count": 500,
   "metadata": {},
   "outputs": [
    {
     "name": "stdout",
     "output_type": "stream",
     "text": [
      "Percentage of missing values in customers 29.70853 %\n",
      "Percentage of missing values in azdias 16.60508 %\n",
      "\n",
      "Frequencies in azdias:\n"
     ]
    },
    {
     "data": {
      "text/plain": [
       "6.0    281966\n",
       "NaN    147988\n",
       "4.0    128675\n",
       "3.0    100170\n",
       "2.0     84000\n",
       "1.0     83706\n",
       "5.0     64716\n",
       "Name: W_KEIT_KIND_HH, dtype: int64"
      ]
     },
     "metadata": {},
     "output_type": "display_data"
    },
    {
     "name": "stdout",
     "output_type": "stream",
     "text": [
      "\n",
      "Frequencies in customers:\n"
     ]
    },
    {
     "data": {
      "text/plain": [
       "6.0    63841\n",
       "NaN    56937\n",
       "2.0    25596\n",
       "4.0    14515\n",
       "1.0    12647\n",
       "3.0    11412\n",
       "5.0     6704\n",
       "Name: W_KEIT_KIND_HH, dtype: int64"
      ]
     },
     "metadata": {},
     "output_type": "display_data"
    }
   ],
   "source": [
    "general_attribute_info('W_KEIT_KIND_HH')"
   ]
  },
  {
   "cell_type": "code",
   "execution_count": 501,
   "metadata": {},
   "outputs": [],
   "source": [
    "azdias['W_KEIT_KIND_HH'].fillna(azdias['W_KEIT_KIND_HH'].mode().values[0], inplace = True)\n",
    "customers['W_KEIT_KIND_HH'].fillna(customers['W_KEIT_KIND_HH'].mode().values[0], inplace = True)"
   ]
  },
  {
   "cell_type": "markdown",
   "metadata": {},
   "source": [
    "### WOHNDAUER_2008\n",
    "\n",
    "*Lenght of residence*\n",
    "\n",
    "Ordinal variable. Can be left as it is."
   ]
  },
  {
   "cell_type": "code",
   "execution_count": 502,
   "metadata": {
    "scrolled": true
   },
   "outputs": [
    {
     "name": "stdout",
     "output_type": "stream",
     "text": [
      "Percentage of missing values in customers 24.31282 %\n",
      "Percentage of missing values in azdias 8.24700 %\n",
      "\n",
      "Frequencies in azdias:\n"
     ]
    },
    {
     "data": {
      "text/plain": [
       "9.0    551176\n",
       "8.0     80118\n",
       "NaN     73499\n",
       "4.0     50736\n",
       "3.0     38767\n",
       "6.0     35170\n",
       "5.0     30959\n",
       "7.0     23939\n",
       "2.0      6174\n",
       "1.0       683\n",
       "Name: WOHNDAUER_2008, dtype: int64"
      ]
     },
     "metadata": {},
     "output_type": "display_data"
    },
    {
     "name": "stdout",
     "output_type": "stream",
     "text": [
      "\n",
      "Frequencies in customers:\n"
     ]
    },
    {
     "data": {
      "text/plain": [
       "9.0    127266\n",
       "NaN     46596\n",
       "8.0      6924\n",
       "4.0      2476\n",
       "6.0      2351\n",
       "3.0      2115\n",
       "7.0      1993\n",
       "5.0      1784\n",
       "1.0        98\n",
       "2.0        49\n",
       "Name: WOHNDAUER_2008, dtype: int64"
      ]
     },
     "metadata": {},
     "output_type": "display_data"
    }
   ],
   "source": [
    "general_attribute_info('WOHNDAUER_2008')"
   ]
  },
  {
   "cell_type": "code",
   "execution_count": 503,
   "metadata": {},
   "outputs": [],
   "source": [
    "azdias['WOHNDAUER_2008'].fillna(method = 'ffill', inplace = True)\n",
    "customers['WOHNDAUER_2008'].fillna(method = 'ffill', inplace = True)\n",
    "\n",
    "azdias['WOHNDAUER_2008'].fillna(azdias['WOHNDAUER_2008'].mode().values[0], inplace = True)\n",
    "customers['WOHNDAUER_2008'].fillna(customers['WOHNDAUER_2008'].mode().values[0], inplace = True)"
   ]
  },
  {
   "cell_type": "markdown",
   "metadata": {},
   "source": [
    "## D19 transaction data.\n",
    "\n",
    "*This data contains unique data regarding the mail-order activity of consumers, differentiated.*\n",
    "\n",
    "Many of these attributes are ordinal features, and we can keep them as they are, except for `D19_KONSUMTYP`. "
   ]
  },
  {
   "cell_type": "code",
   "execution_count": 504,
   "metadata": {},
   "outputs": [],
   "source": [
    "attributes_info.reset_index(inplace = True)"
   ]
  },
  {
   "cell_type": "code",
   "execution_count": 505,
   "metadata": {},
   "outputs": [
    {
     "data": {
      "text/plain": [
       "['D19_BANKEN_DATUM',\n",
       " 'D19_BANKEN_OFFLINE_DATUM',\n",
       " 'D19_BANKEN_ONLINE_DATUM',\n",
       " 'D19_BANKEN_ONLINE_QUOTE_12',\n",
       " 'D19_GESAMT_DATUM',\n",
       " 'D19_GESAMT_OFFLINE_DATUM',\n",
       " 'D19_GESAMT_ONLINE_DATUM',\n",
       " 'D19_GESAMT_ONLINE_QUOTE_12',\n",
       " 'D19_KONSUMTYP',\n",
       " 'D19_TELKO_DATUM',\n",
       " 'D19_TELKO_OFFLINE_DATUM',\n",
       " 'D19_TELKO_ONLINE_DATUM',\n",
       " 'D19_VERSAND_DATUM',\n",
       " 'D19_VERSAND_OFFLINE_DATUM',\n",
       " 'D19_VERSAND_ONLINE_DATUM',\n",
       " 'D19_VERSAND_ONLINE_QUOTE_12']"
      ]
     },
     "execution_count": 505,
     "metadata": {},
     "output_type": "execute_result"
    }
   ],
   "source": [
    "# Name of attributes\n",
    "d19_household = attributes_info[(attributes_info['Information level'] == 'Household') & \n",
    "                                (attributes_info['Attribute'].str.startswith('D19_'))]['Attribute']\n",
    "\n",
    "d19_household = list(set(d19_household).intersection(set(azdias.columns))) \n",
    "\n",
    "sorted(d19_household)"
   ]
  },
  {
   "cell_type": "markdown",
   "metadata": {},
   "source": [
    "### D19_KONSUMTYP\n",
    "\n",
    "Probably a highly relevant attribute related to the type of consumer. \n",
    "\n",
    "There are very few missing values in customers, but a lot of missing values in azdias. Since this is probably an important feature, we are filling nan values as class `9` (Inactive)."
   ]
  },
  {
   "cell_type": "code",
   "execution_count": 506,
   "metadata": {},
   "outputs": [
    {
     "name": "stdout",
     "output_type": "stream",
     "text": [
      "Percentage of missing values in customers 24.88730 %\n",
      "Percentage of missing values in azdias 28.84952 %\n",
      "\n",
      "Frequencies in azdias:\n"
     ]
    },
    {
     "data": {
      "text/plain": [
       "NaN    257113\n",
       "9.0    254296\n",
       "1.0    117912\n",
       "4.0     78262\n",
       "6.0     56562\n",
       "3.0     53330\n",
       "2.0     49324\n",
       "5.0     24422\n",
       "Name: D19_KONSUMTYP, dtype: int64"
      ]
     },
     "metadata": {},
     "output_type": "display_data"
    },
    {
     "name": "stdout",
     "output_type": "stream",
     "text": [
      "\n",
      "Frequencies in customers:\n"
     ]
    },
    {
     "data": {
      "text/plain": [
       "3.0    52323\n",
       "NaN    47697\n",
       "1.0    35794\n",
       "2.0    29600\n",
       "9.0    12516\n",
       "6.0     7424\n",
       "4.0     4795\n",
       "5.0     1503\n",
       "Name: D19_KONSUMTYP, dtype: int64"
      ]
     },
     "metadata": {},
     "output_type": "display_data"
    }
   ],
   "source": [
    "general_attribute_info('D19_KONSUMTYP')"
   ]
  },
  {
   "cell_type": "code",
   "execution_count": 507,
   "metadata": {},
   "outputs": [],
   "source": [
    "customers['D19_KONSUMTYP'].fillna(9.0, inplace = True)\n",
    "azdias['D19_KONSUMTYP'].fillna(9.0, inplace = True)"
   ]
  },
  {
   "cell_type": "code",
   "execution_count": 508,
   "metadata": {},
   "outputs": [],
   "source": [
    "customers = pd.get_dummies(customers, columns = ['D19_KONSUMTYP'])\n",
    "azdias = pd.get_dummies(azdias, columns = ['D19_KONSUMTYP'])"
   ]
  },
  {
   "cell_type": "markdown",
   "metadata": {},
   "source": [
    "By reviewing each of the `D19_` attributes we split into categorical and numerical variables. The first ones will be transformed into dummy variables, and the second ones will be kept as they are."
   ]
  },
  {
   "cell_type": "markdown",
   "metadata": {},
   "source": [
    "#### D19: Ordinal attributes\n",
    "\n",
    "Most of the ordinal attributes in D19 do not have missing values, they can be left as they are.\n",
    "\n",
    "In the case of attributes with missing values we are considering items with NaN values as part of another class."
   ]
  },
  {
   "cell_type": "code",
   "execution_count": 509,
   "metadata": {},
   "outputs": [],
   "source": [
    "d19_no_missing = ['D19_BANKEN_DATUM', 'D19_BANKEN_OFFLINE_DATUM', 'D19_BANKEN_ONLINE_DATUM', \n",
    "               'D19_GESAMT_DATUM', 'D19_GESAMT_OFFLINE_DATUM', 'D19_GESAMT_ONLINE_DATUM', \n",
    "                  'D19_TELKO_DATUM', 'D19_TELKO_OFFLINE_DATUM', 'D19_TELKO_ONLINE_DATUM', 'D19_VERSAND_DATUM',\n",
    "                  'D19_VERSAND_OFFLINE_DATUM', 'D19_VERSAND_ONLINE_DATUM', 'D19_VERSAND_ONLINE_QUOTE_12']\n",
    "\n",
    "d19_with_missing = ['D19_BANKEN_ONLINE_QUOTE_12', 'D19_GESAMT_ONLINE_QUOTE_12', 'D19_VERSAND_ONLINE_QUOTE_12']"
   ]
  },
  {
   "cell_type": "markdown",
   "metadata": {},
   "source": [
    "**D19_BANKEN_ONLINE_QUOTE_12, D19_GESAMT_ONLINE_QUOTE_12 & D19_VERSAND_ONLINE_QUOTE_12**"
   ]
  },
  {
   "cell_type": "code",
   "execution_count": 510,
   "metadata": {},
   "outputs": [
    {
     "name": "stdout",
     "output_type": "stream",
     "text": [
      "Percentage of missing values in customers 24.88730 %\n",
      "Percentage of missing values in azdias 28.84952 %\n",
      "\n",
      "Frequencies in azdias:\n"
     ]
    },
    {
     "data": {
      "text/plain": [
       "0.0     588874\n",
       "NaN     257113\n",
       "10.0     44065\n",
       "5.0        391\n",
       "3.0        220\n",
       "7.0        214\n",
       "8.0        172\n",
       "9.0         67\n",
       "6.0         50\n",
       "2.0         35\n",
       "4.0         18\n",
       "1.0          2\n",
       "Name: D19_BANKEN_ONLINE_QUOTE_12, dtype: int64"
      ]
     },
     "metadata": {},
     "output_type": "display_data"
    },
    {
     "name": "stdout",
     "output_type": "stream",
     "text": [
      "\n",
      "Frequencies in customers:\n"
     ]
    },
    {
     "data": {
      "text/plain": [
       "0.0     137161\n",
       "NaN      47697\n",
       "10.0      6463\n",
       "5.0        140\n",
       "7.0         82\n",
       "3.0         44\n",
       "8.0         38\n",
       "9.0         14\n",
       "2.0          8\n",
       "6.0          4\n",
       "4.0          1\n",
       "Name: D19_BANKEN_ONLINE_QUOTE_12, dtype: int64"
      ]
     },
     "metadata": {},
     "output_type": "display_data"
    }
   ],
   "source": [
    "general_attribute_info('D19_BANKEN_ONLINE_QUOTE_12')"
   ]
  },
  {
   "cell_type": "code",
   "execution_count": 511,
   "metadata": {},
   "outputs": [],
   "source": [
    "customers['D19_BANKEN_ONLINE_QUOTE_12'].fillna(11.0, inplace = True)\n",
    "azdias['D19_BANKEN_ONLINE_QUOTE_12'].fillna(11.0, inplace = True)"
   ]
  },
  {
   "cell_type": "code",
   "execution_count": 512,
   "metadata": {},
   "outputs": [
    {
     "name": "stdout",
     "output_type": "stream",
     "text": [
      "Percentage of missing values in customers 24.88730 %\n",
      "Percentage of missing values in azdias 28.84952 %\n",
      "\n",
      "Frequencies in azdias:\n"
     ]
    },
    {
     "data": {
      "text/plain": [
       "0.0     393075\n",
       "NaN     257113\n",
       "10.0    199906\n",
       "5.0      10517\n",
       "8.0       9467\n",
       "7.0       6923\n",
       "9.0       6046\n",
       "3.0       3543\n",
       "6.0       1679\n",
       "2.0       1066\n",
       "4.0       1017\n",
       "1.0        869\n",
       "Name: D19_GESAMT_ONLINE_QUOTE_12, dtype: int64"
      ]
     },
     "metadata": {},
     "output_type": "display_data"
    },
    {
     "name": "stdout",
     "output_type": "stream",
     "text": [
      "\n",
      "Frequencies in customers:\n"
     ]
    },
    {
     "data": {
      "text/plain": [
       "0.0     86879\n",
       "NaN     47697\n",
       "10.0    42191\n",
       "5.0      4010\n",
       "8.0      2677\n",
       "7.0      2392\n",
       "3.0      1767\n",
       "9.0      1502\n",
       "2.0       701\n",
       "6.0       666\n",
       "1.0       627\n",
       "4.0       543\n",
       "Name: D19_GESAMT_ONLINE_QUOTE_12, dtype: int64"
      ]
     },
     "metadata": {},
     "output_type": "display_data"
    }
   ],
   "source": [
    "general_attribute_info('D19_GESAMT_ONLINE_QUOTE_12')"
   ]
  },
  {
   "cell_type": "code",
   "execution_count": 513,
   "metadata": {},
   "outputs": [],
   "source": [
    "customers['D19_GESAMT_ONLINE_QUOTE_12'].fillna(11.0, inplace = True)\n",
    "azdias['D19_GESAMT_ONLINE_QUOTE_12'].fillna(11.0, inplace = True)"
   ]
  },
  {
   "cell_type": "code",
   "execution_count": 514,
   "metadata": {},
   "outputs": [
    {
     "name": "stdout",
     "output_type": "stream",
     "text": [
      "Percentage of missing values in customers 24.88730 %\n",
      "Percentage of missing values in azdias 28.84952 %\n",
      "\n",
      "Frequencies in azdias:\n"
     ]
    },
    {
     "data": {
      "text/plain": [
       "0.0     417367\n",
       "NaN     257113\n",
       "10.0    187652\n",
       "5.0       8034\n",
       "8.0       6419\n",
       "7.0       4920\n",
       "9.0       3931\n",
       "3.0       2653\n",
       "6.0       1080\n",
       "2.0        751\n",
       "4.0        739\n",
       "1.0        562\n",
       "Name: D19_VERSAND_ONLINE_QUOTE_12, dtype: int64"
      ]
     },
     "metadata": {},
     "output_type": "display_data"
    },
    {
     "name": "stdout",
     "output_type": "stream",
     "text": [
      "\n",
      "Frequencies in customers:\n"
     ]
    },
    {
     "data": {
      "text/plain": [
       "0.0     92458\n",
       "NaN     47697\n",
       "10.0    39198\n",
       "5.0      3547\n",
       "8.0      2169\n",
       "7.0      2016\n",
       "3.0      1569\n",
       "9.0      1227\n",
       "6.0       517\n",
       "2.0       469\n",
       "4.0       406\n",
       "1.0       379\n",
       "Name: D19_VERSAND_ONLINE_QUOTE_12, dtype: int64"
      ]
     },
     "metadata": {},
     "output_type": "display_data"
    }
   ],
   "source": [
    "general_attribute_info('D19_VERSAND_ONLINE_QUOTE_12') "
   ]
  },
  {
   "cell_type": "code",
   "execution_count": 515,
   "metadata": {},
   "outputs": [],
   "source": [
    "customers['D19_VERSAND_ONLINE_QUOTE_12'].fillna(11.0, inplace = True)\n",
    "azdias['D19_VERSAND_ONLINE_QUOTE_12'].fillna(11.0, inplace = True)"
   ]
  },
  {
   "cell_type": "markdown",
   "metadata": {},
   "source": [
    "## 125 X 125 m Grid\n",
    "\n",
    "These attributes are very similar to the ones in Household. They also estimate transactional activity."
   ]
  },
  {
   "cell_type": "code",
   "execution_count": 516,
   "metadata": {},
   "outputs": [
    {
     "data": {
      "text/plain": [
       "array(['Person', 'Household', 'Building', 'Postcode ', nan,\n",
       "       'Microcell (RR4_ID)', '125m x 125m Grid', 'RR1_ID',\n",
       "       'Microcell (RR3_ID)', 'PLZ8', 'Community'], dtype=object)"
      ]
     },
     "execution_count": 516,
     "metadata": {},
     "output_type": "execute_result"
    }
   ],
   "source": [
    "attributes_info['Information level'].unique()"
   ]
  },
  {
   "cell_type": "code",
   "execution_count": 517,
   "metadata": {},
   "outputs": [
    {
     "data": {
      "text/plain": [
       "[]"
      ]
     },
     "execution_count": 517,
     "metadata": {},
     "output_type": "execute_result"
    }
   ],
   "source": [
    "# Name of attributes\n",
    "d19_grid = attributes_info[attributes_info['Information level'] == '125m x 125m Grid']\n",
    "d19_grid = list(set(d19_grid).intersection(set(customers.columns))) \n",
    "d19_grid"
   ]
  },
  {
   "cell_type": "markdown",
   "metadata": {},
   "source": [
    "These attributes are not present in the datasets"
   ]
  },
  {
   "cell_type": "markdown",
   "metadata": {},
   "source": [
    "## Microcell (RR3_ID)\n",
    "\n",
    "Attributes of this type are also about specific characteristics of cars. We are dropping this column because they end up acting like noise."
   ]
  },
  {
   "cell_type": "code",
   "execution_count": 518,
   "metadata": {},
   "outputs": [],
   "source": [
    "# Name of attributes\n",
    "kba05_att = attributes_info[attributes_info['Information level'] == 'Microcell (RR3_ID)']\n",
    "\n",
    "kba05_att = list(set(kba05_att).intersection(set(customers.columns))) "
   ]
  },
  {
   "cell_type": "code",
   "execution_count": 519,
   "metadata": {},
   "outputs": [
    {
     "data": {
      "text/plain": [
       "[]"
      ]
     },
     "execution_count": 519,
     "metadata": {},
     "output_type": "execute_result"
    }
   ],
   "source": [
    "kba05_att"
   ]
  },
  {
   "cell_type": "markdown",
   "metadata": {},
   "source": [
    "Once again these columns are actually not in the dataset."
   ]
  },
  {
   "cell_type": "markdown",
   "metadata": {},
   "source": [
    "## Building \n",
    "\n",
    "#### ANZ_HAUSHALTE_AKTIV & ANZ_STATISTISCHE_HAUSHALTE(?)\n",
    "\n",
    "*number of households known in this building*\n",
    "\n",
    "This attribute is probably unrelated with the problem, and it also has a large standard deviation because it has several outliers. We can fix the outliers problem but we will better drop it..."
   ]
  },
  {
   "cell_type": "code",
   "execution_count": 520,
   "metadata": {
    "scrolled": true
   },
   "outputs": [
    {
     "name": "stdout",
     "output_type": "stream",
     "text": [
      "Percentage of missing values in customers 26.05086 %\n",
      "Percentage of missing values in azdias 10.45173 %\n",
      "\n",
      "Frequencies in azdias:\n"
     ]
    },
    {
     "data": {
      "text/plain": [
       "1.0      195957\n",
       "2.0      120982\n",
       "NaN       93148\n",
       "3.0       62575\n",
       "4.0       43213\n",
       "          ...  \n",
       "254.0         2\n",
       "220.0         1\n",
       "232.0         1\n",
       "366.0         1\n",
       "536.0         1\n",
       "Name: ANZ_HAUSHALTE_AKTIV, Length: 293, dtype: int64"
      ]
     },
     "metadata": {},
     "output_type": "display_data"
    },
    {
     "name": "stdout",
     "output_type": "stream",
     "text": [
      "\n",
      "Frequencies in customers:\n"
     ]
    },
    {
     "data": {
      "text/plain": [
       "1.0      72730\n",
       "NaN      49927\n",
       "2.0      22269\n",
       "3.0       7774\n",
       "4.0       4597\n",
       "         ...  \n",
       "139.0        1\n",
       "202.0        1\n",
       "259.0        1\n",
       "123.0        1\n",
       "143.0        1\n",
       "Name: ANZ_HAUSHALTE_AKTIV, Length: 217, dtype: int64"
      ]
     },
     "metadata": {},
     "output_type": "display_data"
    }
   ],
   "source": [
    "general_attribute_info('ANZ_HAUSHALTE_AKTIV')"
   ]
  },
  {
   "cell_type": "code",
   "execution_count": 521,
   "metadata": {},
   "outputs": [
    {
     "data": {
      "text/plain": [
       "<AxesSubplot:>"
      ]
     },
     "execution_count": 521,
     "metadata": {},
     "output_type": "execute_result"
    },
    {
     "data": {
      "image/png": "[encoded data removed]",
      "text/plain": [
       "<Figure size 432x288 with 1 Axes>"
      ]
     },
     "metadata": {
      "needs_background": "light"
     },
     "output_type": "display_data"
    }
   ],
   "source": [
    "customers['ANZ_HAUSHALTE_AKTIV'].hist()\n",
    "azdias['ANZ_HAUSHALTE_AKTIV'].hist()"
   ]
  },
  {
   "cell_type": "code",
   "execution_count": 522,
   "metadata": {},
   "outputs": [],
   "source": [
    "customers.drop('ANZ_HAUSHALTE_AKTIV', axis = 1, inplace = True)\n",
    "azdias.drop('ANZ_HAUSHALTE_AKTIV', axis = 1, inplace = True)"
   ]
  },
  {
   "cell_type": "code",
   "execution_count": 523,
   "metadata": {},
   "outputs": [],
   "source": [
    "customers.drop('ANZ_STATISTISCHE_HAUSHALTE', axis = 1, inplace = True)\n",
    "azdias.drop('ANZ_STATISTISCHE_HAUSHALTE', axis = 1, inplace = True)"
   ]
  },
  {
   "cell_type": "markdown",
   "metadata": {},
   "source": [
    "#### ANZ_HH_TITEL\n",
    "\n",
    "*number of holders of an academic title in the building*\n",
    "\n",
    "We are dropping this column, not really useful."
   ]
  },
  {
   "cell_type": "code",
   "execution_count": 524,
   "metadata": {},
   "outputs": [],
   "source": [
    "customers.drop('ANZ_HH_TITEL', axis = 1, inplace = True)\n",
    "azdias.drop('ANZ_HH_TITEL', axis = 1, inplace = True)"
   ]
  },
  {
   "cell_type": "markdown",
   "metadata": {},
   "source": [
    "### GEBAEUDETYP\n",
    "\n",
    "*type of building (residential or commercial)*\n",
    "\n",
    "Categorical variable. We use dummies"
   ]
  },
  {
   "cell_type": "code",
   "execution_count": 525,
   "metadata": {},
   "outputs": [
    {
     "name": "stdout",
     "output_type": "stream",
     "text": [
      "Percentage of missing values in customers 26.05086 %\n",
      "Percentage of missing values in azdias 10.45173 %\n",
      "\n",
      "Frequencies in azdias:\n"
     ]
    },
    {
     "data": {
      "text/plain": [
       "1.0    460465\n",
       "3.0    178668\n",
       "8.0    152476\n",
       "NaN     93148\n",
       "2.0      4935\n",
       "4.0       900\n",
       "6.0       628\n",
       "5.0         1\n",
       "Name: GEBAEUDETYP, dtype: int64"
      ]
     },
     "metadata": {},
     "output_type": "display_data"
    },
    {
     "name": "stdout",
     "output_type": "stream",
     "text": [
      "\n",
      "Frequencies in customers:\n"
     ]
    },
    {
     "data": {
      "text/plain": [
       "1.0    95145\n",
       "NaN    49927\n",
       "3.0    23655\n",
       "8.0    20475\n",
       "2.0     2057\n",
       "4.0      251\n",
       "6.0      142\n",
       "Name: GEBAEUDETYP, dtype: int64"
      ]
     },
     "metadata": {},
     "output_type": "display_data"
    }
   ],
   "source": [
    "general_attribute_info('GEBAEUDETYP')"
   ]
  },
  {
   "cell_type": "code",
   "execution_count": 526,
   "metadata": {},
   "outputs": [],
   "source": [
    "# using dummy variables\n",
    "customers = pd.get_dummies(customers, columns = ['GEBAEUDETYP'])\n",
    "\n",
    "azdias = pd.get_dummies(azdias, columns = ['GEBAEUDETYP'])"
   ]
  },
  {
   "cell_type": "code",
   "execution_count": 527,
   "metadata": {},
   "outputs": [],
   "source": [
    "# Automatically check if they have the same dummy columns, if not, add colum fill with zeros\n",
    "customers['GEBAEUDETYP_5.0'] = pd.Series(0, index = customers.index)"
   ]
  },
  {
   "cell_type": "markdown",
   "metadata": {},
   "source": [
    "### KBA05_HERSTTEMP & KBA05_MODTEMP\n",
    "\n",
    "*Development of the most common car manufacturers in the neighbourhood*\n",
    "\n",
    "&\n",
    "\n",
    "*Development of the most common car segment in the neighbourhood*\n",
    "\n",
    "We are dropping this columns."
   ]
  },
  {
   "cell_type": "code",
   "execution_count": 528,
   "metadata": {},
   "outputs": [],
   "source": [
    "customers.drop(['KBA05_HERSTTEMP', 'KBA05_MODTEMP'], axis = 1, inplace = True)\n",
    "azdias.drop(['KBA05_HERSTTEMP', 'KBA05_MODTEMP'], axis = 1, inplace = True)"
   ]
  },
  {
   "cell_type": "markdown",
   "metadata": {},
   "source": [
    "### KONSUMNAEHE\n",
    "\n",
    "*distance from a building to PoS (Point of Sale)*\n",
    "\n",
    "Ordinal variable with very few missing values, we forward fill and keep it as it is."
   ]
  },
  {
   "cell_type": "code",
   "execution_count": 529,
   "metadata": {},
   "outputs": [
    {
     "name": "stdout",
     "output_type": "stream",
     "text": [
      "Percentage of missing values in customers 24.34151 %\n",
      "Percentage of missing values in azdias 8.29974 %\n",
      "\n",
      "Frequencies in azdias:\n"
     ]
    },
    {
     "data": {
      "text/plain": [
       "1.0    193738\n",
       "3.0    171127\n",
       "5.0    153535\n",
       "2.0    134665\n",
       "4.0    133324\n",
       "NaN     73969\n",
       "6.0     26625\n",
       "7.0      4238\n",
       "Name: KONSUMNAEHE, dtype: int64"
      ]
     },
     "metadata": {},
     "output_type": "display_data"
    },
    {
     "name": "stdout",
     "output_type": "stream",
     "text": [
      "\n",
      "Frequencies in customers:\n"
     ]
    },
    {
     "data": {
      "text/plain": [
       "NaN    46651\n",
       "3.0    34383\n",
       "5.0    28405\n",
       "4.0    27995\n",
       "1.0    25886\n",
       "2.0    24857\n",
       "6.0     3229\n",
       "7.0      246\n",
       "Name: KONSUMNAEHE, dtype: int64"
      ]
     },
     "metadata": {},
     "output_type": "display_data"
    }
   ],
   "source": [
    "general_attribute_info('KONSUMNAEHE')"
   ]
  },
  {
   "cell_type": "code",
   "execution_count": 530,
   "metadata": {},
   "outputs": [],
   "source": [
    "azdias['KONSUMNAEHE'].fillna(azdias['KONSUMNAEHE'].mode().values[0], inplace = True)\n",
    "customers['KONSUMNAEHE'].fillna(customers['KONSUMNAEHE'].mode().values[0], inplace = True)"
   ]
  },
  {
   "cell_type": "markdown",
   "metadata": {},
   "source": [
    "### MIN_GEBAEUDEJAHR\n",
    "\n",
    "*year the building was first mentioned in our database*\n",
    "\n",
    "Numeric variable with no missing values. "
   ]
  },
  {
   "cell_type": "code",
   "execution_count": 531,
   "metadata": {},
   "outputs": [
    {
     "name": "stdout",
     "output_type": "stream",
     "text": [
      "Percentage of missing values in customers 26.05086 %\n",
      "Percentage of missing values in azdias 10.45173 %\n",
      "\n",
      "Frequencies in azdias:\n"
     ]
    },
    {
     "data": {
      "text/plain": [
       "1992.0    568776\n",
       "NaN        93148\n",
       "1994.0     78835\n",
       "1993.0     25488\n",
       "1995.0     25464\n",
       "1996.0     16611\n",
       "1997.0     14464\n",
       "2000.0      7382\n",
       "2001.0      5877\n",
       "1991.0      5811\n",
       "2005.0      5553\n",
       "1999.0      4413\n",
       "1990.0      4408\n",
       "2002.0      4216\n",
       "1998.0      4097\n",
       "2003.0      3356\n",
       "2004.0      2935\n",
       "2008.0      2197\n",
       "2007.0      2156\n",
       "1989.0      2046\n",
       "2009.0      2016\n",
       "2006.0      1984\n",
       "2011.0      1903\n",
       "2012.0      1861\n",
       "2010.0      1410\n",
       "2013.0      1230\n",
       "1988.0      1027\n",
       "2014.0      1001\n",
       "2015.0       717\n",
       "1987.0       470\n",
       "2016.0       128\n",
       "1986.0       125\n",
       "1985.0       116\n",
       "Name: MIN_GEBAEUDEJAHR, dtype: int64"
      ]
     },
     "metadata": {},
     "output_type": "display_data"
    },
    {
     "name": "stdout",
     "output_type": "stream",
     "text": [
      "\n",
      "Frequencies in customers:\n"
     ]
    },
    {
     "data": {
      "text/plain": [
       "1992.0    106438\n",
       "NaN        49927\n",
       "1994.0     11714\n",
       "1993.0      4084\n",
       "1995.0      2896\n",
       "1996.0      2618\n",
       "1997.0      2524\n",
       "2000.0      1241\n",
       "1991.0      1121\n",
       "1990.0      1022\n",
       "2001.0       973\n",
       "2005.0       741\n",
       "2002.0       700\n",
       "1999.0       649\n",
       "1998.0       609\n",
       "1989.0       581\n",
       "2003.0       524\n",
       "2004.0       455\n",
       "2007.0       365\n",
       "2008.0       352\n",
       "2009.0       297\n",
       "2006.0       297\n",
       "2011.0       248\n",
       "1988.0       245\n",
       "2012.0       219\n",
       "2010.0       213\n",
       "2013.0       188\n",
       "2014.0       147\n",
       "1987.0       118\n",
       "2015.0        88\n",
       "1986.0        38\n",
       "1985.0        16\n",
       "2016.0         4\n",
       "Name: MIN_GEBAEUDEJAHR, dtype: int64"
      ]
     },
     "metadata": {},
     "output_type": "display_data"
    }
   ],
   "source": [
    "general_attribute_info('MIN_GEBAEUDEJAHR')"
   ]
  },
  {
   "cell_type": "code",
   "execution_count": 532,
   "metadata": {},
   "outputs": [],
   "source": [
    "customers['MIN_GEBAEUDEJAHR'].fillna(method = 'ffill', inplace = True)\n",
    "azdias['MIN_GEBAEUDEJAHR'].fillna(method = 'ffill', inplace = True)\n",
    "\n",
    "customers['MIN_GEBAEUDEJAHR'].fillna(customers['MIN_GEBAEUDEJAHR'].mode().values[0], inplace = True)\n",
    "azdias['MIN_GEBAEUDEJAHR'].fillna(azdias['MIN_GEBAEUDEJAHR'].mode().values[0], inplace = True)"
   ]
  },
  {
   "cell_type": "markdown",
   "metadata": {},
   "source": [
    "#### OST_WEST_KZ\n",
    "\n",
    "*flag indicating the former GDR/FRG*\n",
    "\n",
    "A historical fact, we keep it."
   ]
  },
  {
   "cell_type": "code",
   "execution_count": 533,
   "metadata": {},
   "outputs": [
    {
     "name": "stdout",
     "output_type": "stream",
     "text": [
      "Percentage of missing values in customers 26.05086 %\n",
      "Percentage of missing values in azdias 10.45173 %\n",
      "\n",
      "Frequencies in azdias:\n"
     ]
    },
    {
     "data": {
      "text/plain": [
       "W      629528\n",
       "O      168545\n",
       "NaN     93148\n",
       "Name: OST_WEST_KZ, dtype: int64"
      ]
     },
     "metadata": {},
     "output_type": "display_data"
    },
    {
     "name": "stdout",
     "output_type": "stream",
     "text": [
      "\n",
      "Frequencies in customers:\n"
     ]
    },
    {
     "data": {
      "text/plain": [
       "W      130382\n",
       "NaN     49927\n",
       "O       11343\n",
       "Name: OST_WEST_KZ, dtype: int64"
      ]
     },
     "metadata": {},
     "output_type": "display_data"
    }
   ],
   "source": [
    "general_attribute_info('OST_WEST_KZ')"
   ]
  },
  {
   "cell_type": "code",
   "execution_count": 534,
   "metadata": {},
   "outputs": [],
   "source": [
    "customers['OST_WEST_KZ'].fillna(method = 'ffill', inplace = True)\n",
    "azdias['OST_WEST_KZ'].fillna(method = 'ffill', inplace = True)\n",
    "\n",
    "customers['OST_WEST_KZ'].fillna(customers['OST_WEST_KZ'].mode().values[0], inplace = True)\n",
    "azdias['OST_WEST_KZ'].fillna(azdias['OST_WEST_KZ'].mode().values[0], inplace = True)"
   ]
  },
  {
   "cell_type": "markdown",
   "metadata": {},
   "source": [
    "#### Replace string by numbers (0, 1)"
   ]
  },
  {
   "cell_type": "code",
   "execution_count": 535,
   "metadata": {},
   "outputs": [],
   "source": [
    "customers['OST_WEST_KZ'].replace({'O': 0, 'W': 1}, inplace = True)\n",
    "azdias['OST_WEST_KZ'].replace({'O': 0, 'W': 1}, inplace = True)"
   ]
  },
  {
   "cell_type": "markdown",
   "metadata": {},
   "source": [
    "#### WOHNLAGE\n",
    "\n",
    "*neighbourhood-area (very good -> rather poor; rural nbh)*\n",
    "\n",
    "An ordinal variable, we keep it as it is."
   ]
  },
  {
   "cell_type": "code",
   "execution_count": 536,
   "metadata": {
    "scrolled": true
   },
   "outputs": [
    {
     "name": "stdout",
     "output_type": "stream",
     "text": [
      "Percentage of missing values in customers 26.05086 %\n",
      "Percentage of missing values in azdias 10.45173 %\n",
      "\n",
      "Frequencies in azdias:\n"
     ]
    },
    {
     "data": {
      "text/plain": [
       "3.0    249719\n",
       "7.0    169318\n",
       "4.0    135973\n",
       "2.0    100376\n",
       "NaN     93148\n",
       "5.0     74346\n",
       "1.0     43918\n",
       "8.0     17473\n",
       "0.0      6950\n",
       "Name: WOHNLAGE, dtype: int64"
      ]
     },
     "metadata": {},
     "output_type": "display_data"
    },
    {
     "name": "stdout",
     "output_type": "stream",
     "text": [
      "\n",
      "Frequencies in customers:\n"
     ]
    },
    {
     "data": {
      "text/plain": [
       "NaN    49927\n",
       "3.0    45074\n",
       "7.0    31328\n",
       "2.0    24427\n",
       "1.0    16567\n",
       "4.0    15096\n",
       "5.0     5890\n",
       "8.0     2236\n",
       "0.0     1107\n",
       "Name: WOHNLAGE, dtype: int64"
      ]
     },
     "metadata": {},
     "output_type": "display_data"
    }
   ],
   "source": [
    "general_attribute_info('WOHNLAGE')"
   ]
  },
  {
   "cell_type": "code",
   "execution_count": 537,
   "metadata": {},
   "outputs": [],
   "source": [
    "customers['WOHNLAGE'].fillna(method = 'ffill', inplace = True)\n",
    "azdias['WOHNLAGE'].fillna(method = 'ffill', inplace = True)\n",
    "\n",
    "azdias['WOHNLAGE'].fillna(azdias['WOHNLAGE'].mode().values[0], inplace = True)\n",
    "customers['WOHNLAGE'].fillna(customers['WOHNLAGE'].mode().values[0], inplace = True)"
   ]
  },
  {
   "cell_type": "markdown",
   "metadata": {},
   "source": [
    "## RR1_ID\n",
    "\n",
    "#### GEBAEUDETYP_RASTER\n",
    "\n",
    "Categorical variables. We use dummy variables"
   ]
  },
  {
   "cell_type": "code",
   "execution_count": 538,
   "metadata": {},
   "outputs": [
    {
     "name": "stdout",
     "output_type": "stream",
     "text": [
      "Percentage of missing values in customers 26.05086 %\n",
      "Percentage of missing values in azdias 10.45251 %\n",
      "\n",
      "Frequencies in azdias:\n"
     ]
    },
    {
     "data": {
      "text/plain": [
       "4.0    359620\n",
       "3.0    205330\n",
       "5.0    159217\n",
       "NaN     93155\n",
       "2.0     58961\n",
       "1.0     14938\n",
       "Name: GEBAEUDETYP_RASTER, dtype: int64"
      ]
     },
     "metadata": {},
     "output_type": "display_data"
    },
    {
     "name": "stdout",
     "output_type": "stream",
     "text": [
      "\n",
      "Frequencies in customers:\n"
     ]
    },
    {
     "data": {
      "text/plain": [
       "4.0    74249\n",
       "NaN    49927\n",
       "3.0    30875\n",
       "5.0    28282\n",
       "2.0     6649\n",
       "1.0     1670\n",
       "Name: GEBAEUDETYP_RASTER, dtype: int64"
      ]
     },
     "metadata": {},
     "output_type": "display_data"
    }
   ],
   "source": [
    "general_attribute_info('GEBAEUDETYP_RASTER')"
   ]
  },
  {
   "cell_type": "markdown",
   "metadata": {},
   "source": [
    "Forward fill missing values"
   ]
  },
  {
   "cell_type": "code",
   "execution_count": 539,
   "metadata": {},
   "outputs": [],
   "source": [
    "customers['GEBAEUDETYP_RASTER'].fillna(customers['GEBAEUDETYP_RASTER'].mode().values[0], inplace = True)\n",
    "azdias['GEBAEUDETYP_RASTER'].fillna(azdias['GEBAEUDETYP_RASTER'].mode().values[0], inplace = True)"
   ]
  },
  {
   "cell_type": "code",
   "execution_count": 540,
   "metadata": {},
   "outputs": [],
   "source": [
    "# using dummy variables\n",
    "customers = pd.get_dummies(customers, columns = ['GEBAEUDETYP_RASTER'])\n",
    "\n",
    "azdias = pd.get_dummies(azdias, columns = ['GEBAEUDETYP_RASTER'])"
   ]
  },
  {
   "cell_type": "code",
   "execution_count": 541,
   "metadata": {},
   "outputs": [
    {
     "name": "stdout",
     "output_type": "stream",
     "text": [
      "5462871\n",
      "2493323\n",
      "(891221, 228)\n"
     ]
    },
    {
     "data": {
      "text/plain": [
       "(191652, 231)"
      ]
     },
     "execution_count": 541,
     "metadata": {},
     "output_type": "execute_result"
    }
   ],
   "source": [
    "print(azdias.isnull().sum().sum())\n",
    "print(customers.isnull().sum().sum())\n",
    "print(azdias.shape)\n",
    "customers.shape"
   ]
  },
  {
   "cell_type": "markdown",
   "metadata": {},
   "source": [
    "### KKK\n",
    "\n",
    "*Purchasing power*\n",
    "\n",
    "Probably a highly-relevant attribute. We leave it as it is because it is an ordinal variable."
   ]
  },
  {
   "cell_type": "code",
   "execution_count": 542,
   "metadata": {},
   "outputs": [
    {
     "name": "stdout",
     "output_type": "stream",
     "text": [
      "Percentage of missing values in customers 31.34014 %\n",
      "Percentage of missing values in azdias 17.73567 %\n",
      "\n",
      "Frequencies in azdias:\n"
     ]
    },
    {
     "data": {
      "text/plain": [
       "3.0    273024\n",
       "2.0    181519\n",
       "4.0    178648\n",
       "NaN    158064\n",
       "1.0     99966\n",
       "Name: KKK, dtype: int64"
      ]
     },
     "metadata": {},
     "output_type": "display_data"
    },
    {
     "name": "stdout",
     "output_type": "stream",
     "text": [
      "\n",
      "Frequencies in customers:\n"
     ]
    },
    {
     "data": {
      "text/plain": [
       "NaN    60064\n",
       "3.0    40739\n",
       "2.0    40049\n",
       "1.0    28850\n",
       "4.0    21950\n",
       "Name: KKK, dtype: int64"
      ]
     },
     "metadata": {},
     "output_type": "display_data"
    }
   ],
   "source": [
    "general_attribute_info('KKK')"
   ]
  },
  {
   "cell_type": "markdown",
   "metadata": {},
   "source": [
    "Since this is a very important attribute we are going to impute values using the `HH_EINKOMMEN_SCORE` attribute, which also refers to the income of the subject. We can see that both of these attributes have a relatively high correlation (both are ordinal):"
   ]
  },
  {
   "cell_type": "code",
   "execution_count": 543,
   "metadata": {},
   "outputs": [
    {
     "data": {
      "text/html": [
       "<div>\n",
       "<style scoped>\n",
       "    .dataframe tbody tr th:only-of-type {\n",
       "        vertical-align: middle;\n",
       "    }\n",
       "\n",
       "    .dataframe tbody tr th {\n",
       "        vertical-align: top;\n",
       "    }\n",
       "\n",
       "    .dataframe thead th {\n",
       "        text-align: right;\n",
       "    }\n",
       "</style>\n",
       "<table border=\"1\" class=\"dataframe\">\n",
       "  <thead>\n",
       "    <tr style=\"text-align: right;\">\n",
       "      <th></th>\n",
       "      <th>KKK</th>\n",
       "      <th>HH_EINKOMMEN_SCORE</th>\n",
       "    </tr>\n",
       "  </thead>\n",
       "  <tbody>\n",
       "    <tr>\n",
       "      <th>KKK</th>\n",
       "      <td>1.000000</td>\n",
       "      <td>0.315075</td>\n",
       "    </tr>\n",
       "    <tr>\n",
       "      <th>HH_EINKOMMEN_SCORE</th>\n",
       "      <td>0.315075</td>\n",
       "      <td>1.000000</td>\n",
       "    </tr>\n",
       "  </tbody>\n",
       "</table>\n",
       "</div>"
      ],
      "text/plain": [
       "                         KKK  HH_EINKOMMEN_SCORE\n",
       "KKK                 1.000000            0.315075\n",
       "HH_EINKOMMEN_SCORE  0.315075            1.000000"
      ]
     },
     "execution_count": 543,
     "metadata": {},
     "output_type": "execute_result"
    }
   ],
   "source": [
    "azdias[['KKK', 'HH_EINKOMMEN_SCORE']].corr()"
   ]
  },
  {
   "cell_type": "markdown",
   "metadata": {},
   "source": [
    "To impute values on `KKK` we do the following:"
   ]
  },
  {
   "cell_type": "code",
   "execution_count": 544,
   "metadata": {},
   "outputs": [],
   "source": [
    "# define auxiliar series similar to HH_EINKOMMEN_SCORE, but with some minor changes.\n",
    "aux_enikommen = azdias['HH_EINKOMMEN_SCORE'].replace({2.0: 1.0, 3.0: 2.0, 4.0: 3.0, 5.0: 4.0, 6.0: 4.0})\n",
    "\n",
    "# Use mask for imputing values in KKK\n",
    "azdias['KKK'].mask( azdias['KKK'].isnull(), aux_enikommen, inplace = True)"
   ]
  },
  {
   "cell_type": "code",
   "execution_count": 545,
   "metadata": {},
   "outputs": [],
   "source": [
    "# define auxiliar series similar to HH_EINKOMMEN_SCORE, but with some minor changes.\n",
    "aux_enikommen_cust = customers['HH_EINKOMMEN_SCORE'].replace({2.0: 1.0, 3.0: 2.0, 4.0: 3.0, 5.0: 4.0, 6.0: 4.0})\n",
    "\n",
    "# Use mask for imputing values in KKK\n",
    "customers['KKK'].mask( customers['KKK'].isnull(), aux_enikommen_cust, inplace = True)"
   ]
  },
  {
   "cell_type": "markdown",
   "metadata": {},
   "source": [
    "#### MOBI_REGIO\n",
    "\n",
    "*moving patterns*\n",
    "\n",
    "An ordinal variable, we keep it as it is."
   ]
  },
  {
   "cell_type": "code",
   "execution_count": 546,
   "metadata": {},
   "outputs": [
    {
     "name": "stdout",
     "output_type": "stream",
     "text": [
      "Percentage of missing values in customers 29.20919 %\n",
      "Percentage of missing values in azdias 14.95970 %\n",
      "\n",
      "Frequencies in azdias:\n"
     ]
    },
    {
     "data": {
      "text/plain": [
       "1.0    163993\n",
       "3.0    150336\n",
       "5.0    148713\n",
       "4.0    148209\n",
       "2.0    146305\n",
       "NaN    133324\n",
       "6.0       341\n",
       "Name: MOBI_REGIO, dtype: int64"
      ]
     },
     "metadata": {},
     "output_type": "display_data"
    },
    {
     "name": "stdout",
     "output_type": "stream",
     "text": [
      "\n",
      "Frequencies in customers:\n"
     ]
    },
    {
     "data": {
      "text/plain": [
       "NaN    55980\n",
       "5.0    42651\n",
       "4.0    39148\n",
       "3.0    27399\n",
       "1.0    13204\n",
       "2.0    13182\n",
       "6.0       88\n",
       "Name: MOBI_REGIO, dtype: int64"
      ]
     },
     "metadata": {},
     "output_type": "display_data"
    }
   ],
   "source": [
    "general_attribute_info('MOBI_REGIO')"
   ]
  },
  {
   "cell_type": "code",
   "execution_count": 547,
   "metadata": {},
   "outputs": [],
   "source": [
    "# A few misssing values, we fill with the most common\n",
    "azdias['MOBI_REGIO'].fillna(azdias['MOBI_REGIO'].mode().values[0], inplace = True)\n",
    "customers['MOBI_REGIO'].fillna(customers['MOBI_REGIO'].mode().values[0], inplace = True)"
   ]
  },
  {
   "cell_type": "markdown",
   "metadata": {},
   "source": [
    "#### ONLINE_AFFINITAET\n",
    "\n",
    "*Online affinity*\n",
    "\n",
    "An ordinal variable, we keep it as it is."
   ]
  },
  {
   "cell_type": "code",
   "execution_count": 548,
   "metadata": {},
   "outputs": [
    {
     "name": "stdout",
     "output_type": "stream",
     "text": [
      "Percentage of missing values in customers 1.67648 %\n",
      "Percentage of missing values in azdias 0.54465 %\n",
      "\n",
      "Frequencies in azdias:\n"
     ]
    },
    {
     "data": {
      "text/plain": [
       "2.0    197850\n",
       "4.0    164704\n",
       "3.0    163487\n",
       "1.0    156499\n",
       "5.0    138111\n",
       "0.0     65716\n",
       "NaN      4854\n",
       "Name: ONLINE_AFFINITAET, dtype: int64"
      ]
     },
     "metadata": {},
     "output_type": "display_data"
    },
    {
     "name": "stdout",
     "output_type": "stream",
     "text": [
      "\n",
      "Frequencies in customers:\n"
     ]
    },
    {
     "data": {
      "text/plain": [
       "2.0    76440\n",
       "4.0    39104\n",
       "3.0    28791\n",
       "5.0    21311\n",
       "1.0    18683\n",
       "0.0     4110\n",
       "NaN     3213\n",
       "Name: ONLINE_AFFINITAET, dtype: int64"
      ]
     },
     "metadata": {},
     "output_type": "display_data"
    }
   ],
   "source": [
    "general_attribute_info('ONLINE_AFFINITAET')"
   ]
  },
  {
   "cell_type": "code",
   "execution_count": 549,
   "metadata": {},
   "outputs": [],
   "source": [
    "# A few misssing values, we fill with the most common\n",
    "azdias['ONLINE_AFFINITAET'].fillna(azdias['ONLINE_AFFINITAET'].mode().values[0], inplace = True)\n",
    "customers['ONLINE_AFFINITAET'].fillna(customers['ONLINE_AFFINITAET'].mode().values[0], inplace = True)"
   ]
  },
  {
   "cell_type": "markdown",
   "metadata": {},
   "source": [
    "#### REGIOTYP\n",
    "\n",
    "*AZ neighbourhood typology*\n",
    "\n",
    "A categorical variable, we use dummy variables."
   ]
  },
  {
   "cell_type": "code",
   "execution_count": 550,
   "metadata": {},
   "outputs": [
    {
     "name": "stdout",
     "output_type": "stream",
     "text": [
      "Percentage of missing values in customers 31.34014 %\n",
      "Percentage of missing values in azdias 17.73567 %\n",
      "\n",
      "Frequencies in azdias:\n"
     ]
    },
    {
     "data": {
      "text/plain": [
       "6.0    195286\n",
       "NaN    158064\n",
       "5.0    145359\n",
       "3.0     93929\n",
       "2.0     91662\n",
       "7.0     83943\n",
       "4.0     68180\n",
       "1.0     54798\n",
       "Name: REGIOTYP, dtype: int64"
      ]
     },
     "metadata": {},
     "output_type": "display_data"
    },
    {
     "name": "stdout",
     "output_type": "stream",
     "text": [
      "\n",
      "Frequencies in customers:\n"
     ]
    },
    {
     "data": {
      "text/plain": [
       "NaN    60064\n",
       "6.0    28506\n",
       "2.0    21866\n",
       "5.0    21415\n",
       "3.0    19764\n",
       "1.0    17362\n",
       "7.0    11621\n",
       "4.0    11054\n",
       "Name: REGIOTYP, dtype: int64"
      ]
     },
     "metadata": {},
     "output_type": "display_data"
    }
   ],
   "source": [
    "general_attribute_info('REGIOTYP')"
   ]
  },
  {
   "cell_type": "code",
   "execution_count": 551,
   "metadata": {},
   "outputs": [],
   "source": [
    "# A few misssing values, we fill with the most common\n",
    "azdias['REGIOTYP'].fillna(azdias['REGIOTYP'].mode().values[0], inplace = True)\n",
    "customers['REGIOTYP'].fillna(customers['REGIOTYP'].mode().values[0], inplace = True)"
   ]
  },
  {
   "cell_type": "code",
   "execution_count": 552,
   "metadata": {},
   "outputs": [],
   "source": [
    "# dummy variables\n",
    "customers = pd.get_dummies(customers, columns = ['REGIOTYP'])\n",
    "\n",
    "azdias = pd.get_dummies(azdias, columns = ['REGIOTYP'])"
   ]
  },
  {
   "cell_type": "markdown",
   "metadata": {},
   "source": [
    "## Postcode\n",
    "\n",
    "#### BALLRAUM\n",
    "\n",
    "*distance to the next metropole*\n",
    "\n",
    "An ordinal variable, we keep it as it is."
   ]
  },
  {
   "cell_type": "code",
   "execution_count": 553,
   "metadata": {},
   "outputs": [
    {
     "name": "stdout",
     "output_type": "stream",
     "text": [
      "Percentage of missing values in customers 26.06756 %\n",
      "Percentage of missing values in azdias 10.51815 %\n",
      "\n",
      "Frequencies in azdias:\n"
     ]
    },
    {
     "data": {
      "text/plain": [
       "6.0    255093\n",
       "1.0    151782\n",
       "2.0    104521\n",
       "7.0     99039\n",
       "NaN     93740\n",
       "3.0     73277\n",
       "4.0     61358\n",
       "5.0     52411\n",
       "Name: BALLRAUM, dtype: int64"
      ]
     },
     "metadata": {},
     "output_type": "display_data"
    },
    {
     "name": "stdout",
     "output_type": "stream",
     "text": [
      "\n",
      "Frequencies in customers:\n"
     ]
    },
    {
     "data": {
      "text/plain": [
       "NaN    49959\n",
       "6.0    48075\n",
       "1.0    21097\n",
       "2.0    20117\n",
       "7.0    17873\n",
       "3.0    13240\n",
       "4.0    11538\n",
       "5.0     9753\n",
       "Name: BALLRAUM, dtype: int64"
      ]
     },
     "metadata": {},
     "output_type": "display_data"
    }
   ],
   "source": [
    "general_attribute_info('BALLRAUM')"
   ]
  },
  {
   "cell_type": "code",
   "execution_count": 554,
   "metadata": {},
   "outputs": [],
   "source": [
    "# A few misssing values, we fill with the most common\n",
    "azdias['BALLRAUM'].fillna(azdias['BALLRAUM'].mode().values[0], inplace = True)\n",
    "customers['BALLRAUM'].fillna(customers['BALLRAUM'].mode().values[0], inplace = True)"
   ]
  },
  {
   "cell_type": "markdown",
   "metadata": {},
   "source": [
    "#### EWDICHTE\n",
    "\n",
    "*density of inhabitants per square kilometer*\n",
    "\n",
    "An ordinal variable, we keep it as it is."
   ]
  },
  {
   "cell_type": "code",
   "execution_count": 555,
   "metadata": {},
   "outputs": [
    {
     "name": "stdout",
     "output_type": "stream",
     "text": [
      "Percentage of missing values in customers 26.06756 %\n",
      "Percentage of missing values in azdias 10.51815 %\n",
      "\n",
      "Frequencies in azdias:\n"
     ]
    },
    {
     "data": {
      "text/plain": [
       "6.0    201009\n",
       "5.0    161209\n",
       "2.0    139087\n",
       "4.0    130716\n",
       "NaN     93740\n",
       "1.0     84051\n",
       "3.0     81409\n",
       "Name: EWDICHTE, dtype: int64"
      ]
     },
     "metadata": {},
     "output_type": "display_data"
    },
    {
     "name": "stdout",
     "output_type": "stream",
     "text": [
      "\n",
      "Frequencies in customers:\n"
     ]
    },
    {
     "data": {
      "text/plain": [
       "NaN    49959\n",
       "5.0    32475\n",
       "6.0    27363\n",
       "4.0    27170\n",
       "2.0    25546\n",
       "3.0    17273\n",
       "1.0    11866\n",
       "Name: EWDICHTE, dtype: int64"
      ]
     },
     "metadata": {},
     "output_type": "display_data"
    }
   ],
   "source": [
    "general_attribute_info('EWDICHTE')"
   ]
  },
  {
   "cell_type": "code",
   "execution_count": 556,
   "metadata": {},
   "outputs": [],
   "source": [
    "# A few misssing values, we fill with the most common\n",
    "azdias['EWDICHTE'].fillna(azdias['EWDICHTE'].mode().values[0], inplace = True)\n",
    "customers['EWDICHTE'].fillna(customers['EWDICHTE'].mode().values[0], inplace = True)"
   ]
  },
  {
   "cell_type": "markdown",
   "metadata": {},
   "source": [
    "#### INNENSTADT\n",
    "\n",
    "*distance to the city centre*\n",
    "\n",
    "Ordinal variable, we keep it."
   ]
  },
  {
   "cell_type": "code",
   "execution_count": 557,
   "metadata": {},
   "outputs": [
    {
     "name": "stdout",
     "output_type": "stream",
     "text": [
      "Percentage of missing values in customers 26.06756 %\n",
      "Percentage of missing values in azdias 10.51815 %\n",
      "\n",
      "Frequencies in azdias:\n"
     ]
    },
    {
     "data": {
      "text/plain": [
       "5.0    147626\n",
       "4.0    134067\n",
       "6.0    111679\n",
       "2.0    109048\n",
       "NaN     93740\n",
       "3.0     92818\n",
       "8.0     82870\n",
       "7.0     67463\n",
       "1.0     51910\n",
       "Name: INNENSTADT, dtype: int64"
      ]
     },
     "metadata": {},
     "output_type": "display_data"
    },
    {
     "name": "stdout",
     "output_type": "stream",
     "text": [
      "\n",
      "Frequencies in customers:\n"
     ]
    },
    {
     "data": {
      "text/plain": [
       "NaN    49959\n",
       "5.0    28031\n",
       "4.0    27700\n",
       "6.0    19532\n",
       "8.0    18075\n",
       "3.0    15792\n",
       "2.0    14371\n",
       "7.0    11814\n",
       "1.0     6378\n",
       "Name: INNENSTADT, dtype: int64"
      ]
     },
     "metadata": {},
     "output_type": "display_data"
    }
   ],
   "source": [
    "general_attribute_info('INNENSTADT')"
   ]
  },
  {
   "cell_type": "code",
   "execution_count": 558,
   "metadata": {},
   "outputs": [],
   "source": [
    "# A few misssing values, we fill with the most common\n",
    "azdias['INNENSTADT'].fillna(azdias['INNENSTADT'].mode().values[0], inplace = True)\n",
    "customers['INNENSTADT'].fillna(customers['INNENSTADT'].mode().values[0], inplace = True)"
   ]
  },
  {
   "cell_type": "markdown",
   "metadata": {},
   "source": [
    "## Community\n",
    "\n",
    "#### ARBEIT\n",
    "\n",
    "*share of unemployed person in the community*\n",
    "\n",
    "Ordinal variable, fix missing values and keep it."
   ]
  },
  {
   "cell_type": "code",
   "execution_count": 559,
   "metadata": {},
   "outputs": [
    {
     "name": "stdout",
     "output_type": "stream",
     "text": [
      "Percentage of missing values in customers 26.33732 %\n",
      "Percentage of missing values in azdias 10.90818 %\n",
      "\n",
      "Frequencies in azdias:\n"
     ]
    },
    {
     "data": {
      "text/plain": [
       "4.0    311339\n",
       "3.0    254988\n",
       "2.0    135662\n",
       "NaN     97216\n",
       "1.0     56767\n",
       "5.0     35090\n",
       "9.0       159\n",
       "Name: ARBEIT, dtype: int64"
      ]
     },
     "metadata": {},
     "output_type": "display_data"
    },
    {
     "name": "stdout",
     "output_type": "stream",
     "text": [
      "\n",
      "Frequencies in customers:\n"
     ]
    },
    {
     "data": {
      "text/plain": [
       "3.0    50905\n",
       "NaN    50476\n",
       "4.0    37595\n",
       "2.0    33334\n",
       "1.0    16941\n",
       "5.0     2378\n",
       "9.0       23\n",
       "Name: ARBEIT, dtype: int64"
      ]
     },
     "metadata": {},
     "output_type": "display_data"
    }
   ],
   "source": [
    "general_attribute_info('ARBEIT')"
   ]
  },
  {
   "cell_type": "code",
   "execution_count": 560,
   "metadata": {},
   "outputs": [],
   "source": [
    "## We fill the values with the 9.0 indicator of missing values\n",
    "customers['ARBEIT'].replace({9.0: np.nan}, inplace = True)\n",
    "azdias['ARBEIT'].replace({9.0: np.nan}, inplace = True)\n",
    "\n",
    "# A few misssing values, we fill with the most common\n",
    "azdias['ARBEIT'].fillna(azdias['ARBEIT'].mode().values[0], inplace = True)\n",
    "customers['ARBEIT'].fillna(customers['ARBEIT'].mode().values[0], inplace = True)"
   ]
  },
  {
   "cell_type": "markdown",
   "metadata": {},
   "source": [
    "#### ORTSGR_KLS9\n",
    "\n",
    "*Classified number of inhabitants*\n",
    "\n",
    "Ordinal variable, we keep it as it is."
   ]
  },
  {
   "cell_type": "code",
   "execution_count": 561,
   "metadata": {},
   "outputs": [
    {
     "name": "stdout",
     "output_type": "stream",
     "text": [
      "Percentage of missing values in customers 26.33732 %\n",
      "Percentage of missing values in azdias 10.90818 %\n",
      "\n",
      "Frequencies in azdias:\n"
     ]
    },
    {
     "data": {
      "text/plain": [
       "5.0    148096\n",
       "4.0    114909\n",
       "7.0    102866\n",
       "NaN     97216\n",
       "9.0     91879\n",
       "3.0     83542\n",
       "6.0     75995\n",
       "8.0     72709\n",
       "2.0     63362\n",
       "1.0     40589\n",
       "0.0        58\n",
       "Name: ORTSGR_KLS9, dtype: int64"
      ]
     },
     "metadata": {},
     "output_type": "display_data"
    },
    {
     "name": "stdout",
     "output_type": "stream",
     "text": [
      "\n",
      "Frequencies in customers:\n"
     ]
    },
    {
     "data": {
      "text/plain": [
       "NaN    50476\n",
       "5.0    28741\n",
       "4.0    23133\n",
       "7.0    19363\n",
       "3.0    16046\n",
       "6.0    13456\n",
       "2.0    12468\n",
       "9.0    11430\n",
       "8.0    11108\n",
       "1.0     5431\n",
       "Name: ORTSGR_KLS9, dtype: int64"
      ]
     },
     "metadata": {},
     "output_type": "display_data"
    }
   ],
   "source": [
    "general_attribute_info('ORTSGR_KLS9')"
   ]
  },
  {
   "cell_type": "code",
   "execution_count": 562,
   "metadata": {},
   "outputs": [],
   "source": [
    "azdias['ORTSGR_KLS9'].fillna(azdias['ORTSGR_KLS9'].mode().values[0], inplace = True)\n",
    "customers['ORTSGR_KLS9'].fillna(customers['ORTSGR_KLS9'].mode().values[0], inplace = True)"
   ]
  },
  {
   "cell_type": "markdown",
   "metadata": {},
   "source": [
    "#### RELAT_AB\n",
    "\n",
    "share of unemployed in relation to the county the community belongs to\n",
    "\n",
    "Ordinal variable."
   ]
  },
  {
   "cell_type": "code",
   "execution_count": 563,
   "metadata": {},
   "outputs": [
    {
     "name": "stdout",
     "output_type": "stream",
     "text": [
      "Percentage of missing values in customers 26.34932 %\n",
      "Percentage of missing values in azdias 10.92602 %\n",
      "\n",
      "Frequencies in azdias:\n"
     ]
    },
    {
     "data": {
      "text/plain": [
       "3.0    274008\n",
       "5.0    174964\n",
       "1.0    142907\n",
       "2.0    104846\n",
       "NaN     97375\n",
       "4.0     97121\n",
       "Name: RELAT_AB, dtype: int64"
      ]
     },
     "metadata": {},
     "output_type": "display_data"
    },
    {
     "name": "stdout",
     "output_type": "stream",
     "text": [
      "\n",
      "Frequencies in customers:\n"
     ]
    },
    {
     "data": {
      "text/plain": [
       "NaN    50499\n",
       "3.0    42012\n",
       "1.0    33341\n",
       "5.0    29068\n",
       "2.0    21326\n",
       "4.0    15406\n",
       "Name: RELAT_AB, dtype: int64"
      ]
     },
     "metadata": {},
     "output_type": "display_data"
    }
   ],
   "source": [
    "general_attribute_info('RELAT_AB')"
   ]
  },
  {
   "cell_type": "code",
   "execution_count": 564,
   "metadata": {},
   "outputs": [],
   "source": [
    "azdias['RELAT_AB'].fillna(azdias['RELAT_AB'].mode().values[0], inplace = True)\n",
    "customers['RELAT_AB'].fillna(customers['RELAT_AB'].mode().values[0], inplace = True)"
   ]
  },
  {
   "cell_type": "markdown",
   "metadata": {},
   "source": [
    "### CAMEO_\n",
    "\n",
    "- `CAMEO_DEUG_2015`\n",
    "- `CAMEO_DEU_2015`\n",
    "- `CAMEO_DEUINTL_2015`\n",
    "\n",
    "These three attributes classify the subjects in different social and economic groups. All of them are categorical variables, we will only keep the first one because the other two have just too many categories."
   ]
  },
  {
   "cell_type": "code",
   "execution_count": 565,
   "metadata": {},
   "outputs": [],
   "source": [
    "customers.drop(['CAMEO_DEU_2015', 'CAMEO_INTL_2015'], axis = 1, inplace = True)\n",
    "azdias.drop(['CAMEO_DEU_2015', 'CAMEO_INTL_2015'], axis = 1, inplace = True)"
   ]
  },
  {
   "cell_type": "code",
   "execution_count": 566,
   "metadata": {},
   "outputs": [
    {
     "name": "stdout",
     "output_type": "stream",
     "text": [
      "Percentage of missing values in customers 26.37802 %\n",
      "Percentage of missing values in azdias 11.14785 %\n",
      "\n",
      "Frequencies in azdias:\n"
     ]
    },
    {
     "data": {
      "text/plain": [
       "8.0    134441\n",
       "9.0    108177\n",
       "6.0    105874\n",
       "4.0    103912\n",
       "NaN     99352\n",
       "3.0     86779\n",
       "2.0     83231\n",
       "7.0     77933\n",
       "5.0     55310\n",
       "1.0     36212\n",
       "Name: CAMEO_DEUG_2015, dtype: int64"
      ]
     },
     "metadata": {},
     "output_type": "display_data"
    },
    {
     "name": "stdout",
     "output_type": "stream",
     "text": [
      "\n",
      "Frequencies in customers:\n"
     ]
    },
    {
     "data": {
      "text/plain": [
       "NaN    50554\n",
       "2.0    23484\n",
       "4.0    22064\n",
       "6.0    18717\n",
       "3.0    18390\n",
       "1.0    16778\n",
       "8.0    13049\n",
       "5.0    11666\n",
       "7.0    10558\n",
       "9.0     6392\n",
       "Name: CAMEO_DEUG_2015, dtype: int64"
      ]
     },
     "metadata": {},
     "output_type": "display_data"
    }
   ],
   "source": [
    "general_attribute_info('CAMEO_DEUG_2015')"
   ]
  },
  {
   "cell_type": "code",
   "execution_count": 567,
   "metadata": {},
   "outputs": [],
   "source": [
    "azdias['CAMEO_DEUG_2015'].fillna(azdias['CAMEO_DEUG_2015'].mode().values[0], inplace = True)\n",
    "customers['CAMEO_DEUG_2015'].fillna(customers['CAMEO_DEUG_2015'].mode().values[0], inplace = True)"
   ]
  },
  {
   "cell_type": "code",
   "execution_count": 568,
   "metadata": {},
   "outputs": [],
   "source": [
    "# dummy variables\n",
    "customers = pd.get_dummies(customers, columns = ['CAMEO_DEUG_2015'])\n",
    "\n",
    "azdias = pd.get_dummies(azdias, columns = ['CAMEO_DEUG_2015'])"
   ]
  },
  {
   "cell_type": "markdown",
   "metadata": {},
   "source": [
    "### CJT_TYP_1-6\n",
    "\n",
    "We don't have the description of this features. We will assume they are ordinal features, we will fill missing values and keep them."
   ]
  },
  {
   "cell_type": "code",
   "execution_count": 569,
   "metadata": {},
   "outputs": [
    {
     "name": "stdout",
     "output_type": "stream",
     "text": [
      "Percentage of missing values in customers 1.67648 %\n",
      "Percentage of missing values in azdias 0.54465 %\n",
      "\n",
      "Frequencies in azdias:\n"
     ]
    },
    {
     "data": {
      "text/plain": [
       "5.0    271673\n",
       "3.0    194636\n",
       "2.0    174808\n",
       "4.0    147220\n",
       "1.0     98030\n",
       "NaN      4854\n",
       "Name: CJT_TYP_5, dtype: int64"
      ]
     },
     "metadata": {},
     "output_type": "display_data"
    },
    {
     "name": "stdout",
     "output_type": "stream",
     "text": [
      "\n",
      "Frequencies in customers:\n"
     ]
    },
    {
     "data": {
      "text/plain": [
       "5.0    136309\n",
       "4.0     24855\n",
       "3.0     18855\n",
       "2.0      5786\n",
       "NaN      3213\n",
       "1.0      2634\n",
       "Name: CJT_TYP_5, dtype: int64"
      ]
     },
     "metadata": {},
     "output_type": "display_data"
    }
   ],
   "source": [
    "general_attribute_info('CJT_TYP_5')"
   ]
  },
  {
   "cell_type": "code",
   "execution_count": 570,
   "metadata": {},
   "outputs": [],
   "source": [
    "for at in ['CJT_TYP_1', 'CJT_TYP_2', 'CJT_TYP_3', 'CJT_TYP_4', 'CJT_TYP_5', 'CJT_TYP_6']:\n",
    "    customers[at].fillna(customers[at].mode().values[0], inplace = True)\n",
    "    azdias[at].fillna(azdias[at].mode().values[0], inplace = True)"
   ]
  },
  {
   "cell_type": "markdown",
   "metadata": {},
   "source": [
    "### CJT_KATALOGNUTZER\n",
    "\n",
    "We don't have information about this feature but it seems to be related with *catalog users*, this is probably a highly relevant feature, we fill missing values and keep it"
   ]
  },
  {
   "cell_type": "code",
   "execution_count": 571,
   "metadata": {},
   "outputs": [
    {
     "name": "stdout",
     "output_type": "stream",
     "text": [
      "Percentage of missing values in customers 1.67648 %\n",
      "Percentage of missing values in azdias 0.54465 %\n",
      "\n",
      "Frequencies in azdias:\n"
     ]
    },
    {
     "data": {
      "text/plain": [
       "5.0    281804\n",
       "4.0    174275\n",
       "1.0    167426\n",
       "3.0    156998\n",
       "2.0    105864\n",
       "NaN      4854\n",
       "Name: CJT_KATALOGNUTZER, dtype: int64"
      ]
     },
     "metadata": {},
     "output_type": "display_data"
    },
    {
     "name": "stdout",
     "output_type": "stream",
     "text": [
      "\n",
      "Frequencies in customers:\n"
     ]
    },
    {
     "data": {
      "text/plain": [
       "5.0    107544\n",
       "4.0     27271\n",
       "3.0     22087\n",
       "1.0     20510\n",
       "2.0     11027\n",
       "NaN      3213\n",
       "Name: CJT_KATALOGNUTZER, dtype: int64"
      ]
     },
     "metadata": {},
     "output_type": "display_data"
    }
   ],
   "source": [
    "general_attribute_info('CJT_KATALOGNUTZER')"
   ]
  },
  {
   "cell_type": "code",
   "execution_count": 572,
   "metadata": {},
   "outputs": [],
   "source": [
    "customers['CJT_KATALOGNUTZER'].fillna(customers['CJT_KATALOGNUTZER'].mode().values[0], inplace = True)\n",
    "azdias['CJT_KATALOGNUTZER'].fillna(azdias['CJT_KATALOGNUTZER'].mode().values[0], inplace = True)"
   ]
  },
  {
   "cell_type": "markdown",
   "metadata": {},
   "source": [
    "#### D19_LOTTO\n",
    "\n",
    "This probably refers to the D19_LOTTO_RZ attribute, it is related with transactional activity. We fill its missing values and keep it"
   ]
  },
  {
   "cell_type": "code",
   "execution_count": 573,
   "metadata": {},
   "outputs": [
    {
     "name": "stdout",
     "output_type": "stream",
     "text": [
      "Percentage of missing values in customers 24.88730 %\n",
      "Percentage of missing values in azdias 28.84952 %\n",
      "\n",
      "Frequencies in azdias:\n"
     ]
    },
    {
     "data": {
      "text/plain": [
       "0.0    490843\n",
       "NaN    257113\n",
       "7.0    113486\n",
       "6.0     25736\n",
       "5.0      2011\n",
       "3.0      1869\n",
       "4.0        78\n",
       "2.0        66\n",
       "1.0        19\n",
       "Name: D19_LOTTO, dtype: int64"
      ]
     },
     "metadata": {},
     "output_type": "display_data"
    },
    {
     "name": "stdout",
     "output_type": "stream",
     "text": [
      "\n",
      "Frequencies in customers:\n"
     ]
    },
    {
     "data": {
      "text/plain": [
       "0.0    88281\n",
       "NaN    47697\n",
       "7.0    47084\n",
       "6.0     7609\n",
       "5.0      481\n",
       "3.0      468\n",
       "2.0       17\n",
       "4.0       13\n",
       "1.0        2\n",
       "Name: D19_LOTTO, dtype: int64"
      ]
     },
     "metadata": {},
     "output_type": "display_data"
    }
   ],
   "source": [
    "general_attribute_info('D19_LOTTO')"
   ]
  },
  {
   "cell_type": "code",
   "execution_count": 574,
   "metadata": {},
   "outputs": [],
   "source": [
    "customers['D19_LOTTO'].fillna(customers['D19_LOTTO'].mode().values[0], inplace = True)\n",
    "azdias['D19_LOTTO'].fillna(azdias['D19_LOTTO'].mode().values[0], inplace = True)"
   ]
  },
  {
   "cell_type": "markdown",
   "metadata": {},
   "source": [
    "### D19_SOZIALES, D19_TELKO_ONLINE_QUOTE_12   & D19_VERSI_ONLINE_QUOTE_12      \n",
    "\n",
    "All these features also relate to transacional activity."
   ]
  },
  {
   "cell_type": "code",
   "execution_count": 575,
   "metadata": {},
   "outputs": [],
   "source": [
    "for at in ['D19_SOZIALES', 'D19_TELKO_ONLINE_QUOTE_12', 'D19_VERSI_ONLINE_QUOTE_12']:\n",
    "    customers[at].fillna(customers[at].mode().values[0], inplace = True)\n",
    "    azdias[at].fillna(azdias[at].mode().values[0], inplace = True)"
   ]
  },
  {
   "cell_type": "markdown",
   "metadata": {},
   "source": [
    "#### GEMEINDETYP\n",
    "\n",
    "Probably related to the community.."
   ]
  },
  {
   "cell_type": "code",
   "execution_count": 576,
   "metadata": {},
   "outputs": [],
   "source": [
    "customers['GEMEINDETYP'].fillna(customers['GEMEINDETYP'].mode().values[0], inplace = True)\n",
    "azdias['GEMEINDETYP'].fillna(azdias['GEMEINDETYP'].mode().values[0], inplace = True)"
   ]
  },
  {
   "cell_type": "markdown",
   "metadata": {},
   "source": [
    "#### HH_DELTA_FLAG  \n",
    "\n",
    "A binary feature"
   ]
  },
  {
   "cell_type": "code",
   "execution_count": 577,
   "metadata": {},
   "outputs": [
    {
     "name": "stdout",
     "output_type": "stream",
     "text": [
      "Percentage of missing values in customers 28.04145 %\n",
      "Percentage of missing values in azdias 12.07355 %\n",
      "\n",
      "Frequencies in azdias:\n"
     ]
    },
    {
     "data": {
      "text/plain": [
       "0.0    710942\n",
       "NaN    107602\n",
       "1.0     72677\n",
       "Name: HH_DELTA_FLAG, dtype: int64"
      ]
     },
     "metadata": {},
     "output_type": "display_data"
    },
    {
     "name": "stdout",
     "output_type": "stream",
     "text": [
      "\n",
      "Frequencies in customers:\n"
     ]
    },
    {
     "data": {
      "text/plain": [
       "0.0    117263\n",
       "NaN     53742\n",
       "1.0     20647\n",
       "Name: HH_DELTA_FLAG, dtype: int64"
      ]
     },
     "metadata": {},
     "output_type": "display_data"
    }
   ],
   "source": [
    "general_attribute_info('HH_DELTA_FLAG')"
   ]
  },
  {
   "cell_type": "code",
   "execution_count": 578,
   "metadata": {},
   "outputs": [],
   "source": [
    "customers['HH_DELTA_FLAG'].fillna(customers['HH_DELTA_FLAG'].mode().values[0], inplace = True)\n",
    "azdias['HH_DELTA_FLAG'].fillna(azdias['HH_DELTA_FLAG'].mode().values[0], inplace = True)"
   ]
  },
  {
   "cell_type": "markdown",
   "metadata": {},
   "source": [
    "### RT_KEIN_ANREIZ, RT_SCHNAEPPCHEN & RT_UEBERGROESSE\n",
    "\n",
    "We don't have any information about these features, but they seem to be classifying people based on consuming patterns."
   ]
  },
  {
   "cell_type": "code",
   "execution_count": 579,
   "metadata": {},
   "outputs": [
    {
     "name": "stdout",
     "output_type": "stream",
     "text": [
      "Percentage of missing values in customers 1.67648 %\n",
      "Percentage of missing values in azdias 0.54465 %\n",
      "\n",
      "Frequencies in azdias:\n"
     ]
    },
    {
     "data": {
      "text/plain": [
       "5.0    211534\n",
       "4.0    206707\n",
       "3.0    186655\n",
       "1.0    141140\n",
       "2.0    140331\n",
       "NaN      4854\n",
       "Name: RT_KEIN_ANREIZ, dtype: int64"
      ]
     },
     "metadata": {},
     "output_type": "display_data"
    },
    {
     "name": "stdout",
     "output_type": "stream",
     "text": [
      "\n",
      "Frequencies in customers:\n"
     ]
    },
    {
     "data": {
      "text/plain": [
       "1.0    66533\n",
       "4.0    58452\n",
       "2.0    36421\n",
       "3.0    22160\n",
       "5.0     4873\n",
       "NaN     3213\n",
       "Name: RT_KEIN_ANREIZ, dtype: int64"
      ]
     },
     "metadata": {},
     "output_type": "display_data"
    }
   ],
   "source": [
    "general_attribute_info('RT_KEIN_ANREIZ')"
   ]
  },
  {
   "cell_type": "code",
   "execution_count": 580,
   "metadata": {},
   "outputs": [],
   "source": [
    "customers['RT_KEIN_ANREIZ'].fillna(customers['RT_KEIN_ANREIZ'].mode().values[0], inplace = True)\n",
    "azdias['RT_KEIN_ANREIZ'].fillna(azdias['RT_KEIN_ANREIZ'].mode().values[0], inplace = True)\n",
    "\n",
    "customers['RT_SCHNAEPPCHEN'].fillna(customers['RT_SCHNAEPPCHEN'].mode().values[0], inplace = True)\n",
    "azdias['RT_SCHNAEPPCHEN'].fillna(azdias['RT_SCHNAEPPCHEN'].mode().values[0], inplace = True)\n",
    "\n",
    "customers['RT_UEBERGROESSE'].fillna(customers['RT_UEBERGROESSE'].mode().values[0], inplace = True)\n",
    "azdias['RT_UEBERGROESSE'].fillna(azdias['RT_UEBERGROESSE'].mode().values[0], inplace = True)"
   ]
  },
  {
   "cell_type": "markdown",
   "metadata": {},
   "source": [
    "#### FIRMENDICHTE & KONSUMZELLE\n"
   ]
  },
  {
   "cell_type": "code",
   "execution_count": 581,
   "metadata": {},
   "outputs": [],
   "source": [
    "customers['FIRMENDICHTE'].fillna(customers['FIRMENDICHTE'].mode().values[0], inplace = True)\n",
    "azdias['FIRMENDICHTE'].fillna(azdias['FIRMENDICHTE'].mode().values[0], inplace = True)\n",
    "\n",
    "customers['KONSUMZELLE'].fillna(customers['KONSUMZELLE'].mode().values[0], inplace = True)\n",
    "azdias['KONSUMZELLE'].fillna(azdias['KONSUMZELLE'].mode().values[0], inplace = True)"
   ]
  },
  {
   "cell_type": "markdown",
   "metadata": {},
   "source": [
    "### UMFELD_ALT & UMFELD_JUNG\n",
    "\n",
    "Probably related to environmental thinking"
   ]
  },
  {
   "cell_type": "code",
   "execution_count": 582,
   "metadata": {},
   "outputs": [],
   "source": [
    "customers['UMFELD_ALT'].fillna(customers['UMFELD_ALT'].mode().values[0], inplace = True)\n",
    "azdias['UMFELD_ALT'].fillna(azdias['UMFELD_ALT'].mode().values[0], inplace = True)\n",
    "\n",
    "customers['UMFELD_JUNG'].fillna(customers['UMFELD_JUNG'].mode().values[0], inplace = True)\n",
    "azdias['UMFELD_JUNG'].fillna(azdias['UMFELD_JUNG'].mode().values[0], inplace = True)"
   ]
  },
  {
   "cell_type": "markdown",
   "metadata": {},
   "source": [
    "#### VERDICHTUNGSRAUM\n",
    "\n",
    "Translates to \"Compression area\"... Probably irrelevant"
   ]
  },
  {
   "cell_type": "code",
   "execution_count": 583,
   "metadata": {},
   "outputs": [],
   "source": [
    "customers.drop(['VERDICHTUNGSRAUM'], axis = 1, inplace = True)\n",
    "azdias.drop(['VERDICHTUNGSRAUM'], axis = 1, inplace = True)"
   ]
  },
  {
   "cell_type": "markdown",
   "metadata": {},
   "source": [
    "#### VHN, VK_DHT4A, VK_DISTANZ, VK_ZG11\n",
    "\n",
    "Probably all irrelevant features, we have just no information about them. They can be relevant, but they can also have a negative impact in our model."
   ]
  },
  {
   "cell_type": "code",
   "execution_count": 584,
   "metadata": {},
   "outputs": [],
   "source": [
    "customers.drop(['AKT_DAT_KL', 'ANZ_KINDER', 'GEMEINDETYP', 'VHN', 'VK_DHT4A', 'VK_DISTANZ', 'VK_ZG11','EINGEFUEGT_AM', 'EINGEZOGENAM_HH_JAHR', 'STRUKTURTYP'], axis = 1, inplace = True)\n",
    "azdias.drop(['AKT_DAT_KL', 'ANZ_KINDER', 'GEMEINDETYP', 'VHN', 'VK_DHT4A', 'VK_DISTANZ', 'VK_ZG11', 'EINGEFUEGT_AM', 'EINGEZOGENAM_HH_JAHR', 'STRUKTURTYP'], axis = 1, inplace = True)"
   ]
  },
  {
   "cell_type": "code",
   "execution_count": 585,
   "metadata": {},
   "outputs": [],
   "source": [
    "customers.drop(['DSL_FLAG', 'KBA13_ANTG1','KBA13_ANTG2', 'KBA13_ANTG3', 'KBA13_ANTG4', 'KBA13_BAUMAX', \n",
    " 'KBA13_CCM_1401_2500', 'KBA13_CCM_3000', 'KBA13_CCM_3001', 'KBA13_GBZ', 'KBA13_HHZ', 'KBA13_KMH_210',\n",
    " 'MOBI_RASTER', 'SOHO_KZ', 'UNGLEICHENN_FLAG', 'VHA'], axis = 1, inplace = True)\n",
    "\n",
    "azdias.drop(['DSL_FLAG', 'KBA13_ANTG1','KBA13_ANTG2', 'KBA13_ANTG3', 'KBA13_ANTG4', 'KBA13_BAUMAX', \n",
    " 'KBA13_CCM_1401_2500', 'KBA13_CCM_3000', 'KBA13_CCM_3001', 'KBA13_GBZ', 'KBA13_HHZ', 'KBA13_KMH_210',\n",
    " 'MOBI_RASTER', 'SOHO_KZ', 'UNGLEICHENN_FLAG', 'VHA'], axis = 1, inplace = True)"
   ]
  },
  {
   "cell_type": "markdown",
   "metadata": {},
   "source": [
    "### Counting missing values of the final dataframes"
   ]
  },
  {
   "cell_type": "code",
   "execution_count": 586,
   "metadata": {},
   "outputs": [
    {
     "name": "stdout",
     "output_type": "stream",
     "text": [
      "0\n",
      "0\n",
      "(191652, 216)\n",
      "(891221, 213)\n"
     ]
    }
   ],
   "source": [
    "print(customers.isnull().sum().sum())\n",
    "print(azdias.isnull().sum().sum())\n",
    "print(customers.shape)\n",
    "print(azdias.shape)"
   ]
  },
  {
   "cell_type": "markdown",
   "metadata": {},
   "source": [
    "### Final attribute distribution"
   ]
  },
  {
   "cell_type": "code",
   "execution_count": 587,
   "metadata": {},
   "outputs": [
    {
     "data": {
      "text/plain": [
       "Text(0, 0.5, '')"
      ]
     },
     "execution_count": 587,
     "metadata": {},
     "output_type": "execute_result"
    },
    {
     "data": {
      "image/png": "[encoded data removed]",
      "text/plain": [
       "<Figure size 432x288 with 1 Axes>"
      ]
     },
     "metadata": {},
     "output_type": "display_data"
    }
   ],
   "source": [
    "attributes_info.set_index(['Attribute'], inplace = True)\n",
    "\n",
    "# Series to store information level of each attribute\n",
    "att_distribution = pd.Series(0, index = attributes_info['Information level'].unique())\n",
    "\n",
    "for c in azdias.columns:\n",
    "    try:\n",
    "        att_distribution[attributes_info.loc[c, 'Information level']] += 1\n",
    "    except:\n",
    "        pass\n",
    "    \n",
    "att_distribution.plot.pie()\n",
    "plt.ylabel('')"
   ]
  },
  {
   "cell_type": "markdown",
   "metadata": {},
   "source": [
    "### Saving files so far.."
   ]
  },
  {
   "cell_type": "code",
   "execution_count": 588,
   "metadata": {},
   "outputs": [],
   "source": [
    "customers.to_csv('data/customers_prc.csv')\n",
    "\n",
    "azdias.to_csv('data/azdias_prc.csv')"
   ]
  },
  {
   "cell_type": "markdown",
   "metadata": {},
   "source": [
    "### Reading files"
   ]
  },
  {
   "cell_type": "code",
   "execution_count": 589,
   "metadata": {},
   "outputs": [],
   "source": [
    "# customers = pd.read_csv('data/customers_prc.csv')\n",
    "# customers.drop(['Unnamed: 0'], axis = 1, inplace = True)"
   ]
  },
  {
   "cell_type": "code",
   "execution_count": 590,
   "metadata": {},
   "outputs": [],
   "source": [
    "# azdias = pd.read_csv('data/azdias_prc.csv')\n",
    "# azdias.drop(['Unnamed: 0'], axis = 1, inplace = True)"
   ]
  },
  {
   "cell_type": "markdown",
   "metadata": {},
   "source": [
    "## Standardize data"
   ]
  },
  {
   "cell_type": "code",
   "execution_count": 591,
   "metadata": {},
   "outputs": [
    {
     "data": {
      "text/html": [
       "<div>\n",
       "<style scoped>\n",
       "    .dataframe tbody tr th:only-of-type {\n",
       "        vertical-align: middle;\n",
       "    }\n",
       "\n",
       "    .dataframe tbody tr th {\n",
       "        vertical-align: top;\n",
       "    }\n",
       "\n",
       "    .dataframe thead th {\n",
       "        text-align: right;\n",
       "    }\n",
       "</style>\n",
       "<table border=\"1\" class=\"dataframe\">\n",
       "  <thead>\n",
       "    <tr style=\"text-align: right;\">\n",
       "      <th></th>\n",
       "      <th>LNR</th>\n",
       "      <th>ARBEIT</th>\n",
       "      <th>BALLRAUM</th>\n",
       "      <th>CJT_KATALOGNUTZER</th>\n",
       "      <th>CJT_TYP_1</th>\n",
       "      <th>CJT_TYP_2</th>\n",
       "      <th>CJT_TYP_3</th>\n",
       "      <th>CJT_TYP_4</th>\n",
       "      <th>CJT_TYP_5</th>\n",
       "      <th>CJT_TYP_6</th>\n",
       "      <th>...</th>\n",
       "      <th>REGIOTYP_7.0</th>\n",
       "      <th>CAMEO_DEUG_2015_1.0</th>\n",
       "      <th>CAMEO_DEUG_2015_2.0</th>\n",
       "      <th>CAMEO_DEUG_2015_3.0</th>\n",
       "      <th>CAMEO_DEUG_2015_4.0</th>\n",
       "      <th>CAMEO_DEUG_2015_5.0</th>\n",
       "      <th>CAMEO_DEUG_2015_6.0</th>\n",
       "      <th>CAMEO_DEUG_2015_7.0</th>\n",
       "      <th>CAMEO_DEUG_2015_8.0</th>\n",
       "      <th>CAMEO_DEUG_2015_9.0</th>\n",
       "    </tr>\n",
       "  </thead>\n",
       "  <tbody>\n",
       "    <tr>\n",
       "      <th>0</th>\n",
       "      <td>1.060942</td>\n",
       "      <td>0.758890</td>\n",
       "      <td>0.771572</td>\n",
       "      <td>1.107775</td>\n",
       "      <td>-1.735176</td>\n",
       "      <td>-1.570560</td>\n",
       "      <td>1.172932</td>\n",
       "      <td>1.203659</td>\n",
       "      <td>1.181001</td>\n",
       "      <td>1.147432</td>\n",
       "      <td>...</td>\n",
       "      <td>-0.322464</td>\n",
       "      <td>-0.205798</td>\n",
       "      <td>-0.320952</td>\n",
       "      <td>-0.328443</td>\n",
       "      <td>-0.363296</td>\n",
       "      <td>-0.25723</td>\n",
       "      <td>-0.367167</td>\n",
       "      <td>-0.309555</td>\n",
       "      <td>1.676905</td>\n",
       "      <td>-0.371684</td>\n",
       "    </tr>\n",
       "    <tr>\n",
       "      <th>1</th>\n",
       "      <td>1.060961</td>\n",
       "      <td>-0.263506</td>\n",
       "      <td>0.771572</td>\n",
       "      <td>-1.568545</td>\n",
       "      <td>1.184799</td>\n",
       "      <td>1.278729</td>\n",
       "      <td>-0.973028</td>\n",
       "      <td>-0.251101</td>\n",
       "      <td>-1.716472</td>\n",
       "      <td>-1.860914</td>\n",
       "      <td>...</td>\n",
       "      <td>-0.322464</td>\n",
       "      <td>-0.205798</td>\n",
       "      <td>-0.320952</td>\n",
       "      <td>-0.328443</td>\n",
       "      <td>-0.363296</td>\n",
       "      <td>-0.25723</td>\n",
       "      <td>-0.367167</td>\n",
       "      <td>-0.309555</td>\n",
       "      <td>1.676905</td>\n",
       "      <td>-0.371684</td>\n",
       "    </tr>\n",
       "    <tr>\n",
       "      <th>2</th>\n",
       "      <td>1.060981</td>\n",
       "      <td>-0.263506</td>\n",
       "      <td>-1.095860</td>\n",
       "      <td>-0.899465</td>\n",
       "      <td>0.454805</td>\n",
       "      <td>0.566407</td>\n",
       "      <td>-1.688349</td>\n",
       "      <td>-0.251101</td>\n",
       "      <td>-0.992104</td>\n",
       "      <td>-1.108827</td>\n",
       "      <td>...</td>\n",
       "      <td>-0.322464</td>\n",
       "      <td>-0.205798</td>\n",
       "      <td>-0.320952</td>\n",
       "      <td>-0.328443</td>\n",
       "      <td>2.752579</td>\n",
       "      <td>-0.25723</td>\n",
       "      <td>-0.367167</td>\n",
       "      <td>-0.309555</td>\n",
       "      <td>-0.596337</td>\n",
       "      <td>-0.371684</td>\n",
       "    </tr>\n",
       "    <tr>\n",
       "      <th>3</th>\n",
       "      <td>1.060984</td>\n",
       "      <td>-1.285903</td>\n",
       "      <td>-0.162144</td>\n",
       "      <td>-0.230385</td>\n",
       "      <td>-1.005182</td>\n",
       "      <td>-0.858238</td>\n",
       "      <td>0.457612</td>\n",
       "      <td>0.476279</td>\n",
       "      <td>1.181001</td>\n",
       "      <td>-0.356741</td>\n",
       "      <td>...</td>\n",
       "      <td>-0.322464</td>\n",
       "      <td>-0.205798</td>\n",
       "      <td>3.115734</td>\n",
       "      <td>-0.328443</td>\n",
       "      <td>-0.363296</td>\n",
       "      <td>-0.25723</td>\n",
       "      <td>-0.367167</td>\n",
       "      <td>-0.309555</td>\n",
       "      <td>-0.596337</td>\n",
       "      <td>-0.371684</td>\n",
       "    </tr>\n",
       "    <tr>\n",
       "      <th>4</th>\n",
       "      <td>1.061043</td>\n",
       "      <td>0.758890</td>\n",
       "      <td>-1.095860</td>\n",
       "      <td>-0.230385</td>\n",
       "      <td>-0.275189</td>\n",
       "      <td>-0.145915</td>\n",
       "      <td>-0.257708</td>\n",
       "      <td>0.476279</td>\n",
       "      <td>-0.267735</td>\n",
       "      <td>-0.356741</td>\n",
       "      <td>...</td>\n",
       "      <td>-0.322464</td>\n",
       "      <td>-0.205798</td>\n",
       "      <td>-0.320952</td>\n",
       "      <td>-0.328443</td>\n",
       "      <td>-0.363296</td>\n",
       "      <td>-0.25723</td>\n",
       "      <td>2.723555</td>\n",
       "      <td>-0.309555</td>\n",
       "      <td>-0.596337</td>\n",
       "      <td>-0.371684</td>\n",
       "    </tr>\n",
       "  </tbody>\n",
       "</table>\n",
       "<p>5 rows × 213 columns</p>\n",
       "</div>"
      ],
      "text/plain": [
       "        LNR    ARBEIT  BALLRAUM  CJT_KATALOGNUTZER  CJT_TYP_1  CJT_TYP_2  \\\n",
       "0  1.060942  0.758890  0.771572           1.107775  -1.735176  -1.570560   \n",
       "1  1.060961 -0.263506  0.771572          -1.568545   1.184799   1.278729   \n",
       "2  1.060981 -0.263506 -1.095860          -0.899465   0.454805   0.566407   \n",
       "3  1.060984 -1.285903 -0.162144          -0.230385  -1.005182  -0.858238   \n",
       "4  1.061043  0.758890 -1.095860          -0.230385  -0.275189  -0.145915   \n",
       "\n",
       "   CJT_TYP_3  CJT_TYP_4  CJT_TYP_5  CJT_TYP_6  ...  REGIOTYP_7.0  \\\n",
       "0   1.172932   1.203659   1.181001   1.147432  ...     -0.322464   \n",
       "1  -0.973028  -0.251101  -1.716472  -1.860914  ...     -0.322464   \n",
       "2  -1.688349  -0.251101  -0.992104  -1.108827  ...     -0.322464   \n",
       "3   0.457612   0.476279   1.181001  -0.356741  ...     -0.322464   \n",
       "4  -0.257708   0.476279  -0.267735  -0.356741  ...     -0.322464   \n",
       "\n",
       "   CAMEO_DEUG_2015_1.0  CAMEO_DEUG_2015_2.0  CAMEO_DEUG_2015_3.0  \\\n",
       "0            -0.205798            -0.320952            -0.328443   \n",
       "1            -0.205798            -0.320952            -0.328443   \n",
       "2            -0.205798            -0.320952            -0.328443   \n",
       "3            -0.205798             3.115734            -0.328443   \n",
       "4            -0.205798            -0.320952            -0.328443   \n",
       "\n",
       "   CAMEO_DEUG_2015_4.0  CAMEO_DEUG_2015_5.0  CAMEO_DEUG_2015_6.0  \\\n",
       "0            -0.363296             -0.25723            -0.367167   \n",
       "1            -0.363296             -0.25723            -0.367167   \n",
       "2             2.752579             -0.25723            -0.367167   \n",
       "3            -0.363296             -0.25723            -0.367167   \n",
       "4            -0.363296             -0.25723             2.723555   \n",
       "\n",
       "   CAMEO_DEUG_2015_7.0  CAMEO_DEUG_2015_8.0  CAMEO_DEUG_2015_9.0  \n",
       "0            -0.309555             1.676905            -0.371684  \n",
       "1            -0.309555             1.676905            -0.371684  \n",
       "2            -0.309555            -0.596337            -0.371684  \n",
       "3            -0.309555            -0.596337            -0.371684  \n",
       "4            -0.309555            -0.596337            -0.371684  \n",
       "\n",
       "[5 rows x 213 columns]"
      ]
     },
     "execution_count": 591,
     "metadata": {},
     "output_type": "execute_result"
    }
   ],
   "source": [
    "from sklearn.preprocessing import StandardScaler\n",
    "\n",
    "scaler = StandardScaler()\n",
    "\n",
    "azdias_scaled = scaler.fit_transform(azdias)\n",
    "\n",
    "azdias_scaled = pd.DataFrame(azdias_scaled, columns = azdias.columns)\n",
    "\n",
    "azdias_scaled.head()"
   ]
  },
  {
   "cell_type": "markdown",
   "metadata": {},
   "source": [
    "#### Customers"
   ]
  },
  {
   "cell_type": "markdown",
   "metadata": {},
   "source": [
    "Moving the customers-only columns to the end of the DataFrame"
   ]
  },
  {
   "cell_type": "code",
   "execution_count": 592,
   "metadata": {},
   "outputs": [],
   "source": [
    "cols = list(customers.columns)\n",
    "\n",
    "avoid = [cols.index('CUSTOMER_GROUP'), cols.index('PRODUCT_GROUP'), cols.index('ONLINE_PURCHASE')]\n",
    "\n",
    "# New order of columns\n",
    "new_cols = list(range(min(avoid))) + list(range(max(avoid) + 1, len(cols))) + avoid"
   ]
  },
  {
   "cell_type": "code",
   "execution_count": 593,
   "metadata": {},
   "outputs": [],
   "source": [
    "customers = customers.iloc[:, new_cols]"
   ]
  },
  {
   "cell_type": "code",
   "execution_count": 594,
   "metadata": {},
   "outputs": [
    {
     "data": {
      "text/html": [
       "<div>\n",
       "<style scoped>\n",
       "    .dataframe tbody tr th:only-of-type {\n",
       "        vertical-align: middle;\n",
       "    }\n",
       "\n",
       "    .dataframe tbody tr th {\n",
       "        vertical-align: top;\n",
       "    }\n",
       "\n",
       "    .dataframe thead th {\n",
       "        text-align: right;\n",
       "    }\n",
       "</style>\n",
       "<table border=\"1\" class=\"dataframe\">\n",
       "  <thead>\n",
       "    <tr style=\"text-align: right;\">\n",
       "      <th></th>\n",
       "      <th>LNR</th>\n",
       "      <th>ARBEIT</th>\n",
       "      <th>BALLRAUM</th>\n",
       "      <th>CJT_KATALOGNUTZER</th>\n",
       "      <th>CJT_TYP_1</th>\n",
       "      <th>CJT_TYP_2</th>\n",
       "      <th>CJT_TYP_3</th>\n",
       "      <th>CJT_TYP_4</th>\n",
       "      <th>CJT_TYP_5</th>\n",
       "      <th>CJT_TYP_6</th>\n",
       "      <th>...</th>\n",
       "      <th>CAMEO_DEUG_2015_3.0</th>\n",
       "      <th>CAMEO_DEUG_2015_4.0</th>\n",
       "      <th>CAMEO_DEUG_2015_5.0</th>\n",
       "      <th>CAMEO_DEUG_2015_6.0</th>\n",
       "      <th>CAMEO_DEUG_2015_7.0</th>\n",
       "      <th>CAMEO_DEUG_2015_8.0</th>\n",
       "      <th>CAMEO_DEUG_2015_9.0</th>\n",
       "      <th>CUSTOMER_GROUP</th>\n",
       "      <th>PRODUCT_GROUP</th>\n",
       "      <th>ONLINE_PURCHASE</th>\n",
       "    </tr>\n",
       "  </thead>\n",
       "  <tbody>\n",
       "    <tr>\n",
       "      <th>0</th>\n",
       "      <td>9626</td>\n",
       "      <td>1.0</td>\n",
       "      <td>3.0</td>\n",
       "      <td>4.0</td>\n",
       "      <td>1.0</td>\n",
       "      <td>1.0</td>\n",
       "      <td>5.0</td>\n",
       "      <td>5.0</td>\n",
       "      <td>5.0</td>\n",
       "      <td>5.0</td>\n",
       "      <td>...</td>\n",
       "      <td>0</td>\n",
       "      <td>0</td>\n",
       "      <td>0</td>\n",
       "      <td>0</td>\n",
       "      <td>0</td>\n",
       "      <td>0</td>\n",
       "      <td>0</td>\n",
       "      <td>MULTI_BUYER</td>\n",
       "      <td>COSMETIC_AND_FOOD</td>\n",
       "      <td>0</td>\n",
       "    </tr>\n",
       "    <tr>\n",
       "      <th>1</th>\n",
       "      <td>9628</td>\n",
       "      <td>3.0</td>\n",
       "      <td>6.0</td>\n",
       "      <td>5.0</td>\n",
       "      <td>1.0</td>\n",
       "      <td>1.0</td>\n",
       "      <td>5.0</td>\n",
       "      <td>5.0</td>\n",
       "      <td>5.0</td>\n",
       "      <td>5.0</td>\n",
       "      <td>...</td>\n",
       "      <td>0</td>\n",
       "      <td>0</td>\n",
       "      <td>0</td>\n",
       "      <td>0</td>\n",
       "      <td>0</td>\n",
       "      <td>0</td>\n",
       "      <td>0</td>\n",
       "      <td>SINGLE_BUYER</td>\n",
       "      <td>FOOD</td>\n",
       "      <td>0</td>\n",
       "    </tr>\n",
       "    <tr>\n",
       "      <th>2</th>\n",
       "      <td>143872</td>\n",
       "      <td>3.0</td>\n",
       "      <td>7.0</td>\n",
       "      <td>5.0</td>\n",
       "      <td>2.0</td>\n",
       "      <td>2.0</td>\n",
       "      <td>5.0</td>\n",
       "      <td>5.0</td>\n",
       "      <td>5.0</td>\n",
       "      <td>5.0</td>\n",
       "      <td>...</td>\n",
       "      <td>0</td>\n",
       "      <td>0</td>\n",
       "      <td>1</td>\n",
       "      <td>0</td>\n",
       "      <td>0</td>\n",
       "      <td>0</td>\n",
       "      <td>0</td>\n",
       "      <td>MULTI_BUYER</td>\n",
       "      <td>COSMETIC_AND_FOOD</td>\n",
       "      <td>0</td>\n",
       "    </tr>\n",
       "    <tr>\n",
       "      <th>3</th>\n",
       "      <td>143873</td>\n",
       "      <td>1.0</td>\n",
       "      <td>7.0</td>\n",
       "      <td>5.0</td>\n",
       "      <td>1.0</td>\n",
       "      <td>1.0</td>\n",
       "      <td>5.0</td>\n",
       "      <td>5.0</td>\n",
       "      <td>5.0</td>\n",
       "      <td>5.0</td>\n",
       "      <td>...</td>\n",
       "      <td>0</td>\n",
       "      <td>1</td>\n",
       "      <td>0</td>\n",
       "      <td>0</td>\n",
       "      <td>0</td>\n",
       "      <td>0</td>\n",
       "      <td>0</td>\n",
       "      <td>MULTI_BUYER</td>\n",
       "      <td>COSMETIC</td>\n",
       "      <td>0</td>\n",
       "    </tr>\n",
       "    <tr>\n",
       "      <th>4</th>\n",
       "      <td>143874</td>\n",
       "      <td>3.0</td>\n",
       "      <td>3.0</td>\n",
       "      <td>4.0</td>\n",
       "      <td>3.0</td>\n",
       "      <td>3.0</td>\n",
       "      <td>3.0</td>\n",
       "      <td>4.0</td>\n",
       "      <td>3.0</td>\n",
       "      <td>3.0</td>\n",
       "      <td>...</td>\n",
       "      <td>0</td>\n",
       "      <td>0</td>\n",
       "      <td>0</td>\n",
       "      <td>0</td>\n",
       "      <td>1</td>\n",
       "      <td>0</td>\n",
       "      <td>0</td>\n",
       "      <td>MULTI_BUYER</td>\n",
       "      <td>FOOD</td>\n",
       "      <td>0</td>\n",
       "    </tr>\n",
       "  </tbody>\n",
       "</table>\n",
       "<p>5 rows × 216 columns</p>\n",
       "</div>"
      ],
      "text/plain": [
       "      LNR  ARBEIT  BALLRAUM  CJT_KATALOGNUTZER  CJT_TYP_1  CJT_TYP_2  \\\n",
       "0    9626     1.0       3.0                4.0        1.0        1.0   \n",
       "1    9628     3.0       6.0                5.0        1.0        1.0   \n",
       "2  143872     3.0       7.0                5.0        2.0        2.0   \n",
       "3  143873     1.0       7.0                5.0        1.0        1.0   \n",
       "4  143874     3.0       3.0                4.0        3.0        3.0   \n",
       "\n",
       "   CJT_TYP_3  CJT_TYP_4  CJT_TYP_5  CJT_TYP_6  ...  CAMEO_DEUG_2015_3.0  \\\n",
       "0        5.0        5.0        5.0        5.0  ...                    0   \n",
       "1        5.0        5.0        5.0        5.0  ...                    0   \n",
       "2        5.0        5.0        5.0        5.0  ...                    0   \n",
       "3        5.0        5.0        5.0        5.0  ...                    0   \n",
       "4        3.0        4.0        3.0        3.0  ...                    0   \n",
       "\n",
       "   CAMEO_DEUG_2015_4.0  CAMEO_DEUG_2015_5.0  CAMEO_DEUG_2015_6.0  \\\n",
       "0                    0                    0                    0   \n",
       "1                    0                    0                    0   \n",
       "2                    0                    1                    0   \n",
       "3                    1                    0                    0   \n",
       "4                    0                    0                    0   \n",
       "\n",
       "   CAMEO_DEUG_2015_7.0  CAMEO_DEUG_2015_8.0  CAMEO_DEUG_2015_9.0  \\\n",
       "0                    0                    0                    0   \n",
       "1                    0                    0                    0   \n",
       "2                    0                    0                    0   \n",
       "3                    0                    0                    0   \n",
       "4                    1                    0                    0   \n",
       "\n",
       "   CUSTOMER_GROUP      PRODUCT_GROUP  ONLINE_PURCHASE  \n",
       "0     MULTI_BUYER  COSMETIC_AND_FOOD                0  \n",
       "1    SINGLE_BUYER               FOOD                0  \n",
       "2     MULTI_BUYER  COSMETIC_AND_FOOD                0  \n",
       "3     MULTI_BUYER           COSMETIC                0  \n",
       "4     MULTI_BUYER               FOOD                0  \n",
       "\n",
       "[5 rows x 216 columns]"
      ]
     },
     "execution_count": 594,
     "metadata": {},
     "output_type": "execute_result"
    }
   ],
   "source": [
    "customers.head()"
   ]
  },
  {
   "cell_type": "code",
   "execution_count": 595,
   "metadata": {},
   "outputs": [
    {
     "data": {
      "text/html": [
       "<div>\n",
       "<style scoped>\n",
       "    .dataframe tbody tr th:only-of-type {\n",
       "        vertical-align: middle;\n",
       "    }\n",
       "\n",
       "    .dataframe tbody tr th {\n",
       "        vertical-align: top;\n",
       "    }\n",
       "\n",
       "    .dataframe thead th {\n",
       "        text-align: right;\n",
       "    }\n",
       "</style>\n",
       "<table border=\"1\" class=\"dataframe\">\n",
       "  <thead>\n",
       "    <tr style=\"text-align: right;\">\n",
       "      <th></th>\n",
       "      <th>LNR</th>\n",
       "      <th>ARBEIT</th>\n",
       "      <th>BALLRAUM</th>\n",
       "      <th>CJT_KATALOGNUTZER</th>\n",
       "      <th>CJT_TYP_1</th>\n",
       "      <th>CJT_TYP_2</th>\n",
       "      <th>CJT_TYP_3</th>\n",
       "      <th>CJT_TYP_4</th>\n",
       "      <th>CJT_TYP_5</th>\n",
       "      <th>CJT_TYP_6</th>\n",
       "      <th>...</th>\n",
       "      <th>CAMEO_DEUG_2015_3.0</th>\n",
       "      <th>CAMEO_DEUG_2015_4.0</th>\n",
       "      <th>CAMEO_DEUG_2015_5.0</th>\n",
       "      <th>CAMEO_DEUG_2015_6.0</th>\n",
       "      <th>CAMEO_DEUG_2015_7.0</th>\n",
       "      <th>CAMEO_DEUG_2015_8.0</th>\n",
       "      <th>CAMEO_DEUG_2015_9.0</th>\n",
       "      <th>CUSTOMER_GROUP</th>\n",
       "      <th>PRODUCT_GROUP</th>\n",
       "      <th>ONLINE_PURCHASE</th>\n",
       "    </tr>\n",
       "  </thead>\n",
       "  <tbody>\n",
       "    <tr>\n",
       "      <th>0</th>\n",
       "      <td>-2.439573</td>\n",
       "      <td>-2.308299</td>\n",
       "      <td>-0.629002</td>\n",
       "      <td>0.438695</td>\n",
       "      <td>-1.735176</td>\n",
       "      <td>-1.570560</td>\n",
       "      <td>1.172932</td>\n",
       "      <td>1.203659</td>\n",
       "      <td>1.181001</td>\n",
       "      <td>1.147432</td>\n",
       "      <td>...</td>\n",
       "      <td>-0.328443</td>\n",
       "      <td>-0.363296</td>\n",
       "      <td>-0.25723</td>\n",
       "      <td>-0.367167</td>\n",
       "      <td>-0.309555</td>\n",
       "      <td>-0.596337</td>\n",
       "      <td>-0.371684</td>\n",
       "      <td>MULTI_BUYER</td>\n",
       "      <td>COSMETIC_AND_FOOD</td>\n",
       "      <td>0</td>\n",
       "    </tr>\n",
       "    <tr>\n",
       "      <th>1</th>\n",
       "      <td>-2.439565</td>\n",
       "      <td>-0.263506</td>\n",
       "      <td>0.771572</td>\n",
       "      <td>1.107775</td>\n",
       "      <td>-1.735176</td>\n",
       "      <td>-1.570560</td>\n",
       "      <td>1.172932</td>\n",
       "      <td>1.203659</td>\n",
       "      <td>1.181001</td>\n",
       "      <td>1.147432</td>\n",
       "      <td>...</td>\n",
       "      <td>-0.328443</td>\n",
       "      <td>-0.363296</td>\n",
       "      <td>-0.25723</td>\n",
       "      <td>-0.367167</td>\n",
       "      <td>-0.309555</td>\n",
       "      <td>-0.596337</td>\n",
       "      <td>-0.371684</td>\n",
       "      <td>SINGLE_BUYER</td>\n",
       "      <td>FOOD</td>\n",
       "      <td>0</td>\n",
       "    </tr>\n",
       "    <tr>\n",
       "      <th>2</th>\n",
       "      <td>-1.917770</td>\n",
       "      <td>-0.263506</td>\n",
       "      <td>1.238430</td>\n",
       "      <td>1.107775</td>\n",
       "      <td>-1.005182</td>\n",
       "      <td>-0.858238</td>\n",
       "      <td>1.172932</td>\n",
       "      <td>1.203659</td>\n",
       "      <td>1.181001</td>\n",
       "      <td>1.147432</td>\n",
       "      <td>...</td>\n",
       "      <td>-0.328443</td>\n",
       "      <td>-0.363296</td>\n",
       "      <td>3.88757</td>\n",
       "      <td>-0.367167</td>\n",
       "      <td>-0.309555</td>\n",
       "      <td>-0.596337</td>\n",
       "      <td>-0.371684</td>\n",
       "      <td>MULTI_BUYER</td>\n",
       "      <td>COSMETIC_AND_FOOD</td>\n",
       "      <td>0</td>\n",
       "    </tr>\n",
       "    <tr>\n",
       "      <th>3</th>\n",
       "      <td>-1.917766</td>\n",
       "      <td>-2.308299</td>\n",
       "      <td>1.238430</td>\n",
       "      <td>1.107775</td>\n",
       "      <td>-1.735176</td>\n",
       "      <td>-1.570560</td>\n",
       "      <td>1.172932</td>\n",
       "      <td>1.203659</td>\n",
       "      <td>1.181001</td>\n",
       "      <td>1.147432</td>\n",
       "      <td>...</td>\n",
       "      <td>-0.328443</td>\n",
       "      <td>2.752579</td>\n",
       "      <td>-0.25723</td>\n",
       "      <td>-0.367167</td>\n",
       "      <td>-0.309555</td>\n",
       "      <td>-0.596337</td>\n",
       "      <td>-0.371684</td>\n",
       "      <td>MULTI_BUYER</td>\n",
       "      <td>COSMETIC</td>\n",
       "      <td>0</td>\n",
       "    </tr>\n",
       "    <tr>\n",
       "      <th>4</th>\n",
       "      <td>-1.917762</td>\n",
       "      <td>-0.263506</td>\n",
       "      <td>-0.629002</td>\n",
       "      <td>0.438695</td>\n",
       "      <td>-0.275189</td>\n",
       "      <td>-0.145915</td>\n",
       "      <td>-0.257708</td>\n",
       "      <td>0.476279</td>\n",
       "      <td>-0.267735</td>\n",
       "      <td>-0.356741</td>\n",
       "      <td>...</td>\n",
       "      <td>-0.328443</td>\n",
       "      <td>-0.363296</td>\n",
       "      <td>-0.25723</td>\n",
       "      <td>-0.367167</td>\n",
       "      <td>3.230439</td>\n",
       "      <td>-0.596337</td>\n",
       "      <td>-0.371684</td>\n",
       "      <td>MULTI_BUYER</td>\n",
       "      <td>FOOD</td>\n",
       "      <td>0</td>\n",
       "    </tr>\n",
       "  </tbody>\n",
       "</table>\n",
       "<p>5 rows × 216 columns</p>\n",
       "</div>"
      ],
      "text/plain": [
       "        LNR    ARBEIT  BALLRAUM  CJT_KATALOGNUTZER  CJT_TYP_1  CJT_TYP_2  \\\n",
       "0 -2.439573 -2.308299 -0.629002           0.438695  -1.735176  -1.570560   \n",
       "1 -2.439565 -0.263506  0.771572           1.107775  -1.735176  -1.570560   \n",
       "2 -1.917770 -0.263506  1.238430           1.107775  -1.005182  -0.858238   \n",
       "3 -1.917766 -2.308299  1.238430           1.107775  -1.735176  -1.570560   \n",
       "4 -1.917762 -0.263506 -0.629002           0.438695  -0.275189  -0.145915   \n",
       "\n",
       "   CJT_TYP_3  CJT_TYP_4  CJT_TYP_5  CJT_TYP_6  ...  CAMEO_DEUG_2015_3.0  \\\n",
       "0   1.172932   1.203659   1.181001   1.147432  ...            -0.328443   \n",
       "1   1.172932   1.203659   1.181001   1.147432  ...            -0.328443   \n",
       "2   1.172932   1.203659   1.181001   1.147432  ...            -0.328443   \n",
       "3   1.172932   1.203659   1.181001   1.147432  ...            -0.328443   \n",
       "4  -0.257708   0.476279  -0.267735  -0.356741  ...            -0.328443   \n",
       "\n",
       "   CAMEO_DEUG_2015_4.0  CAMEO_DEUG_2015_5.0  CAMEO_DEUG_2015_6.0  \\\n",
       "0            -0.363296             -0.25723            -0.367167   \n",
       "1            -0.363296             -0.25723            -0.367167   \n",
       "2            -0.363296              3.88757            -0.367167   \n",
       "3             2.752579             -0.25723            -0.367167   \n",
       "4            -0.363296             -0.25723            -0.367167   \n",
       "\n",
       "   CAMEO_DEUG_2015_7.0  CAMEO_DEUG_2015_8.0  CAMEO_DEUG_2015_9.0  \\\n",
       "0            -0.309555            -0.596337            -0.371684   \n",
       "1            -0.309555            -0.596337            -0.371684   \n",
       "2            -0.309555            -0.596337            -0.371684   \n",
       "3            -0.309555            -0.596337            -0.371684   \n",
       "4             3.230439            -0.596337            -0.371684   \n",
       "\n",
       "   CUSTOMER_GROUP      PRODUCT_GROUP  ONLINE_PURCHASE  \n",
       "0     MULTI_BUYER  COSMETIC_AND_FOOD                0  \n",
       "1    SINGLE_BUYER               FOOD                0  \n",
       "2     MULTI_BUYER  COSMETIC_AND_FOOD                0  \n",
       "3     MULTI_BUYER           COSMETIC                0  \n",
       "4     MULTI_BUYER               FOOD                0  \n",
       "\n",
       "[5 rows x 216 columns]"
      ]
     },
     "execution_count": 595,
     "metadata": {},
     "output_type": "execute_result"
    }
   ],
   "source": [
    "# usar los valores min(avoid) y max(avoid)\n",
    "customers_scaled = scaler.transform(customers.iloc[:, :-3])\n",
    "\n",
    "customers_scaled = pd.DataFrame(customers_scaled, columns = customers.columns[:-3])\n",
    "\n",
    "customers_scaled[['CUSTOMER_GROUP','PRODUCT_GROUP','ONLINE_PURCHASE']] = customers[['CUSTOMER_GROUP','PRODUCT_GROUP','ONLINE_PURCHASE']]\n",
    "\n",
    "customers_scaled.head()"
   ]
  },
  {
   "cell_type": "code",
   "execution_count": 596,
   "metadata": {},
   "outputs": [
    {
     "name": "stdout",
     "output_type": "stream",
     "text": [
      "set()\n",
      "{'ONLINE_PURCHASE', 'PRODUCT_GROUP', 'CUSTOMER_GROUP'}\n",
      "[-1.0452180045047983, 0.956738207426668]\n",
      "[-1.0452180045047983, 0.956738207426668]\n",
      "[-1.568544689466837, -0.8994648099218355, -0.230384930376834, 0.4386949491681675, 1.107774828713169]\n",
      "[-1.568544689466837, -0.8994648099218355, -0.230384930376834, 0.4386949491681675, 1.107774828713169]\n"
     ]
    }
   ],
   "source": [
    "# Sanity checks...\n",
    "print( set(azdias_scaled.columns) - set(customers_scaled.columns) )\n",
    "print( set(customers_scaled.columns) - set(azdias_scaled.columns) )\n",
    "\n",
    "print( sorted(customers_scaled['ANREDE_KZ'].unique()) )\n",
    "print( sorted(azdias_scaled['ANREDE_KZ'].unique()) )\n",
    "\n",
    "print( sorted(customers_scaled['CJT_KATALOGNUTZER'].unique()) )\n",
    "print( sorted(azdias_scaled['CJT_KATALOGNUTZER'].unique()) )\n"
   ]
  },
  {
   "cell_type": "markdown",
   "metadata": {},
   "source": [
    "#### Saving files so far"
   ]
  },
  {
   "cell_type": "code",
   "execution_count": 597,
   "metadata": {},
   "outputs": [],
   "source": [
    "customers_scaled.to_csv('data/customers_scaled.csv')\n",
    "\n",
    "azdias_scaled.to_csv('data/azdias_scaled.csv')"
   ]
  }
 ],
 "metadata": {
  "kernelspec": {
   "display_name": "Python 3",
   "language": "python",
   "name": "python3"
  },
  "language_info": {
   "codemirror_mode": {
    "name": "ipython",
    "version": 3
   },
   "file_extension": ".py",
   "mimetype": "text/x-python",
   "name": "python",
   "nbconvert_exporter": "python",
   "pygments_lexer": "ipython3",
   "version": "3.8.5"
  }
 },
 "nbformat": 4,
 "nbformat_minor": 2
}
