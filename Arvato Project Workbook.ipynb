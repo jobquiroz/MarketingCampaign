{
 "cells": [
  {
   "cell_type": "markdown",
   "metadata": {},
   "source": [
    "# Capstone Project: Create a Customer Segmentation Report for Arvato Financial Services\n",
    "\n",
    "In this project, you will analyze demographics data for customers of a mail-order sales company in Germany, comparing it against demographics information for the general population. You'll use unsupervised learning techniques to perform customer segmentation, identifying the parts of the population that best describe the core customer base of the company. Then, you'll apply what you've learned on a third dataset with demographics information for targets of a marketing campaign for the company, and use a model to predict which individuals are most likely to convert into becoming customers for the company. The data that you will use has been provided by our partners at Bertelsmann Arvato Analytics, and represents a real-life data science task.\n",
    "\n",
    "If you completed the first term of this program, you will be familiar with the first part of this project, from the unsupervised learning project. The versions of those two datasets used in this project will include many more features and has not been pre-cleaned. You are also free to choose whatever approach you'd like to analyzing the data rather than follow pre-determined steps. In your work on this project, make sure that you carefully document your steps and decisions, since your main deliverable for this project will be a blog post reporting your findings."
   ]
  },
  {
   "cell_type": "code",
   "execution_count": 49,
   "metadata": {},
   "outputs": [],
   "source": [
    "# import libraries here; add more as necessary\n",
    "import numpy as np\n",
    "import pandas as pd\n",
    "import matplotlib.pyplot as plt\n",
    "import seaborn as sns\n",
    "import re\n",
    "\n",
    "# magic word for producing visualizations in notebook\n",
    "%matplotlib inline"
   ]
  },
  {
   "cell_type": "markdown",
   "metadata": {},
   "source": [
    "## Part 0: Get to Know the Data\n",
    "\n",
    "There are four data files associated with this project:\n",
    "\n",
    "- `Udacity_AZDIAS_052018.csv`: Demographics data for the general population of Germany; 891 211 persons (rows) x 366 features (columns).\n",
    "- `Udacity_CUSTOMERS_052018.csv`: Demographics data for customers of a mail-order company; 191 652 persons (rows) x 369 features (columns).\n",
    "- `Udacity_MAILOUT_052018_TRAIN.csv`: Demographics data for individuals who were targets of a marketing campaign; 42 982 persons (rows) x 367 (columns).\n",
    "- `Udacity_MAILOUT_052018_TEST.csv`: Demographics data for individuals who were targets of a marketing campaign; 42 833 persons (rows) x 366 (columns).\n",
    "\n",
    "Each row of the demographics files represents a single person, but also includes information outside of individuals, including information about their household, building, and neighborhood. Use the information from the first two files to figure out how customers (\"CUSTOMERS\") are similar to or differ from the general population at large (\"AZDIAS\"), then use your analysis to make predictions on the other two files (\"MAILOUT\"), predicting which recipients are most likely to become a customer for the mail-order company.\n",
    "\n",
    "The \"CUSTOMERS\" file contains three extra columns ('CUSTOMER_GROUP', 'ONLINE_PURCHASE', and 'PRODUCT_GROUP'), which provide broad information about the customers depicted in the file. The original \"MAILOUT\" file included one additional column, \"RESPONSE\", which indicated whether or not each recipient became a customer of the company. For the \"TRAIN\" subset, this column has been retained, but in the \"TEST\" subset it has been removed; it is against that withheld column that your final predictions will be assessed in the Kaggle competition.\n",
    "\n",
    "Otherwise, all of the remaining columns are the same between the three data files. For more information about the columns depicted in the files, you can refer to two Excel spreadsheets provided in the workspace. [One of them](./DIAS Information Levels - Attributes 2017.xlsx) is a top-level list of attributes and descriptions, organized by informational category. [The other](./DIAS Attributes - Values 2017.xlsx) is a detailed mapping of data values for each feature in alphabetical order.\n",
    "\n",
    "In the below cell, we've provided some initial code to load in the first two datasets. Note for all of the `.csv` data files in this project that they're semicolon (`;`) delimited, so an additional argument in the [`read_csv()`](https://pandas.pydata.org/pandas-docs/stable/generated/pandas.read_csv.html) call has been included to read in the data properly. Also, considering the size of the datasets, it may take some time for them to load completely.\n",
    "\n",
    "You'll notice when the data is loaded in that a warning message will immediately pop up. Before you really start digging into the modeling and analysis, you're going to need to perform some cleaning. Take some time to browse the structure of the data and look over the informational spreadsheets to understand the data values. Make some decisions on which features to keep, which features to drop, and if any revisions need to be made on data formats. It'll be a good idea to create a function with pre-processing steps, since you'll need to clean all of the datasets before you work with them."
   ]
  },
  {
   "cell_type": "code",
   "execution_count": 50,
   "metadata": {},
   "outputs": [
    {
     "name": "stderr",
     "output_type": "stream",
     "text": [
      "C:\\Users\\jobqu\\anaconda3\\lib\\site-packages\\IPython\\core\\interactiveshell.py:3146: DtypeWarning: Columns (19,20) have mixed types.Specify dtype option on import or set low_memory=False.\n",
      "  has_raised = await self.run_ast_nodes(code_ast.body, cell_name,\n"
     ]
    }
   ],
   "source": [
    "# Loading the general population data\n",
    "azdias = pd.read_csv('data/Udacity_AZDIAS_052018.csv')"
   ]
  },
  {
   "cell_type": "code",
   "execution_count": 51,
   "metadata": {},
   "outputs": [
    {
     "data": {
      "text/html": [
       "<div>\n",
       "<style scoped>\n",
       "    .dataframe tbody tr th:only-of-type {\n",
       "        vertical-align: middle;\n",
       "    }\n",
       "\n",
       "    .dataframe tbody tr th {\n",
       "        vertical-align: top;\n",
       "    }\n",
       "\n",
       "    .dataframe thead th {\n",
       "        text-align: right;\n",
       "    }\n",
       "</style>\n",
       "<table border=\"1\" class=\"dataframe\">\n",
       "  <thead>\n",
       "    <tr style=\"text-align: right;\">\n",
       "      <th></th>\n",
       "      <th>LNR</th>\n",
       "      <th>AGER_TYP</th>\n",
       "      <th>AKT_DAT_KL</th>\n",
       "      <th>ALTER_HH</th>\n",
       "      <th>ALTER_KIND1</th>\n",
       "      <th>ALTER_KIND2</th>\n",
       "      <th>ALTER_KIND3</th>\n",
       "      <th>ALTER_KIND4</th>\n",
       "      <th>ALTERSKATEGORIE_FEIN</th>\n",
       "      <th>ANZ_HAUSHALTE_AKTIV</th>\n",
       "      <th>...</th>\n",
       "      <th>VHN</th>\n",
       "      <th>VK_DHT4A</th>\n",
       "      <th>VK_DISTANZ</th>\n",
       "      <th>VK_ZG11</th>\n",
       "      <th>W_KEIT_KIND_HH</th>\n",
       "      <th>WOHNDAUER_2008</th>\n",
       "      <th>WOHNLAGE</th>\n",
       "      <th>ZABEOTYP</th>\n",
       "      <th>ANREDE_KZ</th>\n",
       "      <th>ALTERSKATEGORIE_GROB</th>\n",
       "    </tr>\n",
       "  </thead>\n",
       "  <tbody>\n",
       "    <tr>\n",
       "      <th>0</th>\n",
       "      <td>910215</td>\n",
       "      <td>-1</td>\n",
       "      <td>NaN</td>\n",
       "      <td>NaN</td>\n",
       "      <td>NaN</td>\n",
       "      <td>NaN</td>\n",
       "      <td>NaN</td>\n",
       "      <td>NaN</td>\n",
       "      <td>NaN</td>\n",
       "      <td>NaN</td>\n",
       "      <td>...</td>\n",
       "      <td>NaN</td>\n",
       "      <td>NaN</td>\n",
       "      <td>NaN</td>\n",
       "      <td>NaN</td>\n",
       "      <td>NaN</td>\n",
       "      <td>NaN</td>\n",
       "      <td>NaN</td>\n",
       "      <td>3</td>\n",
       "      <td>1</td>\n",
       "      <td>2</td>\n",
       "    </tr>\n",
       "    <tr>\n",
       "      <th>1</th>\n",
       "      <td>910220</td>\n",
       "      <td>-1</td>\n",
       "      <td>9.0</td>\n",
       "      <td>0.0</td>\n",
       "      <td>NaN</td>\n",
       "      <td>NaN</td>\n",
       "      <td>NaN</td>\n",
       "      <td>NaN</td>\n",
       "      <td>21.0</td>\n",
       "      <td>11.0</td>\n",
       "      <td>...</td>\n",
       "      <td>4.0</td>\n",
       "      <td>8.0</td>\n",
       "      <td>11.0</td>\n",
       "      <td>10.0</td>\n",
       "      <td>3.0</td>\n",
       "      <td>9.0</td>\n",
       "      <td>4.0</td>\n",
       "      <td>5</td>\n",
       "      <td>2</td>\n",
       "      <td>1</td>\n",
       "    </tr>\n",
       "    <tr>\n",
       "      <th>2</th>\n",
       "      <td>910225</td>\n",
       "      <td>-1</td>\n",
       "      <td>9.0</td>\n",
       "      <td>17.0</td>\n",
       "      <td>NaN</td>\n",
       "      <td>NaN</td>\n",
       "      <td>NaN</td>\n",
       "      <td>NaN</td>\n",
       "      <td>17.0</td>\n",
       "      <td>10.0</td>\n",
       "      <td>...</td>\n",
       "      <td>2.0</td>\n",
       "      <td>9.0</td>\n",
       "      <td>9.0</td>\n",
       "      <td>6.0</td>\n",
       "      <td>3.0</td>\n",
       "      <td>9.0</td>\n",
       "      <td>2.0</td>\n",
       "      <td>5</td>\n",
       "      <td>2</td>\n",
       "      <td>3</td>\n",
       "    </tr>\n",
       "    <tr>\n",
       "      <th>3</th>\n",
       "      <td>910226</td>\n",
       "      <td>2</td>\n",
       "      <td>1.0</td>\n",
       "      <td>13.0</td>\n",
       "      <td>NaN</td>\n",
       "      <td>NaN</td>\n",
       "      <td>NaN</td>\n",
       "      <td>NaN</td>\n",
       "      <td>13.0</td>\n",
       "      <td>1.0</td>\n",
       "      <td>...</td>\n",
       "      <td>0.0</td>\n",
       "      <td>7.0</td>\n",
       "      <td>10.0</td>\n",
       "      <td>11.0</td>\n",
       "      <td>NaN</td>\n",
       "      <td>9.0</td>\n",
       "      <td>7.0</td>\n",
       "      <td>3</td>\n",
       "      <td>2</td>\n",
       "      <td>4</td>\n",
       "    </tr>\n",
       "    <tr>\n",
       "      <th>4</th>\n",
       "      <td>910241</td>\n",
       "      <td>-1</td>\n",
       "      <td>1.0</td>\n",
       "      <td>20.0</td>\n",
       "      <td>NaN</td>\n",
       "      <td>NaN</td>\n",
       "      <td>NaN</td>\n",
       "      <td>NaN</td>\n",
       "      <td>14.0</td>\n",
       "      <td>3.0</td>\n",
       "      <td>...</td>\n",
       "      <td>2.0</td>\n",
       "      <td>3.0</td>\n",
       "      <td>5.0</td>\n",
       "      <td>4.0</td>\n",
       "      <td>2.0</td>\n",
       "      <td>9.0</td>\n",
       "      <td>3.0</td>\n",
       "      <td>4</td>\n",
       "      <td>1</td>\n",
       "      <td>3</td>\n",
       "    </tr>\n",
       "  </tbody>\n",
       "</table>\n",
       "<p>5 rows × 366 columns</p>\n",
       "</div>"
      ],
      "text/plain": [
       "      LNR  AGER_TYP  AKT_DAT_KL  ALTER_HH  ALTER_KIND1  ALTER_KIND2  \\\n",
       "0  910215        -1         NaN       NaN          NaN          NaN   \n",
       "1  910220        -1         9.0       0.0          NaN          NaN   \n",
       "2  910225        -1         9.0      17.0          NaN          NaN   \n",
       "3  910226         2         1.0      13.0          NaN          NaN   \n",
       "4  910241        -1         1.0      20.0          NaN          NaN   \n",
       "\n",
       "   ALTER_KIND3  ALTER_KIND4  ALTERSKATEGORIE_FEIN  ANZ_HAUSHALTE_AKTIV  ...  \\\n",
       "0          NaN          NaN                   NaN                  NaN  ...   \n",
       "1          NaN          NaN                  21.0                 11.0  ...   \n",
       "2          NaN          NaN                  17.0                 10.0  ...   \n",
       "3          NaN          NaN                  13.0                  1.0  ...   \n",
       "4          NaN          NaN                  14.0                  3.0  ...   \n",
       "\n",
       "   VHN  VK_DHT4A  VK_DISTANZ  VK_ZG11  W_KEIT_KIND_HH  WOHNDAUER_2008  \\\n",
       "0  NaN       NaN         NaN      NaN             NaN             NaN   \n",
       "1  4.0       8.0        11.0     10.0             3.0             9.0   \n",
       "2  2.0       9.0         9.0      6.0             3.0             9.0   \n",
       "3  0.0       7.0        10.0     11.0             NaN             9.0   \n",
       "4  2.0       3.0         5.0      4.0             2.0             9.0   \n",
       "\n",
       "   WOHNLAGE ZABEOTYP ANREDE_KZ ALTERSKATEGORIE_GROB  \n",
       "0       NaN        3         1                    2  \n",
       "1       4.0        5         2                    1  \n",
       "2       2.0        5         2                    3  \n",
       "3       7.0        3         2                    4  \n",
       "4       3.0        4         1                    3  \n",
       "\n",
       "[5 rows x 366 columns]"
      ]
     },
     "execution_count": 51,
     "metadata": {},
     "output_type": "execute_result"
    }
   ],
   "source": [
    "# Removing first column (noise)\n",
    "azdias.drop(azdias.columns[0], axis = 1, inplace = True)\n",
    "\n",
    "# Taking a look at the data\n",
    "azdias.head()"
   ]
  },
  {
   "cell_type": "code",
   "execution_count": 52,
   "metadata": {},
   "outputs": [
    {
     "name": "stderr",
     "output_type": "stream",
     "text": [
      "C:\\Users\\jobqu\\anaconda3\\lib\\site-packages\\IPython\\core\\interactiveshell.py:3146: DtypeWarning: Columns (19,20) have mixed types.Specify dtype option on import or set low_memory=False.\n",
      "  has_raised = await self.run_ast_nodes(code_ast.body, cell_name,\n"
     ]
    }
   ],
   "source": [
    "customers = pd.read_csv('data/Udacity_CUSTOMERS_052018.csv')"
   ]
  },
  {
   "cell_type": "code",
   "execution_count": 53,
   "metadata": {},
   "outputs": [
    {
     "data": {
      "text/html": [
       "<div>\n",
       "<style scoped>\n",
       "    .dataframe tbody tr th:only-of-type {\n",
       "        vertical-align: middle;\n",
       "    }\n",
       "\n",
       "    .dataframe tbody tr th {\n",
       "        vertical-align: top;\n",
       "    }\n",
       "\n",
       "    .dataframe thead th {\n",
       "        text-align: right;\n",
       "    }\n",
       "</style>\n",
       "<table border=\"1\" class=\"dataframe\">\n",
       "  <thead>\n",
       "    <tr style=\"text-align: right;\">\n",
       "      <th></th>\n",
       "      <th>LNR</th>\n",
       "      <th>AGER_TYP</th>\n",
       "      <th>AKT_DAT_KL</th>\n",
       "      <th>ALTER_HH</th>\n",
       "      <th>ALTER_KIND1</th>\n",
       "      <th>ALTER_KIND2</th>\n",
       "      <th>ALTER_KIND3</th>\n",
       "      <th>ALTER_KIND4</th>\n",
       "      <th>ALTERSKATEGORIE_FEIN</th>\n",
       "      <th>ANZ_HAUSHALTE_AKTIV</th>\n",
       "      <th>...</th>\n",
       "      <th>VK_ZG11</th>\n",
       "      <th>W_KEIT_KIND_HH</th>\n",
       "      <th>WOHNDAUER_2008</th>\n",
       "      <th>WOHNLAGE</th>\n",
       "      <th>ZABEOTYP</th>\n",
       "      <th>PRODUCT_GROUP</th>\n",
       "      <th>CUSTOMER_GROUP</th>\n",
       "      <th>ONLINE_PURCHASE</th>\n",
       "      <th>ANREDE_KZ</th>\n",
       "      <th>ALTERSKATEGORIE_GROB</th>\n",
       "    </tr>\n",
       "  </thead>\n",
       "  <tbody>\n",
       "    <tr>\n",
       "      <th>0</th>\n",
       "      <td>9626</td>\n",
       "      <td>2</td>\n",
       "      <td>1.0</td>\n",
       "      <td>10.0</td>\n",
       "      <td>NaN</td>\n",
       "      <td>NaN</td>\n",
       "      <td>NaN</td>\n",
       "      <td>NaN</td>\n",
       "      <td>10.0</td>\n",
       "      <td>1.0</td>\n",
       "      <td>...</td>\n",
       "      <td>2.0</td>\n",
       "      <td>6.0</td>\n",
       "      <td>9.0</td>\n",
       "      <td>7.0</td>\n",
       "      <td>3</td>\n",
       "      <td>COSMETIC_AND_FOOD</td>\n",
       "      <td>MULTI_BUYER</td>\n",
       "      <td>0</td>\n",
       "      <td>1</td>\n",
       "      <td>4</td>\n",
       "    </tr>\n",
       "    <tr>\n",
       "      <th>1</th>\n",
       "      <td>9628</td>\n",
       "      <td>-1</td>\n",
       "      <td>9.0</td>\n",
       "      <td>11.0</td>\n",
       "      <td>NaN</td>\n",
       "      <td>NaN</td>\n",
       "      <td>NaN</td>\n",
       "      <td>NaN</td>\n",
       "      <td>NaN</td>\n",
       "      <td>NaN</td>\n",
       "      <td>...</td>\n",
       "      <td>3.0</td>\n",
       "      <td>0.0</td>\n",
       "      <td>9.0</td>\n",
       "      <td>NaN</td>\n",
       "      <td>3</td>\n",
       "      <td>FOOD</td>\n",
       "      <td>SINGLE_BUYER</td>\n",
       "      <td>0</td>\n",
       "      <td>1</td>\n",
       "      <td>4</td>\n",
       "    </tr>\n",
       "    <tr>\n",
       "      <th>2</th>\n",
       "      <td>143872</td>\n",
       "      <td>-1</td>\n",
       "      <td>1.0</td>\n",
       "      <td>6.0</td>\n",
       "      <td>NaN</td>\n",
       "      <td>NaN</td>\n",
       "      <td>NaN</td>\n",
       "      <td>NaN</td>\n",
       "      <td>0.0</td>\n",
       "      <td>1.0</td>\n",
       "      <td>...</td>\n",
       "      <td>11.0</td>\n",
       "      <td>6.0</td>\n",
       "      <td>9.0</td>\n",
       "      <td>2.0</td>\n",
       "      <td>3</td>\n",
       "      <td>COSMETIC_AND_FOOD</td>\n",
       "      <td>MULTI_BUYER</td>\n",
       "      <td>0</td>\n",
       "      <td>2</td>\n",
       "      <td>4</td>\n",
       "    </tr>\n",
       "    <tr>\n",
       "      <th>3</th>\n",
       "      <td>143873</td>\n",
       "      <td>1</td>\n",
       "      <td>1.0</td>\n",
       "      <td>8.0</td>\n",
       "      <td>NaN</td>\n",
       "      <td>NaN</td>\n",
       "      <td>NaN</td>\n",
       "      <td>NaN</td>\n",
       "      <td>8.0</td>\n",
       "      <td>0.0</td>\n",
       "      <td>...</td>\n",
       "      <td>2.0</td>\n",
       "      <td>NaN</td>\n",
       "      <td>9.0</td>\n",
       "      <td>7.0</td>\n",
       "      <td>1</td>\n",
       "      <td>COSMETIC</td>\n",
       "      <td>MULTI_BUYER</td>\n",
       "      <td>0</td>\n",
       "      <td>1</td>\n",
       "      <td>4</td>\n",
       "    </tr>\n",
       "    <tr>\n",
       "      <th>4</th>\n",
       "      <td>143874</td>\n",
       "      <td>-1</td>\n",
       "      <td>1.0</td>\n",
       "      <td>20.0</td>\n",
       "      <td>NaN</td>\n",
       "      <td>NaN</td>\n",
       "      <td>NaN</td>\n",
       "      <td>NaN</td>\n",
       "      <td>14.0</td>\n",
       "      <td>7.0</td>\n",
       "      <td>...</td>\n",
       "      <td>4.0</td>\n",
       "      <td>2.0</td>\n",
       "      <td>9.0</td>\n",
       "      <td>3.0</td>\n",
       "      <td>1</td>\n",
       "      <td>FOOD</td>\n",
       "      <td>MULTI_BUYER</td>\n",
       "      <td>0</td>\n",
       "      <td>1</td>\n",
       "      <td>3</td>\n",
       "    </tr>\n",
       "  </tbody>\n",
       "</table>\n",
       "<p>5 rows × 369 columns</p>\n",
       "</div>"
      ],
      "text/plain": [
       "      LNR  AGER_TYP  AKT_DAT_KL  ALTER_HH  ALTER_KIND1  ALTER_KIND2  \\\n",
       "0    9626         2         1.0      10.0          NaN          NaN   \n",
       "1    9628        -1         9.0      11.0          NaN          NaN   \n",
       "2  143872        -1         1.0       6.0          NaN          NaN   \n",
       "3  143873         1         1.0       8.0          NaN          NaN   \n",
       "4  143874        -1         1.0      20.0          NaN          NaN   \n",
       "\n",
       "   ALTER_KIND3  ALTER_KIND4  ALTERSKATEGORIE_FEIN  ANZ_HAUSHALTE_AKTIV  ...  \\\n",
       "0          NaN          NaN                  10.0                  1.0  ...   \n",
       "1          NaN          NaN                   NaN                  NaN  ...   \n",
       "2          NaN          NaN                   0.0                  1.0  ...   \n",
       "3          NaN          NaN                   8.0                  0.0  ...   \n",
       "4          NaN          NaN                  14.0                  7.0  ...   \n",
       "\n",
       "   VK_ZG11  W_KEIT_KIND_HH  WOHNDAUER_2008  WOHNLAGE  ZABEOTYP  \\\n",
       "0      2.0             6.0             9.0       7.0         3   \n",
       "1      3.0             0.0             9.0       NaN         3   \n",
       "2     11.0             6.0             9.0       2.0         3   \n",
       "3      2.0             NaN             9.0       7.0         1   \n",
       "4      4.0             2.0             9.0       3.0         1   \n",
       "\n",
       "       PRODUCT_GROUP  CUSTOMER_GROUP ONLINE_PURCHASE ANREDE_KZ  \\\n",
       "0  COSMETIC_AND_FOOD     MULTI_BUYER               0         1   \n",
       "1               FOOD    SINGLE_BUYER               0         1   \n",
       "2  COSMETIC_AND_FOOD     MULTI_BUYER               0         2   \n",
       "3           COSMETIC     MULTI_BUYER               0         1   \n",
       "4               FOOD     MULTI_BUYER               0         1   \n",
       "\n",
       "  ALTERSKATEGORIE_GROB  \n",
       "0                    4  \n",
       "1                    4  \n",
       "2                    4  \n",
       "3                    4  \n",
       "4                    3  \n",
       "\n",
       "[5 rows x 369 columns]"
      ]
     },
     "execution_count": 53,
     "metadata": {},
     "output_type": "execute_result"
    }
   ],
   "source": [
    "# Removing first column (noise)\n",
    "customers.drop(customers.columns[0], axis = 1, inplace = True)\n",
    "\n",
    "# Taking a look at the data\n",
    "customers.head()"
   ]
  },
  {
   "cell_type": "markdown",
   "metadata": {},
   "source": [
    "**Loading attribute description files**\n",
    "\n",
    "These files can be manually opened to consult the meaning of attribute values. However, it can also be used to automate some tasks. In particular, we can find out which values are supposed to be missing or unknown values. \n",
    "\n",
    "By using info_levels we can also understand which class of information (personal, financial, location) is more relevant (without managing extremely-specific attribute labels)"
   ]
  },
  {
   "cell_type": "code",
   "execution_count": 54,
   "metadata": {},
   "outputs": [],
   "source": [
    "attributes = pd.read_excel('data/DIAS Attributes - Values 2017.xlsx', header = 1).drop('Unnamed: 0', axis = 1)\n",
    "info_levels = pd.read_excel('data/DIAS Information Levels - Attributes 2017.xlsx', header = 1).drop('Unnamed: 0', axis = 1)\n",
    "#attributes.head()"
   ]
  },
  {
   "cell_type": "markdown",
   "metadata": {},
   "source": [
    "### 0.1 Addressing the warnings\n",
    "\n",
    "While loading the data we got a warning about column 19 and 20 (now 18 and 19 because we removed 1 column) having mixed types. While this can be handle in the preprocessing section we will fix the issue now, before continuing knowing the data.\n",
    "\n",
    "**Column 18**"
   ]
  },
  {
   "cell_type": "code",
   "execution_count": 55,
   "metadata": {},
   "outputs": [
    {
     "name": "stdout",
     "output_type": "stream",
     "text": [
      "CAMEO_DEUG_2015 CAMEO_DEUG_2015\n"
     ]
    }
   ],
   "source": [
    "# Name of columns\n",
    "print(azdias.columns[18], customers.columns[18])"
   ]
  },
  {
   "cell_type": "markdown",
   "metadata": {},
   "source": [
    "The attribute CAMEO_DEUG_2015 is supposed to have only numerical (integer) attributes. The description even includes a numberic code for unknown values (-1). \n",
    "\n",
    "However, if we display the unique values for this column we see:"
   ]
  },
  {
   "cell_type": "code",
   "execution_count": 56,
   "metadata": {},
   "outputs": [
    {
     "name": "stdout",
     "output_type": "stream",
     "text": [
      "Unique values in azdias: [nan 8.0 4.0 2.0 6.0 1.0 9.0 5.0 7.0 3.0 '4' '3' '7' '2' '8' '9' '6' '5'\n",
      " '1' 'X']\n",
      "Unique values in  customers: [1.0 nan 5.0 4.0 7.0 3.0 9.0 2.0 6.0 8.0 '6' '3' '8' '9' '2' '4' '1' '7'\n",
      " '5' 'X']\n"
     ]
    }
   ],
   "source": [
    "# Finding unique values\n",
    "print('Unique values in azdias:', azdias.iloc[:, 18].unique() )\n",
    "\n",
    "print('Unique values in  customers:', customers.iloc[:, 18].unique() )"
   ]
  },
  {
   "cell_type": "markdown",
   "metadata": {},
   "source": [
    "We can clearly see that the attribute has mixed type values. We can solve this issue by casting the strings containing a number and assigning `nan` to the 'X' string:"
   ]
  },
  {
   "cell_type": "code",
   "execution_count": 57,
   "metadata": {},
   "outputs": [],
   "source": [
    "azdias.iloc[:,18] = azdias.iloc[:,18].replace({'X': np.nan})\n",
    "customers.iloc[:,18] = customers.iloc[:,18].replace({'X': np.nan})\n",
    "\n",
    "# Casting\n",
    "azdias.iloc[:, 18] = azdias.iloc[:, 18].map(float)\n",
    "customers.iloc[:, 18] = customers.iloc[:, 18].map(float)"
   ]
  },
  {
   "cell_type": "markdown",
   "metadata": {},
   "source": [
    "**Final result:**"
   ]
  },
  {
   "cell_type": "code",
   "execution_count": 58,
   "metadata": {},
   "outputs": [
    {
     "name": "stdout",
     "output_type": "stream",
     "text": [
      "Final unique values in azdias: [nan  8.  4.  2.  6.  1.  9.  5.  7.  3.]\n",
      "Final unique values in  customers: [ 1. nan  5.  4.  7.  3.  9.  2.  6.  8.]\n"
     ]
    }
   ],
   "source": [
    "# Finding unique values\n",
    "print('Final unique values in azdias:', azdias.iloc[:, 18].unique() )\n",
    "\n",
    "print('Final unique values in  customers:', customers.iloc[:, 18].unique() )"
   ]
  },
  {
   "cell_type": "markdown",
   "metadata": {},
   "source": [
    "We can repeat the same process for **column 19**:"
   ]
  },
  {
   "cell_type": "code",
   "execution_count": 59,
   "metadata": {},
   "outputs": [
    {
     "name": "stdout",
     "output_type": "stream",
     "text": [
      "CAMEO_INTL_2015 CAMEO_INTL_2015\n"
     ]
    }
   ],
   "source": [
    "# Name of column\n",
    "print( azdias.columns[19], customers.columns[19] )"
   ]
  },
  {
   "cell_type": "markdown",
   "metadata": {},
   "source": [
    "By looking at the attributes descriptions the attribute called 'CAMEO_INTL_2015' does not appear, the closest attribute name is 'CAMEO_DEUINTL_2015'. This is probably a typo, either in the description files or within the datasets. "
   ]
  },
  {
   "cell_type": "code",
   "execution_count": 60,
   "metadata": {},
   "outputs": [
    {
     "data": {
      "text/plain": [
       "array(['CAMEO_DEUG_2015', 'CAMEO_DEU_2015', 'CAMEO_DEUINTL_2015',\n",
       "       'CJT_GESAMTTYP'], dtype=object)"
      ]
     },
     "execution_count": 60,
     "metadata": {},
     "output_type": "execute_result"
    }
   ],
   "source": [
    "attributes['Attribute'].unique()[11:15]"
   ]
  },
  {
   "cell_type": "markdown",
   "metadata": {},
   "source": [
    "Just like the previous attribute, CAMEO_DEUNTL_2015 is also supposed to have only numerical (integer) attributes. If we display the unique values of this column we see: "
   ]
  },
  {
   "cell_type": "code",
   "execution_count": 61,
   "metadata": {},
   "outputs": [
    {
     "name": "stdout",
     "output_type": "stream",
     "text": [
      "Unique values in azdias: [nan 51.0 24.0 12.0 43.0 54.0 22.0 14.0 13.0 15.0 33.0 41.0 34.0 55.0 25.0\n",
      " 23.0 31.0 52.0 35.0 45.0 44.0 32.0 '22' '24' '41' '12' '54' '51' '44'\n",
      " '35' '23' '25' '14' '34' '52' '55' '31' '32' '15' '13' '43' '33' '45'\n",
      " 'XX']\n",
      "\n",
      "Unique values in customers: [13.0 nan 34.0 24.0 41.0 23.0 15.0 55.0 14.0 22.0 43.0 51.0 33.0 25.0 44.0\n",
      " 54.0 32.0 12.0 35.0 31.0 45.0 52.0 '45' '25' '55' '51' '14' '54' '43'\n",
      " '22' '15' '24' '35' '23' '12' '44' '41' '52' '31' '13' '34' '32' '33'\n",
      " 'XX']\n"
     ]
    }
   ],
   "source": [
    "print('Unique values in azdias:', azdias.iloc[:, 19].unique() )\n",
    "print('\\nUnique values in customers:', customers.iloc[:, 19].unique() )"
   ]
  },
  {
   "cell_type": "markdown",
   "metadata": {},
   "source": [
    "By applying the same steps as before:"
   ]
  },
  {
   "cell_type": "code",
   "execution_count": 62,
   "metadata": {},
   "outputs": [],
   "source": [
    "azdias.iloc[:,19] = azdias.iloc[:,19].replace({'XX': np.nan})\n",
    "customers.iloc[:,19] = customers.iloc[:,19].replace({'XX': np.nan})\n",
    "\n",
    "azdias.iloc[:, 19] = azdias.iloc[:, 19].map(float)\n",
    "customers.iloc[:, 19] = customers.iloc[:, 19].map(float)"
   ]
  },
  {
   "cell_type": "markdown",
   "metadata": {},
   "source": [
    "**Final result:**"
   ]
  },
  {
   "cell_type": "code",
   "execution_count": 63,
   "metadata": {},
   "outputs": [
    {
     "name": "stdout",
     "output_type": "stream",
     "text": [
      "Final unique values in azdias: [nan 51. 24. 12. 43. 54. 22. 14. 13. 15. 33. 41. 34. 55. 25. 23. 31. 52.\n",
      " 35. 45. 44. 32.]\n",
      "\n",
      "Final unique values in customers: [13. nan 34. 24. 41. 23. 15. 55. 14. 22. 43. 51. 33. 25. 44. 54. 32. 12.\n",
      " 35. 31. 45. 52.]\n"
     ]
    }
   ],
   "source": [
    "print('Final unique values in azdias:', azdias.iloc[:, 19].unique() )\n",
    "print('\\nFinal unique values in customers:', customers.iloc[:, 19].unique() )"
   ]
  },
  {
   "cell_type": "markdown",
   "metadata": {},
   "source": [
    "### 0.2 Missing values (part 1)\n",
    "\n",
    "Before start analyzing the distribution of the data, we are going to drop the columns with a high number of missing values (>50%). At first, there seems to be only 6 columns like that for the `azdias dataset, and 7 columns for the `customers` dataset: "
   ]
  },
  {
   "cell_type": "code",
   "execution_count": 64,
   "metadata": {},
   "outputs": [
    {
     "name": "stdout",
     "output_type": "stream",
     "text": [
      "Overall missing values: 33493669\n"
     ]
    },
    {
     "data": {
      "text/plain": [
       "<AxesSubplot:>"
      ]
     },
     "execution_count": 64,
     "metadata": {},
     "output_type": "execute_result"
    },
    {
     "data": {
      "image/png": "[encoded data removed]",
      "text/plain": [
       "<Figure size 432x288 with 1 Axes>"
      ]
     },
     "metadata": {
      "needs_background": "light"
     },
     "output_type": "display_data"
    }
   ],
   "source": [
    "azdias_missing_values_1 = azdias.isnull().sum()\n",
    "percentage_missing_values_1 = azdias_missing_values_1.sort_values(ascending = False) / azdias.shape[0] * 100\n",
    "\n",
    "print('Overall missing values:', azdias_missing_values_1.sum())\n",
    "\n",
    "# Plotting Top 30 features with missing values\n",
    "percentage_missing_values_1[:30].plot.bar()"
   ]
  },
  {
   "cell_type": "markdown",
   "metadata": {},
   "source": [
    "For the customers dataset:"
   ]
  },
  {
   "cell_type": "code",
   "execution_count": 65,
   "metadata": {},
   "outputs": [
    {
     "name": "stdout",
     "output_type": "stream",
     "text": [
      "Overall missing values: 13864774\n"
     ]
    },
    {
     "data": {
      "text/plain": [
       "<AxesSubplot:>"
      ]
     },
     "execution_count": 65,
     "metadata": {},
     "output_type": "execute_result"
    },
    {
     "data": {
      "image/png": "[encoded data removed]",
      "text/plain": [
       "<Figure size 432x288 with 1 Axes>"
      ]
     },
     "metadata": {
      "needs_background": "light"
     },
     "output_type": "display_data"
    }
   ],
   "source": [
    "customers_missing_values_1 = customers.isnull().sum()\n",
    "percentage_missing_values_1 = customers_missing_values_1.sort_values(ascending = False) / customers.shape[0] * 100\n",
    "\n",
    "print('Overall missing values:', customers_missing_values_1.sum())\n",
    "\n",
    "# Plotting Top 30 features with missing values\n",
    "percentage_missing_values_1[:30].plot.bar()"
   ]
  },
  {
   "cell_type": "markdown",
   "metadata": {},
   "source": [
    "This graphs shows that six features have a high number of missing values (more than 50%), however, there are still more missing values in the dataset, because some row values are actually indicating unknown values. \n",
    "\n",
    "The next step for cleaning the data is to replace `np.nan` in the values indicating `unknown` information. But before replacing values we have to create a DataFrame where each attribute is associated with values indicating missing information. We also are going to add the `information level` field to each attribute."
   ]
  },
  {
   "cell_type": "code",
   "execution_count": 66,
   "metadata": {},
   "outputs": [
    {
     "data": {
      "text/html": [
       "<div>\n",
       "<style scoped>\n",
       "    .dataframe tbody tr th:only-of-type {\n",
       "        vertical-align: middle;\n",
       "    }\n",
       "\n",
       "    .dataframe tbody tr th {\n",
       "        vertical-align: top;\n",
       "    }\n",
       "\n",
       "    .dataframe thead th {\n",
       "        text-align: right;\n",
       "    }\n",
       "</style>\n",
       "<table border=\"1\" class=\"dataframe\">\n",
       "  <thead>\n",
       "    <tr style=\"text-align: right;\">\n",
       "      <th></th>\n",
       "      <th>Attribute</th>\n",
       "      <th>Description</th>\n",
       "      <th>Value</th>\n",
       "      <th>Meaning</th>\n",
       "    </tr>\n",
       "  </thead>\n",
       "  <tbody>\n",
       "    <tr>\n",
       "      <th>0</th>\n",
       "      <td>AGER_TYP</td>\n",
       "      <td>best-ager typology</td>\n",
       "      <td>-1</td>\n",
       "      <td>unknown</td>\n",
       "    </tr>\n",
       "    <tr>\n",
       "      <th>1</th>\n",
       "      <td>NaN</td>\n",
       "      <td>NaN</td>\n",
       "      <td>0</td>\n",
       "      <td>no classification possible</td>\n",
       "    </tr>\n",
       "    <tr>\n",
       "      <th>2</th>\n",
       "      <td>NaN</td>\n",
       "      <td>NaN</td>\n",
       "      <td>1</td>\n",
       "      <td>passive elderly</td>\n",
       "    </tr>\n",
       "    <tr>\n",
       "      <th>3</th>\n",
       "      <td>NaN</td>\n",
       "      <td>NaN</td>\n",
       "      <td>2</td>\n",
       "      <td>cultural elderly</td>\n",
       "    </tr>\n",
       "    <tr>\n",
       "      <th>4</th>\n",
       "      <td>NaN</td>\n",
       "      <td>NaN</td>\n",
       "      <td>3</td>\n",
       "      <td>experience-driven elderly</td>\n",
       "    </tr>\n",
       "  </tbody>\n",
       "</table>\n",
       "</div>"
      ],
      "text/plain": [
       "  Attribute         Description Value                     Meaning\n",
       "0  AGER_TYP  best-ager typology    -1                     unknown\n",
       "1       NaN                 NaN     0  no classification possible\n",
       "2       NaN                 NaN     1             passive elderly\n",
       "3       NaN                 NaN     2            cultural elderly\n",
       "4       NaN                 NaN     3   experience-driven elderly"
      ]
     },
     "execution_count": 66,
     "metadata": {},
     "output_type": "execute_result"
    }
   ],
   "source": [
    "# Taking a look to the attributes dataframe\n",
    "attributes.head()"
   ]
  },
  {
   "cell_type": "code",
   "execution_count": 67,
   "metadata": {},
   "outputs": [
    {
     "data": {
      "text/html": [
       "<div>\n",
       "<style scoped>\n",
       "    .dataframe tbody tr th:only-of-type {\n",
       "        vertical-align: middle;\n",
       "    }\n",
       "\n",
       "    .dataframe tbody tr th {\n",
       "        vertical-align: top;\n",
       "    }\n",
       "\n",
       "    .dataframe thead th {\n",
       "        text-align: right;\n",
       "    }\n",
       "</style>\n",
       "<table border=\"1\" class=\"dataframe\">\n",
       "  <thead>\n",
       "    <tr style=\"text-align: right;\">\n",
       "      <th></th>\n",
       "      <th>Information level</th>\n",
       "      <th>Attribute</th>\n",
       "      <th>Description</th>\n",
       "      <th>Additional notes</th>\n",
       "    </tr>\n",
       "  </thead>\n",
       "  <tbody>\n",
       "    <tr>\n",
       "      <th>0</th>\n",
       "      <td>Person</td>\n",
       "      <td>AGER_TYP</td>\n",
       "      <td>best-ager typology</td>\n",
       "      <td>in cooperation with Kantar TNS; the informatio...</td>\n",
       "    </tr>\n",
       "    <tr>\n",
       "      <th>1</th>\n",
       "      <td>NaN</td>\n",
       "      <td>ALTERSKATEGORIE_GROB</td>\n",
       "      <td>age through prename analysis</td>\n",
       "      <td>modelled on millions of first name-age-referen...</td>\n",
       "    </tr>\n",
       "    <tr>\n",
       "      <th>2</th>\n",
       "      <td>NaN</td>\n",
       "      <td>ANREDE_KZ</td>\n",
       "      <td>gender</td>\n",
       "      <td>NaN</td>\n",
       "    </tr>\n",
       "    <tr>\n",
       "      <th>3</th>\n",
       "      <td>NaN</td>\n",
       "      <td>CJT_GESAMTTYP</td>\n",
       "      <td>Customer-Journey-Typology relating to the pref...</td>\n",
       "      <td>relating to the preferred information, marketi...</td>\n",
       "    </tr>\n",
       "    <tr>\n",
       "      <th>4</th>\n",
       "      <td>NaN</td>\n",
       "      <td>FINANZ_MINIMALIST</td>\n",
       "      <td>financial typology: low financial interest</td>\n",
       "      <td>Gfk-Typology based on a representative househo...</td>\n",
       "    </tr>\n",
       "  </tbody>\n",
       "</table>\n",
       "</div>"
      ],
      "text/plain": [
       "  Information level             Attribute  \\\n",
       "0            Person              AGER_TYP   \n",
       "1               NaN  ALTERSKATEGORIE_GROB   \n",
       "2               NaN             ANREDE_KZ   \n",
       "3               NaN         CJT_GESAMTTYP   \n",
       "4               NaN     FINANZ_MINIMALIST   \n",
       "\n",
       "                                         Description  \\\n",
       "0                                 best-ager typology   \n",
       "1                      age through prename analysis    \n",
       "2                                             gender   \n",
       "3  Customer-Journey-Typology relating to the pref...   \n",
       "4         financial typology: low financial interest   \n",
       "\n",
       "                                    Additional notes  \n",
       "0  in cooperation with Kantar TNS; the informatio...  \n",
       "1  modelled on millions of first name-age-referen...  \n",
       "2                                                NaN  \n",
       "3  relating to the preferred information, marketi...  \n",
       "4  Gfk-Typology based on a representative househo...  "
      ]
     },
     "execution_count": 67,
     "metadata": {},
     "output_type": "execute_result"
    }
   ],
   "source": [
    "info_levels.head()"
   ]
  },
  {
   "cell_type": "markdown",
   "metadata": {},
   "source": [
    "We would like to have a single table with the following columns: \n",
    "\n",
    "|Attribute|Information level| Description| Null values |\n",
    "|-------- | --------------- | -----------| ---------------|\n",
    "|AGER_TYP |Person          | best-ager typology  | [-1, 0, np.nan] |\n",
    "\n",
    "\n"
   ]
  },
  {
   "cell_type": "code",
   "execution_count": 68,
   "metadata": {},
   "outputs": [],
   "source": [
    "# Step 1: Forward fill the 'Information level' column in the info_level dataframe, \n",
    "#         and the 'Attribute' and 'Meaning' columns in the attributes dataframe\n",
    "\n",
    "info_levels['Information level'] = info_levels['Information level'].ffill()\n",
    "attributes['Attribute'] = attributes['Attribute'].ffill()\n",
    "attributes['Meaning'] = attributes['Meaning'].ffill()"
   ]
  },
  {
   "cell_type": "code",
   "execution_count": 69,
   "metadata": {},
   "outputs": [
    {
     "data": {
      "text/html": [
       "<div>\n",
       "<style scoped>\n",
       "    .dataframe tbody tr th:only-of-type {\n",
       "        vertical-align: middle;\n",
       "    }\n",
       "\n",
       "    .dataframe tbody tr th {\n",
       "        vertical-align: top;\n",
       "    }\n",
       "\n",
       "    .dataframe thead th {\n",
       "        text-align: right;\n",
       "    }\n",
       "</style>\n",
       "<table border=\"1\" class=\"dataframe\">\n",
       "  <thead>\n",
       "    <tr style=\"text-align: right;\">\n",
       "      <th></th>\n",
       "      <th>Attribute</th>\n",
       "      <th>Description</th>\n",
       "      <th>Missing values code</th>\n",
       "    </tr>\n",
       "  </thead>\n",
       "  <tbody>\n",
       "    <tr>\n",
       "      <th>0</th>\n",
       "      <td>AGER_TYP</td>\n",
       "      <td>best-ager typology</td>\n",
       "      <td>-1</td>\n",
       "    </tr>\n",
       "    <tr>\n",
       "      <th>5</th>\n",
       "      <td>ALTERSKATEGORIE_GROB</td>\n",
       "      <td>age classification through prename analysis</td>\n",
       "      <td>-1, 0</td>\n",
       "    </tr>\n",
       "    <tr>\n",
       "      <th>11</th>\n",
       "      <td>ALTER_HH</td>\n",
       "      <td>main age within the household</td>\n",
       "      <td>0</td>\n",
       "    </tr>\n",
       "    <tr>\n",
       "      <th>33</th>\n",
       "      <td>ANREDE_KZ</td>\n",
       "      <td>gender</td>\n",
       "      <td>-1, 0</td>\n",
       "    </tr>\n",
       "    <tr>\n",
       "      <th>40</th>\n",
       "      <td>BALLRAUM</td>\n",
       "      <td>distance to next urban centre</td>\n",
       "      <td>-1</td>\n",
       "    </tr>\n",
       "  </tbody>\n",
       "</table>\n",
       "</div>"
      ],
      "text/plain": [
       "               Attribute                                   Description  \\\n",
       "0               AGER_TYP                            best-ager typology   \n",
       "5   ALTERSKATEGORIE_GROB  age classification through prename analysis    \n",
       "11              ALTER_HH                 main age within the household   \n",
       "33             ANREDE_KZ                                        gender   \n",
       "40              BALLRAUM                distance to next urban centre    \n",
       "\n",
       "   Missing values code  \n",
       "0                   -1  \n",
       "5                -1, 0  \n",
       "11                   0  \n",
       "33               -1, 0  \n",
       "40                  -1  "
      ]
     },
     "execution_count": 69,
     "metadata": {},
     "output_type": "execute_result"
    }
   ],
   "source": [
    "# Step 2: For each attribute, find the value for missing information.\n",
    "# We are going to search for values where the meaning is \"unknown\"\n",
    "pattern = r'unknown'\n",
    "missing_codes = attributes[attributes['Meaning'].str.contains(pattern, flags = re.I)]\n",
    "\n",
    "# also, drop the 'Meaning' column\n",
    "missing_codes = missing_codes[['Attribute', 'Description', 'Value']]\n",
    "missing_codes.rename(columns = {'Value': 'Missing values code'}, inplace = True)\n",
    "missing_codes.head()"
   ]
  },
  {
   "cell_type": "code",
   "execution_count": 70,
   "metadata": {},
   "outputs": [
    {
     "data": {
      "text/plain": [
       "['D19_GESAMT_ONLINE_DATUM',\n",
       " 'D19_LEBENSMITTEL_RZ',\n",
       " 'D19_BUCH_RZ',\n",
       " 'D19_TELKO_ONLINE_DATUM',\n",
       " 'D19_GARTEN_RZ']"
      ]
     },
     "execution_count": 70,
     "metadata": {},
     "output_type": "execute_result"
    }
   ],
   "source": [
    "# Step 3: We are going to find those attributes which values do not match the previous searching patterns\n",
    "all_attributes = set(attributes['Attribute'].unique())\n",
    "selected_attributes = set(missing_codes['Attribute'].unique())\n",
    "\n",
    "# Set of attributes without a code for missing values\n",
    "no_code = list(all_attributes - selected_attributes)\n",
    "\n",
    "no_code[:5]"
   ]
  },
  {
   "cell_type": "markdown",
   "metadata": {},
   "source": [
    "By manually inspecting each of this attributes we make sure that they indeed do not have a specific value for missing values, with many of them being numerical values."
   ]
  },
  {
   "cell_type": "code",
   "execution_count": 71,
   "metadata": {},
   "outputs": [],
   "source": [
    "# Step 4: Adding the attributes without a missing code\n",
    "#attributes[attributes['Attribute'].isin(no_code) and attributes['Description'].notnull()]\n",
    "\n",
    "for attr in no_code:\n",
    "    temp_df = attributes[attributes['Attribute'] == attr]\n",
    "    row = temp_df.iloc[0, 0:2]\n",
    "    missing_codes = missing_codes.append(row)\n",
    "    \n",
    "missing_codes.sort_index(inplace = True)"
   ]
  },
  {
   "cell_type": "code",
   "execution_count": 72,
   "metadata": {},
   "outputs": [],
   "source": [
    "def str2list(string):\n",
    "    \"\"\"Receives a string in the form: '-1, 0'\n",
    "    and returns a list like [-1, 0]\"\"\"\n",
    "    if type(string) == str:\n",
    "        aux = string.split(', ')\n",
    "        return [int(x) for x in aux]\n",
    "    elif type(string) == int: # already an integer\n",
    "        return string\n",
    "    elif np.isnan(string):\n",
    "        return string\n",
    "    else:\n",
    "        print('Weird case: ', string)\n",
    "        assert False"
   ]
  },
  {
   "cell_type": "code",
   "execution_count": 73,
   "metadata": {},
   "outputs": [],
   "source": [
    "# Step 5: Converting the 'Value' column to lists and adding the 'information level' column to each attribute\n",
    "missing_codes['Missing values code'] = missing_codes['Missing values code'].map(str2list)"
   ]
  },
  {
   "cell_type": "code",
   "execution_count": 74,
   "metadata": {},
   "outputs": [
    {
     "data": {
      "text/plain": [
       "0            -1\n",
       "5       [-1, 0]\n",
       "11            0\n",
       "33      [-1, 0]\n",
       "36          NaN\n",
       "         ...   \n",
       "2219    [-1, 0]\n",
       "2229         -1\n",
       "2238    [-1, 0]\n",
       "2244    [-1, 0]\n",
       "2251    [-1, 9]\n",
       "Name: Missing values code, Length: 314, dtype: object"
      ]
     },
     "execution_count": 74,
     "metadata": {},
     "output_type": "execute_result"
    }
   ],
   "source": [
    "missing_codes['Missing values code']"
   ]
  },
  {
   "cell_type": "markdown",
   "metadata": {},
   "source": [
    "**Replacing code for missing values** in the `azdias` and the `customers` dataframes."
   ]
  },
  {
   "cell_type": "code",
   "execution_count": 75,
   "metadata": {},
   "outputs": [],
   "source": [
    "# Set the 'Attribute' column as index. This would reduce the lenght of the following code\n",
    "missing_codes.set_index('Attribute', inplace = True)\n",
    "\n",
    "for att in missing_codes.index:\n",
    "    code = missing_codes.loc[att, 'Missing values code']\n",
    "    if type(code) in [int, list]:\n",
    "        try:   #Some attributes do not appear in the actual dataframes...\n",
    "            azdias[att] = azdias[att].replace(code, np.nan)\n",
    "            customers[att] = customers[att].replace(code, np.nan)\n",
    "        except:\n",
    "            continue"
   ]
  },
  {
   "cell_type": "code",
   "execution_count": 76,
   "metadata": {},
   "outputs": [],
   "source": [
    "# Finally we add the 'Information level' column by merging dataframes\n",
    "\n",
    "#Join by index\n",
    "info_levels.set_index('Attribute', inplace = True)"
   ]
  },
  {
   "cell_type": "code",
   "execution_count": 77,
   "metadata": {},
   "outputs": [],
   "source": [
    "attributes_info = pd.merge(left = missing_codes, right = info_levels['Information level'], how = 'left', left_index = True, right_index = True)"
   ]
  },
  {
   "cell_type": "code",
   "execution_count": 78,
   "metadata": {},
   "outputs": [
    {
     "data": {
      "text/html": [
       "<div>\n",
       "<style scoped>\n",
       "    .dataframe tbody tr th:only-of-type {\n",
       "        vertical-align: middle;\n",
       "    }\n",
       "\n",
       "    .dataframe tbody tr th {\n",
       "        vertical-align: top;\n",
       "    }\n",
       "\n",
       "    .dataframe thead th {\n",
       "        text-align: right;\n",
       "    }\n",
       "</style>\n",
       "<table border=\"1\" class=\"dataframe\">\n",
       "  <thead>\n",
       "    <tr style=\"text-align: right;\">\n",
       "      <th></th>\n",
       "      <th>Description</th>\n",
       "      <th>Missing values code</th>\n",
       "      <th>Information level</th>\n",
       "    </tr>\n",
       "    <tr>\n",
       "      <th>Attribute</th>\n",
       "      <th></th>\n",
       "      <th></th>\n",
       "      <th></th>\n",
       "    </tr>\n",
       "  </thead>\n",
       "  <tbody>\n",
       "    <tr>\n",
       "      <th>AGER_TYP</th>\n",
       "      <td>best-ager typology</td>\n",
       "      <td>-1</td>\n",
       "      <td>Person</td>\n",
       "    </tr>\n",
       "    <tr>\n",
       "      <th>ALTERSKATEGORIE_GROB</th>\n",
       "      <td>age classification through prename analysis</td>\n",
       "      <td>[-1, 0]</td>\n",
       "      <td>Person</td>\n",
       "    </tr>\n",
       "    <tr>\n",
       "      <th>ALTER_HH</th>\n",
       "      <td>main age within the household</td>\n",
       "      <td>0</td>\n",
       "      <td>Household</td>\n",
       "    </tr>\n",
       "    <tr>\n",
       "      <th>ANREDE_KZ</th>\n",
       "      <td>gender</td>\n",
       "      <td>[-1, 0]</td>\n",
       "      <td>Person</td>\n",
       "    </tr>\n",
       "    <tr>\n",
       "      <th>ANZ_HAUSHALTE_AKTIV</th>\n",
       "      <td>number of households in the building</td>\n",
       "      <td>NaN</td>\n",
       "      <td>Building</td>\n",
       "    </tr>\n",
       "    <tr>\n",
       "      <th>...</th>\n",
       "      <td>...</td>\n",
       "      <td>...</td>\n",
       "      <td>...</td>\n",
       "    </tr>\n",
       "    <tr>\n",
       "      <th>WOHNDAUER_2008</th>\n",
       "      <td>length of residence</td>\n",
       "      <td>[-1, 0]</td>\n",
       "      <td>Household</td>\n",
       "    </tr>\n",
       "    <tr>\n",
       "      <th>WOHNLAGE</th>\n",
       "      <td>residential-area</td>\n",
       "      <td>-1</td>\n",
       "      <td>Building</td>\n",
       "    </tr>\n",
       "    <tr>\n",
       "      <th>WACHSTUMSGEBIET_NB</th>\n",
       "      <td>growing area (population growth in the last 5 ...</td>\n",
       "      <td>[-1, 0]</td>\n",
       "      <td>Microcell (RR3_ID)</td>\n",
       "    </tr>\n",
       "    <tr>\n",
       "      <th>W_KEIT_KIND_HH</th>\n",
       "      <td>likelihood of a child present in this household</td>\n",
       "      <td>[-1, 0]</td>\n",
       "      <td>Household</td>\n",
       "    </tr>\n",
       "    <tr>\n",
       "      <th>ZABEOTYP</th>\n",
       "      <td>typification of energy consumers</td>\n",
       "      <td>[-1, 9]</td>\n",
       "      <td>Person</td>\n",
       "    </tr>\n",
       "  </tbody>\n",
       "</table>\n",
       "<p>314 rows × 3 columns</p>\n",
       "</div>"
      ],
      "text/plain": [
       "                                                            Description  \\\n",
       "Attribute                                                                 \n",
       "AGER_TYP                                             best-ager typology   \n",
       "ALTERSKATEGORIE_GROB       age classification through prename analysis    \n",
       "ALTER_HH                                  main age within the household   \n",
       "ANREDE_KZ                                                        gender   \n",
       "ANZ_HAUSHALTE_AKTIV                number of households in the building   \n",
       "...                                                                 ...   \n",
       "WOHNDAUER_2008                                      length of residence   \n",
       "WOHNLAGE                                              residential-area    \n",
       "WACHSTUMSGEBIET_NB    growing area (population growth in the last 5 ...   \n",
       "W_KEIT_KIND_HH          likelihood of a child present in this household   \n",
       "ZABEOTYP                               typification of energy consumers   \n",
       "\n",
       "                     Missing values code   Information level  \n",
       "Attribute                                                     \n",
       "AGER_TYP                              -1              Person  \n",
       "ALTERSKATEGORIE_GROB             [-1, 0]              Person  \n",
       "ALTER_HH                               0           Household  \n",
       "ANREDE_KZ                        [-1, 0]              Person  \n",
       "ANZ_HAUSHALTE_AKTIV                  NaN            Building  \n",
       "...                                  ...                 ...  \n",
       "WOHNDAUER_2008                   [-1, 0]           Household  \n",
       "WOHNLAGE                              -1            Building  \n",
       "WACHSTUMSGEBIET_NB               [-1, 0]  Microcell (RR3_ID)  \n",
       "W_KEIT_KIND_HH                   [-1, 0]           Household  \n",
       "ZABEOTYP                         [-1, 9]              Person  \n",
       "\n",
       "[314 rows x 3 columns]"
      ]
     },
     "execution_count": 78,
     "metadata": {},
     "output_type": "execute_result"
    }
   ],
   "source": [
    "attributes_info"
   ]
  },
  {
   "cell_type": "markdown",
   "metadata": {},
   "source": [
    "### Comparing the percentage of missing values\n",
    "\n",
    "Now that the codes for missing values are recognized as such, we can proceed to count again the number of missing values."
   ]
  },
  {
   "cell_type": "code",
   "execution_count": 79,
   "metadata": {},
   "outputs": [
    {
     "name": "stdout",
     "output_type": "stream",
     "text": [
      "Overall missing values: 37088263 \n",
      "Additional missing values: 3594594\n"
     ]
    },
    {
     "data": {
      "text/plain": [
       "<AxesSubplot:>"
      ]
     },
     "execution_count": 79,
     "metadata": {},
     "output_type": "execute_result"
    },
    {
     "data": {
      "image/png": "[encoded data removed]",
      "text/plain": [
       "<Figure size 720x432 with 1 Axes>"
      ]
     },
     "metadata": {
      "needs_background": "light"
     },
     "output_type": "display_data"
    }
   ],
   "source": [
    "azdias_missing_values = azdias.isnull().sum()\n",
    "percentage_missing_values = azdias_missing_values.sort_values(ascending = False) / azdias.shape[0] * 100\n",
    "\n",
    "print('Overall missing values:', azdias_missing_values.sum(),\n",
    "      '\\nAdditional missing values:', azdias_missing_values.sum() - azdias_missing_values_1.sum() )\n",
    "\n",
    "# Plotting Top 30 features with missing values\n",
    "plt.figure(figsize = (10, 6))\n",
    "percentage_missing_values[:30].plot.bar()"
   ]
  },
  {
   "cell_type": "code",
   "execution_count": 80,
   "metadata": {},
   "outputs": [
    {
     "name": "stdout",
     "output_type": "stream",
     "text": [
      "Overall missing values: 14488721 \n",
      "Additional missing values: 623947\n"
     ]
    },
    {
     "data": {
      "text/plain": [
       "<AxesSubplot:>"
      ]
     },
     "execution_count": 80,
     "metadata": {},
     "output_type": "execute_result"
    },
    {
     "data": {
      "image/png": "[encoded data removed]",
      "text/plain": [
       "<Figure size 720x432 with 1 Axes>"
      ]
     },
     "metadata": {
      "needs_background": "light"
     },
     "output_type": "display_data"
    }
   ],
   "source": [
    "customers_missing_values = customers.isnull().sum()\n",
    "percentage_missing_values = customers_missing_values.sort_values(ascending = False) / customers.shape[0] * 100\n",
    "\n",
    "print('Overall missing values:', customers_missing_values.sum(),\n",
    "      '\\nAdditional missing values:', customers_missing_values.sum() - customers_missing_values_1.sum() )\n",
    "\n",
    "# Plotting Top 30 features with missing values\n",
    "plt.figure(figsize = (10, 6))\n",
    "percentage_missing_values[:30].plot.bar()"
   ]
  },
  {
   "cell_type": "markdown",
   "metadata": {},
   "source": [
    "The number of missing values increase with respect to the original dataset (by 3,594,594 in `azdias` and in `customers`). According to the plot above, we now have 9 columns with more than 40% missing values. These columns will be eliminated from the dataset:\n",
    "\n",
    "- `ALTER_KIND1-4`: No description found\n",
    "- `TITEL_KZ`: \"*Flag wheter a person holds an academic title*\"\n",
    "- `AGER_TYP`: \"*Best-ager typology\"*. Besides, there are other features regarding the age of the subjects.\n",
    "- `EXTSEL992`: No description found\n",
    "- `KK_KUNDENTYP`: No description found\n",
    "- `KBA05_BAUMAX`: Most common building-type within the cell"
   ]
  },
  {
   "cell_type": "markdown",
   "metadata": {},
   "source": [
    "#### Dropping the columns"
   ]
  },
  {
   "cell_type": "code",
   "execution_count": 81,
   "metadata": {},
   "outputs": [
    {
     "data": {
      "text/html": [
       "<div>\n",
       "<style scoped>\n",
       "    .dataframe tbody tr th:only-of-type {\n",
       "        vertical-align: middle;\n",
       "    }\n",
       "\n",
       "    .dataframe tbody tr th {\n",
       "        vertical-align: top;\n",
       "    }\n",
       "\n",
       "    .dataframe thead th {\n",
       "        text-align: right;\n",
       "    }\n",
       "</style>\n",
       "<table border=\"1\" class=\"dataframe\">\n",
       "  <thead>\n",
       "    <tr style=\"text-align: right;\">\n",
       "      <th></th>\n",
       "      <th>Description</th>\n",
       "      <th>Missing values code</th>\n",
       "      <th>Information level</th>\n",
       "    </tr>\n",
       "    <tr>\n",
       "      <th>Attribute</th>\n",
       "      <th></th>\n",
       "      <th></th>\n",
       "      <th></th>\n",
       "    </tr>\n",
       "  </thead>\n",
       "  <tbody>\n",
       "    <tr>\n",
       "      <th>AGER_TYP</th>\n",
       "      <td>best-ager typology</td>\n",
       "      <td>-1</td>\n",
       "      <td>Person</td>\n",
       "    </tr>\n",
       "    <tr>\n",
       "      <th>ALTERSKATEGORIE_GROB</th>\n",
       "      <td>age classification through prename analysis</td>\n",
       "      <td>[-1, 0]</td>\n",
       "      <td>Person</td>\n",
       "    </tr>\n",
       "    <tr>\n",
       "      <th>ALTER_HH</th>\n",
       "      <td>main age within the household</td>\n",
       "      <td>0</td>\n",
       "      <td>Household</td>\n",
       "    </tr>\n",
       "    <tr>\n",
       "      <th>ANREDE_KZ</th>\n",
       "      <td>gender</td>\n",
       "      <td>[-1, 0]</td>\n",
       "      <td>Person</td>\n",
       "    </tr>\n",
       "    <tr>\n",
       "      <th>ANZ_HAUSHALTE_AKTIV</th>\n",
       "      <td>number of households in the building</td>\n",
       "      <td>NaN</td>\n",
       "      <td>Building</td>\n",
       "    </tr>\n",
       "    <tr>\n",
       "      <th>...</th>\n",
       "      <td>...</td>\n",
       "      <td>...</td>\n",
       "      <td>...</td>\n",
       "    </tr>\n",
       "    <tr>\n",
       "      <th>WOHNDAUER_2008</th>\n",
       "      <td>length of residence</td>\n",
       "      <td>[-1, 0]</td>\n",
       "      <td>Household</td>\n",
       "    </tr>\n",
       "    <tr>\n",
       "      <th>WOHNLAGE</th>\n",
       "      <td>residential-area</td>\n",
       "      <td>-1</td>\n",
       "      <td>Building</td>\n",
       "    </tr>\n",
       "    <tr>\n",
       "      <th>WACHSTUMSGEBIET_NB</th>\n",
       "      <td>growing area (population growth in the last 5 ...</td>\n",
       "      <td>[-1, 0]</td>\n",
       "      <td>Microcell (RR3_ID)</td>\n",
       "    </tr>\n",
       "    <tr>\n",
       "      <th>W_KEIT_KIND_HH</th>\n",
       "      <td>likelihood of a child present in this household</td>\n",
       "      <td>[-1, 0]</td>\n",
       "      <td>Household</td>\n",
       "    </tr>\n",
       "    <tr>\n",
       "      <th>ZABEOTYP</th>\n",
       "      <td>typification of energy consumers</td>\n",
       "      <td>[-1, 9]</td>\n",
       "      <td>Person</td>\n",
       "    </tr>\n",
       "  </tbody>\n",
       "</table>\n",
       "<p>314 rows × 3 columns</p>\n",
       "</div>"
      ],
      "text/plain": [
       "                                                            Description  \\\n",
       "Attribute                                                                 \n",
       "AGER_TYP                                             best-ager typology   \n",
       "ALTERSKATEGORIE_GROB       age classification through prename analysis    \n",
       "ALTER_HH                                  main age within the household   \n",
       "ANREDE_KZ                                                        gender   \n",
       "ANZ_HAUSHALTE_AKTIV                number of households in the building   \n",
       "...                                                                 ...   \n",
       "WOHNDAUER_2008                                      length of residence   \n",
       "WOHNLAGE                                              residential-area    \n",
       "WACHSTUMSGEBIET_NB    growing area (population growth in the last 5 ...   \n",
       "W_KEIT_KIND_HH          likelihood of a child present in this household   \n",
       "ZABEOTYP                               typification of energy consumers   \n",
       "\n",
       "                     Missing values code   Information level  \n",
       "Attribute                                                     \n",
       "AGER_TYP                              -1              Person  \n",
       "ALTERSKATEGORIE_GROB             [-1, 0]              Person  \n",
       "ALTER_HH                               0           Household  \n",
       "ANREDE_KZ                        [-1, 0]              Person  \n",
       "ANZ_HAUSHALTE_AKTIV                  NaN            Building  \n",
       "...                                  ...                 ...  \n",
       "WOHNDAUER_2008                   [-1, 0]           Household  \n",
       "WOHNLAGE                              -1            Building  \n",
       "WACHSTUMSGEBIET_NB               [-1, 0]  Microcell (RR3_ID)  \n",
       "W_KEIT_KIND_HH                   [-1, 0]           Household  \n",
       "ZABEOTYP                         [-1, 9]              Person  \n",
       "\n",
       "[314 rows x 3 columns]"
      ]
     },
     "execution_count": 81,
     "metadata": {},
     "output_type": "execute_result"
    }
   ],
   "source": [
    "attributes_info"
   ]
  },
  {
   "cell_type": "code",
   "execution_count": 82,
   "metadata": {},
   "outputs": [],
   "source": [
    "attributes_info.drop( ['TITEL_KZ', 'AGER_TYP', 'KBA05_BAUMAX'], axis = 0, inplace = True)\n",
    "\n",
    "azdias.drop(['ALTER_KIND1', 'ALTER_KIND2', 'ALTER_KIND3', 'ALTER_KIND4', \n",
    "                'TITEL_KZ', 'AGER_TYP', 'EXTSEL992', 'KK_KUNDENTYP', 'KBA05_BAUMAX'], axis = 1, inplace = True)\n",
    "\n",
    "customers.drop(['ALTER_KIND1', 'ALTER_KIND2', 'ALTER_KIND3', 'ALTER_KIND4', \n",
    "                'TITEL_KZ', 'AGER_TYP', 'EXTSEL992', 'KK_KUNDENTYP', 'KBA05_BAUMAX'], axis = 1, inplace = True)"
   ]
  },
  {
   "cell_type": "markdown",
   "metadata": {},
   "source": [
    "## Feature engineering"
   ]
  },
  {
   "cell_type": "markdown",
   "metadata": {},
   "source": [
    "### Distribution of attributes\n",
    "\n",
    "The following graph shows the distribution of the type of attributes in the datasets."
   ]
  },
  {
   "cell_type": "code",
   "execution_count": 83,
   "metadata": {},
   "outputs": [
    {
     "data": {
      "image/png": "[encoded data removed]",
      "text/plain": [
       "<Figure size 432x288 with 1 Axes>"
      ]
     },
     "metadata": {},
     "output_type": "display_data"
    }
   ],
   "source": [
    "# Plot of number of features per information level  (pie)\n",
    "att_per_infolevel = attributes_info.reset_index().groupby('Information level').count().sort_values(by = 'Attribute', ascending = False)\n",
    "\n",
    "att_per_infolevel['Attribute'].plot.pie()\n",
    "plt.ylabel('');"
   ]
  },
  {
   "cell_type": "markdown",
   "metadata": {},
   "source": [
    "### PLZ8\n",
    "\n",
    "The `PLZ8` type of attribute is clearly the most common one. \n",
    "\n",
    "Within the `PLZ8` class of attributes there are attributes starting with `'KBA'` which refer to the share of cars with very specific characteristics (too specific...). This attributes will be discarded for our analysis, because, even though the characteristics of cars can provide financial information, we have other attributes with more clear financial information. "
   ]
  },
  {
   "cell_type": "code",
   "execution_count": 84,
   "metadata": {},
   "outputs": [],
   "source": [
    "columns_to_drop = list(attributes_info[attributes_info['Information level'] == 'PLZ8'].iloc[:-7].index) + list(attributes_info[attributes_info['Information level'] == 'PLZ8'].iloc[-3:].index)\n",
    "\n",
    "columns_to_drop = list( set(columns_to_drop).intersection(set(customers.columns)) )\n",
    "\n",
    "customers.drop(columns_to_drop, axis = 1, inplace = True)\n",
    "azdias.drop(columns_to_drop, axis = 1, inplace = True)"
   ]
  },
  {
   "cell_type": "markdown",
   "metadata": {},
   "source": [
    "The attributes `PLZ8_ANTG1-4` provide information about family houses in a certain zone, this information can be interesting for our analysis and therefore they will be keep. The missing values in such columns will be imputed with the most frequent value."
   ]
  },
  {
   "cell_type": "code",
   "execution_count": 85,
   "metadata": {},
   "outputs": [],
   "source": [
    "for col in ['PLZ8_ANTG1', 'PLZ8_ANTG2', 'PLZ8_ANTG3', 'PLZ8_ANTG4']:\n",
    "    customers[col].fillna(customers[col].mode().values[0], inplace = True)\n",
    "    azdias[col].fillna(azdias[col].mode().values[0], inplace = True)"
   ]
  },
  {
   "cell_type": "markdown",
   "metadata": {},
   "source": [
    "### Microcell (RR3_ID)\n",
    "\n",
    "This type of attributes also accounts for very specific information about the cars of certain area. We will also drop these columns for our analysis."
   ]
  },
  {
   "cell_type": "code",
   "execution_count": 86,
   "metadata": {},
   "outputs": [],
   "source": [
    "columns_to_drop = list(attributes_info[attributes_info['Information level'] == 'Microcell (RR3_ID)'].iloc[:-7].index)\n",
    "\n",
    "customers.drop(columns_to_drop, axis = 1, inplace = True)\n",
    "azdias.drop(columns_to_drop, axis = 1, inplace = True)"
   ]
  },
  {
   "cell_type": "markdown",
   "metadata": {},
   "source": [
    "## Person\n",
    "\n",
    "This class of attributes will probably be one of the most relevant ones, because it includes personal information like age, health, social and financial status, and others. \n",
    "\n",
    "Since this features will probably be very useful for our predictions we are going to carefully engineer each feature.\n"
   ]
  },
  {
   "cell_type": "code",
   "execution_count": 87,
   "metadata": {},
   "outputs": [
    {
     "data": {
      "text/html": [
       "<div>\n",
       "<style scoped>\n",
       "    .dataframe tbody tr th:only-of-type {\n",
       "        vertical-align: middle;\n",
       "    }\n",
       "\n",
       "    .dataframe tbody tr th {\n",
       "        vertical-align: top;\n",
       "    }\n",
       "\n",
       "    .dataframe thead th {\n",
       "        text-align: right;\n",
       "    }\n",
       "</style>\n",
       "<table border=\"1\" class=\"dataframe\">\n",
       "  <thead>\n",
       "    <tr style=\"text-align: right;\">\n",
       "      <th></th>\n",
       "      <th>Description</th>\n",
       "      <th>Missing values code</th>\n",
       "      <th>Information level</th>\n",
       "    </tr>\n",
       "    <tr>\n",
       "      <th>Attribute</th>\n",
       "      <th></th>\n",
       "      <th></th>\n",
       "      <th></th>\n",
       "    </tr>\n",
       "  </thead>\n",
       "  <tbody>\n",
       "    <tr>\n",
       "      <th>ALTERSKATEGORIE_GROB</th>\n",
       "      <td>age classification through prename analysis</td>\n",
       "      <td>[-1, 0]</td>\n",
       "      <td>Person</td>\n",
       "    </tr>\n",
       "    <tr>\n",
       "      <th>ANREDE_KZ</th>\n",
       "      <td>gender</td>\n",
       "      <td>[-1, 0]</td>\n",
       "      <td>Person</td>\n",
       "    </tr>\n",
       "    <tr>\n",
       "      <th>CJT_GESAMTTYP</th>\n",
       "      <td>customer journey typology</td>\n",
       "      <td>0</td>\n",
       "      <td>Person</td>\n",
       "    </tr>\n",
       "    <tr>\n",
       "      <th>FINANZTYP</th>\n",
       "      <td>best descirbing financial type for the person</td>\n",
       "      <td>-1</td>\n",
       "      <td>Person</td>\n",
       "    </tr>\n",
       "    <tr>\n",
       "      <th>FINANZ_ANLEGER</th>\n",
       "      <td>financial typology: investor</td>\n",
       "      <td>-1</td>\n",
       "      <td>Person</td>\n",
       "    </tr>\n",
       "    <tr>\n",
       "      <th>FINANZ_HAUSBAUER</th>\n",
       "      <td>financial typology: main focus is the own house</td>\n",
       "      <td>-1</td>\n",
       "      <td>Person</td>\n",
       "    </tr>\n",
       "    <tr>\n",
       "      <th>FINANZ_MINIMALIST</th>\n",
       "      <td>financial typology: low financial interest</td>\n",
       "      <td>-1</td>\n",
       "      <td>Person</td>\n",
       "    </tr>\n",
       "    <tr>\n",
       "      <th>FINANZ_SPARER</th>\n",
       "      <td>financial typology: money saver</td>\n",
       "      <td>-1</td>\n",
       "      <td>Person</td>\n",
       "    </tr>\n",
       "    <tr>\n",
       "      <th>FINANZ_UNAUFFAELLIGER</th>\n",
       "      <td>financial typology: unremarkable</td>\n",
       "      <td>-1</td>\n",
       "      <td>Person</td>\n",
       "    </tr>\n",
       "    <tr>\n",
       "      <th>FINANZ_VORSORGER</th>\n",
       "      <td>financial typology: be prepared</td>\n",
       "      <td>-1</td>\n",
       "      <td>Person</td>\n",
       "    </tr>\n",
       "    <tr>\n",
       "      <th>GEBURTSJAHR</th>\n",
       "      <td>year of birth</td>\n",
       "      <td>NaN</td>\n",
       "      <td>Person</td>\n",
       "    </tr>\n",
       "    <tr>\n",
       "      <th>GFK_URLAUBERTYP</th>\n",
       "      <td>vacation habits</td>\n",
       "      <td>NaN</td>\n",
       "      <td>Person</td>\n",
       "    </tr>\n",
       "    <tr>\n",
       "      <th>GREEN_AVANTGARDE</th>\n",
       "      <td>Green avantgarde</td>\n",
       "      <td>NaN</td>\n",
       "      <td>Person</td>\n",
       "    </tr>\n",
       "    <tr>\n",
       "      <th>HEALTH_TYP</th>\n",
       "      <td>health typology</td>\n",
       "      <td>-1</td>\n",
       "      <td>Person</td>\n",
       "    </tr>\n",
       "    <tr>\n",
       "      <th>LP_FAMILIE_FEIN</th>\n",
       "      <td>familytyp fine</td>\n",
       "      <td>NaN</td>\n",
       "      <td>Person</td>\n",
       "    </tr>\n",
       "    <tr>\n",
       "      <th>LP_FAMILIE_GROB</th>\n",
       "      <td>familytyp rough</td>\n",
       "      <td>NaN</td>\n",
       "      <td>Person</td>\n",
       "    </tr>\n",
       "    <tr>\n",
       "      <th>LP_LEBENSPHASE_FEIN</th>\n",
       "      <td>lifestage fine</td>\n",
       "      <td>NaN</td>\n",
       "      <td>Person</td>\n",
       "    </tr>\n",
       "    <tr>\n",
       "      <th>LP_LEBENSPHASE_GROB</th>\n",
       "      <td>lifestage rough</td>\n",
       "      <td>NaN</td>\n",
       "      <td>Person</td>\n",
       "    </tr>\n",
       "    <tr>\n",
       "      <th>LP_STATUS_FEIN</th>\n",
       "      <td>social status fine</td>\n",
       "      <td>NaN</td>\n",
       "      <td>Person</td>\n",
       "    </tr>\n",
       "    <tr>\n",
       "      <th>LP_STATUS_GROB</th>\n",
       "      <td>social status rough</td>\n",
       "      <td>NaN</td>\n",
       "      <td>Person</td>\n",
       "    </tr>\n",
       "    <tr>\n",
       "      <th>NATIONALITAET_KZ</th>\n",
       "      <td>nationaltity (scored by prename analysis)</td>\n",
       "      <td>[-1, 0]</td>\n",
       "      <td>Person</td>\n",
       "    </tr>\n",
       "    <tr>\n",
       "      <th>PRAEGENDE_JUGENDJAHRE</th>\n",
       "      <td>dominating movement in the person's youth (ava...</td>\n",
       "      <td>[-1, 0]</td>\n",
       "      <td>Person</td>\n",
       "    </tr>\n",
       "    <tr>\n",
       "      <th>RETOURTYP_BK_S</th>\n",
       "      <td>return type</td>\n",
       "      <td>0</td>\n",
       "      <td>Person</td>\n",
       "    </tr>\n",
       "    <tr>\n",
       "      <th>SEMIO_DOM</th>\n",
       "      <td>affinity indicating in what way the person is ...</td>\n",
       "      <td>[-1, 9]</td>\n",
       "      <td>Person</td>\n",
       "    </tr>\n",
       "    <tr>\n",
       "      <th>SEMIO_ERL</th>\n",
       "      <td>affinity indicating in what way the person is ...</td>\n",
       "      <td>[-1, 9]</td>\n",
       "      <td>Person</td>\n",
       "    </tr>\n",
       "    <tr>\n",
       "      <th>SEMIO_FAM</th>\n",
       "      <td>affinity indicating in what way the person is ...</td>\n",
       "      <td>[-1, 9]</td>\n",
       "      <td>Person</td>\n",
       "    </tr>\n",
       "    <tr>\n",
       "      <th>SEMIO_KAEM</th>\n",
       "      <td>affinity indicating in what way the person is ...</td>\n",
       "      <td>[-1, 9]</td>\n",
       "      <td>Person</td>\n",
       "    </tr>\n",
       "    <tr>\n",
       "      <th>SEMIO_KRIT</th>\n",
       "      <td>affinity indicating in what way the person is ...</td>\n",
       "      <td>[-1, 9]</td>\n",
       "      <td>Person</td>\n",
       "    </tr>\n",
       "    <tr>\n",
       "      <th>SEMIO_KULT</th>\n",
       "      <td>affinity indicating in what way the person is ...</td>\n",
       "      <td>[-1, 9]</td>\n",
       "      <td>Person</td>\n",
       "    </tr>\n",
       "    <tr>\n",
       "      <th>SEMIO_LUST</th>\n",
       "      <td>affinity indicating in what way the person is ...</td>\n",
       "      <td>[-1, 9]</td>\n",
       "      <td>Person</td>\n",
       "    </tr>\n",
       "    <tr>\n",
       "      <th>SEMIO_MAT</th>\n",
       "      <td>affinity indicating in what way the person is ...</td>\n",
       "      <td>[-1, 9]</td>\n",
       "      <td>Person</td>\n",
       "    </tr>\n",
       "    <tr>\n",
       "      <th>SEMIO_PFLICHT</th>\n",
       "      <td>affinity indicating in what way the person is ...</td>\n",
       "      <td>[-1, 9]</td>\n",
       "      <td>Person</td>\n",
       "    </tr>\n",
       "    <tr>\n",
       "      <th>SEMIO_RAT</th>\n",
       "      <td>affinity indicating in what way the person is ...</td>\n",
       "      <td>[-1, 9]</td>\n",
       "      <td>Person</td>\n",
       "    </tr>\n",
       "    <tr>\n",
       "      <th>SEMIO_REL</th>\n",
       "      <td>affinity indicating in what way the person is ...</td>\n",
       "      <td>[-1, 9]</td>\n",
       "      <td>Person</td>\n",
       "    </tr>\n",
       "    <tr>\n",
       "      <th>SEMIO_SOZ</th>\n",
       "      <td>affinity indicating in what way the person is ...</td>\n",
       "      <td>[-1, 9]</td>\n",
       "      <td>Person</td>\n",
       "    </tr>\n",
       "    <tr>\n",
       "      <th>SEMIO_TRADV</th>\n",
       "      <td>affinity indicating in what way the person is ...</td>\n",
       "      <td>[-1, 9]</td>\n",
       "      <td>Person</td>\n",
       "    </tr>\n",
       "    <tr>\n",
       "      <th>SEMIO_VERT</th>\n",
       "      <td>affinity indicating in what way the person is ...</td>\n",
       "      <td>[-1, 9]</td>\n",
       "      <td>Person</td>\n",
       "    </tr>\n",
       "    <tr>\n",
       "      <th>SHOPPER_TYP</th>\n",
       "      <td>shopping typology</td>\n",
       "      <td>-1</td>\n",
       "      <td>Person</td>\n",
       "    </tr>\n",
       "    <tr>\n",
       "      <th>SOHO_FLAG</th>\n",
       "      <td>small office/home office flag</td>\n",
       "      <td>-1</td>\n",
       "      <td>Person</td>\n",
       "    </tr>\n",
       "    <tr>\n",
       "      <th>VERS_TYP</th>\n",
       "      <td>insurance typology</td>\n",
       "      <td>-1</td>\n",
       "      <td>Person</td>\n",
       "    </tr>\n",
       "    <tr>\n",
       "      <th>ZABEOTYP</th>\n",
       "      <td>typification of energy consumers</td>\n",
       "      <td>[-1, 9]</td>\n",
       "      <td>Person</td>\n",
       "    </tr>\n",
       "  </tbody>\n",
       "</table>\n",
       "</div>"
      ],
      "text/plain": [
       "                                                             Description  \\\n",
       "Attribute                                                                  \n",
       "ALTERSKATEGORIE_GROB        age classification through prename analysis    \n",
       "ANREDE_KZ                                                         gender   \n",
       "CJT_GESAMTTYP                                  customer journey typology   \n",
       "FINANZTYP                  best descirbing financial type for the person   \n",
       "FINANZ_ANLEGER                              financial typology: investor   \n",
       "FINANZ_HAUSBAUER         financial typology: main focus is the own house   \n",
       "FINANZ_MINIMALIST             financial typology: low financial interest   \n",
       "FINANZ_SPARER                            financial typology: money saver   \n",
       "FINANZ_UNAUFFAELLIGER                   financial typology: unremarkable   \n",
       "FINANZ_VORSORGER                         financial typology: be prepared   \n",
       "GEBURTSJAHR                                                year of birth   \n",
       "GFK_URLAUBERTYP                                          vacation habits   \n",
       "GREEN_AVANTGARDE                                        Green avantgarde   \n",
       "HEALTH_TYP                                               health typology   \n",
       "LP_FAMILIE_FEIN                                           familytyp fine   \n",
       "LP_FAMILIE_GROB                                          familytyp rough   \n",
       "LP_LEBENSPHASE_FEIN                                      lifestage fine    \n",
       "LP_LEBENSPHASE_GROB                                      lifestage rough   \n",
       "LP_STATUS_FEIN                                        social status fine   \n",
       "LP_STATUS_GROB                                       social status rough   \n",
       "NATIONALITAET_KZ               nationaltity (scored by prename analysis)   \n",
       "PRAEGENDE_JUGENDJAHRE  dominating movement in the person's youth (ava...   \n",
       "RETOURTYP_BK_S                                               return type   \n",
       "SEMIO_DOM              affinity indicating in what way the person is ...   \n",
       "SEMIO_ERL              affinity indicating in what way the person is ...   \n",
       "SEMIO_FAM              affinity indicating in what way the person is ...   \n",
       "SEMIO_KAEM             affinity indicating in what way the person is ...   \n",
       "SEMIO_KRIT             affinity indicating in what way the person is ...   \n",
       "SEMIO_KULT             affinity indicating in what way the person is ...   \n",
       "SEMIO_LUST             affinity indicating in what way the person is ...   \n",
       "SEMIO_MAT              affinity indicating in what way the person is ...   \n",
       "SEMIO_PFLICHT          affinity indicating in what way the person is ...   \n",
       "SEMIO_RAT              affinity indicating in what way the person is ...   \n",
       "SEMIO_REL              affinity indicating in what way the person is ...   \n",
       "SEMIO_SOZ              affinity indicating in what way the person is ...   \n",
       "SEMIO_TRADV            affinity indicating in what way the person is ...   \n",
       "SEMIO_VERT             affinity indicating in what way the person is ...   \n",
       "SHOPPER_TYP                                            shopping typology   \n",
       "SOHO_FLAG                                  small office/home office flag   \n",
       "VERS_TYP                                             insurance typology    \n",
       "ZABEOTYP                                typification of energy consumers   \n",
       "\n",
       "                      Missing values code Information level  \n",
       "Attribute                                                    \n",
       "ALTERSKATEGORIE_GROB              [-1, 0]            Person  \n",
       "ANREDE_KZ                         [-1, 0]            Person  \n",
       "CJT_GESAMTTYP                           0            Person  \n",
       "FINANZTYP                              -1            Person  \n",
       "FINANZ_ANLEGER                         -1            Person  \n",
       "FINANZ_HAUSBAUER                       -1            Person  \n",
       "FINANZ_MINIMALIST                      -1            Person  \n",
       "FINANZ_SPARER                          -1            Person  \n",
       "FINANZ_UNAUFFAELLIGER                  -1            Person  \n",
       "FINANZ_VORSORGER                       -1            Person  \n",
       "GEBURTSJAHR                           NaN            Person  \n",
       "GFK_URLAUBERTYP                       NaN            Person  \n",
       "GREEN_AVANTGARDE                      NaN            Person  \n",
       "HEALTH_TYP                             -1            Person  \n",
       "LP_FAMILIE_FEIN                       NaN            Person  \n",
       "LP_FAMILIE_GROB                       NaN            Person  \n",
       "LP_LEBENSPHASE_FEIN                   NaN            Person  \n",
       "LP_LEBENSPHASE_GROB                   NaN            Person  \n",
       "LP_STATUS_FEIN                        NaN            Person  \n",
       "LP_STATUS_GROB                        NaN            Person  \n",
       "NATIONALITAET_KZ                  [-1, 0]            Person  \n",
       "PRAEGENDE_JUGENDJAHRE             [-1, 0]            Person  \n",
       "RETOURTYP_BK_S                          0            Person  \n",
       "SEMIO_DOM                         [-1, 9]            Person  \n",
       "SEMIO_ERL                         [-1, 9]            Person  \n",
       "SEMIO_FAM                         [-1, 9]            Person  \n",
       "SEMIO_KAEM                        [-1, 9]            Person  \n",
       "SEMIO_KRIT                        [-1, 9]            Person  \n",
       "SEMIO_KULT                        [-1, 9]            Person  \n",
       "SEMIO_LUST                        [-1, 9]            Person  \n",
       "SEMIO_MAT                         [-1, 9]            Person  \n",
       "SEMIO_PFLICHT                     [-1, 9]            Person  \n",
       "SEMIO_RAT                         [-1, 9]            Person  \n",
       "SEMIO_REL                         [-1, 9]            Person  \n",
       "SEMIO_SOZ                         [-1, 9]            Person  \n",
       "SEMIO_TRADV                       [-1, 9]            Person  \n",
       "SEMIO_VERT                        [-1, 9]            Person  \n",
       "SHOPPER_TYP                            -1            Person  \n",
       "SOHO_FLAG                              -1            Person  \n",
       "VERS_TYP                               -1            Person  \n",
       "ZABEOTYP                          [-1, 9]            Person  "
      ]
     },
     "execution_count": 87,
     "metadata": {},
     "output_type": "execute_result"
    }
   ],
   "source": [
    "attributes_info[attributes_info['Information level'] == 'Person']"
   ]
  },
  {
   "cell_type": "markdown",
   "metadata": {},
   "source": [
    "#### ALTERSKATEGORIE_GROB\n",
    "\n",
    "*Age classification through prename analysis*\n",
    "\n",
    "Ordinal variable. Can be left as it is. Missing values will be replaced by 0's"
   ]
  },
  {
   "cell_type": "code",
   "execution_count": 88,
   "metadata": {},
   "outputs": [],
   "source": [
    "customers['ALTERSKATEGORIE_GROB'].fillna(0, inplace = True)\n",
    "azdias['ALTERSKATEGORIE_GROB'].fillna(0, inplace = True)"
   ]
  },
  {
   "cell_type": "markdown",
   "metadata": {},
   "source": [
    "#### ANREDE_KZ \n",
    "\n",
    "*Gender*\n",
    "\n",
    "Categorical variable but already codified as numerical.\n",
    "This column does not have missing values. It is left as it is."
   ]
  },
  {
   "cell_type": "markdown",
   "metadata": {},
   "source": [
    "#### CJT_GESAMTTYP\n",
    "\n",
    "*Customer journey typology*\n",
    "\n",
    "Categorical variable, we will define a replace dictionary to keep the category names."
   ]
  },
  {
   "cell_type": "code",
   "execution_count": 89,
   "metadata": {},
   "outputs": [
    {
     "name": "stdout",
     "output_type": "stream",
     "text": [
      "0.016764761129547303\n"
     ]
    },
    {
     "data": {
      "text/plain": [
       "0.005446460529992"
      ]
     },
     "execution_count": 89,
     "metadata": {},
     "output_type": "execute_result"
    }
   ],
   "source": [
    "customers['CJT_GESAMTTYP'].replace({1: 'Advert and consum minimalist', \n",
    "                                    2: 'Advert and consum traditionalist',\n",
    "                                    3: 'Advert interested store-shopper',\n",
    "                                    4: 'Advert interested online-shopper',\n",
    "                                    5: 'Advert and cross-channel enthusiast', \n",
    "                                    6: 'Advert ethusiast with restricted cross-channel'},\n",
    "                                   inplace = True)\n",
    "\n",
    "azdias['CJT_GESAMTTYP'].replace({1: 'Advert and consum minimalist', \n",
    "                                    2: 'Advert and consum traditionalist',\n",
    "                                    3: 'Advert interested store-shopper',\n",
    "                                    4: 'Advert interested online-shopper',\n",
    "                                    5: 'Advert and cross-channel enthusiast', \n",
    "                                    6: 'Advert ethusiast with restricted cross-channel'},\n",
    "                                   inplace = True)\n",
    "\n",
    "# Percentage of missing values\n",
    "print(customers['CJT_GESAMTTYP'].isnull().sum() / customers.shape[0] )\n",
    "\n",
    "azdias['CJT_GESAMTTYP'].isnull().sum() / azdias.shape[0] "
   ]
  },
  {
   "cell_type": "markdown",
   "metadata": {},
   "source": [
    "Since it has very few missing values (< 2%) we will fill nan values with the most common value ('Advert enthusiast with restricted cross-channel bhv')"
   ]
  },
  {
   "cell_type": "code",
   "execution_count": 90,
   "metadata": {},
   "outputs": [],
   "source": [
    "customers['CJT_GESAMTTYP'].fillna(customers['CJT_GESAMTTYP'].mode().iloc[0], inplace = True)\n",
    "azdias['CJT_GESAMTTYP'].fillna(azdias['CJT_GESAMTTYP'].mode().iloc[0], inplace = True)"
   ]
  },
  {
   "cell_type": "markdown",
   "metadata": {},
   "source": [
    "Converting to dummy variables"
   ]
  },
  {
   "cell_type": "code",
   "execution_count": 91,
   "metadata": {},
   "outputs": [
    {
     "data": {
      "text/plain": [
       "0                    Advert and cross-channel enthusiast\n",
       "1         Advert ethusiast with restricted cross-channel\n",
       "2                       Advert and consum traditionalist\n",
       "3                       Advert and consum traditionalist\n",
       "4         Advert ethusiast with restricted cross-channel\n",
       "                               ...                      \n",
       "191647                  Advert interested online-shopper\n",
       "191648                  Advert and consum traditionalist\n",
       "191649                  Advert and consum traditionalist\n",
       "191650                  Advert interested online-shopper\n",
       "191651                  Advert and consum traditionalist\n",
       "Name: CJT_GESAMTTYP, Length: 191652, dtype: object"
      ]
     },
     "execution_count": 91,
     "metadata": {},
     "output_type": "execute_result"
    }
   ],
   "source": [
    "customers['CJT_GESAMTTYP']"
   ]
  },
  {
   "cell_type": "code",
   "execution_count": 92,
   "metadata": {},
   "outputs": [],
   "source": [
    "customers = pd.get_dummies(customers, columns = ['CJT_GESAMTTYP'])\n",
    "azdias = pd.get_dummies(azdias, columns = ['CJT_GESAMTTYP'])"
   ]
  },
  {
   "cell_type": "markdown",
   "metadata": {},
   "source": [
    "### FINANZ_ ... \n",
    "\n",
    "- FINANZ_MINIMALIST\n",
    "- FINANZ_SPARER\n",
    "- FINANZ_VORSORGER\n",
    "- FINANZ_ANLEGER\n",
    "- FINANZ_UNAUFFAELLIGER\n",
    "- FINANZ_HAUSBAUER\n",
    "- FINANZTYP\n",
    "\n",
    "These features refer to the financial typology of the individuals. They are probably of high importance. \n",
    "\n",
    "All of this variables are ordinal, we don't have to create dummy variables because they can be use numerically. \n",
    "\n",
    "We fill missing values with the previous valid value (there are no missing values, in this case)"
   ]
  },
  {
   "cell_type": "code",
   "execution_count": 93,
   "metadata": {},
   "outputs": [],
   "source": [
    "customers[['FINANZ_MINIMALIST', 'FINANZ_SPARER', 'FINANZ_VORSORGER', 'FINANZ_ANLEGER', 'FINANZ_UNAUFFAELLIGER', 'FINANZ_HAUSBAUER', \n",
    "           'FINANZTYP']] = customers[['FINANZ_MINIMALIST', 'FINANZ_SPARER', 'FINANZ_VORSORGER', \n",
    "                                       'FINANZ_ANLEGER', 'FINANZ_UNAUFFAELLIGER', 'FINANZ_HAUSBAUER', \n",
    "                                       'FINANZTYP']].fillna(method='ffill')\n",
    "\n",
    "azdias[['FINANZ_MINIMALIST', 'FINANZ_SPARER', 'FINANZ_VORSORGER', 'FINANZ_ANLEGER', 'FINANZ_UNAUFFAELLIGER', 'FINANZ_HAUSBAUER', \n",
    "           'FINANZTYP']] = azdias[['FINANZ_MINIMALIST', 'FINANZ_SPARER', 'FINANZ_VORSORGER', 'FINANZ_ANLEGER', 'FINANZ_UNAUFFAELLIGER', 'FINANZ_HAUSBAUER', \n",
    "                                   'FINANZTYP']].fillna(method='ffill')"
   ]
  },
  {
   "cell_type": "markdown",
   "metadata": {},
   "source": [
    "### GEBURTSJAHR\n",
    "\n",
    "This column is also pretty important because it represents the year of birth, from which we can extract the age by substracting it from the current year:"
   ]
  },
  {
   "cell_type": "code",
   "execution_count": 223,
   "metadata": {},
   "outputs": [],
   "source": [
    "customers['GEBURTSJAHR'].replace(0, np.nan, inplace = True)\n",
    "azdias['GEBURTSJAHR'].replace(0, np.nan, inplace = True)\n",
    "\n",
    "# We create a new column for the age feature\n",
    "customers['ALTER'] = 2021 - customers['GEBURTSJAHR']\n",
    "azdias['ALTER'] = 2021 - azdias['GEBURTSJAHR']"
   ]
  },
  {
   "cell_type": "markdown",
   "metadata": {},
   "source": [
    "Unfortunately there are many missing values:"
   ]
  },
  {
   "cell_type": "code",
   "execution_count": 224,
   "metadata": {},
   "outputs": [
    {
     "name": "stdout",
     "output_type": "stream",
     "text": [
      "Missing values in customers: 93024, around a 48.54%\n",
      "Missing values in azdias: 392318, around a 44.02%\n"
     ]
    }
   ],
   "source": [
    "print('Missing values in customers: {}, around a {}%'.format( customers['ALTER'].isnull().sum(), \n",
    "                                                              round(100 * customers['ALTER'].isnull().sum() / customers.shape[0], 2)))\n",
    "\n",
    "print('Missing values in azdias: {}, around a {}%'.format( azdias['ALTER'].isnull().sum(), \n",
    "                                                              round(100 * azdias['ALTER'].isnull().sum() / azdias.shape[0], 2)))"
   ]
  },
  {
   "cell_type": "markdown",
   "metadata": {},
   "source": [
    "But we can use the previously preprocessed column `ALTERSKATEGORIE_GROB` to approximate the age of the subjects..."
   ]
  },
  {
   "cell_type": "code",
   "execution_count": 225,
   "metadata": {},
   "outputs": [],
   "source": [
    "# But first, we have to replace the value '9' in this column by the most frequent value... \n",
    "customers['ALTERSKATEGORIE_GROB'].replace(9, customers['ALTERSKATEGORIE_GROB'].mode().iloc[0], inplace = True)\n",
    "\n",
    "azdias['ALTERSKATEGORIE_GROB'].replace(9, azdias['ALTERSKATEGORIE_GROB'].mode().iloc[0], inplace = True)"
   ]
  },
  {
   "cell_type": "markdown",
   "metadata": {},
   "source": [
    "Then we can impute a value for the age by multiplying for the approximate age from the name analysis"
   ]
  },
  {
   "cell_type": "code",
   "execution_count": 226,
   "metadata": {},
   "outputs": [],
   "source": [
    "customers['ALTER'].mask( customers['ALTER'].isnull(), customers['ALTERSKATEGORIE_GROB'] * 17, inplace = True)\n",
    "\n",
    "azdias['ALTER'].mask( azdias['ALTER'].isnull(), azdias['ALTERSKATEGORIE_GROB'] * 17, inplace = True)"
   ]
  },
  {
   "cell_type": "markdown",
   "metadata": {},
   "source": [
    "We verify that there are no missing values and we can see the final distribution."
   ]
  },
  {
   "cell_type": "code",
   "execution_count": 227,
   "metadata": {},
   "outputs": [
    {
     "name": "stdout",
     "output_type": "stream",
     "text": [
      "0\n"
     ]
    },
    {
     "data": {
      "text/plain": [
       "count    191652.000000\n",
       "mean         58.502291\n",
       "std          22.065246\n",
       "min           4.000000\n",
       "25%          51.000000\n",
       "50%          66.000000\n",
       "75%          74.000000\n",
       "max         121.000000\n",
       "Name: ALTER, dtype: float64"
      ]
     },
     "metadata": {},
     "output_type": "display_data"
    },
    {
     "data": {
      "text/plain": [
       "<AxesSubplot:>"
      ]
     },
     "execution_count": 227,
     "metadata": {},
     "output_type": "execute_result"
    },
    {
     "data": {
      "image/png": "[encoded data removed]",
      "text/plain": [
       "<Figure size 432x288 with 1 Axes>"
      ]
     },
     "metadata": {
      "needs_background": "light"
     },
     "output_type": "display_data"
    }
   ],
   "source": [
    "print(customers['ALTER'].isnull().sum())\n",
    "\n",
    "display(customers['ALTER'].describe())\n",
    "\n",
    "customers['ALTER'].hist()"
   ]
  },
  {
   "cell_type": "code",
   "execution_count": 228,
   "metadata": {},
   "outputs": [
    {
     "name": "stdout",
     "output_type": "stream",
     "text": [
      "0\n"
     ]
    },
    {
     "data": {
      "text/plain": [
       "count    891221.000000\n",
       "mean         50.992982\n",
       "std          17.735025\n",
       "min           4.000000\n",
       "25%          37.000000\n",
       "50%          51.000000\n",
       "75%          67.000000\n",
       "max         121.000000\n",
       "Name: ALTER, dtype: float64"
      ]
     },
     "metadata": {},
     "output_type": "display_data"
    },
    {
     "data": {
      "text/plain": [
       "<AxesSubplot:>"
      ]
     },
     "execution_count": 228,
     "metadata": {},
     "output_type": "execute_result"
    },
    {
     "data": {
      "image/png": "[encoded data removed]",
      "text/plain": [
       "<Figure size 432x288 with 1 Axes>"
      ]
     },
     "metadata": {
      "needs_background": "light"
     },
     "output_type": "display_data"
    }
   ],
   "source": [
    "print(azdias['ALTER'].isnull().sum())\n",
    "\n",
    "display(azdias['ALTER'].describe())\n",
    "\n",
    "azdias['ALTER'].hist(bins = 10)"
   ]
  },
  {
   "cell_type": "markdown",
   "metadata": {},
   "source": [
    "The new `ALTER` column includes information from `GEBURTSJAHR` and `ALTERSKATEGORIE_GROB`, we can verify this in the correlation matrix. We are going to drop the `GEBURTSJAHR` and `ALTERSKATEGORIE_GROB` columns."
   ]
  },
  {
   "cell_type": "code",
   "execution_count": 236,
   "metadata": {},
   "outputs": [
    {
     "data": {
      "text/html": [
       "<div>\n",
       "<style scoped>\n",
       "    .dataframe tbody tr th:only-of-type {\n",
       "        vertical-align: middle;\n",
       "    }\n",
       "\n",
       "    .dataframe tbody tr th {\n",
       "        vertical-align: top;\n",
       "    }\n",
       "\n",
       "    .dataframe thead th {\n",
       "        text-align: right;\n",
       "    }\n",
       "</style>\n",
       "<table border=\"1\" class=\"dataframe\">\n",
       "  <thead>\n",
       "    <tr style=\"text-align: right;\">\n",
       "      <th></th>\n",
       "      <th>ALTER</th>\n",
       "      <th>GEBURTSJAHR</th>\n",
       "      <th>ALTERSKATEGORIE_GROB</th>\n",
       "    </tr>\n",
       "  </thead>\n",
       "  <tbody>\n",
       "    <tr>\n",
       "      <th>ALTER</th>\n",
       "      <td>1.000000</td>\n",
       "      <td>-1.000000</td>\n",
       "      <td>0.820652</td>\n",
       "    </tr>\n",
       "    <tr>\n",
       "      <th>GEBURTSJAHR</th>\n",
       "      <td>-1.000000</td>\n",
       "      <td>1.000000</td>\n",
       "      <td>-0.406778</td>\n",
       "    </tr>\n",
       "    <tr>\n",
       "      <th>ALTERSKATEGORIE_GROB</th>\n",
       "      <td>0.820652</td>\n",
       "      <td>-0.406778</td>\n",
       "      <td>1.000000</td>\n",
       "    </tr>\n",
       "  </tbody>\n",
       "</table>\n",
       "</div>"
      ],
      "text/plain": [
       "                         ALTER  GEBURTSJAHR  ALTERSKATEGORIE_GROB\n",
       "ALTER                 1.000000    -1.000000              0.820652\n",
       "GEBURTSJAHR          -1.000000     1.000000             -0.406778\n",
       "ALTERSKATEGORIE_GROB  0.820652    -0.406778              1.000000"
      ]
     },
     "execution_count": 236,
     "metadata": {},
     "output_type": "execute_result"
    }
   ],
   "source": [
    "customers[['ALTER', 'GEBURTSJAHR', 'ALTERSKATEGORIE_GROB']].corr()"
   ]
  },
  {
   "cell_type": "code",
   "execution_count": 237,
   "metadata": {},
   "outputs": [
    {
     "data": {
      "text/html": [
       "<div>\n",
       "<style scoped>\n",
       "    .dataframe tbody tr th:only-of-type {\n",
       "        vertical-align: middle;\n",
       "    }\n",
       "\n",
       "    .dataframe tbody tr th {\n",
       "        vertical-align: top;\n",
       "    }\n",
       "\n",
       "    .dataframe thead th {\n",
       "        text-align: right;\n",
       "    }\n",
       "</style>\n",
       "<table border=\"1\" class=\"dataframe\">\n",
       "  <thead>\n",
       "    <tr style=\"text-align: right;\">\n",
       "      <th></th>\n",
       "      <th>ALTER</th>\n",
       "      <th>GEBURTSJAHR</th>\n",
       "      <th>ALTERSKATEGORIE_GROB</th>\n",
       "    </tr>\n",
       "  </thead>\n",
       "  <tbody>\n",
       "    <tr>\n",
       "      <th>ALTER</th>\n",
       "      <td>1.000000</td>\n",
       "      <td>-1.000000</td>\n",
       "      <td>0.769892</td>\n",
       "    </tr>\n",
       "    <tr>\n",
       "      <th>GEBURTSJAHR</th>\n",
       "      <td>-1.000000</td>\n",
       "      <td>1.000000</td>\n",
       "      <td>-0.631582</td>\n",
       "    </tr>\n",
       "    <tr>\n",
       "      <th>ALTERSKATEGORIE_GROB</th>\n",
       "      <td>0.769892</td>\n",
       "      <td>-0.631582</td>\n",
       "      <td>1.000000</td>\n",
       "    </tr>\n",
       "  </tbody>\n",
       "</table>\n",
       "</div>"
      ],
      "text/plain": [
       "                         ALTER  GEBURTSJAHR  ALTERSKATEGORIE_GROB\n",
       "ALTER                 1.000000    -1.000000              0.769892\n",
       "GEBURTSJAHR          -1.000000     1.000000             -0.631582\n",
       "ALTERSKATEGORIE_GROB  0.769892    -0.631582              1.000000"
      ]
     },
     "execution_count": 237,
     "metadata": {},
     "output_type": "execute_result"
    }
   ],
   "source": [
    "azdias[['ALTER', 'GEBURTSJAHR', 'ALTERSKATEGORIE_GROB']].corr()"
   ]
  },
  {
   "cell_type": "code",
   "execution_count": 238,
   "metadata": {},
   "outputs": [],
   "source": [
    "customers.drop(['GEBURTSJAHR', 'ALTERSKATEGORIE_GROB'], axis = 1, inplace = True)\n",
    "\n",
    "azdias.drop(['GEBURTSJAHR', 'ALTERSKATEGORIE_GROB'], axis = 1, inplace = True)"
   ]
  },
  {
   "cell_type": "markdown",
   "metadata": {},
   "source": [
    "#### Reading files so far..."
   ]
  },
  {
   "cell_type": "code",
   "execution_count": 295,
   "metadata": {},
   "outputs": [],
   "source": [
    "customers = pd.read_csv('customers_prc.csv')\n",
    "customers.drop(['Unnamed: 0'], axis = 1, inplace = True)\n",
    "\n",
    "azdias = pd.read_csv('azdias_prc.csv')\n",
    "azdias.drop(['Unnamed: 0'], axis = 1, inplace = True)"
   ]
  },
  {
   "cell_type": "markdown",
   "metadata": {},
   "source": [
    "#### GFK_URLAUBERTYP\n",
    "\n",
    "*Vacation habits*\n",
    "\n",
    "This feature might probably not be related with the goal, and since it is a categorical variable with several options we are going to drop it..."
   ]
  },
  {
   "cell_type": "code",
   "execution_count": 296,
   "metadata": {},
   "outputs": [],
   "source": [
    "customers.drop(['GFK_URLAUBERTYP'], axis = 1, inplace = True)\n",
    "\n",
    "azdias.drop(['GFK_URLAUBERTYP'], axis = 1, inplace = True)"
   ]
  },
  {
   "cell_type": "markdown",
   "metadata": {},
   "source": [
    "#### GREEN_AVANTGARDE\n",
    "\n",
    "A binary categorical variable without missing values, no processing needed, we keep it."
   ]
  },
  {
   "cell_type": "markdown",
   "metadata": {},
   "source": [
    "#### HEALTH_TYP\n",
    "\n",
    "*Health typology*\n",
    "\n",
    "Categorical variable with a reasonably low impact and with plenty of missing values. We drop it\n"
   ]
  },
  {
   "cell_type": "code",
   "execution_count": 297,
   "metadata": {},
   "outputs": [],
   "source": [
    "customers.drop(['HEALTH_TYP'], axis = 1, inplace = True)\n",
    "\n",
    "azdias.drop(['HEALTH_TYP'], axis = 1, inplace = True)"
   ]
  },
  {
   "cell_type": "markdown",
   "metadata": {},
   "source": [
    "#### LP_LEBENSPHASE_FEIN & LP_LEBENSPHASE_GROB\n",
    "\n",
    "Attribute related to family income, probably a relevant feature. \n",
    "\n",
    "Both attributes are categorical features, however, the first feature (`LP_LEBENSPHASE_FEIN`) has a large amount of categories (40) and both are related to the same information. \n",
    "\n",
    "We only are going to keep `LP_LEBENSPHASE_GROB` because it categorizes the subjects more clearly."
   ]
  },
  {
   "cell_type": "code",
   "execution_count": 298,
   "metadata": {},
   "outputs": [],
   "source": [
    "customers.drop(['LP_LEBENSPHASE_FEIN'], axis = 1, inplace = True)\n",
    "\n",
    "azdias.drop(['LP_LEBENSPHASE_FEIN'], axis = 1, inplace = True)"
   ]
  },
  {
   "cell_type": "markdown",
   "metadata": {},
   "source": [
    "Assigning missing values can be tricky, because we have to account for age and financial status, however, since we have less than 2% of missing values we are going to forward fill."
   ]
  },
  {
   "cell_type": "code",
   "execution_count": 299,
   "metadata": {},
   "outputs": [
    {
     "name": "stdout",
     "output_type": "stream",
     "text": [
      "0.016764761129547303\n"
     ]
    },
    {
     "data": {
      "text/plain": [
       "0.005446460529992"
      ]
     },
     "execution_count": 299,
     "metadata": {},
     "output_type": "execute_result"
    }
   ],
   "source": [
    "# A low amount of missing values\n",
    "print(customers['LP_LEBENSPHASE_GROB'].isnull().sum() / customers.shape[0])\n",
    "\n",
    "azdias['LP_LEBENSPHASE_GROB'].isnull().sum() / azdias.shape[0]"
   ]
  },
  {
   "cell_type": "code",
   "execution_count": 300,
   "metadata": {},
   "outputs": [],
   "source": [
    "customers['LP_LEBENSPHASE_GROB'].fillna(method = 'ffill', inplace = True)\n",
    "azdias['LP_LEBENSPHASE_GROB'].fillna(method = 'ffill', inplace = True)"
   ]
  },
  {
   "cell_type": "markdown",
   "metadata": {},
   "source": [
    "**Adding dummy variables**"
   ]
  },
  {
   "cell_type": "code",
   "execution_count": 301,
   "metadata": {},
   "outputs": [],
   "source": [
    "customers = pd.get_dummies(customers, columns = ['LP_LEBENSPHASE_GROB'])\n",
    "azdias = pd.get_dummies(azdias, columns = ['LP_LEBENSPHASE_GROB'])"
   ]
  },
  {
   "cell_type": "markdown",
   "metadata": {},
   "source": [
    "#### LP_FAMILIE_FEIN & LP_FAMILIE_GROB\n",
    "\n",
    "This case is similar to the previous pair of attributes. We are keeping LP_FAMILIE_GROB because it has a reasonably amount of categories."
   ]
  },
  {
   "cell_type": "code",
   "execution_count": 302,
   "metadata": {},
   "outputs": [],
   "source": [
    "customers.drop(['LP_FAMILIE_FEIN'], axis = 1, inplace = True)\n",
    "\n",
    "azdias.drop(['LP_FAMILIE_FEIN'], axis = 1, inplace = True)"
   ]
  },
  {
   "cell_type": "code",
   "execution_count": 303,
   "metadata": {},
   "outputs": [
    {
     "name": "stdout",
     "output_type": "stream",
     "text": [
      "0.016764761129547303\n"
     ]
    },
    {
     "data": {
      "text/plain": [
       "0.005446460529992"
      ]
     },
     "execution_count": 303,
     "metadata": {},
     "output_type": "execute_result"
    }
   ],
   "source": [
    "# A low amount of missing values\n",
    "print(customers['LP_FAMILIE_GROB'].isnull().sum() / customers.shape[0])\n",
    "\n",
    "azdias['LP_FAMILIE_GROB'].isnull().sum() / azdias.shape[0]"
   ]
  },
  {
   "cell_type": "code",
   "execution_count": 304,
   "metadata": {},
   "outputs": [],
   "source": [
    "customers['LP_FAMILIE_GROB'].fillna(method = 'ffill', inplace = True)\n",
    "azdias['LP_FAMILIE_GROB'].fillna(method = 'ffill', inplace = True)"
   ]
  },
  {
   "cell_type": "markdown",
   "metadata": {},
   "source": [
    "**Adding dummy vars**"
   ]
  },
  {
   "cell_type": "code",
   "execution_count": 305,
   "metadata": {},
   "outputs": [],
   "source": [
    "customers = pd.get_dummies(customers, columns = ['LP_FAMILIE_GROB'])\n",
    "azdias = pd.get_dummies(azdias, columns = ['LP_FAMILIE_GROB'])"
   ]
  },
  {
   "cell_type": "markdown",
   "metadata": {},
   "source": [
    "#### LP_STATUS_FEIN & LP_STATUS_GROB\n",
    "\n",
    "Attributes related to social status.\n",
    "\n",
    "A similar case to the previous 2."
   ]
  },
  {
   "cell_type": "code",
   "execution_count": 306,
   "metadata": {},
   "outputs": [],
   "source": [
    "customers.drop(['LP_STATUS_FEIN'], axis = 1, inplace = True)\n",
    "\n",
    "azdias.drop(['LP_STATUS_FEIN'], axis = 1, inplace = True)"
   ]
  },
  {
   "cell_type": "code",
   "execution_count": 307,
   "metadata": {},
   "outputs": [
    {
     "name": "stdout",
     "output_type": "stream",
     "text": [
      "0.016764761129547303\n"
     ]
    },
    {
     "data": {
      "text/plain": [
       "0.005446460529992"
      ]
     },
     "execution_count": 307,
     "metadata": {},
     "output_type": "execute_result"
    }
   ],
   "source": [
    "# A low amount of missing values\n",
    "print(customers['LP_STATUS_GROB'].isnull().sum() / customers.shape[0])\n",
    "\n",
    "azdias['LP_STATUS_GROB'].isnull().sum() / azdias.shape[0]"
   ]
  },
  {
   "cell_type": "code",
   "execution_count": 308,
   "metadata": {},
   "outputs": [],
   "source": [
    "customers['LP_STATUS_GROB'].fillna(method = 'ffill', inplace = True)\n",
    "azdias['LP_STATUS_GROB'].fillna(method = 'ffill', inplace = True)"
   ]
  },
  {
   "cell_type": "markdown",
   "metadata": {},
   "source": [
    "#### Dummy variable"
   ]
  },
  {
   "cell_type": "code",
   "execution_count": 309,
   "metadata": {},
   "outputs": [],
   "source": [
    "customers = pd.get_dummies(customers, columns = ['LP_STATUS_GROB'])\n",
    "azdias = pd.get_dummies(azdias, columns = ['LP_STATUS_GROB'])"
   ]
  },
  {
   "cell_type": "markdown",
   "metadata": {},
   "source": [
    "### NATIONALITAET_KZ\n",
    "\n",
    "A categorical variable... We will use a dictionary to map numbers to categories and assign dummy variables"
   ]
  },
  {
   "cell_type": "code",
   "execution_count": 310,
   "metadata": {},
   "outputs": [
    {
     "data": {
      "text/plain": [
       "1.0    139027\n",
       "2.0      2422\n",
       "3.0      1453\n",
       "Name: NATIONALITAET_KZ, dtype: int64"
      ]
     },
     "execution_count": 310,
     "metadata": {},
     "output_type": "execute_result"
    }
   ],
   "source": [
    "customers['NATIONALITAET_KZ'].value_counts()"
   ]
  },
  {
   "cell_type": "code",
   "execution_count": 311,
   "metadata": {},
   "outputs": [],
   "source": [
    "customers['NATIONALITAET_KZ'].fillna(0, inplace = True)"
   ]
  },
  {
   "cell_type": "code",
   "execution_count": 312,
   "metadata": {},
   "outputs": [],
   "source": [
    "customers['NATIONALITAET_KZ'].replace({0.0: 'Unknown nationality', 1.0: 'Sounding german', \n",
    "                                       2.0: 'sounding foreign', 3.0: 'assimilated names'}, inplace = True)"
   ]
  },
  {
   "cell_type": "code",
   "execution_count": 313,
   "metadata": {},
   "outputs": [],
   "source": [
    "customers = pd.get_dummies(customers, columns = ['NATIONALITAET_KZ'])\n",
    "azdias = pd.get_dummies(azdias, columns = ['NATIONALITAET_KZ'])"
   ]
  },
  {
   "cell_type": "markdown",
   "metadata": {},
   "source": [
    "### PRAEGENDE_JUGENDJAHRE\n",
    "\n",
    "*dominating movement in the person's youth (avantgarde or mainstream)*\n",
    "\n",
    "An attribute quite specific about a person's past. This probably has low relavance with the problem at hand. \n",
    "\n",
    "It also has too many categories to account for... We drop it"
   ]
  },
  {
   "cell_type": "code",
   "execution_count": 314,
   "metadata": {},
   "outputs": [],
   "source": [
    "customers.drop(['PRAEGENDE_JUGENDJAHRE'], axis = 1, inplace = True)\n",
    "\n",
    "azdias.drop(['PRAEGENDE_JUGENDJAHRE'], axis = 1, inplace = True)"
   ]
  },
  {
   "cell_type": "markdown",
   "metadata": {},
   "source": [
    "### RETOURTYP_BK_S\n",
    "\n",
    "*Return type*\n",
    "\n",
    "This attribute is related to the person's behaviour when it comes to return.\n",
    "A categorical variable"
   ]
  },
  {
   "cell_type": "code",
   "execution_count": 315,
   "metadata": {},
   "outputs": [
    {
     "name": "stdout",
     "output_type": "stream",
     "text": [
      "3213\n"
     ]
    },
    {
     "data": {
      "text/plain": [
       "4854"
      ]
     },
     "execution_count": 315,
     "metadata": {},
     "output_type": "execute_result"
    }
   ],
   "source": [
    "# Low amount of missing values\n",
    "print(customers['RETOURTYP_BK_S'].isnull().sum())\n",
    "\n",
    "azdias['RETOURTYP_BK_S'].isnull().sum()"
   ]
  },
  {
   "cell_type": "code",
   "execution_count": 316,
   "metadata": {},
   "outputs": [],
   "source": [
    "# forward filling nan's and creating dummies\n",
    "customers['RETOURTYP_BK_S'].fillna(method = 'ffill', inplace = True)\n",
    "\n",
    "azdias['RETOURTYP_BK_S'].fillna(method = 'ffill', inplace = True)\n",
    "\n",
    "customers = pd.get_dummies(customers, columns = ['RETOURTYP_BK_S'])\n",
    "azdias = pd.get_dummies(azdias, columns = ['RETOURTYP_BK_S'])"
   ]
  },
  {
   "cell_type": "markdown",
   "metadata": {},
   "source": [
    "#### Saving files so far"
   ]
  },
  {
   "cell_type": "code",
   "execution_count": 317,
   "metadata": {},
   "outputs": [],
   "source": [
    "customers.to_csv('customers_prc.csv')\n",
    "\n",
    "azdias.to_csv('azdias_prc.csv')"
   ]
  },
  {
   "cell_type": "markdown",
   "metadata": {},
   "source": [
    "**Reading files so far**"
   ]
  },
  {
   "cell_type": "code",
   "execution_count": 318,
   "metadata": {},
   "outputs": [],
   "source": [
    "customers = pd.read_csv('customers_prc.csv')\n",
    "customers.drop(['Unnamed: 0'], axis = 1, inplace = True)\n",
    "\n",
    "azdias = pd.read_csv('azdias_prc.csv')\n",
    "azdias.drop(['Unnamed: 0'], axis = 1, inplace = True)"
   ]
  },
  {
   "cell_type": "code",
   "execution_count": 319,
   "metadata": {},
   "outputs": [
    {
     "data": {
      "text/html": [
       "<div>\n",
       "<style scoped>\n",
       "    .dataframe tbody tr th:only-of-type {\n",
       "        vertical-align: middle;\n",
       "    }\n",
       "\n",
       "    .dataframe tbody tr th {\n",
       "        vertical-align: top;\n",
       "    }\n",
       "\n",
       "    .dataframe thead th {\n",
       "        text-align: right;\n",
       "    }\n",
       "</style>\n",
       "<table border=\"1\" class=\"dataframe\">\n",
       "  <thead>\n",
       "    <tr style=\"text-align: right;\">\n",
       "      <th></th>\n",
       "      <th>LNR</th>\n",
       "      <th>AKT_DAT_KL</th>\n",
       "      <th>ALTER_HH</th>\n",
       "      <th>ALTERSKATEGORIE_FEIN</th>\n",
       "      <th>ANZ_HAUSHALTE_AKTIV</th>\n",
       "      <th>ANZ_HH_TITEL</th>\n",
       "      <th>ANZ_KINDER</th>\n",
       "      <th>ANZ_PERSONEN</th>\n",
       "      <th>ANZ_STATISTISCHE_HAUSHALTE</th>\n",
       "      <th>ANZ_TITEL</th>\n",
       "      <th>...</th>\n",
       "      <th>LP_STATUS_GROB_5.0</th>\n",
       "      <th>NATIONALITAET_KZ_Sounding german</th>\n",
       "      <th>NATIONALITAET_KZ_Unknown nationality</th>\n",
       "      <th>NATIONALITAET_KZ_assimilated names</th>\n",
       "      <th>NATIONALITAET_KZ_sounding foreign</th>\n",
       "      <th>RETOURTYP_BK_S_1.0</th>\n",
       "      <th>RETOURTYP_BK_S_2.0</th>\n",
       "      <th>RETOURTYP_BK_S_3.0</th>\n",
       "      <th>RETOURTYP_BK_S_4.0</th>\n",
       "      <th>RETOURTYP_BK_S_5.0</th>\n",
       "    </tr>\n",
       "  </thead>\n",
       "  <tbody>\n",
       "    <tr>\n",
       "      <th>0</th>\n",
       "      <td>9626</td>\n",
       "      <td>1.0</td>\n",
       "      <td>10.0</td>\n",
       "      <td>10.0</td>\n",
       "      <td>1.0</td>\n",
       "      <td>0.0</td>\n",
       "      <td>0.0</td>\n",
       "      <td>2.0</td>\n",
       "      <td>1.0</td>\n",
       "      <td>0.0</td>\n",
       "      <td>...</td>\n",
       "      <td>1</td>\n",
       "      <td>1</td>\n",
       "      <td>0</td>\n",
       "      <td>0</td>\n",
       "      <td>0</td>\n",
       "      <td>0</td>\n",
       "      <td>0</td>\n",
       "      <td>0</td>\n",
       "      <td>0</td>\n",
       "      <td>1</td>\n",
       "    </tr>\n",
       "    <tr>\n",
       "      <th>1</th>\n",
       "      <td>9628</td>\n",
       "      <td>9.0</td>\n",
       "      <td>11.0</td>\n",
       "      <td>NaN</td>\n",
       "      <td>NaN</td>\n",
       "      <td>NaN</td>\n",
       "      <td>0.0</td>\n",
       "      <td>3.0</td>\n",
       "      <td>NaN</td>\n",
       "      <td>0.0</td>\n",
       "      <td>...</td>\n",
       "      <td>1</td>\n",
       "      <td>1</td>\n",
       "      <td>0</td>\n",
       "      <td>0</td>\n",
       "      <td>0</td>\n",
       "      <td>0</td>\n",
       "      <td>0</td>\n",
       "      <td>0</td>\n",
       "      <td>0</td>\n",
       "      <td>1</td>\n",
       "    </tr>\n",
       "    <tr>\n",
       "      <th>2</th>\n",
       "      <td>143872</td>\n",
       "      <td>1.0</td>\n",
       "      <td>6.0</td>\n",
       "      <td>0.0</td>\n",
       "      <td>1.0</td>\n",
       "      <td>0.0</td>\n",
       "      <td>0.0</td>\n",
       "      <td>1.0</td>\n",
       "      <td>1.0</td>\n",
       "      <td>0.0</td>\n",
       "      <td>...</td>\n",
       "      <td>1</td>\n",
       "      <td>1</td>\n",
       "      <td>0</td>\n",
       "      <td>0</td>\n",
       "      <td>0</td>\n",
       "      <td>0</td>\n",
       "      <td>0</td>\n",
       "      <td>0</td>\n",
       "      <td>0</td>\n",
       "      <td>1</td>\n",
       "    </tr>\n",
       "    <tr>\n",
       "      <th>3</th>\n",
       "      <td>143873</td>\n",
       "      <td>1.0</td>\n",
       "      <td>8.0</td>\n",
       "      <td>8.0</td>\n",
       "      <td>0.0</td>\n",
       "      <td>NaN</td>\n",
       "      <td>0.0</td>\n",
       "      <td>0.0</td>\n",
       "      <td>1.0</td>\n",
       "      <td>0.0</td>\n",
       "      <td>...</td>\n",
       "      <td>0</td>\n",
       "      <td>1</td>\n",
       "      <td>0</td>\n",
       "      <td>0</td>\n",
       "      <td>0</td>\n",
       "      <td>0</td>\n",
       "      <td>0</td>\n",
       "      <td>1</td>\n",
       "      <td>0</td>\n",
       "      <td>0</td>\n",
       "    </tr>\n",
       "    <tr>\n",
       "      <th>4</th>\n",
       "      <td>143874</td>\n",
       "      <td>1.0</td>\n",
       "      <td>20.0</td>\n",
       "      <td>14.0</td>\n",
       "      <td>7.0</td>\n",
       "      <td>0.0</td>\n",
       "      <td>0.0</td>\n",
       "      <td>4.0</td>\n",
       "      <td>7.0</td>\n",
       "      <td>0.0</td>\n",
       "      <td>...</td>\n",
       "      <td>0</td>\n",
       "      <td>1</td>\n",
       "      <td>0</td>\n",
       "      <td>0</td>\n",
       "      <td>0</td>\n",
       "      <td>0</td>\n",
       "      <td>0</td>\n",
       "      <td>0</td>\n",
       "      <td>0</td>\n",
       "      <td>1</td>\n",
       "    </tr>\n",
       "  </tbody>\n",
       "</table>\n",
       "<p>5 rows × 231 columns</p>\n",
       "</div>"
      ],
      "text/plain": [
       "      LNR  AKT_DAT_KL  ALTER_HH  ALTERSKATEGORIE_FEIN  ANZ_HAUSHALTE_AKTIV  \\\n",
       "0    9626         1.0      10.0                  10.0                  1.0   \n",
       "1    9628         9.0      11.0                   NaN                  NaN   \n",
       "2  143872         1.0       6.0                   0.0                  1.0   \n",
       "3  143873         1.0       8.0                   8.0                  0.0   \n",
       "4  143874         1.0      20.0                  14.0                  7.0   \n",
       "\n",
       "   ANZ_HH_TITEL  ANZ_KINDER  ANZ_PERSONEN  ANZ_STATISTISCHE_HAUSHALTE  \\\n",
       "0           0.0         0.0           2.0                         1.0   \n",
       "1           NaN         0.0           3.0                         NaN   \n",
       "2           0.0         0.0           1.0                         1.0   \n",
       "3           NaN         0.0           0.0                         1.0   \n",
       "4           0.0         0.0           4.0                         7.0   \n",
       "\n",
       "   ANZ_TITEL  ...  LP_STATUS_GROB_5.0  NATIONALITAET_KZ_Sounding german  \\\n",
       "0        0.0  ...                   1                                 1   \n",
       "1        0.0  ...                   1                                 1   \n",
       "2        0.0  ...                   1                                 1   \n",
       "3        0.0  ...                   0                                 1   \n",
       "4        0.0  ...                   0                                 1   \n",
       "\n",
       "  NATIONALITAET_KZ_Unknown nationality  NATIONALITAET_KZ_assimilated names  \\\n",
       "0                                    0                                   0   \n",
       "1                                    0                                   0   \n",
       "2                                    0                                   0   \n",
       "3                                    0                                   0   \n",
       "4                                    0                                   0   \n",
       "\n",
       "   NATIONALITAET_KZ_sounding foreign  RETOURTYP_BK_S_1.0  RETOURTYP_BK_S_2.0  \\\n",
       "0                                  0                   0                   0   \n",
       "1                                  0                   0                   0   \n",
       "2                                  0                   0                   0   \n",
       "3                                  0                   0                   0   \n",
       "4                                  0                   0                   0   \n",
       "\n",
       "   RETOURTYP_BK_S_3.0  RETOURTYP_BK_S_4.0  RETOURTYP_BK_S_5.0  \n",
       "0                   0                   0                   1  \n",
       "1                   0                   0                   1  \n",
       "2                   0                   0                   1  \n",
       "3                   1                   0                   0  \n",
       "4                   0                   0                   1  \n",
       "\n",
       "[5 rows x 231 columns]"
      ]
     },
     "execution_count": 319,
     "metadata": {},
     "output_type": "execute_result"
    }
   ],
   "source": [
    "customers.head()"
   ]
  },
  {
   "cell_type": "code",
   "execution_count": null,
   "metadata": {},
   "outputs": [],
   "source": []
  },
  {
   "cell_type": "code",
   "execution_count": null,
   "metadata": {},
   "outputs": [],
   "source": []
  },
  {
   "cell_type": "code",
   "execution_count": null,
   "metadata": {},
   "outputs": [],
   "source": []
  },
  {
   "cell_type": "code",
   "execution_count": null,
   "metadata": {},
   "outputs": [],
   "source": []
  },
  {
   "cell_type": "code",
   "execution_count": null,
   "metadata": {},
   "outputs": [],
   "source": []
  },
  {
   "cell_type": "markdown",
   "metadata": {},
   "source": [
    "## Part 1: Customer Segmentation Report\n",
    "\n",
    "The main bulk of your analysis will come in this part of the project. Here, you should use unsupervised learning techniques to describe the relationship between the demographics of the company's existing customers and the general population of Germany. By the end of this part, you should be able to describe parts of the general population that are more likely to be part of the mail-order company's main customer base, and which parts of the general population are less so."
   ]
  },
  {
   "cell_type": "code",
   "execution_count": null,
   "metadata": {},
   "outputs": [],
   "source": []
  },
  {
   "cell_type": "markdown",
   "metadata": {},
   "source": [
    "## Part 2: Supervised Learning Model\n",
    "\n",
    "Now that you've found which parts of the population are more likely to be customers of the mail-order company, it's time to build a prediction model. Each of the rows in the \"MAILOUT\" data files represents an individual that was targeted for a mailout campaign. Ideally, we should be able to use the demographic information from each individual to decide whether or not it will be worth it to include that person in the campaign.\n",
    "\n",
    "The \"MAILOUT\" data has been split into two approximately equal parts, each with almost 43 000 data rows. In this part, you can verify your model with the \"TRAIN\" partition, which includes a column, \"RESPONSE\", that states whether or not a person became a customer of the company following the campaign. In the next part, you'll need to create predictions on the \"TEST\" partition, where the \"RESPONSE\" column has been withheld."
   ]
  },
  {
   "cell_type": "code",
   "execution_count": null,
   "metadata": {},
   "outputs": [],
   "source": [
    "#mailout_train = pd.read_csv('../../data/Term2/capstone/arvato_data/Udacity_MAILOUT_052018_TRAIN.csv', sep=';')"
   ]
  },
  {
   "cell_type": "code",
   "execution_count": null,
   "metadata": {},
   "outputs": [],
   "source": []
  },
  {
   "cell_type": "markdown",
   "metadata": {},
   "source": [
    "## Part 3: Kaggle Competition\n",
    "\n",
    "Now that you've created a model to predict which individuals are most likely to respond to a mailout campaign, it's time to test that model in competition through Kaggle. If you click on the link [here](http://www.kaggle.com/t/21e6d45d4c574c7fa2d868f0e8c83140), you'll be taken to the competition page where, if you have a Kaggle account, you can enter. If you're one of the top performers, you may have the chance to be contacted by a hiring manager from Arvato or Bertelsmann for an interview!\n",
    "\n",
    "Your entry to the competition should be a CSV file with two columns. The first column should be a copy of \"LNR\", which acts as an ID number for each individual in the \"TEST\" partition. The second column, \"RESPONSE\", should be some measure of how likely each individual became a customer – this might not be a straightforward probability. As you should have found in Part 2, there is a large output class imbalance, where most individuals did not respond to the mailout. Thus, predicting individual classes and using accuracy does not seem to be an appropriate performance evaluation method. Instead, the competition will be using AUC to evaluate performance. The exact values of the \"RESPONSE\" column do not matter as much: only that the higher values try to capture as many of the actual customers as possible, early in the ROC curve sweep."
   ]
  },
  {
   "cell_type": "code",
   "execution_count": null,
   "metadata": {},
   "outputs": [],
   "source": [
    "#mailout_test = pd.read_csv('../../data/Term2/capstone/arvato_data/Udacity_MAILOUT_052018_TEST.csv', sep=';')"
   ]
  },
  {
   "cell_type": "code",
   "execution_count": null,
   "metadata": {},
   "outputs": [],
   "source": []
  }
 ],
 "metadata": {
  "kernelspec": {
   "display_name": "Python 3",
   "language": "python",
   "name": "python3"
  },
  "language_info": {
   "codemirror_mode": {
    "name": "ipython",
    "version": 3
   },
   "file_extension": ".py",
   "mimetype": "text/x-python",
   "name": "python",
   "nbconvert_exporter": "python",
   "pygments_lexer": "ipython3",
   "version": "3.8.5"
  }
 },
 "nbformat": 4,
 "nbformat_minor": 2
}
